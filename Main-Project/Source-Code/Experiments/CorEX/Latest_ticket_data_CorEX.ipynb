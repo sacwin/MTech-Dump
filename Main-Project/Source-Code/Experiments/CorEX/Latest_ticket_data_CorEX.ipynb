{
  "nbformat": 4,
  "nbformat_minor": 0,
  "metadata": {
    "colab": {
      "provenance": []
    },
    "kernelspec": {
      "name": "python3",
      "display_name": "Python 3"
    },
    "language_info": {
      "name": "python"
    }
  },
  "cells": [
    {
      "cell_type": "code",
      "execution_count": null,
      "metadata": {
        "colab": {
          "base_uri": "https://localhost:8080/"
        },
        "id": "giM2kNFTcNqX",
        "outputId": "9aa52f0c-985e-4dad-cb15-b28083459d63"
      },
      "outputs": [
        {
          "output_type": "stream",
          "name": "stdout",
          "text": [
            "Collecting corextopic\n",
            "  Downloading corextopic-1.1-py3-none-any.whl (27 kB)\n",
            "Installing collected packages: corextopic\n",
            "Successfully installed corextopic-1.1\n",
            "Requirement already satisfied: joblib in /usr/local/lib/python3.10/dist-packages (1.3.2)\n"
          ]
        }
      ],
      "source": [
        "!pip install corextopic\n",
        "!pip install joblib"
      ]
    },
    {
      "cell_type": "code",
      "source": [
        "import numpy as np\n",
        "import scipy.sparse as ss\n",
        "import matplotlib.pyplot as plt\n",
        "import pandas as pd\n",
        "\n",
        "from corextopic import corextopic as ct\n",
        "from corextopic import vis_topic as vt\n",
        "from sklearn.feature_extraction.text import CountVectorizer\n",
        "\n",
        "%matplotlib inline"
      ],
      "metadata": {
        "id": "owfVlLpJeFXl"
      },
      "execution_count": null,
      "outputs": []
    },
    {
      "cell_type": "code",
      "source": [
        "df=pd.read_csv('latest_ticket_data.csv')"
      ],
      "metadata": {
        "id": "6Cz4XxN1e_zw"
      },
      "execution_count": null,
      "outputs": []
    },
    {
      "cell_type": "code",
      "source": [
        "df.head()\n",
        "df.shape"
      ],
      "metadata": {
        "colab": {
          "base_uri": "https://localhost:8080/"
        },
        "id": "YzkHNHWSwmK7",
        "outputId": "b6c9d90c-2411-4f52-a381-0cce47ae589f"
      },
      "execution_count": null,
      "outputs": [
        {
          "output_type": "execute_result",
          "data": {
            "text/plain": [
              "(3000, 2)"
            ]
          },
          "metadata": {},
          "execution_count": 4
        }
      ]
    },
    {
      "cell_type": "code",
      "source": [
        "#Converting the DF to list to feed to the CorEx Model\n",
        "dfToList = df['Description'].tolist()\n",
        "\n",
        "dfList = list(df['Description'])\n",
        "\n",
        "dfValues = df['Description'].values\n",
        "#print(dfList)\n",
        "print(dfValues)"
      ],
      "metadata": {
        "colab": {
          "base_uri": "https://localhost:8080/"
        },
        "id": "ro2kPpvqwnwV",
        "outputId": "bb2cdedd-52f7-4950-d0d7-45dc24065768"
      },
      "execution_count": null,
      "outputs": [
        {
          "output_type": "stream",
          "name": "stdout",
          "text": [
            "['hi since recruiter lead permission approve requisitions makes please make thanks recruiter'\n",
            " 're expire days hi ask help update passwords colleagues thank pm expire days importance high hi received about expiration please kindly help prolongation best regards pm expire days importance high dear expire days order change please follow steps prerequisites disable device credentials close active connected by cable machine note also follow steps detailed press ctrl alt delete same pops change item enter format enter enter newly chosen then re enter again submit displaying has changed os machine browse enter format enter gear icon top tight browser window enter enter newly chosen then re enter again save connected note complete resources granted once connected by cable browse tick want change after logging enter format enter log enter enter newly chosen then re enter again change clients suppliers about expire please touch person then communicate back encounter issues hesitate by accessing yours'\n",
            " 'verification warning hi has got attached please addresses best regards monitoring analyst verification warning'\n",
            " ...\n",
            " 'sent monday en working properly hi guys we have issue for while with number en located meeting room looks like dialer pad working properly because quite often we have dial multiple times also enter multiple times access code for calls before successfully joining meeting even if we enter same code every single code accepted note we joined same meeting for multiple times other meeting rooms but had issue best regards automation tester en registered under number whose registered old broad street kingdom does provide any clients each subsidiaries separate entity liability for another such entity acts'\n",
            " 'sent wednesday july hi please log incident for laptop be sent thanks engineer managed got feedback sent july re hello thank you very much for your assistance kind regards engineer managed got feedback sent july re mo el ticket con el colombia en pol el info la en la ext el re we have another way submit guaranties process you can go link menu id for warranty repair diagnostics follow steps attached for moment we have information but promise get english for you confirmed tomorrow ask for ticket send thank you much regards sales rep colombia twitter forums si con el el relational sales manager phone sent tuesday july re please send serial part number machine open case send number for respective tracking stay tuned colombia en pol el info la en la ext el re hi sorry about confusion need dial internationally through our though does seem work kind regards engineer managed got feedback sent july re number dial like shows number thank you regards sales rep colombia twitter forums si con el el relational sales manager phone sent tuesday july re hi number assuming took through minutes phone advertisement if phone for raising tickets believe way go kind regards engineer managed got feedback sent july re dear you need call open ticket number when you get please send process inside solve problem we can thank you much apologize inconvenience regards sales rep colombia twitter forums si con el el relational sales manager phone sent tuesday july hello one showing any activity screen fresh out what process having kind regards engineer managed'\n",
            " 'sent tuesday july connection issues hello have connection issues while working client side link connection type cable en using applications excel word explorer very slow with delays while moving mouse or clicking constant problem but today slower than usual impacting our work same for colleagues working problem have previously reported please advise thank you senior analyst ext']\n"
          ]
        }
      ]
    },
    {
      "cell_type": "code",
      "source": [
        "# Transform data into a sparse matrix\n",
        "vectorizer = CountVectorizer(stop_words='english', max_features=20000,binary = True)\n",
        "doc_word = vectorizer.fit_transform(df['Description'].values.astype('U')) #Learn the vocabulary dictionary and return term-document matrix.\n",
        "doc_word = ss.csr_matrix(doc_word)\n",
        "\n",
        "doc_word.shape # n_docs x m_words"
      ],
      "metadata": {
        "colab": {
          "base_uri": "https://localhost:8080/"
        },
        "id": "91IRqmEZwygC",
        "outputId": "d2eb5b3e-f2e0-4107-fdfd-340f712c8edf"
      },
      "execution_count": null,
      "outputs": [
        {
          "output_type": "execute_result",
          "data": {
            "text/plain": [
              "(3000, 4878)"
            ]
          },
          "metadata": {},
          "execution_count": 6
        }
      ]
    },
    {
      "cell_type": "code",
      "source": [
        "# Get words that label the columns (needed to extract readable topics and make anchoring easier)\n",
        "words = list(np.asarray(vectorizer.get_feature_names_out()))"
      ],
      "metadata": {
        "id": "rWPt7BXtw9kC"
      },
      "execution_count": null,
      "outputs": []
    },
    {
      "cell_type": "code",
      "source": [
        "not_digit_inds = [ind for ind,word in enumerate(words) if not word.isdigit()]\n",
        "doc_word = doc_word[:,not_digit_inds]\n",
        "words    = [word for ind,word in enumerate(words) if not word.isdigit()]\n",
        "\n",
        "doc_word.shape # n_docs x m_words"
      ],
      "metadata": {
        "colab": {
          "base_uri": "https://localhost:8080/"
        },
        "id": "C3XAzDtnxIKm",
        "outputId": "5e04b36a-6fb6-47d5-b773-32566ac6b89b"
      },
      "execution_count": null,
      "outputs": [
        {
          "output_type": "execute_result",
          "data": {
            "text/plain": [
              "(3000, 4878)"
            ]
          },
          "metadata": {},
          "execution_count": 8
        }
      ]
    },
    {
      "cell_type": "code",
      "source": [
        "# Train the CorEx topic model with 5 topics\n",
        "topic_model = ct.Corex(n_hidden=5, words=words, max_iter=200, verbose=False, seed=1)\n",
        "topic_model.fit(doc_word, words=words);"
      ],
      "metadata": {
        "id": "BWFrxVokxNqh"
      },
      "execution_count": null,
      "outputs": []
    },
    {
      "cell_type": "code",
      "source": [
        "# Print a single topic from CorEx topic model.\n",
        "topic_model.get_topics(topic=3, n_words=10)"
      ],
      "metadata": {
        "colab": {
          "base_uri": "https://localhost:8080/"
        },
        "id": "wdOWXcANxhlD",
        "outputId": "f1aaea7b-9879-4669-dcf0-f24b443b1256"
      },
      "execution_count": null,
      "outputs": [
        {
          "output_type": "execute_result",
          "data": {
            "text/plain": [
              "[('status', 0.03168142283168523, 1.0),\n",
              " ('version', 0.02883694666393837, 1.0),\n",
              " ('contact', 0.02664353338351569, 1.0),\n",
              " ('update', 0.024147781987271754, 1.0),\n",
              " ('description', 0.02400464594250844, 1.0),\n",
              " ('accept', 0.0218161858116921, 1.0),\n",
              " ('installed', 0.021236419039033266, 1.0),\n",
              " ('minutes', 0.020990106993913262, 1.0),\n",
              " ('hi', 0.020338851032024468, 1.0),\n",
              " ('software', 0.020197093304907845, 1.0)]"
            ]
          },
          "metadata": {},
          "execution_count": 10
        }
      ]
    },
    {
      "cell_type": "code",
      "source": [
        "# Print all topics from the CorEx topic model\n",
        "topics = topic_model.get_topics()\n",
        "for n,topic in enumerate(topics):\n",
        "    topic_words,_,_ = zip(*topic)\n",
        "    print('{}: '.format(n) + ','.join(topic_words))"
      ],
      "metadata": {
        "colab": {
          "base_uri": "https://localhost:8080/"
        },
        "id": "7b34R9cSxqbD",
        "outputId": "b158c4a7-fb18-43ad-fd53-7ff8cc5f9e3a"
      },
      "execution_count": null,
      "outputs": [
        {
          "output_type": "stream",
          "name": "stdout",
          "text": [
            "0: link,kind,purchased,mandatory,receipts,ordered,allocation,consideration,section,number\n",
            "1: sent,access,en,monday,pm,manager,need,open,message,october\n",
            "2: information,high,let,communication,importance,consider,client,confidential,content,best\n",
            "3: status,version,contact,update,description,accept,installed,minutes,hi,software\n",
            "4: purchase,po,details,item,event,notification,source,data,needed,card\n"
          ]
        }
      ]
    },
    {
      "cell_type": "code",
      "source": [
        "topic_model.get_topics(topic=3, n_words=10, print_words=False)"
      ],
      "metadata": {
        "colab": {
          "base_uri": "https://localhost:8080/"
        },
        "id": "2IoiXwUNyn_m",
        "outputId": "2e0d3382-400a-4a52-9be2-a5ec6d050d76"
      },
      "execution_count": null,
      "outputs": [
        {
          "output_type": "execute_result",
          "data": {
            "text/plain": [
              "[(4187, 0.03168142283168523, 1.0),\n",
              " (4716, 0.02883694666393837, 1.0),\n",
              " (940, 0.02664353338351569, 1.0),\n",
              " (4652, 0.024147781987271754, 1.0),\n",
              " (1200, 0.02400464594250844, 1.0),\n",
              " (12, 0.0218161858116921, 1.0),\n",
              " (2216, 0.021236419039033266, 1.0),\n",
              " (2691, 0.020990106993913262, 1.0),\n",
              " (2011, 0.020338851032024468, 1.0),\n",
              " (4067, 0.020197093304907845, 1.0)]"
            ]
          },
          "metadata": {},
          "execution_count": 12
        }
      ]
    },
    {
      "cell_type": "code",
      "source": [
        "print(topic_model.clusters)\n",
        "print(topic_model.clusters.shape) # m_words"
      ],
      "metadata": {
        "colab": {
          "base_uri": "https://localhost:8080/"
        },
        "id": "fYLc_O4dy7c7",
        "outputId": "8ac8ceb3-d6b2-4e8a-f51f-55278bf509bc"
      },
      "execution_count": null,
      "outputs": [
        {
          "output_type": "stream",
          "name": "stdout",
          "text": [
            "[0 0 4 ... 0 0 4]\n",
            "(4878,)\n"
          ]
        }
      ]
    },
    {
      "cell_type": "code",
      "source": [
        "# Print a single topic from CorEx topic model\n",
        "topic_model.get_top_docs(topic=3, n_docs=10, sort_by='log_prob')"
      ],
      "metadata": {
        "colab": {
          "base_uri": "https://localhost:8080/"
        },
        "id": "vtKyRXSfzCxA",
        "outputId": "90201cc0-893e-496a-cd20-733fb49715e4"
      },
      "execution_count": null,
      "outputs": [
        {
          "output_type": "stream",
          "name": "stdout",
          "text": [
            "NOTE: 'docs' not provided to CorEx. Returning top docs as lists of row indices\n"
          ]
        },
        {
          "output_type": "execute_result",
          "data": {
            "text/plain": [
              "[(2543, 0.0),\n",
              " (2497, 0.0),\n",
              " (2499, 0.0),\n",
              " (2506, 0.0),\n",
              " (2508, 0.0),\n",
              " (2889, 0.0),\n",
              " (2515, 0.0),\n",
              " (2521, 0.0),\n",
              " (2525, 0.0),\n",
              " (2528, 0.0)]"
            ]
          },
          "metadata": {},
          "execution_count": 14
        }
      ]
    },
    {
      "cell_type": "code",
      "source": [
        "print(topic_model.p_y_given_x.shape) # n_docs x k_topics"
      ],
      "metadata": {
        "colab": {
          "base_uri": "https://localhost:8080/"
        },
        "id": "OK3ZEZiJzRT6",
        "outputId": "2f438481-8c9a-4049-c8fb-101b5428108c"
      },
      "execution_count": null,
      "outputs": [
        {
          "output_type": "stream",
          "name": "stdout",
          "text": [
            "(3000, 5)\n"
          ]
        }
      ]
    },
    {
      "cell_type": "code",
      "source": [
        "print(topic_model.labels.shape) # n_docs x k_topics"
      ],
      "metadata": {
        "colab": {
          "base_uri": "https://localhost:8080/"
        },
        "id": "m1I9MKbFzUfI",
        "outputId": "bbf54bfb-92b7-44e5-8acc-efe82af1d1df"
      },
      "execution_count": null,
      "outputs": [
        {
          "output_type": "stream",
          "name": "stdout",
          "text": [
            "(3000, 5)\n"
          ]
        }
      ]
    },
    {
      "cell_type": "code",
      "source": [
        "#Total correlation is the measure which CorEx maximize when constructing the topic model. It can be accessed through tc and is reported in nats.\n",
        "topic_model.tc"
      ],
      "metadata": {
        "colab": {
          "base_uri": "https://localhost:8080/"
        },
        "id": "ARE9AgSnzhVW",
        "outputId": "c9cd8f0f-9f96-4e7c-de2e-e569860c33be"
      },
      "execution_count": null,
      "outputs": [
        {
          "output_type": "execute_result",
          "data": {
            "text/plain": [
              "10.317527198938647"
            ]
          },
          "metadata": {},
          "execution_count": 17
        }
      ]
    },
    {
      "cell_type": "code",
      "source": [
        "topic_model.tcs.shape # k_topics"
      ],
      "metadata": {
        "colab": {
          "base_uri": "https://localhost:8080/"
        },
        "id": "SwEiIyxxzsXj",
        "outputId": "961dc596-0e0b-4635-d93a-a93ffdf6849b"
      },
      "execution_count": null,
      "outputs": [
        {
          "output_type": "execute_result",
          "data": {
            "text/plain": [
              "(5,)"
            ]
          },
          "metadata": {},
          "execution_count": 18
        }
      ]
    },
    {
      "cell_type": "code",
      "source": [
        "print(np.sum(topic_model.tcs))\n",
        "print(topic_model.tc)"
      ],
      "metadata": {
        "colab": {
          "base_uri": "https://localhost:8080/"
        },
        "id": "2EOoCW1tzxQH",
        "outputId": "4f625192-5159-46fd-f587-20d66e6745a0"
      },
      "execution_count": null,
      "outputs": [
        {
          "output_type": "stream",
          "name": "stdout",
          "text": [
            "10.317527198938647\n",
            "10.317527198938647\n"
          ]
        }
      ]
    },
    {
      "cell_type": "code",
      "source": [
        "#Selecting number of topics:Choosing from the data visualised\n",
        "plt.figure(figsize=(10,5))\n",
        "plt.bar(range(topic_model.tcs.shape[0]), topic_model.tcs, color='#4e79a7', width=0.5)\n",
        "plt.xlabel('Topic', fontsize=16)\n",
        "plt.ylabel('Total Correlation (nats)', fontsize=16);\n",
        "plt.savefig('Distribution of TCs for each topic', dpi=600)"
      ],
      "metadata": {
        "colab": {
          "base_uri": "https://localhost:8080/",
          "height": 471
        },
        "id": "iu3BEwuDz5yz",
        "outputId": "a80121be-ebe9-43f1-f310-0cc63b52f042"
      },
      "execution_count": null,
      "outputs": [
        {
          "output_type": "display_data",
          "data": {
            "text/plain": [
              "<Figure size 1000x500 with 1 Axes>"
            ],
            "image/png": "[encoded data removed]"
          },
          "metadata": {}
        }
      ]
    },
    {
      "cell_type": "code",
      "source": [
        "topic_model.log_z.shape # n_docs x k_topics"
      ],
      "metadata": {
        "colab": {
          "base_uri": "https://localhost:8080/"
        },
        "id": "wmS6zjM9z8pi",
        "outputId": "3bac0173-f755-4cfa-ae69-f9fd3a9fd528"
      },
      "execution_count": null,
      "outputs": [
        {
          "output_type": "execute_result",
          "data": {
            "text/plain": [
              "(3000, 5)"
            ]
          },
          "metadata": {},
          "execution_count": 21
        }
      ]
    },
    {
      "cell_type": "code",
      "source": [
        "print(np.mean(topic_model.log_z, axis=0)) #The pointwise total correlations in log_z represent the correlations within an individual document explained by a particular topic. These correlations have been used to measure how \"surprising\" documents are with respect to given topics\n",
        "print(topic_model.tcs)"
      ],
      "metadata": {
        "colab": {
          "base_uri": "https://localhost:8080/"
        },
        "id": "_1aCVPa_0ALE",
        "outputId": "f50bc36d-dd3f-4eee-b726-6c3159a2e13a"
      },
      "execution_count": null,
      "outputs": [
        {
          "output_type": "stream",
          "name": "stdout",
          "text": [
            "[3.86717477 1.87335549 1.82990114 1.44299645 1.30409935]\n",
            "[3.86717477 1.87335549 1.82990114 1.44299645 1.30409935]\n"
          ]
        }
      ]
    },
    {
      "cell_type": "code",
      "source": [
        "# Train a second layer to the topic model\n",
        "tm_layer2 = ct.Corex(n_hidden=10)\n",
        "tm_layer2.fit(topic_model.labels);\n",
        "\n",
        "# Train a third layer to the topic model\n",
        "tm_layer3 = ct.Corex(n_hidden=1)\n",
        "tm_layer3.fit(tm_layer2.labels);"
      ],
      "metadata": {
        "id": "1vz5_OqA0H4r"
      },
      "execution_count": null,
      "outputs": []
    },
    {
      "cell_type": "code",
      "source": [
        "vt.vis_hierarchy([topic_model, tm_layer2, tm_layer3], column_label=words, max_edges=200, prefix='topic-model-example')"
      ],
      "metadata": {
        "colab": {
          "base_uri": "https://localhost:8080/"
        },
        "id": "fWNz4KXK0RZq",
        "outputId": "c3143e76-9f35-468b-d299-a40143ee6433"
      },
      "execution_count": null,
      "outputs": [
        {
          "output_type": "stream",
          "name": "stdout",
          "text": [
            "weight threshold is 0.000000 for graph with max of 60.000000 edges \n"
          ]
        },
        {
          "output_type": "execute_result",
          "data": {
            "text/plain": [
              "<networkx.classes.digraph.DiGraph at 0x7e0cab7a09a0>"
            ]
          },
          "metadata": {},
          "execution_count": 24
        }
      ]
    },
    {
      "cell_type": "code",
      "source": [
        "!pip install tqdm"
      ],
      "metadata": {
        "colab": {
          "base_uri": "https://localhost:8080/"
        },
        "id": "wvM9nWnKEeLI",
        "outputId": "bfc0e7e2-396c-4133-bee6-bfddc4b53fd6"
      },
      "execution_count": null,
      "outputs": [
        {
          "output_type": "stream",
          "name": "stdout",
          "text": [
            "Requirement already satisfied: tqdm in /usr/local/lib/python3.10/dist-packages (4.66.2)\n"
          ]
        }
      ]
    },
    {
      "cell_type": "code",
      "source": [
        "## defining all utilty functions - needed for Data cleaning and processing\n",
        "\n",
        "from sklearn.feature_extraction.text import ENGLISH_STOP_WORDS\n",
        "import string\n",
        "import re\n",
        "from nltk.stem.snowball import SnowballStemmer\n",
        "from nltk.tokenize import TweetTokenizer, RegexpTokenizer\n",
        "import nltk\n",
        "\n",
        "# Contraction map\n",
        "c_dict = {\n",
        "    \"ain't\": \"am not\",\n",
        "    \"aren't\": \"are not\",\n",
        "    \"can't\": \"cannot\",\n",
        "    \"can't've\": \"cannot have\",\n",
        "    \"'cause\": \"because\",\n",
        "    \"could've\": \"could have\",\n",
        "    \"couldn't\": \"could not\",\n",
        "    \"couldn't've\": \"could not have\",\n",
        "    \"didn't\": \"did not\",\n",
        "    \"doesn't\": \"does not\",\n",
        "    \"don't\": \"do not\",\n",
        "    \"hadn't\": \"had not\",\n",
        "    \"hadn't've\": \"had not have\",\n",
        "    \"hasn't\": \"has not\",\n",
        "    \"haven't\": \"have not\",\n",
        "    \"he'd\": \"he would\",\n",
        "    \"he'd've\": \"he would have\",\n",
        "    \"he'll\": \"he will\",\n",
        "    \"he'll've\": \"he will have\",\n",
        "    \"he's\": \"he is\",\n",
        "    \"how'd\": \"how did\",\n",
        "    \"how'd'y\": \"how do you\",\n",
        "    \"how'll\": \"how will\",\n",
        "    \"how's\": \"how is\",\n",
        "    \"i'd\": \"I would\",\n",
        "    \"i'd've\": \"I would have\",\n",
        "    \"i'll\": \"I will\",\n",
        "    \"i'll've\": \"I will have\",\n",
        "    \"i'm\": \"I am\",\n",
        "    \"i've\": \"I have\",\n",
        "    \"isn't\": \"is not\",\n",
        "    \"it'd\": \"it had\",\n",
        "    \"it'd've\": \"it would have\",\n",
        "    \"it'll\": \"it will\",\n",
        "    \"it'll've\": \"it will have\",\n",
        "    \"it's\": \"it is\",\n",
        "    \"let's\": \"let us\",\n",
        "    \"ma'am\": \"madam\",\n",
        "    \"mayn't\": \"may not\",\n",
        "    \"might've\": \"might have\",\n",
        "    \"mightn't\": \"might not\",\n",
        "    \"mightn't've\": \"might not have\",\n",
        "    \"must've\": \"must have\",\n",
        "    \"mustn't\": \"must not\",\n",
        "    \"mustn't've\": \"must not have\",\n",
        "    \"needn't\": \"need not\",\n",
        "    \"needn't've\": \"need not have\",\n",
        "    \"o'clock\": \"of the clock\",\n",
        "    \"oughtn't\": \"ought not\",\n",
        "    \"oughtn't've\": \"ought not have\",\n",
        "    \"shan't\": \"shall not\",\n",
        "    \"sha'n't\": \"shall not\",\n",
        "    \"shan't've\": \"shall not have\",\n",
        "    \"she'd\": \"she would\",\n",
        "    \"she'd've\": \"she would have\",\n",
        "    \"she'll\": \"she will\",\n",
        "    \"she'll've\": \"she will have\",\n",
        "    \"she's\": \"she is\",\n",
        "    \"should've\": \"should have\",\n",
        "    \"shouldn't\": \"should not\",\n",
        "    \"shouldn't've\": \"should not have\",\n",
        "    \"so've\": \"so have\",\n",
        "    \"so's\": \"so is\",\n",
        "    \"that'd\": \"that would\",\n",
        "    \"that'd've\": \"that would have\",\n",
        "    \"that's\": \"that is\",\n",
        "    \"there'd\": \"there had\",\n",
        "    \"there'd've\": \"there would have\",\n",
        "    \"there's\": \"there is\",\n",
        "    \"they'd\": \"they would\",\n",
        "    \"they'd've\": \"they would have\",\n",
        "    \"they'll\": \"they will\",\n",
        "    \"they'll've\": \"they will have\",\n",
        "    \"they're\": \"they are\",\n",
        "    \"they've\": \"they have\",\n",
        "    \"to've\": \"to have\",\n",
        "    \"wasn't\": \"was not\",\n",
        "    \"we'd\": \"we had\",\n",
        "    \"we'd've\": \"we would have\",\n",
        "    \"we'll\": \"we will\",\n",
        "    \"we'll've\": \"we will have\",\n",
        "    \"we're\": \"we are\",\n",
        "    \"we've\": \"we have\",\n",
        "    \"weren't\": \"were not\",\n",
        "    \"what'll\": \"what will\",\n",
        "    \"what'll've\": \"what will have\",\n",
        "    \"what're\": \"what are\",\n",
        "    \"what's\": \"what is\",\n",
        "    \"what've\": \"what have\",\n",
        "    \"when's\": \"when is\",\n",
        "    \"when've\": \"when have\",\n",
        "    \"where'd\": \"where did\",\n",
        "    \"where's\": \"where is\",\n",
        "    \"where've\": \"where have\",\n",
        "    \"who'll\": \"who will\",\n",
        "    \"who'll've\": \"who will have\",\n",
        "    \"who's\": \"who is\",\n",
        "    \"who've\": \"who have\",\n",
        "    \"why's\": \"why is\",\n",
        "    \"why've\": \"why have\",\n",
        "    \"will've\": \"will have\",\n",
        "    \"won't\": \"will not\",\n",
        "    \"won't've\": \"will not have\",\n",
        "    \"would've\": \"would have\",\n",
        "    \"wouldn't\": \"would not\",\n",
        "    \"wouldn't've\": \"would not have\",\n",
        "    \"y'all\": \"you all\",\n",
        "    \"y'alls\": \"you alls\",\n",
        "    \"y'all'd\": \"you all would\",\n",
        "    \"y'all'd've\": \"you all would have\",\n",
        "    \"y'all're\": \"you all are\",\n",
        "    \"y'all've\": \"you all have\",\n",
        "    \"you'd\": \"you had\",\n",
        "    \"you'd've\": \"you would have\",\n",
        "    \"you'll\": \"you you will\",\n",
        "    \"you'll've\": \"you you will have\",\n",
        "    \"you're\": \"you are\",\n",
        "    \"you've\": \"you have\"\n",
        "}\n",
        "\n",
        "# Compiling the contraction dict\n",
        "c_re = re.compile('(%s)' % '|'.join(c_dict.keys()))\n",
        "c_re = re.compile('(%s)' % '|'.join(c_dict.keys()))\n",
        "\n",
        "# List of stop words\n",
        "add_stop = ['said', 'say', '...', 'like', 'cnn', 'ad']\n",
        "stop_words = ENGLISH_STOP_WORDS.union(add_stop)\n",
        "\n",
        "# List of punctuation\n",
        "punc = list(set(string.punctuation))\n",
        "\n",
        "\n",
        "# Splits words on white spaces (leaves contractions intact) and splits out\n",
        "# trailing punctuation\n",
        "def casual_tokenizer(text):\n",
        "    tokenizer = TweetTokenizer()\n",
        "    tokens = tokenizer.tokenize(text)\n",
        "    return tokens\n",
        "\n",
        "\n",
        "def expandContractions(text, c_re=c_re):\n",
        "    def replace(match):\n",
        "        return c_dict[match.group(0)]\n",
        "    return c_re.sub(replace, text)\n",
        "\n",
        "\n",
        "def process_text(text):\n",
        "    text = casual_tokenizer(text)\n",
        "    text = [each.lower() for each in text]\n",
        "    text = [re.sub('[0-9]+', '', each) for each in text]\n",
        "    text = [expandContractions(each, c_re=c_re) for each in text]\n",
        "    text = [SnowballStemmer('english').stem(each) for each in text]\n",
        "    text = [w for w in text if w not in punc]\n",
        "    text = [w for w in text if w not in stop_words]\n",
        "    text = [each for each in text if len(each) > 1]\n",
        "    text = [each for each in text if ' ' not in each]\n",
        "    return text\n",
        "\n",
        "\n",
        "def top_words(topic, n_top_words):\n",
        "    return topic.argsort()[:-n_top_words - 1:-1]\n",
        "\n",
        "\n",
        "def topic_table(model, feature_names, n_top_words):\n",
        "    topics = {}\n",
        "    for topic_idx, topic in enumerate(model.components_):\n",
        "        t = (topic_idx)\n",
        "        topics[t] = [feature_names[i] for i in top_words(topic, n_top_words)]\n",
        "    return pd.DataFrame(topics)\n",
        "\n",
        "\n",
        "def whitespace_tokenizer(text):\n",
        "    pattern = r\"(?u)\\b\\w\\w+\\b\"\n",
        "    tokenizer_regex = RegexpTokenizer(pattern)\n",
        "    tokens = tokenizer_regex.tokenize(text)\n",
        "    return tokens\n",
        "\n",
        "\n",
        "# Funtion to remove duplicate words\n",
        "def unique_words(text):\n",
        "    ulist = []\n",
        "    [ulist.append(x) for x in text if x not in ulist]\n",
        "    return ulist\n",
        "\n",
        "\n",
        "def word_count(text):\n",
        "    return len(str(text).split(' '))"
      ],
      "metadata": {
        "id": "TuIfm_Y2HHsH"
      },
      "execution_count": null,
      "outputs": []
    },
    {
      "cell_type": "code",
      "source": [
        "# Get the word count\n",
        "df['word_count'] = df['Description'].apply(word_count)\n",
        "df['word_count'].mean()"
      ],
      "metadata": {
        "colab": {
          "base_uri": "https://localhost:8080/"
        },
        "id": "gUSY0IFjHOlc",
        "outputId": "00b22422-c048-48a9-ab72-4a6cf90140f8"
      },
      "execution_count": null,
      "outputs": [
        {
          "output_type": "execute_result",
          "data": {
            "text/plain": [
              "35.323"
            ]
          },
          "metadata": {},
          "execution_count": 27
        }
      ]
    },
    {
      "cell_type": "code",
      "source": [
        "# Process the text\n",
        "df['processed_text'] = df['Description'].apply(process_text)\n",
        "df.head()"
      ],
      "metadata": {
        "colab": {
          "base_uri": "https://localhost:8080/",
          "height": 206
        },
        "id": "NvsfDzD1HPXW",
        "outputId": "c708c0fc-cc7d-4bb8-9a0d-cc15c7f3ead5"
      },
      "execution_count": null,
      "outputs": [
        {
          "output_type": "execute_result",
          "data": {
            "text/plain": [
              "                                         Description     Category  word_count  \\\n",
              "0  hi since recruiter lead permission approve req...  Application          12   \n",
              "1  re expire days hi ask help update passwords co...  Application         140   \n",
              "2  verification warning hi has got attached pleas...  Application          14   \n",
              "3  please dear looks blacklisted receiving mails ...  Application          14   \n",
              "4  dear modules report report cost thank much reg...  Application           8   \n",
              "\n",
              "                                      processed_text  \n",
              "0  [hi, sinc, recruit, lead, permiss, approv, req...  \n",
              "1  [expir, day, hi, ask, help, updat, password, c...  \n",
              "2  [verif, warn, hi, got, attach, pleas, address,...  \n",
              "3  [pleas, dear, look, blacklist, receiv, mail, a...  \n",
              "4  [dear, modul, report, report, cost, thank, reg...  "
            ],
            "text/html": [
              "\n",
              "  <div id=\"df-fcb65e1a-3dce-4cb1-96ce-655bd87ea635\" class=\"colab-df-container\">\n",
              "    <div>\n",
              "<style scoped>\n",
              "    .dataframe tbody tr th:only-of-type {\n",
              "        vertical-align: middle;\n",
              "    }\n",
              "\n",
              "    .dataframe tbody tr th {\n",
              "        vertical-align: top;\n",
              "    }\n",
              "\n",
              "    .dataframe thead th {\n",
              "        text-align: right;\n",
              "    }\n",
              "</style>\n",
              "<table border=\"1\" class=\"dataframe\">\n",
              "  <thead>\n",
              "    <tr style=\"text-align: right;\">\n",
              "      <th></th>\n",
              "      <th>Description</th>\n",
              "      <th>Category</th>\n",
              "      <th>word_count</th>\n",
              "      <th>processed_text</th>\n",
              "    </tr>\n",
              "  </thead>\n",
              "  <tbody>\n",
              "    <tr>\n",
              "      <th>0</th>\n",
              "      <td>hi since recruiter lead permission approve req...</td>\n",
              "      <td>Application</td>\n",
              "      <td>12</td>\n",
              "      <td>[hi, sinc, recruit, lead, permiss, approv, req...</td>\n",
              "    </tr>\n",
              "    <tr>\n",
              "      <th>1</th>\n",
              "      <td>re expire days hi ask help update passwords co...</td>\n",
              "      <td>Application</td>\n",
              "      <td>140</td>\n",
              "      <td>[expir, day, hi, ask, help, updat, password, c...</td>\n",
              "    </tr>\n",
              "    <tr>\n",
              "      <th>2</th>\n",
              "      <td>verification warning hi has got attached pleas...</td>\n",
              "      <td>Application</td>\n",
              "      <td>14</td>\n",
              "      <td>[verif, warn, hi, got, attach, pleas, address,...</td>\n",
              "    </tr>\n",
              "    <tr>\n",
              "      <th>3</th>\n",
              "      <td>please dear looks blacklisted receiving mails ...</td>\n",
              "      <td>Application</td>\n",
              "      <td>14</td>\n",
              "      <td>[pleas, dear, look, blacklist, receiv, mail, a...</td>\n",
              "    </tr>\n",
              "    <tr>\n",
              "      <th>4</th>\n",
              "      <td>dear modules report report cost thank much reg...</td>\n",
              "      <td>Application</td>\n",
              "      <td>8</td>\n",
              "      <td>[dear, modul, report, report, cost, thank, reg...</td>\n",
              "    </tr>\n",
              "  </tbody>\n",
              "</table>\n",
              "</div>\n",
              "    <div class=\"colab-df-buttons\">\n",
              "\n",
              "  <div class=\"colab-df-container\">\n",
              "    <button class=\"colab-df-convert\" onclick=\"convertToInteractive('df-fcb65e1a-3dce-4cb1-96ce-655bd87ea635')\"\n",
              "            title=\"Convert this dataframe to an interactive table.\"\n",
              "            style=\"display:none;\">\n",
              "\n",
              "  <svg xmlns=\"http://www.w3.org/2000/svg\" height=\"24px\" viewBox=\"0 -960 960 960\">\n",
              "    <path d=\"M120-120v-720h720v720H120Zm60-500h600v-160H180v160Zm220 220h160v-160H400v160Zm0 220h160v-160H400v160ZM180-400h160v-160H180v160Zm440 0h160v-160H620v160ZM180-180h160v-160H180v160Zm440 0h160v-160H620v160Z\"/>\n",
              "  </svg>\n",
              "    </button>\n",
              "\n",
              "  <style>\n",
              "    .colab-df-container {\n",
              "      display:flex;\n",
              "      gap: 12px;\n",
              "    }\n",
              "\n",
              "    .colab-df-convert {\n",
              "      background-color: #E8F0FE;\n",
              "      border: none;\n",
              "      border-radius: 50%;\n",
              "      cursor: pointer;\n",
              "      display: none;\n",
              "      fill: #1967D2;\n",
              "      height: 32px;\n",
              "      padding: 0 0 0 0;\n",
              "      width: 32px;\n",
              "    }\n",
              "\n",
              "    .colab-df-convert:hover {\n",
              "      background-color: #E2EBFA;\n",
              "      box-shadow: 0px 1px 2px rgba(60, 64, 67, 0.3), 0px 1px 3px 1px rgba(60, 64, 67, 0.15);\n",
              "      fill: #174EA6;\n",
              "    }\n",
              "\n",
              "    .colab-df-buttons div {\n",
              "      margin-bottom: 4px;\n",
              "    }\n",
              "\n",
              "    [theme=dark] .colab-df-convert {\n",
              "      background-color: #3B4455;\n",
              "      fill: #D2E3FC;\n",
              "    }\n",
              "\n",
              "    [theme=dark] .colab-df-convert:hover {\n",
              "      background-color: #434B5C;\n",
              "      box-shadow: 0px 1px 3px 1px rgba(0, 0, 0, 0.15);\n",
              "      filter: drop-shadow(0px 1px 2px rgba(0, 0, 0, 0.3));\n",
              "      fill: #FFFFFF;\n",
              "    }\n",
              "  </style>\n",
              "\n",
              "    <script>\n",
              "      const buttonEl =\n",
              "        document.querySelector('#df-fcb65e1a-3dce-4cb1-96ce-655bd87ea635 button.colab-df-convert');\n",
              "      buttonEl.style.display =\n",
              "        google.colab.kernel.accessAllowed ? 'block' : 'none';\n",
              "\n",
              "      async function convertToInteractive(key) {\n",
              "        const element = document.querySelector('#df-fcb65e1a-3dce-4cb1-96ce-655bd87ea635');\n",
              "        const dataTable =\n",
              "          await google.colab.kernel.invokeFunction('convertToInteractive',\n",
              "                                                    [key], {});\n",
              "        if (!dataTable) return;\n",
              "\n",
              "        const docLinkHtml = 'Like what you see? Visit the ' +\n",
              "          '<a target=\"_blank\" href=https://colab.research.google.com/notebooks/data_table.ipynb>data table notebook</a>'\n",
              "          + ' to learn more about interactive tables.';\n",
              "        element.innerHTML = '';\n",
              "        dataTable['output_type'] = 'display_data';\n",
              "        await google.colab.output.renderOutput(dataTable, element);\n",
              "        const docLink = document.createElement('div');\n",
              "        docLink.innerHTML = docLinkHtml;\n",
              "        element.appendChild(docLink);\n",
              "      }\n",
              "    </script>\n",
              "  </div>\n",
              "\n",
              "\n",
              "<div id=\"df-7b8d3f9b-89e0-44f9-a721-25a7862787e3\">\n",
              "  <button class=\"colab-df-quickchart\" onclick=\"quickchart('df-7b8d3f9b-89e0-44f9-a721-25a7862787e3')\"\n",
              "            title=\"Suggest charts\"\n",
              "            style=\"display:none;\">\n",
              "\n",
              "<svg xmlns=\"http://www.w3.org/2000/svg\" height=\"24px\"viewBox=\"0 0 24 24\"\n",
              "     width=\"24px\">\n",
              "    <g>\n",
              "        <path d=\"M19 3H5c-1.1 0-2 .9-2 2v14c0 1.1.9 2 2 2h14c1.1 0 2-.9 2-2V5c0-1.1-.9-2-2-2zM9 17H7v-7h2v7zm4 0h-2V7h2v10zm4 0h-2v-4h2v4z\"/>\n",
              "    </g>\n",
              "</svg>\n",
              "  </button>\n",
              "\n",
              "<style>\n",
              "  .colab-df-quickchart {\n",
              "      --bg-color: #E8F0FE;\n",
              "      --fill-color: #1967D2;\n",
              "      --hover-bg-color: #E2EBFA;\n",
              "      --hover-fill-color: #174EA6;\n",
              "      --disabled-fill-color: #AAA;\n",
              "      --disabled-bg-color: #DDD;\n",
              "  }\n",
              "\n",
              "  [theme=dark] .colab-df-quickchart {\n",
              "      --bg-color: #3B4455;\n",
              "      --fill-color: #D2E3FC;\n",
              "      --hover-bg-color: #434B5C;\n",
              "      --hover-fill-color: #FFFFFF;\n",
              "      --disabled-bg-color: #3B4455;\n",
              "      --disabled-fill-color: #666;\n",
              "  }\n",
              "\n",
              "  .colab-df-quickchart {\n",
              "    background-color: var(--bg-color);\n",
              "    border: none;\n",
              "    border-radius: 50%;\n",
              "    cursor: pointer;\n",
              "    display: none;\n",
              "    fill: var(--fill-color);\n",
              "    height: 32px;\n",
              "    padding: 0;\n",
              "    width: 32px;\n",
              "  }\n",
              "\n",
              "  .colab-df-quickchart:hover {\n",
              "    background-color: var(--hover-bg-color);\n",
              "    box-shadow: 0 1px 2px rgba(60, 64, 67, 0.3), 0 1px 3px 1px rgba(60, 64, 67, 0.15);\n",
              "    fill: var(--button-hover-fill-color);\n",
              "  }\n",
              "\n",
              "  .colab-df-quickchart-complete:disabled,\n",
              "  .colab-df-quickchart-complete:disabled:hover {\n",
              "    background-color: var(--disabled-bg-color);\n",
              "    fill: var(--disabled-fill-color);\n",
              "    box-shadow: none;\n",
              "  }\n",
              "\n",
              "  .colab-df-spinner {\n",
              "    border: 2px solid var(--fill-color);\n",
              "    border-color: transparent;\n",
              "    border-bottom-color: var(--fill-color);\n",
              "    animation:\n",
              "      spin 1s steps(1) infinite;\n",
              "  }\n",
              "\n",
              "  @keyframes spin {\n",
              "    0% {\n",
              "      border-color: transparent;\n",
              "      border-bottom-color: var(--fill-color);\n",
              "      border-left-color: var(--fill-color);\n",
              "    }\n",
              "    20% {\n",
              "      border-color: transparent;\n",
              "      border-left-color: var(--fill-color);\n",
              "      border-top-color: var(--fill-color);\n",
              "    }\n",
              "    30% {\n",
              "      border-color: transparent;\n",
              "      border-left-color: var(--fill-color);\n",
              "      border-top-color: var(--fill-color);\n",
              "      border-right-color: var(--fill-color);\n",
              "    }\n",
              "    40% {\n",
              "      border-color: transparent;\n",
              "      border-right-color: var(--fill-color);\n",
              "      border-top-color: var(--fill-color);\n",
              "    }\n",
              "    60% {\n",
              "      border-color: transparent;\n",
              "      border-right-color: var(--fill-color);\n",
              "    }\n",
              "    80% {\n",
              "      border-color: transparent;\n",
              "      border-right-color: var(--fill-color);\n",
              "      border-bottom-color: var(--fill-color);\n",
              "    }\n",
              "    90% {\n",
              "      border-color: transparent;\n",
              "      border-bottom-color: var(--fill-color);\n",
              "    }\n",
              "  }\n",
              "</style>\n",
              "\n",
              "  <script>\n",
              "    async function quickchart(key) {\n",
              "      const quickchartButtonEl =\n",
              "        document.querySelector('#' + key + ' button');\n",
              "      quickchartButtonEl.disabled = true;  // To prevent multiple clicks.\n",
              "      quickchartButtonEl.classList.add('colab-df-spinner');\n",
              "      try {\n",
              "        const charts = await google.colab.kernel.invokeFunction(\n",
              "            'suggestCharts', [key], {});\n",
              "      } catch (error) {\n",
              "        console.error('Error during call to suggestCharts:', error);\n",
              "      }\n",
              "      quickchartButtonEl.classList.remove('colab-df-spinner');\n",
              "      quickchartButtonEl.classList.add('colab-df-quickchart-complete');\n",
              "    }\n",
              "    (() => {\n",
              "      let quickchartButtonEl =\n",
              "        document.querySelector('#df-7b8d3f9b-89e0-44f9-a721-25a7862787e3 button');\n",
              "      quickchartButtonEl.style.display =\n",
              "        google.colab.kernel.accessAllowed ? 'block' : 'none';\n",
              "    })();\n",
              "  </script>\n",
              "</div>\n",
              "    </div>\n",
              "  </div>\n"
            ],
            "application/vnd.google.colaboratory.intrinsic+json": {
              "type": "dataframe",
              "variable_name": "df",
              "summary": "{\n  \"name\": \"df\",\n  \"rows\": 3000,\n  \"fields\": [\n    {\n      \"column\": \"Description\",\n      \"properties\": {\n        \"dtype\": \"string\",\n        \"num_unique_values\": 3000,\n        \"samples\": [\n          \"friday november pm assistants please secure floor tower hi please securing floor tower secure area evening cob tuesday morning area needs secure also needs informing employees about changes restriction well meeting rooms bookings restriction thank help kind regards officer information\",\n          \"pm hi joined fast followings visual studio provide other information please let thank best regards\",\n          \"card leaver la va ca defect\"\n        ],\n        \"semantic_type\": \"\",\n        \"description\": \"\"\n      }\n    },\n    {\n      \"column\": \"Category\",\n      \"properties\": {\n        \"dtype\": \"category\",\n        \"num_unique_values\": 5,\n        \"samples\": [\n          \"Database\",\n          \"Security\",\n          \"Network\"\n        ],\n        \"semantic_type\": \"\",\n        \"description\": \"\"\n      }\n    },\n    {\n      \"column\": \"word_count\",\n      \"properties\": {\n        \"dtype\": \"number\",\n        \"std\": 55,\n        \"min\": 1,\n        \"max\": 927,\n        \"num_unique_values\": 210,\n        \"samples\": [\n          68,\n          90,\n          119\n        ],\n        \"semantic_type\": \"\",\n        \"description\": \"\"\n      }\n    },\n    {\n      \"column\": \"processed_text\",\n      \"properties\": {\n        \"dtype\": \"object\",\n        \"semantic_type\": \"\",\n        \"description\": \"\"\n      }\n    }\n  ]\n}"
            }
          },
          "metadata": {},
          "execution_count": 28
        }
      ]
    },
    {
      "cell_type": "code",
      "source": [
        "!pip install tqdm\n",
        "!pip install stylegan2_pytorch"
      ],
      "metadata": {
        "colab": {
          "base_uri": "https://localhost:8080/"
        },
        "id": "koo0CDk6NJoZ",
        "outputId": "5aa49c5f-6dee-4629-95d7-c1275d952e82"
      },
      "execution_count": null,
      "outputs": [
        {
          "output_type": "stream",
          "name": "stdout",
          "text": [
            "Requirement already satisfied: tqdm in /usr/local/lib/python3.10/dist-packages (4.66.2)\n",
            "Collecting stylegan2_pytorch\n",
            "  Downloading stylegan2_pytorch-1.8.9-py3-none-any.whl (19 kB)\n",
            "Collecting aim (from stylegan2_pytorch)\n",
            "  Downloading aim-3.19.2-cp310-cp310-manylinux_2_24_x86_64.whl (5.6 MB)\n",
            "\u001b[2K     \u001b[90m━━━━━━━━━━━━━━━━━━━━━━━━━━━━━━━━━━━━━━━━\u001b[0m \u001b[32m5.6/5.6 MB\u001b[0m \u001b[31m14.0 MB/s\u001b[0m eta \u001b[36m0:00:00\u001b[0m\n",
            "\u001b[?25hCollecting einops (from stylegan2_pytorch)\n",
            "  Downloading einops-0.7.0-py3-none-any.whl (44 kB)\n",
            "\u001b[2K     \u001b[90m━━━━━━━━━━━━━━━━━━━━━━━━━━━━━━━━━━━━━━━━\u001b[0m \u001b[32m44.6/44.6 kB\u001b[0m \u001b[31m4.8 MB/s\u001b[0m eta \u001b[36m0:00:00\u001b[0m\n",
            "\u001b[?25hCollecting contrastive-learner>=0.1.0 (from stylegan2_pytorch)\n",
            "  Downloading contrastive_learner-0.1.1-py3-none-any.whl (4.9 kB)\n",
            "Collecting fire (from stylegan2_pytorch)\n",
            "  Downloading fire-0.6.0.tar.gz (88 kB)\n",
            "\u001b[2K     \u001b[90m━━━━━━━━━━━━━━━━━━━━━━━━━━━━━━━━━━━━━━━━\u001b[0m \u001b[32m88.4/88.4 kB\u001b[0m \u001b[31m9.9 MB/s\u001b[0m eta \u001b[36m0:00:00\u001b[0m\n",
            "\u001b[?25h  Preparing metadata (setup.py) ... \u001b[?25l\u001b[?25hdone\n",
            "Collecting kornia>=0.5.4 (from stylegan2_pytorch)\n",
            "  Downloading kornia-0.7.2-py2.py3-none-any.whl (825 kB)\n",
            "\u001b[2K     \u001b[90m━━━━━━━━━━━━━━━━━━━━━━━━━━━━━━━━━━━━━━━━\u001b[0m \u001b[32m825.4/825.4 kB\u001b[0m \u001b[31m23.7 MB/s\u001b[0m eta \u001b[36m0:00:00\u001b[0m\n",
            "\u001b[?25hRequirement already satisfied: numpy in /usr/local/lib/python3.10/dist-packages (from stylegan2_pytorch) (1.25.2)\n",
            "Collecting retry (from stylegan2_pytorch)\n",
            "  Downloading retry-0.9.2-py2.py3-none-any.whl (8.0 kB)\n",
            "Requirement already satisfied: tqdm in /usr/local/lib/python3.10/dist-packages (from stylegan2_pytorch) (4.66.2)\n",
            "Requirement already satisfied: torch in /usr/local/lib/python3.10/dist-packages (from stylegan2_pytorch) (2.2.1+cu121)\n",
            "Requirement already satisfied: torchvision in /usr/local/lib/python3.10/dist-packages (from stylegan2_pytorch) (0.17.1+cu121)\n",
            "Requirement already satisfied: pillow in /usr/local/lib/python3.10/dist-packages (from stylegan2_pytorch) (9.4.0)\n",
            "Collecting vector-quantize-pytorch==0.1.0 (from stylegan2_pytorch)\n",
            "  Downloading vector_quantize_pytorch-0.1.0.tar.gz (2.2 kB)\n",
            "  Preparing metadata (setup.py) ... \u001b[?25l\u001b[?25hdone\n",
            "Collecting kornia-rs>=0.1.0 (from kornia>=0.5.4->stylegan2_pytorch)\n",
            "  Downloading kornia_rs-0.1.2-cp310-cp310-manylinux_2_17_x86_64.manylinux2014_x86_64.whl (2.4 MB)\n",
            "\u001b[2K     \u001b[90m━━━━━━━━━━━━━━━━━━━━━━━━━━━━━━━━━━━━━━━━\u001b[0m \u001b[32m2.4/2.4 MB\u001b[0m \u001b[31m15.6 MB/s\u001b[0m eta \u001b[36m0:00:00\u001b[0m\n",
            "\u001b[?25hRequirement already satisfied: packaging in /usr/local/lib/python3.10/dist-packages (from kornia>=0.5.4->stylegan2_pytorch) (24.0)\n",
            "Requirement already satisfied: filelock in /usr/local/lib/python3.10/dist-packages (from torch->stylegan2_pytorch) (3.13.3)\n",
            "Requirement already satisfied: typing-extensions>=4.8.0 in /usr/local/lib/python3.10/dist-packages (from torch->stylegan2_pytorch) (4.10.0)\n",
            "Requirement already satisfied: sympy in /usr/local/lib/python3.10/dist-packages (from torch->stylegan2_pytorch) (1.12)\n",
            "Requirement already satisfied: networkx in /usr/local/lib/python3.10/dist-packages (from torch->stylegan2_pytorch) (3.2.1)\n",
            "Requirement already satisfied: jinja2 in /usr/local/lib/python3.10/dist-packages (from torch->stylegan2_pytorch) (3.1.3)\n",
            "Requirement already satisfied: fsspec in /usr/local/lib/python3.10/dist-packages (from torch->stylegan2_pytorch) (2023.6.0)\n",
            "Collecting nvidia-cuda-nvrtc-cu12==12.1.105 (from torch->stylegan2_pytorch)\n",
            "  Downloading nvidia_cuda_nvrtc_cu12-12.1.105-py3-none-manylinux1_x86_64.whl (23.7 MB)\n",
            "\u001b[2K     \u001b[90m━━━━━━━━━━━━━━━━━━━━━━━━━━━━━━━━━━━━━━━━\u001b[0m \u001b[32m23.7/23.7 MB\u001b[0m \u001b[31m13.2 MB/s\u001b[0m eta \u001b[36m0:00:00\u001b[0m\n",
            "\u001b[?25hCollecting nvidia-cuda-runtime-cu12==12.1.105 (from torch->stylegan2_pytorch)\n",
            "  Downloading nvidia_cuda_runtime_cu12-12.1.105-py3-none-manylinux1_x86_64.whl (823 kB)\n",
            "\u001b[2K     \u001b[90m━━━━━━━━━━━━━━━━━━━━━━━━━━━━━━━━━━━━━━━━\u001b[0m \u001b[32m823.6/823.6 kB\u001b[0m \u001b[31m26.1 MB/s\u001b[0m eta \u001b[36m0:00:00\u001b[0m\n",
            "\u001b[?25hCollecting nvidia-cuda-cupti-cu12==12.1.105 (from torch->stylegan2_pytorch)\n",
            "  Downloading nvidia_cuda_cupti_cu12-12.1.105-py3-none-manylinux1_x86_64.whl (14.1 MB)\n",
            "\u001b[2K     \u001b[90m━━━━━━━━━━━━━━━━━━━━━━━━━━━━━━━━━━━━━━━━\u001b[0m \u001b[32m14.1/14.1 MB\u001b[0m \u001b[31m16.6 MB/s\u001b[0m eta \u001b[36m0:00:00\u001b[0m\n",
            "\u001b[?25hCollecting nvidia-cudnn-cu12==8.9.2.26 (from torch->stylegan2_pytorch)\n",
            "  Downloading nvidia_cudnn_cu12-8.9.2.26-py3-none-manylinux1_x86_64.whl (731.7 MB)\n",
            "\u001b[2K     \u001b[90m━━━━━━━━━━━━━━━━━━━━━━━━━━━━━━━━━━━━━━━━\u001b[0m \u001b[32m731.7/731.7 MB\u001b[0m \u001b[31m1.1 MB/s\u001b[0m eta \u001b[36m0:00:00\u001b[0m\n",
            "\u001b[?25hCollecting nvidia-cublas-cu12==12.1.3.1 (from torch->stylegan2_pytorch)\n",
            "  Downloading nvidia_cublas_cu12-12.1.3.1-py3-none-manylinux1_x86_64.whl (410.6 MB)\n",
            "\u001b[2K     \u001b[90m━━━━━━━━━━━━━━━━━━━━━━━━━━━━━━━━━━━━━━━━\u001b[0m \u001b[32m410.6/410.6 MB\u001b[0m \u001b[31m2.6 MB/s\u001b[0m eta \u001b[36m0:00:00\u001b[0m\n",
            "\u001b[?25hCollecting nvidia-cufft-cu12==11.0.2.54 (from torch->stylegan2_pytorch)\n",
            "  Downloading nvidia_cufft_cu12-11.0.2.54-py3-none-manylinux1_x86_64.whl (121.6 MB)\n",
            "\u001b[2K     \u001b[90m━━━━━━━━━━━━━━━━━━━━━━━━━━━━━━━━━━━━━━━━\u001b[0m \u001b[32m121.6/121.6 MB\u001b[0m \u001b[31m8.5 MB/s\u001b[0m eta \u001b[36m0:00:00\u001b[0m\n",
            "\u001b[?25hCollecting nvidia-curand-cu12==10.3.2.106 (from torch->stylegan2_pytorch)\n",
            "  Downloading nvidia_curand_cu12-10.3.2.106-py3-none-manylinux1_x86_64.whl (56.5 MB)\n",
            "\u001b[2K     \u001b[90m━━━━━━━━━━━━━━━━━━━━━━━━━━━━━━━━━━━━━━━━\u001b[0m \u001b[32m56.5/56.5 MB\u001b[0m \u001b[31m8.6 MB/s\u001b[0m eta \u001b[36m0:00:00\u001b[0m\n",
            "\u001b[?25hCollecting nvidia-cusolver-cu12==11.4.5.107 (from torch->stylegan2_pytorch)\n",
            "  Downloading nvidia_cusolver_cu12-11.4.5.107-py3-none-manylinux1_x86_64.whl (124.2 MB)\n",
            "\u001b[2K     \u001b[90m━━━━━━━━━━━━━━━━━━━━━━━━━━━━━━━━━━━━━━━━\u001b[0m \u001b[32m124.2/124.2 MB\u001b[0m \u001b[31m4.9 MB/s\u001b[0m eta \u001b[36m0:00:00\u001b[0m\n",
            "\u001b[?25hCollecting nvidia-cusparse-cu12==12.1.0.106 (from torch->stylegan2_pytorch)\n",
            "  Downloading nvidia_cusparse_cu12-12.1.0.106-py3-none-manylinux1_x86_64.whl (196.0 MB)\n",
            "\u001b[2K     \u001b[90m━━━━━━━━━━━━━━━━━━━━━━━━━━━━━━━━━━━━━━━━\u001b[0m \u001b[32m196.0/196.0 MB\u001b[0m \u001b[31m5.2 MB/s\u001b[0m eta \u001b[36m0:00:00\u001b[0m\n",
            "\u001b[?25hCollecting nvidia-nccl-cu12==2.19.3 (from torch->stylegan2_pytorch)\n",
            "  Downloading nvidia_nccl_cu12-2.19.3-py3-none-manylinux1_x86_64.whl (166.0 MB)\n",
            "\u001b[2K     \u001b[90m━━━━━━━━━━━━━━━━━━━━━━━━━━━━━━━━━━━━━━━━\u001b[0m \u001b[32m166.0/166.0 MB\u001b[0m \u001b[31m5.8 MB/s\u001b[0m eta \u001b[36m0:00:00\u001b[0m\n",
            "\u001b[?25hCollecting nvidia-nvtx-cu12==12.1.105 (from torch->stylegan2_pytorch)\n",
            "  Downloading nvidia_nvtx_cu12-12.1.105-py3-none-manylinux1_x86_64.whl (99 kB)\n",
            "\u001b[2K     \u001b[90m━━━━━━━━━━━━━━━━━━━━━━━━━━━━━━━━━━━━━━━━\u001b[0m \u001b[32m99.1/99.1 kB\u001b[0m \u001b[31m10.3 MB/s\u001b[0m eta \u001b[36m0:00:00\u001b[0m\n",
            "\u001b[?25hRequirement already satisfied: triton==2.2.0 in /usr/local/lib/python3.10/dist-packages (from torch->stylegan2_pytorch) (2.2.0)\n",
            "Collecting nvidia-nvjitlink-cu12 (from nvidia-cusolver-cu12==11.4.5.107->torch->stylegan2_pytorch)\n",
            "  Downloading nvidia_nvjitlink_cu12-12.4.99-py3-none-manylinux2014_x86_64.whl (21.1 MB)\n",
            "\u001b[2K     \u001b[90m━━━━━━━━━━━━━━━━━━━━━━━━━━━━━━━━━━━━━━━━\u001b[0m \u001b[32m21.1/21.1 MB\u001b[0m \u001b[31m37.3 MB/s\u001b[0m eta \u001b[36m0:00:00\u001b[0m\n",
            "\u001b[?25hCollecting aim-ui==3.19.2 (from aim->stylegan2_pytorch)\n",
            "  Downloading aim-ui-3.19.2.tar.gz (21.3 MB)\n",
            "\u001b[2K     \u001b[90m━━━━━━━━━━━━━━━━━━━━━━━━━━━━━━━━━━━━━━━━\u001b[0m \u001b[32m21.3/21.3 MB\u001b[0m \u001b[31m25.7 MB/s\u001b[0m eta \u001b[36m0:00:00\u001b[0m\n",
            "\u001b[?25h  Preparing metadata (setup.py) ... \u001b[?25l\u001b[?25hdone\n",
            "Collecting aimrecords==0.0.7 (from aim->stylegan2_pytorch)\n",
            "  Downloading aimrecords-0.0.7-py2.py3-none-any.whl (28 kB)\n",
            "Collecting aimrocks==0.4.0 (from aim->stylegan2_pytorch)\n",
            "  Downloading aimrocks-0.4.0-cp310-cp310-manylinux_2_24_x86_64.whl (6.1 MB)\n",
            "\u001b[2K     \u001b[90m━━━━━━━━━━━━━━━━━━━━━━━━━━━━━━━━━━━━━━━━\u001b[0m \u001b[32m6.1/6.1 MB\u001b[0m \u001b[31m24.6 MB/s\u001b[0m eta \u001b[36m0:00:00\u001b[0m\n",
            "\u001b[?25hRequirement already satisfied: cachetools>=4.0.0 in /usr/local/lib/python3.10/dist-packages (from aim->stylegan2_pytorch) (5.3.3)\n",
            "Requirement already satisfied: click>=7.0 in /usr/local/lib/python3.10/dist-packages (from aim->stylegan2_pytorch) (8.1.7)\n",
            "Requirement already satisfied: cryptography>=3.0 in /usr/local/lib/python3.10/dist-packages (from aim->stylegan2_pytorch) (42.0.5)\n",
            "Requirement already satisfied: psutil>=5.6.7 in /usr/local/lib/python3.10/dist-packages (from aim->stylegan2_pytorch) (5.9.5)\n",
            "Collecting RestrictedPython>=5.1 (from aim->stylegan2_pytorch)\n",
            "  Downloading RestrictedPython-7.1-py3-none-any.whl (26 kB)\n",
            "Collecting aiofiles>=0.5.0 (from aim->stylegan2_pytorch)\n",
            "  Downloading aiofiles-23.2.1-py3-none-any.whl (15 kB)\n",
            "Collecting alembic<2,>=1.5.0 (from aim->stylegan2_pytorch)\n",
            "  Downloading alembic-1.13.1-py3-none-any.whl (233 kB)\n",
            "\u001b[2K     \u001b[90m━━━━━━━━━━━━━━━━━━━━━━━━━━━━━━━━━━━━━━━━\u001b[0m \u001b[32m233.4/233.4 kB\u001b[0m \u001b[31m25.5 MB/s\u001b[0m eta \u001b[36m0:00:00\u001b[0m\n",
            "\u001b[?25hCollecting fastapi<1,>=0.69.0 (from aim->stylegan2_pytorch)\n",
            "  Downloading fastapi-0.110.0-py3-none-any.whl (92 kB)\n",
            "\u001b[2K     \u001b[90m━━━━━━━━━━━━━━━━━━━━━━━━━━━━━━━━━━━━━━━━\u001b[0m \u001b[32m92.1/92.1 kB\u001b[0m \u001b[31m10.9 MB/s\u001b[0m eta \u001b[36m0:00:00\u001b[0m\n",
            "\u001b[?25hRequirement already satisfied: pytz>=2019.1 in /usr/local/lib/python3.10/dist-packages (from aim->stylegan2_pytorch) (2023.4)\n",
            "Requirement already satisfied: SQLAlchemy>=1.4.1 in /usr/local/lib/python3.10/dist-packages (from aim->stylegan2_pytorch) (2.0.29)\n",
            "Collecting uvicorn<1,>=0.12.0 (from aim->stylegan2_pytorch)\n",
            "  Downloading uvicorn-0.29.0-py3-none-any.whl (60 kB)\n",
            "\u001b[2K     \u001b[90m━━━━━━━━━━━━━━━━━━━━━━━━━━━━━━━━━━━━━━━━\u001b[0m \u001b[32m60.8/60.8 kB\u001b[0m \u001b[31m7.3 MB/s\u001b[0m eta \u001b[36m0:00:00\u001b[0m\n",
            "\u001b[?25hRequirement already satisfied: python-dateutil in /usr/local/lib/python3.10/dist-packages (from aim->stylegan2_pytorch) (2.8.2)\n",
            "Requirement already satisfied: requests in /usr/local/lib/python3.10/dist-packages (from aim->stylegan2_pytorch) (2.31.0)\n",
            "Collecting websockets (from aim->stylegan2_pytorch)\n",
            "  Downloading websockets-12.0-cp310-cp310-manylinux_2_5_x86_64.manylinux1_x86_64.manylinux_2_17_x86_64.manylinux2014_x86_64.whl (130 kB)\n",
            "\u001b[2K     \u001b[90m━━━━━━━━━━━━━━━━━━━━━━━━━━━━━━━━━━━━━━━━\u001b[0m \u001b[32m130.2/130.2 kB\u001b[0m \u001b[31m15.5 MB/s\u001b[0m eta \u001b[36m0:00:00\u001b[0m\n",
            "\u001b[?25hCollecting boto3 (from aim->stylegan2_pytorch)\n",
            "  Downloading boto3-1.34.74-py3-none-any.whl (139 kB)\n",
            "\u001b[2K     \u001b[90m━━━━━━━━━━━━━━━━━━━━━━━━━━━━━━━━━━━━━━━━\u001b[0m \u001b[32m139.3/139.3 kB\u001b[0m \u001b[31m17.7 MB/s\u001b[0m eta \u001b[36m0:00:00\u001b[0m\n",
            "\u001b[?25hCollecting base58==2.0.1 (from aimrecords==0.0.7->aim->stylegan2_pytorch)\n",
            "  Downloading base58-2.0.1-py3-none-any.whl (4.3 kB)\n",
            "Requirement already satisfied: six in /usr/local/lib/python3.10/dist-packages (from fire->stylegan2_pytorch) (1.16.0)\n",
            "Requirement already satisfied: termcolor in /usr/local/lib/python3.10/dist-packages (from fire->stylegan2_pytorch) (2.4.0)\n",
            "Requirement already satisfied: decorator>=3.4.2 in /usr/local/lib/python3.10/dist-packages (from retry->stylegan2_pytorch) (4.4.2)\n",
            "Collecting py<2.0.0,>=1.4.26 (from retry->stylegan2_pytorch)\n",
            "  Downloading py-1.11.0-py2.py3-none-any.whl (98 kB)\n",
            "\u001b[2K     \u001b[90m━━━━━━━━━━━━━━━━━━━━━━━━━━━━━━━━━━━━━━━━\u001b[0m \u001b[32m98.7/98.7 kB\u001b[0m \u001b[31m12.6 MB/s\u001b[0m eta \u001b[36m0:00:00\u001b[0m\n",
            "\u001b[?25hCollecting Mako (from alembic<2,>=1.5.0->aim->stylegan2_pytorch)\n",
            "  Downloading Mako-1.3.2-py3-none-any.whl (78 kB)\n",
            "\u001b[2K     \u001b[90m━━━━━━━━━━━━━━━━━━━━━━━━━━━━━━━━━━━━━━━━\u001b[0m \u001b[32m78.7/78.7 kB\u001b[0m \u001b[31m8.8 MB/s\u001b[0m eta \u001b[36m0:00:00\u001b[0m\n",
            "\u001b[?25hRequirement already satisfied: cffi>=1.12 in /usr/local/lib/python3.10/dist-packages (from cryptography>=3.0->aim->stylegan2_pytorch) (1.16.0)\n",
            "Requirement already satisfied: pydantic!=1.8,!=1.8.1,!=2.0.0,!=2.0.1,!=2.1.0,<3.0.0,>=1.7.4 in /usr/local/lib/python3.10/dist-packages (from fastapi<1,>=0.69.0->aim->stylegan2_pytorch) (2.6.4)\n",
            "Collecting starlette<0.37.0,>=0.36.3 (from fastapi<1,>=0.69.0->aim->stylegan2_pytorch)\n",
            "  Downloading starlette-0.36.3-py3-none-any.whl (71 kB)\n",
            "\u001b[2K     \u001b[90m━━━━━━━━━━━━━━━━━━━━━━━━━━━━━━━━━━━━━━━━\u001b[0m \u001b[32m71.5/71.5 kB\u001b[0m \u001b[31m7.1 MB/s\u001b[0m eta \u001b[36m0:00:00\u001b[0m\n",
            "\u001b[?25hRequirement already satisfied: MarkupSafe>=2.0 in /usr/local/lib/python3.10/dist-packages (from jinja2->torch->stylegan2_pytorch) (2.1.5)\n",
            "Requirement already satisfied: greenlet!=0.4.17 in /usr/local/lib/python3.10/dist-packages (from SQLAlchemy>=1.4.1->aim->stylegan2_pytorch) (3.0.3)\n",
            "Collecting h11>=0.8 (from uvicorn<1,>=0.12.0->aim->stylegan2_pytorch)\n",
            "  Downloading h11-0.14.0-py3-none-any.whl (58 kB)\n",
            "\u001b[2K     \u001b[90m━━━━━━━━━━━━━━━━━━━━━━━━━━━━━━━━━━━━━━━━\u001b[0m \u001b[32m58.3/58.3 kB\u001b[0m \u001b[31m7.1 MB/s\u001b[0m eta \u001b[36m0:00:00\u001b[0m\n",
            "\u001b[?25hCollecting botocore<1.35.0,>=1.34.74 (from boto3->aim->stylegan2_pytorch)\n",
            "  Downloading botocore-1.34.74-py3-none-any.whl (12.1 MB)\n",
            "\u001b[2K     \u001b[90m━━━━━━━━━━━━━━━━━━━━━━━━━━━━━━━━━━━━━━━━\u001b[0m \u001b[32m12.1/12.1 MB\u001b[0m \u001b[31m49.4 MB/s\u001b[0m eta \u001b[36m0:00:00\u001b[0m\n",
            "\u001b[?25hCollecting jmespath<2.0.0,>=0.7.1 (from boto3->aim->stylegan2_pytorch)\n",
            "  Downloading jmespath-1.0.1-py3-none-any.whl (20 kB)\n",
            "Collecting s3transfer<0.11.0,>=0.10.0 (from boto3->aim->stylegan2_pytorch)\n",
            "  Downloading s3transfer-0.10.1-py3-none-any.whl (82 kB)\n",
            "\u001b[2K     \u001b[90m━━━━━━━━━━━━━━━━━━━━━━━━━━━━━━━━━━━━━━━━\u001b[0m \u001b[32m82.2/82.2 kB\u001b[0m \u001b[31m9.8 MB/s\u001b[0m eta \u001b[36m0:00:00\u001b[0m\n",
            "\u001b[?25hRequirement already satisfied: charset-normalizer<4,>=2 in /usr/local/lib/python3.10/dist-packages (from requests->aim->stylegan2_pytorch) (3.3.2)\n",
            "Requirement already satisfied: idna<4,>=2.5 in /usr/local/lib/python3.10/dist-packages (from requests->aim->stylegan2_pytorch) (3.6)\n",
            "Requirement already satisfied: urllib3<3,>=1.21.1 in /usr/local/lib/python3.10/dist-packages (from requests->aim->stylegan2_pytorch) (2.0.7)\n",
            "Requirement already satisfied: certifi>=2017.4.17 in /usr/local/lib/python3.10/dist-packages (from requests->aim->stylegan2_pytorch) (2024.2.2)\n",
            "Requirement already satisfied: mpmath>=0.19 in /usr/local/lib/python3.10/dist-packages (from sympy->torch->stylegan2_pytorch) (1.3.0)\n",
            "Requirement already satisfied: pycparser in /usr/local/lib/python3.10/dist-packages (from cffi>=1.12->cryptography>=3.0->aim->stylegan2_pytorch) (2.21)\n",
            "Requirement already satisfied: annotated-types>=0.4.0 in /usr/local/lib/python3.10/dist-packages (from pydantic!=1.8,!=1.8.1,!=2.0.0,!=2.0.1,!=2.1.0,<3.0.0,>=1.7.4->fastapi<1,>=0.69.0->aim->stylegan2_pytorch) (0.6.0)\n",
            "Requirement already satisfied: pydantic-core==2.16.3 in /usr/local/lib/python3.10/dist-packages (from pydantic!=1.8,!=1.8.1,!=2.0.0,!=2.0.1,!=2.1.0,<3.0.0,>=1.7.4->fastapi<1,>=0.69.0->aim->stylegan2_pytorch) (2.16.3)\n",
            "Requirement already satisfied: anyio<5,>=3.4.0 in /usr/local/lib/python3.10/dist-packages (from starlette<0.37.0,>=0.36.3->fastapi<1,>=0.69.0->aim->stylegan2_pytorch) (3.7.1)\n",
            "Requirement already satisfied: sniffio>=1.1 in /usr/local/lib/python3.10/dist-packages (from anyio<5,>=3.4.0->starlette<0.37.0,>=0.36.3->fastapi<1,>=0.69.0->aim->stylegan2_pytorch) (1.3.1)\n",
            "Requirement already satisfied: exceptiongroup in /usr/local/lib/python3.10/dist-packages (from anyio<5,>=3.4.0->starlette<0.37.0,>=0.36.3->fastapi<1,>=0.69.0->aim->stylegan2_pytorch) (1.2.0)\n",
            "Building wheels for collected packages: vector-quantize-pytorch, aim-ui, fire\n",
            "  Building wheel for vector-quantize-pytorch (setup.py) ... \u001b[?25l\u001b[?25hdone\n",
            "  Created wheel for vector-quantize-pytorch: filename=vector_quantize_pytorch-0.1.0-py3-none-any.whl size=2552 sha256=f200ef0995ba7073deb25b73b8cfaa6ed5a965ab18cc3c6a758fd1be0052af0d\n",
            "  Stored in directory: /root/.cache/pip/wheels/a4/c6/1c/251af71040cf0d26c71b9cf79b72f9c9593ef570ad4b00391f\n",
            "  Building wheel for aim-ui (setup.py) ... \u001b[?25l\u001b[?25hdone\n",
            "  Created wheel for aim-ui: filename=aim_ui-3.19.2-py3-none-any.whl size=21470669 sha256=0d026ae068b1261e5a56563b283641334df9cc60c2f6151d3ae97e82bed1b6e5\n",
            "  Stored in directory: /root/.cache/pip/wheels/9f/15/84/569a7e60995471bc0beb7271c418f182ed7d866401f52862e5\n",
            "  Building wheel for fire (setup.py) ... \u001b[?25l\u001b[?25hdone\n",
            "  Created wheel for fire: filename=fire-0.6.0-py2.py3-none-any.whl size=117029 sha256=4a21a6129ccaee1c33988fc8cb64717772d960ba4dd49df6b56d6449fc65f591\n",
            "  Stored in directory: /root/.cache/pip/wheels/d6/6d/5d/5b73fa0f46d01a793713f8859201361e9e581ced8c75e5c6a3\n",
            "Successfully built vector-quantize-pytorch aim-ui fire\n",
            "Installing collected packages: aimrocks, aim-ui, websockets, RestrictedPython, py, nvidia-nvtx-cu12, nvidia-nvjitlink-cu12, nvidia-nccl-cu12, nvidia-curand-cu12, nvidia-cufft-cu12, nvidia-cuda-runtime-cu12, nvidia-cuda-nvrtc-cu12, nvidia-cuda-cupti-cu12, nvidia-cublas-cu12, Mako, kornia-rs, jmespath, h11, fire, einops, base58, aiofiles, uvicorn, starlette, retry, nvidia-cusparse-cu12, nvidia-cudnn-cu12, botocore, alembic, aimrecords, s3transfer, nvidia-cusolver-cu12, fastapi, boto3, vector-quantize-pytorch, kornia, aim, contrastive-learner, stylegan2_pytorch\n",
            "Successfully installed Mako-1.3.2 RestrictedPython-7.1 aim-3.19.2 aim-ui-3.19.2 aimrecords-0.0.7 aimrocks-0.4.0 aiofiles-23.2.1 alembic-1.13.1 base58-2.0.1 boto3-1.34.74 botocore-1.34.74 contrastive-learner-0.1.1 einops-0.7.0 fastapi-0.110.0 fire-0.6.0 h11-0.14.0 jmespath-1.0.1 kornia-0.7.2 kornia-rs-0.1.2 nvidia-cublas-cu12-12.1.3.1 nvidia-cuda-cupti-cu12-12.1.105 nvidia-cuda-nvrtc-cu12-12.1.105 nvidia-cuda-runtime-cu12-12.1.105 nvidia-cudnn-cu12-8.9.2.26 nvidia-cufft-cu12-11.0.2.54 nvidia-curand-cu12-10.3.2.106 nvidia-cusolver-cu12-11.4.5.107 nvidia-cusparse-cu12-12.1.0.106 nvidia-nccl-cu12-2.19.3 nvidia-nvjitlink-cu12-12.4.99 nvidia-nvtx-cu12-12.1.105 py-1.11.0 retry-0.9.2 s3transfer-0.10.1 starlette-0.36.3 stylegan2_pytorch-1.8.9 uvicorn-0.29.0 vector-quantize-pytorch-0.1.0 websockets-12.0\n"
          ]
        }
      ]
    },
    {
      "cell_type": "code",
      "source": [
        "from gensim.models.coherencemodel import CoherenceModel\n",
        "from gensim.corpora.dictionary import Dictionary\n",
        "from gensim import corpora\n",
        "from tqdm import tqdm as tqdm\n",
        "\n",
        "# Use Gensim's CorEX to get the best num of topics via coherence score\n",
        "texts = df['processed_text']\n",
        "\n",
        "# Create a dictionary\n",
        "# In gensim a dictionary is a mapping between words and their integer id\n",
        "dictionary = Dictionary(texts)\n",
        "\n",
        "# Filter out extremes to limit the number of features\n",
        "dictionary.filter_extremes(\n",
        "    no_below=3,\n",
        "    no_above=0.85,\n",
        "    keep_n=5000\n",
        ")\n",
        "\n",
        "# Creating corpus using dictionary prepared above\n",
        "corpus = [dictionary.doc2bow(doc) for doc in tqdm(texts)]\n",
        "\n",
        "# Get top words for each topic from the trained corex model\n",
        "topics = topic_model.get_topics(n_words=100)\n",
        "corex_topic_words = [[word for word, tc,_ in topic] for topic in topics]"
      ],
      "metadata": {
        "colab": {
          "base_uri": "https://localhost:8080/"
        },
        "id": "vpKacFtKAi20",
        "outputId": "a910062e-f2d4-448f-b219-9b5e8b6f1e82"
      },
      "execution_count": null,
      "outputs": [
        {
          "output_type": "stream",
          "name": "stderr",
          "text": [
            "100%|██████████| 3000/3000 [00:00<00:00, 24395.70it/s]\n"
          ]
        }
      ]
    },
    {
      "cell_type": "code",
      "source": [
        "topics"
      ],
      "metadata": {
        "colab": {
          "base_uri": "https://localhost:8080/"
        },
        "id": "TT7JOaiPZjVx",
        "outputId": "1ba51140-7970-4868-d923-105299c062b1"
      },
      "execution_count": null,
      "outputs": [
        {
          "output_type": "execute_result",
          "data": {
            "text/plain": [
              "[[('link', 0.07412422844044471, 1.0),\n",
              "  ('kind', 0.07395707300286695, 1.0),\n",
              "  ('purchased', 0.06533528262213897, 1.0),\n",
              "  ('mandatory', 0.06086134590686803, 1.0),\n",
              "  ('receipts', 0.059505333745580785, 1.0),\n",
              "  ('ordered', 0.058027866755084485, 1.0),\n",
              "  ('allocation', 0.05770671323945599, 1.0),\n",
              "  ('consideration', 0.05719597460532869, 1.0),\n",
              "  ('section', 0.05710297666650332, 1.0),\n",
              "  ('number', 0.05685133256770395, 1.0),\n",
              "  ('video', 0.05683252745999036, 1.0),\n",
              "  ('order', 0.05567038741956399, 1.0),\n",
              "  ('regards', 0.04843835706219699, 1.0),\n",
              "  ('receipt', 0.04631497876630195, 1.0),\n",
              "  ('receive', 0.04443609831511534, 1.0),\n",
              "  ('log', 0.04233173788945247, 1.0),\n",
              "  ('administrator', 0.04201575388254639, 1.0),\n",
              "  ('action', 0.04130058314512687, 1.0),\n",
              "  ('processed', 0.038479664342101996, 1.0),\n",
              "  ('attachments', 0.030554970238471216, 1.0),\n",
              "  ('intended', 0.029306835056656398, 1.0),\n",
              "  ('questions', 0.028478068753997655, 1.0),\n",
              "  ('clients', 0.028334109869257263, 1.0),\n",
              "  ('msg', 0.027802158808544444, 1.0),\n",
              "  ('make', 0.027659218959532366, 1.0),\n",
              "  ('privileged', 0.026886411485064238, 1.0),\n",
              "  ('review', 0.026433860542196132, 1.0),\n",
              "  ('received', 0.025964260824431717, 1.0),\n",
              "  ('recipient', 0.02414470531528129, 1.0),\n",
              "  ('notify', 0.024001562010920584, 1.0),\n",
              "  ('delete', 0.023255202352843406, 1.0),\n",
              "  ('dear', 0.02255133604373392, 1.0),\n",
              "  ('hesitate', 0.022155344588032116, 1.0),\n",
              "  ('ref', 0.02043452559591499, 1.0),\n",
              "  ('think', 0.020186906763177023, 1.0),\n",
              "  ('solely', 0.019593505421105405, 1.0),\n",
              "  ('registered', 0.019552737665817548, 1.0),\n",
              "  ('reference', 0.019533643857984936, 1.0),\n",
              "  ('prohibited', 0.019470905620686308, 1.0),\n",
              "  ('date', 0.018941951987804972, 1.0),\n",
              "  ('based', 0.018800303359763494, 1.0),\n",
              "  ('kingdom', 0.01868599090079371, 1.0),\n",
              "  ('disclosure', 0.01868599090079371, 1.0),\n",
              "  ('subsidiaries', 0.01868599090079371, 1.0),\n",
              "  ('total', 0.018581777690033194, 1.0),\n",
              "  ('steps', 0.018407733290490138, 1.0),\n",
              "  ('record', 0.0181038757167439, 1.0),\n",
              "  ('immediately', 0.017906833608366205, 1.0),\n",
              "  ('critical', 0.017866390596722546, 1.0),\n",
              "  ('strictly', 0.01777937945821263, 1.0),\n",
              "  ('legally', 0.01777937945821263, 1.0),\n",
              "  ('old', 0.017698101948583757, 1.0),\n",
              "  ('requested', 0.016863368016472948, 1.0),\n",
              "  ('results', 0.016808932940254238, 1.0),\n",
              "  ('summary', 0.016669616969872063, 1.0),\n",
              "  ('important', 0.016490838991074983, 1.0),\n",
              "  ('relevant', 0.01620015032532414, 1.0),\n",
              "  ('contents', 0.016031088965404085, 1.0),\n",
              "  ('opinions', 0.015968856628565255, 1.0),\n",
              "  ('copying', 0.015925391044378786, 1.0),\n",
              "  ('response', 0.015761436243332403, 1.0),\n",
              "  ('entity', 0.015372690153563944, 1.0),\n",
              "  ('assets', 0.015308403153945523, 1.0),\n",
              "  ('addressee', 0.015064940678409, 1.0),\n",
              "  ('expressed', 0.015064940678409, 1.0),\n",
              "  ('appropriate', 0.014760416150965698, 1.0),\n",
              "  ('performed', 0.014739663407856108, 1.0),\n",
              "  ('submit', 0.014687947214180297, 1.0),\n",
              "  ('reliance', 0.014161918679667032, 1.0),\n",
              "  ('contained', 0.014161918679667032, 1.0),\n",
              "  ('necessarily', 0.014161918679667032, 1.0),\n",
              "  ('responsibility', 0.014161918679667032, 1.0),\n",
              "  ('street', 0.014160696840511062, 1.0),\n",
              "  ('assistance', 0.0137900882741654, 1.0),\n",
              "  ('broad', 0.013734672003269107, 1.0),\n",
              "  ('include', 0.013623243728077989, 1.0),\n",
              "  ('separate', 0.013396765726191895, 1.0),\n",
              "  ('subject', 0.013287555979166034, 1.0),\n",
              "  ('vulnerability', 0.013037445597940614, 1.0),\n",
              "  ('guess', 0.012960896310556426, 1.0),\n",
              "  ('taken', 0.012946044053085115, 1.0),\n",
              "  ('course', 0.012897207084959988, 1.0),\n",
              "  ('believe', 0.012833982833309386, 1.0),\n",
              "  ('detailed', 0.012358547522078489, 1.0),\n",
              "  ('basis', 0.012358547522078489, 1.0),\n",
              "  ('companies', 0.012358547522078489, 1.0),\n",
              "  ('compliance', 0.012332752956319562, 1.0),\n",
              "  ('view', 0.012185778212783238, 1.0),\n",
              "  ('product', 0.012081887204279093, 1.0),\n",
              "  ('taking', 0.012081242818510316, 1.0),\n",
              "  ('ask', 0.011687273604156454, 1.0),\n",
              "  ('want', 0.011555252216714504, 1.0),\n",
              "  ('contain', 0.011541067446111867, 1.0),\n",
              "  ('created', 0.011462167971903735, 1.0),\n",
              "  ('liability', 0.01145819388113407, 1.0),\n",
              "  ('represent', 0.01145819388113407, 1.0),\n",
              "  ('menu', 0.01145819388113407, 1.0),\n",
              "  ('damage', 0.01145819388113407, 1.0),\n",
              "  ('vulnerabilities', 0.011302889668046599, 1.0),\n",
              "  ('person', 0.011104737987566055, 1.0)],\n",
              " [('sent', 0.6407382674244849, 1.0),\n",
              "  ('access', 0.12121614728856213, 1.0),\n",
              "  ('en', 0.11331861080396403, 1.0),\n",
              "  ('monday', 0.11033460040793149, 1.0),\n",
              "  ('pm', 0.10420761700083568, -1.0),\n",
              "  ('manager', 0.09627747767542677, 1.0),\n",
              "  ('need', 0.07417175871807305, 1.0),\n",
              "  ('open', 0.06904931067814427, 1.0),\n",
              "  ('message', 0.057212771956236204, 1.0),\n",
              "  ('october', 0.0552567282944656, 1.0),\n",
              "  ('know', 0.05497658234274022, 1.0),\n",
              "  ('server', 0.04996638510706646, 1.0),\n",
              "  ('ticket', 0.04970421446629472, 1.0),\n",
              "  ('th', 0.04929965437079214, 1.0),\n",
              "  ('check', 0.0466424430897239, 1.0),\n",
              "  ('lost', 0.045550925868344506, 1.0),\n",
              "  ('laptop', 0.042753866610032595, 1.0),\n",
              "  ('issue', 0.04039706245297695, 1.0),\n",
              "  ('door', 0.04012895872653675, 1.0),\n",
              "  ('following', 0.0378409892501673, 1.0),\n",
              "  ('using', 0.0356546324924188, 1.0),\n",
              "  ('connection', 0.03511588256854236, 1.0),\n",
              "  ('original', 0.034018502134348275, 1.0),\n",
              "  ('november', 0.03374984085751787, 1.0),\n",
              "  ('like', 0.031841819772539054, 1.0),\n",
              "  ('use', 0.030212909792037796, 1.0),\n",
              "  ('problem', 0.030156921935927044, 1.0),\n",
              "  ('address', 0.02967062331053154, 1.0),\n",
              "  ('raise', 0.02967062331053154, 1.0),\n",
              "  ('request', 0.028355288403597866, 1.0),\n",
              "  ('incident', 0.026276469503145952, 1.0),\n",
              "  ('used', 0.02426643391393155, 1.0),\n",
              "  ('does', 0.02426643391393155, 1.0),\n",
              "  ('able', 0.023719823364466517, 1.0),\n",
              "  ('wednesday', 0.022400117483551512, 1.0),\n",
              "  ('look', 0.02122583127303208, 1.0),\n",
              "  ('alarm', 0.02075839443491037, 1.0),\n",
              "  ('tuesday', 0.019461261573321714, 1.0),\n",
              "  ('week', 0.019431429629742883, 1.0),\n",
              "  ('try', 0.01889587381268898, 1.0),\n",
              "  ('working', 0.01831994792451559, 1.0),\n",
              "  ('send', 0.017291194798067813, 1.0),\n",
              "  ('user', 0.016682761977040977, -1.0),\n",
              "  ('trying', 0.016457248625215554, 1.0),\n",
              "  ('et', 0.016424435345207423, 1.0),\n",
              "  ('servers', 0.016222977512698616, 1.0),\n",
              "  ('investigate', 0.015897944795210287, 1.0),\n",
              "  ('march', 0.015477005076347106, 1.0),\n",
              "  ('really', 0.015156245649873806, 1.0),\n",
              "  ('managed', 0.015156245649873806, 1.0),\n",
              "  ('space', 0.015156245649873806, 1.0),\n",
              "  ('info', 0.015156245649873806, 1.0),\n",
              "  ('form', 0.014279781291389829, -1.0),\n",
              "  ('block', 0.014090744244333818, 1.0),\n",
              "  ('sa', 0.013800471256391481, 1.0),\n",
              "  ('current', 0.013558256934323132, 1.0),\n",
              "  ('remote', 0.013042961031036993, 1.0),\n",
              "  ('applications', 0.013026553535955764, 1.0),\n",
              "  ('problems', 0.012940789425351108, 1.0),\n",
              "  ('case', 0.011963669982903147, 1.0),\n",
              "  ('connecting', 0.011514273632746253, 1.0),\n",
              "  ('password', 0.01143271728705142, 1.0),\n",
              "  ('properly', 0.01047820986290649, 1.0),\n",
              "  ('situation', 0.009841810253027399, 1.0),\n",
              "  ('restart', 0.009806810865311407, 1.0),\n",
              "  ('officer', 0.009441290388856475, -1.0),\n",
              "  ('secure', 0.009331638168409104, -1.0),\n",
              "  ('web', 0.009312156801473953, 1.0),\n",
              "  ('list', 0.009312156801473953, 1.0),\n",
              "  ('belgrade', 0.00931211848298387, 1.0),\n",
              "  ('tried', 0.009060973818926283, 1.0),\n",
              "  ('domain', 0.008782827069842304, 1.0),\n",
              "  ('set', 0.008782827069842304, 1.0),\n",
              "  ('click', 0.008782827069842304, 1.0),\n",
              "  ('maternity', 0.008525749194555768, -1.0),\n",
              "  ('start', 0.008060985088803556, 1.0),\n",
              "  ('fact', 0.007725137029066883, 1.0),\n",
              "  ('leaver', 0.007718025809316474, -1.0),\n",
              "  ('return', 0.00759489989086012, -1.0),\n",
              "  ('rights', 0.007585747297512528, -1.0),\n",
              "  ('external', 0.007546386377086938, 1.0),\n",
              "  ('storage', 0.007374168279822245, -1.0),\n",
              "  ('screen', 0.007210265988160428, 1.0),\n",
              "  ('happened', 0.007196775853650157, 1.0),\n",
              "  ('ll', 0.007196775853650157, 1.0),\n",
              "  ('cards', 0.007119187091530486, -1.0),\n",
              "  ('balcony', 0.00666873666560278, 1.0),\n",
              "  ('trouble', 0.006668735057463681, 1.0),\n",
              "  ('create', 0.006610439400047362, -1.0),\n",
              "  ('necessary', 0.0061410190341407355, 1.0),\n",
              "  ('unable', 0.00597694810068899, 1.0),\n",
              "  ('february', 0.005776155308462048, 1.0),\n",
              "  ('looked', 0.005651392528927428, 1.0),\n",
              "  ('correct', 0.0056136225294152395, 1.0),\n",
              "  ('desktop', 0.0056136225294152395, 1.0),\n",
              "  ('apparently', 0.0056136225294152395, 1.0),\n",
              "  ('instance', 0.005175030115779407, -1.0),\n",
              "  ('tell', 0.00508654672251014, 1.0),\n",
              "  ('sending', 0.00508654672251014, 1.0),\n",
              "  ('anti', 0.00508654672251014, 1.0)],\n",
              " [('information', 0.059377845020650334, 1.0),\n",
              "  ('high', 0.04786067387717593, 1.0),\n",
              "  ('let', 0.04217259832579146, 1.0),\n",
              "  ('communication', 0.04097211018472281, 1.0),\n",
              "  ('importance', 0.04050272173302296, 1.0),\n",
              "  ('consider', 0.03725535490700262, 1.0),\n",
              "  ('client', 0.03681618802856406, 1.0),\n",
              "  ('confidential', 0.033612104468746136, 1.0),\n",
              "  ('content', 0.03355214088576649, 1.0),\n",
              "  ('best', 0.03316603594197091, 1.0),\n",
              "  ('note', 0.032329617254691474, 1.0),\n",
              "  ('work', 0.03161619355513066, 1.0),\n",
              "  ('environment', 0.03039682418386962, 1.0),\n",
              "  ('automatically', 0.029646564189307077, 1.0),\n",
              "  ('issues', 0.02887433644623782, 1.0),\n",
              "  ('error', 0.02710552746662936, 1.0),\n",
              "  ('analyst', 0.02517721271859173, 1.0),\n",
              "  ('notice', 0.02498297932325804, 1.0),\n",
              "  ('advised', 0.024961608057606218, 1.0),\n",
              "  ('hello', 0.023487825287528557, 1.0),\n",
              "  ('hub', 0.022911024443792765, 1.0),\n",
              "  ('ext', 0.02281011207650922, 1.0),\n",
              "  ('forward', 0.022467277184231468, 1.0),\n",
              "  ('past', 0.02154395235416682, 1.0),\n",
              "  ('regarding', 0.021543053574149453, 1.0),\n",
              "  ('friday', 0.02106645665952404, 1.0),\n",
              "  ('fix', 0.020422881268530067, 1.0),\n",
              "  ('possible', 0.02033123819982997, 1.0),\n",
              "  ('logged', 0.02013854633577573, 1.0),\n",
              "  ('way', 0.01990949059725518, 1.0),\n",
              "  ('help', 0.01967552142923294, 1.0),\n",
              "  ('available', 0.01897460211009294, 1.0),\n",
              "  ('looking', 0.018599908513892687, 1.0),\n",
              "  ('attached', 0.018561768389211097, 1.0),\n",
              "  ('tickets', 0.01845872437553699, 1.0),\n",
              "  ('required', 0.01838626607948984, 1.0),\n",
              "  ('probably', 0.01816242682725214, 1.0),\n",
              "  ('confidentiality', 0.018117739723193974, 1.0),\n",
              "  ('leave', 0.017584601058067275, 1.0),\n",
              "  ('printing', 0.01691062670340754, 1.0),\n",
              "  ('matter', 0.016797317924399088, 1.0),\n",
              "  ('did', 0.016779552949644953, 1.0),\n",
              "  ('proprietary', 0.016750823689453617, 1.0),\n",
              "  ('teams', 0.016690424683871784, 1.0),\n",
              "  ('test', 0.016577381072941596, 1.0),\n",
              "  ('tomorrow', 0.016178671530656507, 1.0),\n",
              "  ('rom', 0.016068126937896506, 1.0),\n",
              "  ('process', 0.01563017726464937, 1.0),\n",
              "  ('devices', 0.015455238436727642, 1.0),\n",
              "  ('represents', 0.015385936529441641, 1.0),\n",
              "  ('days', 0.015232423829244094, 1.0),\n",
              "  ('currently', 0.014953645161105889, 1.0),\n",
              "  ('future', 0.014744589178969925, 1.0),\n",
              "  ('advise', 0.014143615749830788, 1.0),\n",
              "  ('resolution', 0.014056718897966619, 1.0),\n",
              "  ('connect', 0.013831098975532983, 1.0),\n",
              "  ('phone', 0.01367015611133276, 1.0),\n",
              "  ('extension', 0.013644175729258573, 1.0),\n",
              "  ('configured', 0.013561624584317731, 1.0),\n",
              "  ('follow', 0.013460593988225595, 1.0),\n",
              "  ('added', 0.013200660440600637, 1.0),\n",
              "  ('investigation', 0.012662188067202262, 1.0),\n",
              "  ('thank', 0.012438443683739567, 1.0),\n",
              "  ('connected', 0.0122569329763318, 1.0),\n",
              "  ('happens', 0.012183234427205947, 1.0),\n",
              "  ('reported', 0.01213686332030346, 1.0),\n",
              "  ('hearing', 0.011982549196736093, 1.0),\n",
              "  ('good', 0.011918850158196001, 1.0),\n",
              "  ('appreciate', 0.011898252412544693, 1.0),\n",
              "  ('priority', 0.011820105697221356, 1.0),\n",
              "  ('verify', 0.011795147768207215, 1.0),\n",
              "  ('ad', 0.011677059853094198, 1.0),\n",
              "  ('sorry', 0.0116693981562592, 1.0),\n",
              "  ('solution', 0.011363729112510648, 1.0),\n",
              "  ('accessible', 0.011350724417308977, 1.0),\n",
              "  ('logs', 0.011303378619897355, 1.0),\n",
              "  ('default', 0.011303378619897355, 1.0),\n",
              "  ('meeting', 0.01116080680209588, 1.0),\n",
              "  ('setup', 0.011043165088524752, 1.0),\n",
              "  ('offer', 0.010953636716459762, 1.0),\n",
              "  ('related', 0.010774396131395332, 1.0),\n",
              "  ('maybe', 0.010703857781885248, 1.0),\n",
              "  ('changes', 0.010583973718389589, 1.0),\n",
              "  ('today', 0.01049448363488529, 1.0),\n",
              "  ('provided', 0.010472197923440523, 1.0),\n",
              "  ('appears', 0.0104032725675629, 1.0),\n",
              "  ('encounter', 0.010266934394106836, 1.0),\n",
              "  ('change', 0.010149536272916407, 1.0),\n",
              "  ('mentioned', 0.010057426060998654, 1.0),\n",
              "  ('configuration', 0.009962012571966912, 1.0),\n",
              "  ('come', 0.009782806672564719, 1.0),\n",
              "  ('technical', 0.009704360594933166, 1.0),\n",
              "  ('got', 0.00967268509966174, 1.0),\n",
              "  ('asking', 0.009555237184533818, 1.0),\n",
              "  ('thursday', 0.009482834486984651, 1.0),\n",
              "  ('credentials', 0.009457748494941033, 1.0),\n",
              "  ('accepted', 0.009412110683773192, 1.0),\n",
              "  ('annual', 0.009258844960942062, 1.0),\n",
              "  ('great', 0.009177148823107691, 1.0),\n",
              "  ('fixed', 0.00884681468049567, 1.0)],\n",
              " [('status', 0.03168142283168523, 1.0),\n",
              "  ('version', 0.02883694666393837, 1.0),\n",
              "  ('contact', 0.02664353338351569, 1.0),\n",
              "  ('update', 0.024147781987271754, 1.0),\n",
              "  ('description', 0.02400464594250844, 1.0),\n",
              "  ('accept', 0.0218161858116921, 1.0),\n",
              "  ('installed', 0.021236419039033266, 1.0),\n",
              "  ('minutes', 0.020990106993913262, 1.0),\n",
              "  ('hi', 0.020338851032024468, 1.0),\n",
              "  ('software', 0.020197093304907845, 1.0),\n",
              "  ('running', 0.018956252222912546, 1.0),\n",
              "  ('run', 0.01876173175368859, 1.0),\n",
              "  ('disk', 0.018560270899828528, 1.0),\n",
              "  ('recommended', 0.01798872400488277, 1.0),\n",
              "  ('machine', 0.01794972306224103, 1.0),\n",
              "  ('installation', 0.017178354619372418, 1.0),\n",
              "  ('code', 0.016981592191166347, 1.0),\n",
              "  ('haven', 0.01687183864136774, 1.0),\n",
              "  ('warning', 0.01685934123818043, 1.0),\n",
              "  ('having', 0.01679274755273733, 1.0),\n",
              "  ('virtual', 0.0165597732025442, 1.0),\n",
              "  ('task', 0.016543534890165655, 1.0),\n",
              "  ('works', 0.01580912553968875, 1.0),\n",
              "  ('updates', 0.015619038615817272, 1.0),\n",
              "  ('receiving', 0.015465802330999258, 1.0),\n",
              "  ('severity', 0.014938095855191168, 1.0),\n",
              "  ('requests', 0.01448680433540848, 1.0),\n",
              "  ('failed', 0.014296245977390891, 1.0),\n",
              "  ('followed', 0.014177003636417733, 1.0),\n",
              "  ('monitoring', 0.013866055402059112, 1.0),\n",
              "  ('decline', 0.013416534881519813, 1.0),\n",
              "  ('times', 0.012903502955651016, 1.0),\n",
              "  ('low', 0.012883841461144867, 1.0),\n",
              "  ('resolved', 0.012787551847388194, 1.0),\n",
              "  ('poll', 0.01265662577153893, 1.0),\n",
              "  ('wants', 0.012626722074937166, 1.0),\n",
              "  ('engineer', 0.012552230805060053, 1.0),\n",
              "  ('previous', 0.011897462869397604, 1.0),\n",
              "  ('wait', 0.011568084689503847, 1.0),\n",
              "  ('accordingly', 0.011340407430464659, 1.0),\n",
              "  ('free', 0.0113323395149171, 1.0),\n",
              "  ('va', 0.011168358824151218, -1.0),\n",
              "  ('established', 0.011138857175484945, 1.0),\n",
              "  ('values', 0.011138857175484945, 1.0),\n",
              "  ('gets', 0.011037974558940011, 1.0),\n",
              "  ('slow', 0.010978695294356926, 1.0),\n",
              "  ('thanks', 0.010887865034931868, 1.0),\n",
              "  ('machines', 0.01067599007839976, 1.0),\n",
              "  ('ports', 0.010426086235373838, 1.0),\n",
              "  ('install', 0.010318762637766524, 1.0),\n",
              "  ('senior', 0.010280663917026681, 1.0),\n",
              "  ('output', 0.010239887728817605, 1.0),\n",
              "  ('closed', 0.010109143166236357, 1.0),\n",
              "  ('jobs', 0.010067663328314531, 1.0),\n",
              "  ('floor', 0.00989018802686568, -1.0),\n",
              "  ('consultant', 0.009711568240206395, 1.0),\n",
              "  ('instructions', 0.009623500350888643, 1.0),\n",
              "  ('cause', 0.009623461045811906, 1.0),\n",
              "  ('question', 0.009356257398837617, 1.0),\n",
              "  ('visitor', 0.00934980360813146, -1.0),\n",
              "  ('excel', 0.009232222934585336, 1.0),\n",
              "  ('weekly', 0.009050841846704677, 1.0),\n",
              "  ('port', 0.009006860081417498, 1.0),\n",
              "  ('getting', 0.008980730200150352, 1.0),\n",
              "  ('database', 0.00890671356708127, 1.0),\n",
              "  ('target', 0.008866746807955312, 1.0),\n",
              "  ('effort', 0.008866746807955312, 1.0),\n",
              "  ('deploy', 0.008866746807955312, 1.0),\n",
              "  ('rules', 0.008866746807955312, 1.0),\n",
              "  ('looks', 0.008808091052846618, 1.0),\n",
              "  ('performance', 0.008793261277985673, 1.0),\n",
              "  ('yellow', 0.008751175100953664, 1.0),\n",
              "  ('query', 0.008739356897979932, 1.0),\n",
              "  ('scheduled', 0.008615045087592518, 1.0),\n",
              "  ('area', 0.008604319547756848, -1.0),\n",
              "  ('usually', 0.008399679728034341, 1.0),\n",
              "  ('controller', 0.008383721311264025, 1.0),\n",
              "  ('build', 0.008237853333651693, 1.0),\n",
              "  ('drive', 0.008220355952488595, 1.0),\n",
              "  ('helps', 0.00811060824315074, 1.0),\n",
              "  ('indicated', 0.00811060824315074, 1.0),\n",
              "  ('metric', 0.00811060824315074, 1.0),\n",
              "  ('progress', 0.00811060824315074, 1.0),\n",
              "  ('invite', 0.00811060824315074, 1.0),\n",
              "  ('definition', 0.00811060824315074, 1.0),\n",
              "  ('root', 0.00811060824315074, 1.0),\n",
              "  ('affected', 0.008110554622177902, 1.0),\n",
              "  ('reboot', 0.0081105359155793, 1.0),\n",
              "  ('persists', 0.008057555495828707, 1.0),\n",
              "  ('tools', 0.007895178152223856, 1.0),\n",
              "  ('remove', 0.007856148400132872, 1.0),\n",
              "  ('tests', 0.007730932245029315, 1.0),\n",
              "  ('expected', 0.007704157928247224, 1.0),\n",
              "  ('outage', 0.007636449110618245, 1.0),\n",
              "  ('viruses', 0.0076256189235109914, 1.0),\n",
              "  ('treat', 0.0074847623496687886, 1.0),\n",
              "  ('policy', 0.007452127738031128, 1.0),\n",
              "  ('download', 0.007450562748402906, 1.0),\n",
              "  ('right', 0.007434871084629586, 1.0),\n",
              "  ('takes', 0.007355083460399129, 1.0)],\n",
              " [('purchase', 0.08026603968998366, 1.0),\n",
              "  ('po', 0.07262846964879047, 1.0),\n",
              "  ('details', 0.0656558406931131, 1.0),\n",
              "  ('item', 0.0634347202295578, 1.0),\n",
              "  ('event', 0.05903204602458171, 1.0),\n",
              "  ('notification', 0.04681203946728658, 1.0),\n",
              "  ('source', 0.045175630373367186, 1.0),\n",
              "  ('data', 0.04401616539352222, 1.0),\n",
              "  ('needed', 0.036274575599732996, 1.0),\n",
              "  ('card', 0.03481117374166696, -1.0),\n",
              "  ('device', 0.02601519098707807, 1.0),\n",
              "  ('type', 0.0229586029272156, 1.0),\n",
              "  ('host', 0.02164302184501453, 1.0),\n",
              "  ('additional', 0.019441904613024055, 1.0),\n",
              "  ('main', 0.01941117849514246, 1.0),\n",
              "  ('responsible', 0.018060196003033976, 1.0),\n",
              "  ('detected', 0.017902332304649538, 1.0),\n",
              "  ('latest', 0.017014761686527092, 1.0),\n",
              "  ('mobile', 0.01699488291650451, 1.0),\n",
              "  ('location', 0.016422314708499485, 1.0),\n",
              "  ('share', 0.015670966104410378, 1.0),\n",
              "  ('comment', 0.015525264956408281, 1.0),\n",
              "  ('backup', 0.015453902075089627, 1.0),\n",
              "  ('model', 0.015334416236944141, 1.0),\n",
              "  ('file', 0.014695526392964732, 1.0),\n",
              "  ('ground', 0.014312702107542643, 1.0),\n",
              "  ('commercial', 0.013944303760018347, 1.0),\n",
              "  ('ready', 0.013732399012198226, 1.0),\n",
              "  ('scanner', 0.013161569354505803, 1.0),\n",
              "  ('badge', 0.012428427813902724, -1.0),\n",
              "  ('comments', 0.01240922306787331, 1.0),\n",
              "  ('upgrade', 0.012241210614052951, 1.0),\n",
              "  ('subscription', 0.01201960842547432, 1.0),\n",
              "  ('items', 0.01125893658839268, 1.0),\n",
              "  ('computer', 0.010941582725458388, 1.0),\n",
              "  ('print', 0.010586664429466536, 1.0),\n",
              "  ('personal', 0.010542506411242126, 1.0),\n",
              "  ('cafe', 0.010003081988046418, 1.0),\n",
              "  ('forwarder', 0.010003081988046418, 1.0),\n",
              "  ('approver', 0.010003081988046418, 1.0),\n",
              "  ('copier', 0.010003081988046418, 1.0),\n",
              "  ('lite', 0.010003050755732466, 1.0),\n",
              "  ('notified', 0.00968291633492241, 1.0),\n",
              "  ('minute', 0.00962303958329267, 1.0),\n",
              "  ('leaving', 0.009379461461433173, 1.0),\n",
              "  ('understand', 0.009339075397213984, 1.0),\n",
              "  ('fax', 0.009216839230378112, 1.0),\n",
              "  ('roaming', 0.009216839230378112, 1.0),\n",
              "  ('tray', 0.009216839230378112, 1.0),\n",
              "  ('users', 0.009166509102591392, 1.0),\n",
              "  ('profile', 0.008948691655181926, 1.0),\n",
              "  ('seat', 0.008431260478320345, 1.0),\n",
              "  ('pot', 0.008430080455404236, 1.0),\n",
              "  ('party', 0.00840113769292794, 1.0),\n",
              "  ('sn', 0.007861508544680347, 1.0),\n",
              "  ('site', 0.00780605549992171, 1.0),\n",
              "  ('mailbox', 0.007725444853122837, 1.0),\n",
              "  ('example', 0.007684753193673718, 1.0),\n",
              "  ('especially', 0.007646344372995246, 1.0),\n",
              "  ('search', 0.007646344372995246, 1.0),\n",
              "  ('apple', 0.007646344372995246, 1.0),\n",
              "  ('means', 0.007385185496588471, 1.0),\n",
              "  ('release', 0.00731765710734713, 1.0),\n",
              "  ('black', 0.007316002215598219, 1.0),\n",
              "  ('retrieve', 0.007294424887983778, 1.0),\n",
              "  ('files', 0.007123484294697463, 1.0),\n",
              "  ('plus', 0.006885486275370068, 1.0),\n",
              "  ('assume', 0.006862089560319343, 1.0),\n",
              "  ('large', 0.006862071273591926, 1.0),\n",
              "  ('center', 0.006718472518822754, 1.0),\n",
              "  ('corporate', 0.006652661068208742, 1.0),\n",
              "  ('press', 0.006303148581155943, 1.0),\n",
              "  ('guide', 0.006159718715485957, 1.0),\n",
              "  ('serial', 0.006086447154641002, 1.0),\n",
              "  ('sc', 0.0060784946909787085, 1.0),\n",
              "  ('points', 0.0060784946909787085, 1.0),\n",
              "  ('simple', 0.0060784946909787085, 1.0),\n",
              "  ('unplanned', 0.0060784946909787085, 1.0),\n",
              "  ('led', 0.0060784946909787085, 1.0),\n",
              "  ('inventory', 0.006066425778608344, 1.0),\n",
              "  ('path', 0.005996200037226582, 1.0),\n",
              "  ('production', 0.005738855646809582, 1.0),\n",
              "  ('cost', 0.005720406710494299, 1.0),\n",
              "  ('messages', 0.005484666327846481, 1.0),\n",
              "  ('printer', 0.005433738982291501, 1.0),\n",
              "  ('duration', 0.0054212514745782805, 1.0),\n",
              "  ('panel', 0.00529555842040402, 1.0),\n",
              "  ('decided', 0.00529555842040402, 1.0),\n",
              "  ('intel', 0.00529555842040402, 1.0),\n",
              "  ('slot', 0.00529555842040402, 1.0),\n",
              "  ('vest', 0.00529555842040402, 1.0),\n",
              "  ('snapshot', 0.00529555842040402, 1.0),\n",
              "  ('normally', 0.00529555842040402, 1.0),\n",
              "  ('invoice', 0.005295558294422549, 1.0),\n",
              "  ('overview', 0.005295547440992469, 1.0),\n",
              "  ('communications', 0.005254262460522247, 1.0),\n",
              "  ('initial', 0.005253127295910703, 1.0),\n",
              "  ('mouse', 0.0051604363506496794, 1.0),\n",
              "  ('ones', 0.00498347625084031, 1.0),\n",
              "  ('digital', 0.00489422265538438, 1.0)]]"
            ]
          },
          "metadata": {},
          "execution_count": 31
        }
      ]
    },
    {
      "cell_type": "code",
      "source": [
        "# Get coherence score\n",
        "c_v_cm_corex = CoherenceModel(topics=corex_topic_words, texts=texts, corpus=corpus, dictionary=dictionary, coherence='c_v')\n",
        "c_v_cm_corex.get_coherence()"
      ],
      "metadata": {
        "colab": {
          "base_uri": "https://localhost:8080/"
        },
        "id": "KelcJQT_MbEU",
        "outputId": "a4cb84c8-43fa-403f-8c3b-c8bf86fc1f2a"
      },
      "execution_count": null,
      "outputs": [
        {
          "output_type": "execute_result",
          "data": {
            "text/plain": [
              "0.4050336310005962"
            ]
          },
          "metadata": {},
          "execution_count": 32
        }
      ]
    },
    {
      "cell_type": "code",
      "source": [
        "# Get coherence score\n",
        "u_mass_cm_corex = CoherenceModel(topics=corex_topic_words, texts=texts, corpus=corpus, dictionary=dictionary, coherence='u_mass')\n",
        "u_mass_cm_corex.get_coherence()"
      ],
      "metadata": {
        "colab": {
          "base_uri": "https://localhost:8080/"
        },
        "id": "rxRlgdX3I863",
        "outputId": "15ee7d33-7d76-4ee5-8775-f010cc2acbb7"
      },
      "execution_count": null,
      "outputs": [
        {
          "output_type": "execute_result",
          "data": {
            "text/plain": [
              "-5.377542650431222"
            ]
          },
          "metadata": {},
          "execution_count": 33
        }
      ]
    },
    {
      "cell_type": "code",
      "source": [
        "# Get coherence score\n",
        "c_uci_cm_corex = CoherenceModel(topics=corex_topic_words, texts=texts, corpus=corpus, dictionary=dictionary, coherence='c_uci')\n",
        "c_uci_cm_corex.get_coherence()"
      ],
      "metadata": {
        "colab": {
          "base_uri": "https://localhost:8080/"
        },
        "id": "OCwW9NSXJ9QC",
        "outputId": "f82301e0-e224-4ab1-b386-515b6f91dc37"
      },
      "execution_count": null,
      "outputs": [
        {
          "output_type": "execute_result",
          "data": {
            "text/plain": [
              "-5.5195457639122605"
            ]
          },
          "metadata": {},
          "execution_count": 34
        }
      ]
    },
    {
      "cell_type": "code",
      "source": [
        "# Get coherence score\n",
        "c_npmi_cm_corex = CoherenceModel(topics=corex_topic_words, texts=texts, corpus=corpus, dictionary=dictionary, coherence='c_npmi')\n",
        "c_npmi_cm_corex.get_coherence()"
      ],
      "metadata": {
        "colab": {
          "base_uri": "https://localhost:8080/"
        },
        "id": "bWxwi7kMJ6Me",
        "outputId": "072766ca-0835-4ea5-bdac-d556ab2e5999"
      },
      "execution_count": null,
      "outputs": [
        {
          "output_type": "execute_result",
          "data": {
            "text/plain": [
              "-0.16946550100769014"
            ]
          },
          "metadata": {},
          "execution_count": 35
        }
      ]
    }
  ]
}