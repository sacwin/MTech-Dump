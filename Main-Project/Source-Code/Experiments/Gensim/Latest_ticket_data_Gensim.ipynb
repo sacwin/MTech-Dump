{
  "nbformat": 4,
  "nbformat_minor": 0,
  "metadata": {
    "colab": {
      "provenance": []
    },
    "kernelspec": {
      "name": "python3",
      "display_name": "Python 3"
    },
    "language_info": {
      "name": "python"
    }
  },
  "cells": [
    {
      "cell_type": "code",
      "source": [
        "!pip install nltk"
      ],
      "metadata": {
        "colab": {
          "base_uri": "https://localhost:8080/"
        },
        "id": "arD4KbgPcJ5j",
        "outputId": "dc2fd4ad-f082-4737-841f-1d4475b56d43"
      },
      "execution_count": null,
      "outputs": [
        {
          "output_type": "stream",
          "name": "stdout",
          "text": [
            "Requirement already satisfied: nltk in /usr/local/lib/python3.10/dist-packages (3.8.1)\n",
            "Requirement already satisfied: click in /usr/local/lib/python3.10/dist-packages (from nltk) (8.1.7)\n",
            "Requirement already satisfied: joblib in /usr/local/lib/python3.10/dist-packages (from nltk) (1.3.2)\n",
            "Requirement already satisfied: regex>=2021.8.3 in /usr/local/lib/python3.10/dist-packages (from nltk) (2023.12.25)\n",
            "Requirement already satisfied: tqdm in /usr/local/lib/python3.10/dist-packages (from nltk) (4.66.2)\n"
          ]
        }
      ]
    },
    {
      "cell_type": "code",
      "source": [
        "import nltk\n",
        "import os\n",
        "import pandas as pd\n",
        "from tqdm.notebook import tqdm\n",
        "import matplotlib.pyplot as plt\n",
        "from sklearn.feature_extraction.text import TfidfVectorizer\n",
        "from sklearn.feature_extraction.text import CountVectorizer\n",
        "from nltk.stem import PorterStemmer\n",
        "from nltk import word_tokenize\n",
        "import numpy as np\n",
        "from gensim.models import Nmf\n",
        "from gensim.models.ldamodel import LdaModel\n",
        "from gensim.models import LsiModel\n",
        "from gensim.models import HdpModel\n",
        "from gensim.models import LdaMulticore\n",
        "from gensim.models import EnsembleLda\n",
        "from gensim.models.ldamulticore import LdaMulticore\n",
        "from gensim.models.coherencemodel import CoherenceModel\n",
        "import gensim\n",
        "import gensim.corpora as corpora\n",
        "from gensim.models import Phrases\n",
        "from gensim.utils import simple_preprocess\n",
        "from gensim.corpora.dictionary import Dictionary\n",
        "from gensim.utils import tokenize\n",
        "from nltk.corpus import stopwords\n",
        "from collections import Counter\n",
        "nltk.download('stopwords')\n",
        "import re\n",
        "import json\n",
        "import string\n",
        "from bs4 import BeautifulSoup\n",
        "from gensim.parsing.preprocessing import (\n",
        "    strip_non_alphanum,\n",
        "    split_alphanum,\n",
        "    strip_short,\n",
        "    strip_numeric\n",
        ")\n",
        "\n",
        "from wordcloud import WordCloud, STOPWORDS\n",
        "from PIL import Image\n",
        "import seaborn as sns"
      ],
      "metadata": {
        "colab": {
          "base_uri": "https://localhost:8080/"
        },
        "id": "ZxaUC3j8dYAk",
        "outputId": "3932b744-8655-4ec1-8afa-88063ed44c42"
      },
      "execution_count": null,
      "outputs": [
        {
          "output_type": "stream",
          "name": "stderr",
          "text": [
            "[nltk_data] Downloading package stopwords to /root/nltk_data...\n",
            "[nltk_data]   Unzipping corpora/stopwords.zip.\n"
          ]
        }
      ]
    },
    {
      "cell_type": "code",
      "source": [
        "datafile = 'latest_ticket_data.csv'\n",
        "data = pd.read_csv(datafile)"
      ],
      "metadata": {
        "id": "WK8dxlLPiFPK"
      },
      "execution_count": null,
      "outputs": []
    },
    {
      "cell_type": "code",
      "source": [
        "data['Description'] = data['Description'].str.lower()\n",
        "data['Description'] = data['Description'].astype(str)"
      ],
      "metadata": {
        "id": "AlOlsns5cgnN"
      },
      "execution_count": null,
      "outputs": []
    },
    {
      "cell_type": "code",
      "source": [
        "stop_words = stopwords.words('english')\n",
        "custom_stop_words = ['hi', 'since', 'please', 'best', 'regards', 'thank', 'thanks', 'hello', 'sent', 'great', 'dear', 'help', 'kind']\n",
        "time_words = ['january', 'february', 'march', 'april', 'may', 'june', 'july', 'august', 'september', 'october', 'november', 'december', 'monday', 'tuesday', 'wednesday', 'thursday', 'friday', 'saturday', 'sunday', 'today' , 'yesterday', 'tomorrow', 'hour', 'hours', 'time', 'times', 'timelines', 'date', 'day', 'days', 'am', 'pm', 'morning', 'noon', 'afternoon', 'evening', 'night', 'winter', 'summer', 'rain', 'cold']\n",
        "\n",
        "def remove_stop_words(text):\n",
        "    pattern = re.compile(r'\\b(' + r'|'.join(stop_words) + r')\\b\\s*')\n",
        "    text = pattern.sub('', text)\n",
        "    return text\n",
        "\n",
        "def remove_custom_words(text):\n",
        "    pattern = re.compile(r'\\b(' + r'|'.join(custom_stop_words) + r')\\b\\s*')\n",
        "    text = pattern.sub('', text)\n",
        "    return text\n",
        "\n",
        "def remove_time_words(text):\n",
        "    pattern = re.compile(r'\\b(' + r'|'.join(time_words) + r')\\b\\s*')\n",
        "    text = pattern.sub('', text)\n",
        "    return text\n",
        "\n",
        "data['Description'] = data[\"Description\"].map(lambda x: remove_stop_words(x))\n",
        "data['Description'] = data[\"Description\"].map(lambda x: remove_custom_words(x))\n",
        "data['Description'] = data[\"Description\"].map(lambda x: remove_time_words(x))"
      ],
      "metadata": {
        "id": "94lT47h5bb2A"
      },
      "execution_count": null,
      "outputs": []
    },
    {
      "cell_type": "code",
      "source": [
        "def parse_html(text, parser=\"html.parser\"):\n",
        "    soup = BeautifulSoup(text, parser)\n",
        "    soup = remove_html_tags(soup)\n",
        "    text = remove_multiple_space(soup.get_text()).strip()\n",
        "    return text\n",
        "\n",
        "\n",
        "def parse_html_v2(text, loop=2, parser=\"html.parser\"):\n",
        "    if not text:\n",
        "        text = \"\"\n",
        "    # some contents still have html code after first parse\n",
        "    # loop solved problem\n",
        "    for _ in range(loop):\n",
        "        soup = BeautifulSoup(text, parser)\n",
        "        text = soup.get_text()\n",
        "    text = remove_multiple_space(text)\n",
        "    return text\n",
        "\n",
        "\n",
        "def remove_links_content(text):\n",
        "    text = re.sub(r\"http\\S+\", \"\", text)\n",
        "    return text\n",
        "\n",
        "\n",
        "def remove_emails(text):\n",
        "    return re.sub('\\S*@\\S*\\s?', '', text)  # noqa\n",
        "\n",
        "\n",
        "def remove_punctuation(text):\n",
        "    \"\"\"https://stackoverflow.com/a/37221663\"\"\"\n",
        "    table = str.maketrans({key: None for key in string.punctuation})\n",
        "    return text.translate(table)\n",
        "\n",
        "\n",
        "def remove_special_tags(text):\n",
        "    \"\"\"Remove html tags from a string\"\"\"\n",
        "    clean = re.compile('{.*?}')\n",
        "    return re.sub(clean, '', text)\n",
        "\n",
        "\n",
        "def preprocess_text(text):\n",
        "    text = parse_html_v2(text)\n",
        "    text = text.lower()\n",
        "    text = remove_links_content(text)\n",
        "    text = remove_emails(text)\n",
        "    text = remove_special_tags(text)  # remove content between {}\n",
        "    text = remove_punctuation(text)  # remove all puntuations\n",
        "    text = split_alphanum(text)  # add space between word and numeric\n",
        "    text = strip_numeric(text)  # remove digits\n",
        "    text = strip_non_alphanum(text)  # remove non-alphabetic characters\n",
        "    text = strip_short(text, minsize=2)  # remove word with length  <  minsize\n",
        "    text = remove_multiple_space(text).strip()  # remove space and strip\n",
        "    #text = tokenize(text)\n",
        "    return text\n",
        "\n",
        "\n",
        "def remove_multiple_space(text):\n",
        "    return re.sub(\"\\s\\s+\", \" \", text)  # noqa\n",
        "\n",
        "\n",
        "def remove_html_tags(soup,\n",
        "                     tags=[\"script\", \"style\"],\n",
        "                     get_text=False):\n",
        "    for tag in tags:\n",
        "        for sample in soup.find_all(tag):\n",
        "            sample.replaceWith('')\n",
        "\n",
        "    if get_text:\n",
        "        return soup.get_text()\n",
        "    return soup"
      ],
      "metadata": {
        "id": "8kBFOf4Ziw1S"
      },
      "execution_count": null,
      "outputs": []
    },
    {
      "cell_type": "code",
      "source": [
        "# Convert body column to string for performing text operations\n",
        "data['Description'] = data['Description'].astype(str)\n",
        "data['Description'] =data[\"Description\"].map(lambda x: preprocess_text(x))"
      ],
      "metadata": {
        "id": "QmCmTvUfjBci"
      },
      "execution_count": null,
      "outputs": []
    },
    {
      "cell_type": "code",
      "source": [
        "def sent_to_words(sentences):\n",
        "    for sentence in sentences:\n",
        "        # deacc=True removes punctuations\n",
        "        yield(gensim.utils.simple_preprocess(str(sentence), deacc=True))\n",
        "\n",
        "\n",
        "x = data['Description'].values.tolist()\n",
        "docs = list(sent_to_words(x))\n",
        "bigram = Phrases(docs, min_count=10)\n",
        "trigram = Phrases(bigram[docs])"
      ],
      "metadata": {
        "id": "oTqrKiobkIuS"
      },
      "execution_count": null,
      "outputs": []
    },
    {
      "cell_type": "code",
      "source": [
        "for idx in range(len(docs)):\n",
        "    for token in bigram[docs[idx]]:\n",
        "        if '_' in token:\n",
        "            # Token is a bigram, add to document.\n",
        "            docs[idx].append(token)\n",
        "    for token in trigram[docs[idx]]:\n",
        "        if '_' in token:\n",
        "            # Token is a bigram, add to document.\n",
        "            docs[idx].append(token)"
      ],
      "metadata": {
        "id": "TV2XzsXlkQhR"
      },
      "execution_count": null,
      "outputs": []
    },
    {
      "cell_type": "code",
      "source": [
        "#Remove rare & common tokens\n",
        "# Create a dictionary representation of the documents.\n",
        "dictionary = Dictionary(docs)\n",
        "dictionary.filter_extremes(no_below=10, no_above=0.2)\n",
        "#Create dictionary and corpus required for Topic Modeling\n",
        "corpus = [dictionary.doc2bow(doc) for doc in docs]\n",
        "print('Number of unique tokens: %d' % len(dictionary))\n",
        "print('Number of documents: %d' % len(corpus))\n",
        "print(corpus[:1])"
      ],
      "metadata": {
        "colab": {
          "base_uri": "https://localhost:8080/"
        },
        "id": "xPrn-xmMkR-2",
        "outputId": "36856ab9-7459-4215-a16f-defb27f7749e"
      },
      "execution_count": null,
      "outputs": [
        {
          "output_type": "stream",
          "name": "stdout",
          "text": [
            "Number of unique tokens: 1365\n",
            "Number of documents: 3000\n",
            "[[(0, 1), (1, 1), (2, 1), (3, 1), (4, 1)]]\n"
          ]
        }
      ]
    },
    {
      "cell_type": "code",
      "source": [
        "# Set parameters.\n",
        "num_topics = 5\n",
        "chunksize = 500\n",
        "passes = 20\n",
        "iterations = 400\n",
        "eval_every = 1\n",
        "\n",
        "# Make a index to word dictionary.\n",
        "temp = dictionary[0]  # only to \"load\" the dictionary.\n",
        "id2word = dictionary.id2token"
      ],
      "metadata": {
        "id": "IN632ZgKc1Up"
      },
      "execution_count": null,
      "outputs": []
    },
    {
      "cell_type": "code",
      "source": [
        "from sklearn.preprocessing import LabelEncoder\n",
        "LE = LabelEncoder()\n",
        "data['Label'] = LE.fit_transform(data['Category'])"
      ],
      "metadata": {
        "id": "eEv5DYN6IvM5"
      },
      "execution_count": null,
      "outputs": []
    },
    {
      "cell_type": "code",
      "source": [
        "from sklearn.metrics import accuracy_score\n",
        "def getModelAccuacy(model, corpus, dataset, Label):\n",
        "  get_document_topics=model.__getitem__(corpus)\n",
        "  #np_array_of_objects = np.asarray(get_document_topics, dtype=\"object\")\n",
        "  pred_df = pd.DataFrame(columns=['pred_label'])\n",
        "  length = len(get_document_topics)\n",
        "  dict_list = []\n",
        "  for i in range(0,length):\n",
        "    count=len(get_document_topics[i])\n",
        "    max=0\n",
        "    for j in range(0,count):\n",
        "      if(max < get_document_topics[i][j][1]):\n",
        "        max=get_document_topics[i][j][1]\n",
        "        label=get_document_topics[i][j][0]\n",
        "    row_dict = {'pred_label': label}\n",
        "    dict_list.append(row_dict)\n",
        "  pred_df = pd.DataFrame.from_dict(dict_list)\n",
        "  y_pred = pred_df['pred_label'].values\n",
        "  y_true = dataset['Label'].values\n",
        "  return(accuracy_score(y_true, y_pred))"
      ],
      "metadata": {
        "id": "URF9vItNRm4D"
      },
      "execution_count": null,
      "outputs": []
    },
    {
      "cell_type": "code",
      "source": [
        "from sklearn.metrics import accuracy_score\n",
        "def getLDAModelAccuacy(model, corpus, dataset, Label):\n",
        "  get_document_topics = [model.get_document_topics(item) for item in corpus]\n",
        "  np_array_of_objects = np.asarray(get_document_topics, dtype=\"object\")\n",
        "  pred_df = pd.DataFrame(columns=['pred_label'])\n",
        "  length = len(pd.DataFrame(np_array_of_objects)[0])\n",
        "  dict_list = []\n",
        "  for i in range(0,length):\n",
        "    count=len(pd.DataFrame(np_array_of_objects)[0][i])\n",
        "    max=0\n",
        "    for j in range(0,count):\n",
        "      if(max < (pd.DataFrame(np_array_of_objects)[0][i])[j][1]):\n",
        "        max=(pd.DataFrame(np_array_of_objects)[0][i])[j][1]\n",
        "        label=(pd.DataFrame(np_array_of_objects)[0][i])[j][0]\n",
        "    row_dict = {'pred_label': label}\n",
        "    dict_list.append(row_dict)\n",
        "  pred_df = pd.DataFrame.from_dict(dict_list)\n",
        "  y_pred = pred_df['pred_label'].values\n",
        "  y_true = dataset['Label'].values\n",
        "  return(accuracy_score(y_true, y_pred))"
      ],
      "metadata": {
        "id": "q6welGNtH5S_"
      },
      "execution_count": null,
      "outputs": []
    },
    {
      "cell_type": "code",
      "source": [
        "#nmf model\n",
        "nmf_model = Nmf(corpus=corpus, id2word=id2word, chunksize=chunksize, \\\n",
        "                       w_max_iter=iterations, num_topics=num_topics, \\\n",
        "                       passes=passes, eval_every=eval_every)\n",
        "# Print the Keyword in the 5 topics\n",
        "print(nmf_model.print_topics())"
      ],
      "metadata": {
        "colab": {
          "base_uri": "https://localhost:8080/"
        },
        "id": "lGfkfkMYRq0W",
        "outputId": "40bae80e-c3fc-4488-d0ff-bdf8c8ab47c4"
      },
      "execution_count": null,
      "outputs": [
        {
          "output_type": "stream",
          "name": "stdout",
          "text": [
            "[(0, '0.099*\"leaver\" + 0.038*\"leaver_form\" + 0.034*\"leaver_leaver\" + 0.032*\"approver\" + 0.021*\"approver_approver\" + 0.018*\"mobile_phone\" + 0.017*\"form\" + 0.017*\"location\" + 0.017*\"mailbox\" + 0.016*\"personal_mailbox\"'), (1, '0.136*\"user\" + 0.046*\"specialist\" + 0.044*\"application\" + 0.035*\"administrator\" + 0.031*\"setup\" + 0.019*\"role\" + 0.014*\"assigned\" + 0.012*\"contract\" + 0.011*\"information\" + 0.011*\"name\"'), (2, '0.170*\"changed\" + 0.169*\"interface\" + 0.101*\"link\" + 0.069*\"switch\" + 0.025*\"port\" + 0.022*\"event\" + 0.018*\"change\" + 0.018*\"active\" + 0.015*\"issues\" + 0.014*\"consider_environment\"'), (3, '0.061*\"si\" + 0.042*\"senior_engineer\" + 0.037*\"la\" + 0.034*\"item\" + 0.032*\"ca\" + 0.029*\"care\" + 0.022*\"engineer\" + 0.020*\"added\" + 0.020*\"se\" + 0.020*\"visitor\"'), (4, '0.028*\"cards\" + 0.022*\"access\" + 0.017*\"floor\" + 0.015*\"card\" + 0.014*\"visitor\" + 0.014*\"analyst_ext\" + 0.014*\"visitor_cards\" + 0.012*\"required\" + 0.012*\"permanent\" + 0.010*\"ground_floor\"')]\n"
          ]
        }
      ]
    },
    {
      "cell_type": "code",
      "source": [
        "getLDAModelAccuacy(nmf_model,corpus,data,\"Label\")"
      ],
      "metadata": {
        "colab": {
          "base_uri": "https://localhost:8080/"
        },
        "id": "qPF6caNeMnu8",
        "outputId": "ec785bb2-424d-474f-8df8-d21164dce843"
      },
      "execution_count": null,
      "outputs": [
        {
          "output_type": "execute_result",
          "data": {
            "text/plain": [
              "0.20433333333333334"
            ]
          },
          "metadata": {},
          "execution_count": 51
        }
      ]
    },
    {
      "cell_type": "code",
      "source": [
        "c_v_coherence_model_nmf = CoherenceModel(model=nmf_model, texts=docs, dictionary=dictionary, coherence='c_v')\n",
        "c_v_coherence_nmf = c_v_coherence_model_nmf.get_coherence()\n",
        "print('\\nC_V Coherence Score: ', c_v_coherence_nmf)"
      ],
      "metadata": {
        "colab": {
          "base_uri": "https://localhost:8080/"
        },
        "id": "n5RR8SHBSG6O",
        "outputId": "b1af2543-9c7d-45da-a6eb-efbb260580cd"
      },
      "execution_count": null,
      "outputs": [
        {
          "output_type": "stream",
          "name": "stdout",
          "text": [
            "\n",
            "C_V Coherence Score:  0.5316297291547925\n"
          ]
        }
      ]
    },
    {
      "cell_type": "code",
      "source": [
        "u_mass_coherence_model_nmf = CoherenceModel(model=nmf_model, texts=docs, dictionary=dictionary, coherence='u_mass')\n",
        "u_mass_coherence_nmf = u_mass_coherence_model_nmf.get_coherence()\n",
        "print('\\nU_Mass Coherence Score: ', u_mass_coherence_nmf)"
      ],
      "metadata": {
        "colab": {
          "base_uri": "https://localhost:8080/"
        },
        "id": "mvKy701pSXdq",
        "outputId": "b188d544-5cf8-4320-ada7-c87cc2c712ba"
      },
      "execution_count": null,
      "outputs": [
        {
          "output_type": "stream",
          "name": "stdout",
          "text": [
            "\n",
            "U_Mass Coherence Score:  -3.338684001385441\n"
          ]
        }
      ]
    },
    {
      "cell_type": "code",
      "source": [
        "c_uci_coherence_model_nmf = CoherenceModel(model=nmf_model, texts=docs, dictionary=dictionary, coherence='c_uci')\n",
        "c_uci_coherence_nmf = c_uci_coherence_model_nmf.get_coherence()\n",
        "print('\\nc_uci Coherence Score: ', c_uci_coherence_nmf)"
      ],
      "metadata": {
        "colab": {
          "base_uri": "https://localhost:8080/"
        },
        "id": "4hWdGUrlXgvx",
        "outputId": "96d2fb63-bbb1-469f-f635-1a2f03c57a35"
      },
      "execution_count": null,
      "outputs": [
        {
          "output_type": "stream",
          "name": "stdout",
          "text": [
            "\n",
            "c_uci Coherence Score:  -5.430208599542743\n"
          ]
        }
      ]
    },
    {
      "cell_type": "code",
      "source": [
        "c_npmi_coherence_model_nmf = CoherenceModel(model=nmf_model, texts=docs, dictionary=dictionary, coherence='c_npmi')\n",
        "c_npmi_coherence_nmf = c_npmi_coherence_model_nmf.get_coherence()\n",
        "print('\\c_npmi_Coherence Score: ', c_npmi_coherence_nmf)"
      ],
      "metadata": {
        "colab": {
          "base_uri": "https://localhost:8080/"
        },
        "id": "4Jv9tHZ2YPhd",
        "outputId": "5d51df46-7fcc-495b-c41e-57eb60c879c7"
      },
      "execution_count": null,
      "outputs": [
        {
          "output_type": "stream",
          "name": "stdout",
          "text": [
            "\\c_npmi_Coherence Score:  -0.11740587490771678\n"
          ]
        }
      ]
    },
    {
      "cell_type": "code",
      "source": [
        "#lda model\n",
        "lda_model = LdaModel(corpus=corpus, id2word=id2word, chunksize=chunksize, \\\n",
        "                       alpha='auto', eta='auto', \\\n",
        "                       iterations=iterations, num_topics=num_topics, \\\n",
        "                       passes=passes, eval_every=eval_every)\n",
        "# Print the Keyword in the 5 topics\n",
        "print(lda_model.print_topics())"
      ],
      "metadata": {
        "colab": {
          "base_uri": "https://localhost:8080/"
        },
        "id": "_jyZXKjOlJWy",
        "outputId": "f792ba10-75d7-481e-8b67-67512f571dfa"
      },
      "execution_count": null,
      "outputs": [
        {
          "output_type": "stream",
          "name": "stdout",
          "text": [
            "[(0, '0.017*\"importance_high\" + 0.016*\"engineer\" + 0.015*\"senior_engineer\" + 0.010*\"senior\" + 0.009*\"also\" + 0.009*\"log\" + 0.008*\"working\" + 0.008*\"client\" + 0.008*\"update\" + 0.008*\"let\"'), (1, '0.034*\"disk\" + 0.026*\"name\" + 0.024*\"purchase_po\" + 0.022*\"item\" + 0.021*\"receive_item\" + 0.020*\"secure_area\" + 0.017*\"host\" + 0.016*\"design_lead\" + 0.016*\"printer\" + 0.015*\"changed\"'), (2, '0.075*\"card\" + 0.029*\"floor\" + 0.029*\"la\" + 0.028*\"access_card\" + 0.028*\"lost\" + 0.026*\"si\" + 0.025*\"cards\" + 0.025*\"visitor\" + 0.024*\"lost_access\" + 0.022*\"access\"'), (3, '0.023*\"th_floor\" + 0.021*\"event\" + 0.021*\"access\" + 0.020*\"analyst_ext\" + 0.019*\"could\" + 0.018*\"let_know\" + 0.017*\"en\" + 0.015*\"details\" + 0.014*\"issue\" + 0.013*\"laptop\"'), (4, '0.055*\"leaver\" + 0.046*\"form\" + 0.035*\"senior_developer\" + 0.032*\"find_attached\" + 0.025*\"starter_form\" + 0.024*\"leaver_form\" + 0.024*\"room\" + 0.023*\"maternity_leaver\" + 0.022*\"attached\" + 0.021*\"could_investigate\"')]\n"
          ]
        }
      ]
    },
    {
      "cell_type": "code",
      "source": [
        "getLDAModelAccuacy(lda_model,corpus,data,\"Label\")"
      ],
      "metadata": {
        "colab": {
          "base_uri": "https://localhost:8080/"
        },
        "id": "y-WoX9s0H-6T",
        "outputId": "bd3b45a6-5378-498b-be54-130c5c35725c"
      },
      "execution_count": null,
      "outputs": [
        {
          "output_type": "execute_result",
          "data": {
            "text/plain": [
              "0.292"
            ]
          },
          "metadata": {},
          "execution_count": 49
        }
      ]
    },
    {
      "cell_type": "code",
      "source": [
        "c_v_coherence_model_lda = CoherenceModel(model=lda_model, texts=docs, dictionary=dictionary, coherence='c_v')\n",
        "c_v_coherence_lda = c_v_coherence_model_lda.get_coherence()\n",
        "print('\\nC_V Coherence Score: ', c_v_coherence_lda)"
      ],
      "metadata": {
        "colab": {
          "base_uri": "https://localhost:8080/"
        },
        "id": "6ky-CFzbmGgj",
        "outputId": "04309beb-caae-4c92-a21a-548908e03c83"
      },
      "execution_count": null,
      "outputs": [
        {
          "output_type": "stream",
          "name": "stdout",
          "text": [
            "\n",
            "C_V Coherence Score:  0.43983831271107104\n"
          ]
        }
      ]
    },
    {
      "cell_type": "code",
      "source": [
        "u_mass_coherence_model_lda = CoherenceModel(model=lda_model, texts=docs, dictionary=dictionary, coherence='u_mass')\n",
        "u_mass_coherence_lda = u_mass_coherence_model_lda.get_coherence()\n",
        "print('\\nU_Mass Coherence Score: ', u_mass_coherence_lda)"
      ],
      "metadata": {
        "colab": {
          "base_uri": "https://localhost:8080/"
        },
        "id": "w2i7Fp_SmYxX",
        "outputId": "978de588-2b8f-4379-97ad-fb2de141617a"
      },
      "execution_count": null,
      "outputs": [
        {
          "output_type": "stream",
          "name": "stdout",
          "text": [
            "\n",
            "U_Mass Coherence Score:  -6.9365875149635645\n"
          ]
        }
      ]
    },
    {
      "cell_type": "code",
      "source": [
        "c_uci_coherence_model_lda = CoherenceModel(model=lda_model, texts=docs, dictionary=dictionary, coherence='c_uci')\n",
        "c_uci_coherence_lda = c_uci_coherence_model_lda.get_coherence()\n",
        "print('\\nc_uciCoherence Score: ', c_uci_coherence_lda)"
      ],
      "metadata": {
        "colab": {
          "base_uri": "https://localhost:8080/"
        },
        "id": "dJO4fir_msjm",
        "outputId": "10708256-059e-447c-b826-4ef4ed4ff7a1"
      },
      "execution_count": null,
      "outputs": [
        {
          "output_type": "stream",
          "name": "stdout",
          "text": [
            "\n",
            "c_uciCoherence Score:  -5.0454374515094536\n"
          ]
        }
      ]
    },
    {
      "cell_type": "code",
      "source": [
        "c_npmi_coherence_model_lda = CoherenceModel(model=lda_model, texts=docs, dictionary=dictionary, coherence='c_npmi')\n",
        "c_npmi_coherence_lda = c_npmi_coherence_model_lda.get_coherence()\n",
        "print('\\c_npmi_Coherence Score: ', c_npmi_coherence_lda)"
      ],
      "metadata": {
        "colab": {
          "base_uri": "https://localhost:8080/"
        },
        "id": "249kZtm9nD9M",
        "outputId": "e859501e-715a-4815-8c21-b5afcc5c0108"
      },
      "execution_count": null,
      "outputs": [
        {
          "output_type": "stream",
          "name": "stdout",
          "text": [
            "\\c_npmi_Coherence Score:  -0.11965968630081467\n"
          ]
        }
      ]
    },
    {
      "cell_type": "code",
      "source": [
        "lsi_model = LsiModel(corpus=corpus, id2word=id2word, chunksize=chunksize, \\\n",
        "                       num_topics=num_topics)\n",
        "# Print the Keyword in the 5 topics\n",
        "print(lsi_model.print_topics())"
      ],
      "metadata": {
        "colab": {
          "base_uri": "https://localhost:8080/"
        },
        "id": "dNtv796dnsTB",
        "outputId": "123575b3-d359-4691-b7d9-07b42a66a134"
      },
      "execution_count": null,
      "outputs": [
        {
          "output_type": "stream",
          "name": "stdout",
          "text": [
            "[(0, '0.615*\"changed\" + 0.614*\"interface\" + 0.367*\"link\" + 0.250*\"switch\" + 0.090*\"port\" + 0.083*\"event\" + 0.066*\"active\" + 0.062*\"change\" + 0.057*\"senior_engineer\" + 0.055*\"issues\"'), (1, '0.414*\"visitor\" + 0.292*\"cards\" + 0.266*\"visitor_visitor\" + 0.258*\"analyst_ext\" + 0.252*\"access\" + 0.187*\"visitor_cards\" + 0.180*\"si\" + 0.175*\"floor\" + 0.167*\"card\" + 0.135*\"required\"'), (2, '0.324*\"visitor\" + -0.234*\"item\" + -0.227*\"user\" + -0.222*\"log\" + 0.219*\"visitor_visitor\" + -0.183*\"event\" + 0.178*\"cards\" + 0.148*\"visitor_cards\" + -0.145*\"failed\" + -0.145*\"disk\"'), (3, '0.609*\"kb\" + 0.479*\"update\" + 0.338*\"based\" + 0.228*\"edition\" + 0.228*\"bit\" + 0.157*\"event\" + -0.123*\"log\" + 0.108*\"disk\" + -0.086*\"job\" + -0.086*\"item\"'), (4, '-0.384*\"event\" + -0.298*\"disk\" + 0.275*\"kb\" + 0.233*\"log\" + -0.223*\"indicated\" + 0.194*\"update\" + -0.187*\"problem\" + 0.180*\"job\" + 0.175*\"failed\" + -0.168*\"replace\"')]\n"
          ]
        }
      ]
    },
    {
      "cell_type": "code",
      "source": [
        "getModelAccuacy(lsi_model,corpus,data,\"Label\")"
      ],
      "metadata": {
        "colab": {
          "base_uri": "https://localhost:8080/"
        },
        "id": "RsNpwqD4P1t0",
        "outputId": "713cad64-97dd-4587-a75b-0d85edc51dd8"
      },
      "execution_count": null,
      "outputs": [
        {
          "output_type": "execute_result",
          "data": {
            "text/plain": [
              "0.19033333333333333"
            ]
          },
          "metadata": {},
          "execution_count": 95
        }
      ]
    },
    {
      "cell_type": "code",
      "source": [
        "c_v_coherence_model_lsi = CoherenceModel(model=lsi_model, texts=docs, dictionary=dictionary, coherence='c_v')\n",
        "c_v_coherence_lsi = c_v_coherence_model_lsi.get_coherence()\n",
        "print('\\nC_V Coherence Score: ', c_v_coherence_lsi)"
      ],
      "metadata": {
        "colab": {
          "base_uri": "https://localhost:8080/"
        },
        "id": "cntd2soOoUKf",
        "outputId": "65be0a34-3bf4-401b-b2e9-dd147a61f82b"
      },
      "execution_count": null,
      "outputs": [
        {
          "output_type": "stream",
          "name": "stdout",
          "text": [
            "\n",
            "C_V Coherence Score:  0.4056345017867004\n"
          ]
        }
      ]
    },
    {
      "cell_type": "code",
      "source": [
        "u_mass_coherence_model_lsi = CoherenceModel(model=lsi_model, texts=docs, dictionary=dictionary, coherence='u_mass')\n",
        "u_mass_coherence_lsi = u_mass_coherence_model_lsi.get_coherence()\n",
        "print('\\nu_mass Coherence Score: ', u_mass_coherence_lsi)"
      ],
      "metadata": {
        "colab": {
          "base_uri": "https://localhost:8080/"
        },
        "id": "VNUxMMRNonPj",
        "outputId": "895182be-1a26-4f1a-ca1c-d9d6dfe0dd0e"
      },
      "execution_count": null,
      "outputs": [
        {
          "output_type": "stream",
          "name": "stdout",
          "text": [
            "\n",
            "u_mass Coherence Score:  -6.3711717709480755\n"
          ]
        }
      ]
    },
    {
      "cell_type": "code",
      "source": [
        "c_uci_coherence_model_lsi = CoherenceModel(model=lsi_model, texts=docs, dictionary=dictionary, coherence='c_uci')\n",
        "c_uci_coherence_lsi = c_uci_coherence_model_lsi.get_coherence()\n",
        "print('\\nc_uci Coherence Score: ', c_uci_coherence_lsi)"
      ],
      "metadata": {
        "colab": {
          "base_uri": "https://localhost:8080/"
        },
        "id": "TgEbE8LEo6nZ",
        "outputId": "cdefad19-47b2-4fa9-aea4-ab1a5f700181"
      },
      "execution_count": null,
      "outputs": [
        {
          "output_type": "stream",
          "name": "stdout",
          "text": [
            "\n",
            "c_uci Coherence Score:  -6.79842747737292\n"
          ]
        }
      ]
    },
    {
      "cell_type": "code",
      "source": [
        "c_npmi_coherence_model_lsi = CoherenceModel(model=lsi_model, texts=docs, dictionary=dictionary, coherence='c_npmi')\n",
        "c_npmi_coherence_lsi = c_npmi_coherence_model_lsi.get_coherence()\n",
        "print('\\nc_npmi Coherence Score: ', c_npmi_coherence_lsi)"
      ],
      "metadata": {
        "colab": {
          "base_uri": "https://localhost:8080/"
        },
        "id": "9TV5PZj2pNA8",
        "outputId": "329c43e9-e682-4241-9691-af0b16996e89"
      },
      "execution_count": null,
      "outputs": [
        {
          "output_type": "stream",
          "name": "stdout",
          "text": [
            "\n",
            "c_npmi Coherence Score:  -0.17749792919846552\n"
          ]
        }
      ]
    },
    {
      "cell_type": "code",
      "source": [
        "#hdp model\n",
        "hdp_model = HdpModel(corpus=corpus, id2word=id2word, chunksize=chunksize)\n",
        "# Print the Keyword in the 5 topics\n",
        "print(hdp_model.print_topics())"
      ],
      "metadata": {
        "colab": {
          "base_uri": "https://localhost:8080/"
        },
        "id": "VkC3BFiJpbnL",
        "outputId": "8ae9534a-30ff-4f9e-a1da-d7841dcb83fa"
      },
      "execution_count": null,
      "outputs": [
        {
          "output_type": "stream",
          "name": "stderr",
          "text": [
            "WARNING:gensim.models.hdpmodel:likelihood is decreasing!\n",
            "WARNING:gensim.models.hdpmodel:likelihood is decreasing!\n",
            "WARNING:gensim.models.hdpmodel:likelihood is decreasing!\n",
            "WARNING:gensim.models.hdpmodel:likelihood is decreasing!\n",
            "WARNING:gensim.models.hdpmodel:likelihood is decreasing!\n",
            "WARNING:gensim.models.hdpmodel:likelihood is decreasing!\n",
            "WARNING:gensim.models.hdpmodel:likelihood is decreasing!\n",
            "WARNING:gensim.models.hdpmodel:likelihood is decreasing!\n",
            "WARNING:gensim.models.hdpmodel:likelihood is decreasing!\n",
            "WARNING:gensim.models.hdpmodel:likelihood is decreasing!\n",
            "WARNING:gensim.models.hdpmodel:likelihood is decreasing!\n",
            "WARNING:gensim.models.hdpmodel:likelihood is decreasing!\n",
            "WARNING:gensim.models.hdpmodel:likelihood is decreasing!\n",
            "WARNING:gensim.models.hdpmodel:likelihood is decreasing!\n",
            "WARNING:gensim.models.hdpmodel:likelihood is decreasing!\n",
            "WARNING:gensim.models.hdpmodel:likelihood is decreasing!\n",
            "WARNING:gensim.models.hdpmodel:likelihood is decreasing!\n",
            "WARNING:gensim.models.hdpmodel:likelihood is decreasing!\n",
            "WARNING:gensim.models.hdpmodel:likelihood is decreasing!\n",
            "WARNING:gensim.models.hdpmodel:likelihood is decreasing!\n",
            "WARNING:gensim.models.hdpmodel:likelihood is decreasing!\n",
            "WARNING:gensim.models.hdpmodel:likelihood is decreasing!\n",
            "WARNING:gensim.models.hdpmodel:likelihood is decreasing!\n",
            "WARNING:gensim.models.hdpmodel:likelihood is decreasing!\n",
            "WARNING:gensim.models.hdpmodel:likelihood is decreasing!\n",
            "WARNING:gensim.models.hdpmodel:likelihood is decreasing!\n",
            "WARNING:gensim.models.hdpmodel:likelihood is decreasing!\n",
            "WARNING:gensim.models.hdpmodel:likelihood is decreasing!\n",
            "WARNING:gensim.models.hdpmodel:likelihood is decreasing!\n",
            "WARNING:gensim.models.hdpmodel:likelihood is decreasing!\n",
            "WARNING:gensim.models.hdpmodel:likelihood is decreasing!\n",
            "WARNING:gensim.models.hdpmodel:likelihood is decreasing!\n",
            "WARNING:gensim.models.hdpmodel:likelihood is decreasing!\n",
            "WARNING:gensim.models.hdpmodel:likelihood is decreasing!\n",
            "WARNING:gensim.models.hdpmodel:likelihood is decreasing!\n",
            "WARNING:gensim.models.hdpmodel:likelihood is decreasing!\n",
            "WARNING:gensim.models.hdpmodel:likelihood is decreasing!\n",
            "WARNING:gensim.models.hdpmodel:likelihood is decreasing!\n",
            "WARNING:gensim.models.hdpmodel:likelihood is decreasing!\n",
            "WARNING:gensim.models.hdpmodel:likelihood is decreasing!\n",
            "WARNING:gensim.models.hdpmodel:likelihood is decreasing!\n",
            "WARNING:gensim.models.hdpmodel:likelihood is decreasing!\n",
            "WARNING:gensim.models.hdpmodel:likelihood is decreasing!\n",
            "WARNING:gensim.models.hdpmodel:likelihood is decreasing!\n",
            "WARNING:gensim.models.hdpmodel:likelihood is decreasing!\n",
            "WARNING:gensim.models.hdpmodel:likelihood is decreasing!\n",
            "WARNING:gensim.models.hdpmodel:likelihood is decreasing!\n",
            "WARNING:gensim.models.hdpmodel:likelihood is decreasing!\n",
            "WARNING:gensim.models.hdpmodel:likelihood is decreasing!\n",
            "WARNING:gensim.models.hdpmodel:likelihood is decreasing!\n",
            "WARNING:gensim.models.hdpmodel:likelihood is decreasing!\n",
            "WARNING:gensim.models.hdpmodel:likelihood is decreasing!\n",
            "WARNING:gensim.models.hdpmodel:likelihood is decreasing!\n",
            "WARNING:gensim.models.hdpmodel:likelihood is decreasing!\n",
            "WARNING:gensim.models.hdpmodel:likelihood is decreasing!\n",
            "WARNING:gensim.models.hdpmodel:likelihood is decreasing!\n",
            "WARNING:gensim.models.hdpmodel:likelihood is decreasing!\n",
            "WARNING:gensim.models.hdpmodel:likelihood is decreasing!\n",
            "WARNING:gensim.models.hdpmodel:likelihood is decreasing!\n",
            "WARNING:gensim.models.hdpmodel:likelihood is decreasing!\n",
            "WARNING:gensim.models.hdpmodel:likelihood is decreasing!\n",
            "WARNING:gensim.models.hdpmodel:likelihood is decreasing!\n",
            "WARNING:gensim.models.hdpmodel:likelihood is decreasing!\n",
            "WARNING:gensim.models.hdpmodel:likelihood is decreasing!\n",
            "WARNING:gensim.models.hdpmodel:likelihood is decreasing!\n",
            "WARNING:gensim.models.hdpmodel:likelihood is decreasing!\n",
            "WARNING:gensim.models.hdpmodel:likelihood is decreasing!\n",
            "WARNING:gensim.models.hdpmodel:likelihood is decreasing!\n",
            "WARNING:gensim.models.hdpmodel:likelihood is decreasing!\n",
            "WARNING:gensim.models.hdpmodel:likelihood is decreasing!\n",
            "WARNING:gensim.models.hdpmodel:likelihood is decreasing!\n",
            "WARNING:gensim.models.hdpmodel:likelihood is decreasing!\n",
            "WARNING:gensim.models.hdpmodel:likelihood is decreasing!\n",
            "WARNING:gensim.models.hdpmodel:likelihood is decreasing!\n",
            "WARNING:gensim.models.hdpmodel:likelihood is decreasing!\n",
            "WARNING:gensim.models.hdpmodel:likelihood is decreasing!\n",
            "WARNING:gensim.models.hdpmodel:likelihood is decreasing!\n",
            "WARNING:gensim.models.hdpmodel:likelihood is decreasing!\n",
            "WARNING:gensim.models.hdpmodel:likelihood is decreasing!\n",
            "WARNING:gensim.models.hdpmodel:likelihood is decreasing!\n",
            "WARNING:gensim.models.hdpmodel:likelihood is decreasing!\n",
            "WARNING:gensim.models.hdpmodel:likelihood is decreasing!\n",
            "WARNING:gensim.models.hdpmodel:likelihood is decreasing!\n",
            "WARNING:gensim.models.hdpmodel:likelihood is decreasing!\n",
            "WARNING:gensim.models.hdpmodel:likelihood is decreasing!\n",
            "WARNING:gensim.models.hdpmodel:likelihood is decreasing!\n",
            "WARNING:gensim.models.hdpmodel:likelihood is decreasing!\n",
            "WARNING:gensim.models.hdpmodel:likelihood is decreasing!\n",
            "WARNING:gensim.models.hdpmodel:likelihood is decreasing!\n",
            "WARNING:gensim.models.hdpmodel:likelihood is decreasing!\n",
            "WARNING:gensim.models.hdpmodel:likelihood is decreasing!\n",
            "WARNING:gensim.models.hdpmodel:likelihood is decreasing!\n",
            "WARNING:gensim.models.hdpmodel:likelihood is decreasing!\n",
            "WARNING:gensim.models.hdpmodel:likelihood is decreasing!\n",
            "WARNING:gensim.models.hdpmodel:likelihood is decreasing!\n",
            "WARNING:gensim.models.hdpmodel:likelihood is decreasing!\n",
            "WARNING:gensim.models.hdpmodel:likelihood is decreasing!\n",
            "WARNING:gensim.models.hdpmodel:likelihood is decreasing!\n",
            "WARNING:gensim.models.hdpmodel:likelihood is decreasing!\n",
            "WARNING:gensim.models.hdpmodel:likelihood is decreasing!\n",
            "WARNING:gensim.models.hdpmodel:likelihood is decreasing!\n",
            "WARNING:gensim.models.hdpmodel:likelihood is decreasing!\n",
            "WARNING:gensim.models.hdpmodel:likelihood is decreasing!\n",
            "WARNING:gensim.models.hdpmodel:likelihood is decreasing!\n",
            "WARNING:gensim.models.hdpmodel:likelihood is decreasing!\n",
            "WARNING:gensim.models.hdpmodel:likelihood is decreasing!\n",
            "WARNING:gensim.models.hdpmodel:likelihood is decreasing!\n",
            "WARNING:gensim.models.hdpmodel:likelihood is decreasing!\n",
            "WARNING:gensim.models.hdpmodel:likelihood is decreasing!\n",
            "WARNING:gensim.models.hdpmodel:likelihood is decreasing!\n",
            "WARNING:gensim.models.hdpmodel:likelihood is decreasing!\n",
            "WARNING:gensim.models.hdpmodel:likelihood is decreasing!\n",
            "WARNING:gensim.models.hdpmodel:likelihood is decreasing!\n",
            "WARNING:gensim.models.hdpmodel:likelihood is decreasing!\n",
            "WARNING:gensim.models.hdpmodel:likelihood is decreasing!\n",
            "WARNING:gensim.models.hdpmodel:likelihood is decreasing!\n",
            "WARNING:gensim.models.hdpmodel:likelihood is decreasing!\n",
            "WARNING:gensim.models.hdpmodel:likelihood is decreasing!\n",
            "WARNING:gensim.models.hdpmodel:likelihood is decreasing!\n",
            "WARNING:gensim.models.hdpmodel:likelihood is decreasing!\n",
            "WARNING:gensim.models.hdpmodel:likelihood is decreasing!\n",
            "WARNING:gensim.models.hdpmodel:likelihood is decreasing!\n",
            "WARNING:gensim.models.hdpmodel:likelihood is decreasing!\n",
            "WARNING:gensim.models.hdpmodel:likelihood is decreasing!\n",
            "WARNING:gensim.models.hdpmodel:likelihood is decreasing!\n",
            "WARNING:gensim.models.hdpmodel:likelihood is decreasing!\n",
            "WARNING:gensim.models.hdpmodel:likelihood is decreasing!\n",
            "WARNING:gensim.models.hdpmodel:likelihood is decreasing!\n",
            "WARNING:gensim.models.hdpmodel:likelihood is decreasing!\n",
            "WARNING:gensim.models.hdpmodel:likelihood is decreasing!\n",
            "WARNING:gensim.models.hdpmodel:likelihood is decreasing!\n",
            "WARNING:gensim.models.hdpmodel:likelihood is decreasing!\n",
            "WARNING:gensim.models.hdpmodel:likelihood is decreasing!\n",
            "WARNING:gensim.models.hdpmodel:likelihood is decreasing!\n",
            "WARNING:gensim.models.hdpmodel:likelihood is decreasing!\n",
            "WARNING:gensim.models.hdpmodel:likelihood is decreasing!\n",
            "WARNING:gensim.models.hdpmodel:likelihood is decreasing!\n",
            "WARNING:gensim.models.hdpmodel:likelihood is decreasing!\n",
            "WARNING:gensim.models.hdpmodel:likelihood is decreasing!\n",
            "WARNING:gensim.models.hdpmodel:likelihood is decreasing!\n",
            "WARNING:gensim.models.hdpmodel:likelihood is decreasing!\n",
            "WARNING:gensim.models.hdpmodel:likelihood is decreasing!\n",
            "WARNING:gensim.models.hdpmodel:likelihood is decreasing!\n",
            "WARNING:gensim.models.hdpmodel:likelihood is decreasing!\n",
            "WARNING:gensim.models.hdpmodel:likelihood is decreasing!\n",
            "WARNING:gensim.models.hdpmodel:likelihood is decreasing!\n",
            "WARNING:gensim.models.hdpmodel:likelihood is decreasing!\n",
            "WARNING:gensim.models.hdpmodel:likelihood is decreasing!\n",
            "WARNING:gensim.models.hdpmodel:likelihood is decreasing!\n",
            "WARNING:gensim.models.hdpmodel:likelihood is decreasing!\n",
            "WARNING:gensim.models.hdpmodel:likelihood is decreasing!\n",
            "WARNING:gensim.models.hdpmodel:likelihood is decreasing!\n",
            "WARNING:gensim.models.hdpmodel:likelihood is decreasing!\n",
            "WARNING:gensim.models.hdpmodel:likelihood is decreasing!\n",
            "WARNING:gensim.models.hdpmodel:likelihood is decreasing!\n",
            "WARNING:gensim.models.hdpmodel:likelihood is decreasing!\n",
            "WARNING:gensim.models.hdpmodel:likelihood is decreasing!\n",
            "WARNING:gensim.models.hdpmodel:likelihood is decreasing!\n",
            "WARNING:gensim.models.hdpmodel:likelihood is decreasing!\n",
            "WARNING:gensim.models.hdpmodel:likelihood is decreasing!\n",
            "WARNING:gensim.models.hdpmodel:likelihood is decreasing!\n",
            "WARNING:gensim.models.hdpmodel:likelihood is decreasing!\n",
            "WARNING:gensim.models.hdpmodel:likelihood is decreasing!\n",
            "WARNING:gensim.models.hdpmodel:likelihood is decreasing!\n",
            "WARNING:gensim.models.hdpmodel:likelihood is decreasing!\n",
            "WARNING:gensim.models.hdpmodel:likelihood is decreasing!\n",
            "WARNING:gensim.models.hdpmodel:likelihood is decreasing!\n",
            "WARNING:gensim.models.hdpmodel:likelihood is decreasing!\n",
            "WARNING:gensim.models.hdpmodel:likelihood is decreasing!\n",
            "WARNING:gensim.models.hdpmodel:likelihood is decreasing!\n",
            "WARNING:gensim.models.hdpmodel:likelihood is decreasing!\n",
            "WARNING:gensim.models.hdpmodel:likelihood is decreasing!\n",
            "WARNING:gensim.models.hdpmodel:likelihood is decreasing!\n",
            "WARNING:gensim.models.hdpmodel:likelihood is decreasing!\n",
            "WARNING:gensim.models.hdpmodel:likelihood is decreasing!\n",
            "WARNING:gensim.models.hdpmodel:likelihood is decreasing!\n",
            "WARNING:gensim.models.hdpmodel:likelihood is decreasing!\n",
            "WARNING:gensim.models.hdpmodel:likelihood is decreasing!\n",
            "WARNING:gensim.models.hdpmodel:likelihood is decreasing!\n",
            "WARNING:gensim.models.hdpmodel:likelihood is decreasing!\n",
            "WARNING:gensim.models.hdpmodel:likelihood is decreasing!\n",
            "WARNING:gensim.models.hdpmodel:likelihood is decreasing!\n",
            "WARNING:gensim.models.hdpmodel:likelihood is decreasing!\n",
            "WARNING:gensim.models.hdpmodel:likelihood is decreasing!\n"
          ]
        },
        {
          "output_type": "stream",
          "name": "stdout",
          "text": [
            "[(0, '0.005*assign + 0.004*liaise + 0.004*wanted + 0.004*confidentiality + 0.004*event_severity + 0.003*assigning + 0.003*used + 0.003*logged + 0.003*ext + 0.003*following'), (1, '0.005*previous_status + 0.005*secured + 0.005*period + 0.005*control + 0.004*cards + 0.004*addressee + 0.004*assigned_advised_record_number + 0.004*sending + 0.004*certificate + 0.004*analyst_ext'), (2, '0.006*feedback + 0.006*removed + 0.005*importance + 0.005*writing + 0.005*working_properly + 0.005*current + 0.004*safe + 0.004*individual + 0.004*says + 0.004*nothing'), (3, '0.006*rule + 0.004*host + 0.004*apologies + 0.004*even + 0.004*resource + 0.004*trouble + 0.003*result + 0.003*storage_required + 0.003*fie + 0.003*expected'), (4, '0.005*reboot + 0.004*ti + 0.004*confirm + 0.004*assistants + 0.004*highlighted + 0.004*owner + 0.003*hosted + 0.003*event_code + 0.003*virtual + 0.003*el'), (5, '0.005*issues + 0.004*take_look + 0.004*visitor_cards + 0.004*high_priority + 0.004*document + 0.004*raise_ticket + 0.004*visitor + 0.004*installing + 0.003*analyst_ext + 0.003*run'), (6, '0.006*message + 0.006*event_id_event_code + 0.005*th + 0.004*companies + 0.004*action + 0.004*loss + 0.004*additional_information + 0.004*invite + 0.003*st + 0.003*area'), (7, '0.007*ready + 0.005*discipline + 0.005*apple + 0.005*leaver + 0.005*issued + 0.004*developer_en + 0.004*items + 0.004*install + 0.004*probably + 0.004*bad'), (8, '0.005*owner + 0.005*meeting_rooms + 0.004*cannot_connect + 0.004*additional_comments + 0.004*drive + 0.004*remove + 0.004*intended_solely_addressee_opinions + 0.004*analyst_ext + 0.004*leader + 0.003*design_lead'), (9, '0.007*importance_high + 0.004*la + 0.004*activated + 0.004*connect + 0.004*fie + 0.004*encounter_issues + 0.004*web + 0.004*inca + 0.004*took + 0.004*unlawful'), (10, '0.005*lead + 0.005*contact + 0.005*comment + 0.005*seems + 0.004*records + 0.004*developer_en + 0.004*assigned_advised + 0.004*disk + 0.004*original_message + 0.004*looks_like'), (11, '0.006*product + 0.005*token_leaver + 0.004*vulnerability + 0.004*ref_msg + 0.004*gets + 0.004*student + 0.004*mb + 0.004*review + 0.003*whose_registered + 0.003*based'), (12, '0.006*client + 0.006*po + 0.006*checked + 0.005*proprietary_information + 0.005*district + 0.005*strictly_prohibited + 0.004*senior_consultant + 0.004*receive_item + 0.004*bellow + 0.004*item'), (13, '0.005*log_retrieve + 0.004*belgrade + 0.004*tower_rom + 0.004*detected + 0.004*design_lead + 0.004*balcony_door + 0.004*registered_number_whose_registered + 0.003*contain + 0.003*senior_consultant + 0.003*leaver_roaming'), (14, '0.005*st_floor + 0.005*recommended + 0.004*working_anymore + 0.004*called + 0.004*provide + 0.004*reference + 0.004*disk_space + 0.003*investigation + 0.003*information + 0.003*delete'), (15, '0.006*pot + 0.005*went + 0.005*following + 0.004*legally + 0.004*opinions + 0.004*cat + 0.004*visual + 0.004*se_la + 0.004*care + 0.003*view'), (16, '0.007*application_engineer + 0.005*entries + 0.004*check + 0.004*warning + 0.004*slow + 0.004*next + 0.004*spreadsheet + 0.004*accounts + 0.004*deliver + 0.004*interns'), (17, '0.005*option + 0.005*less + 0.004*tickets_assign + 0.004*user + 0.004*care_si + 0.004*lose + 0.004*mandatory + 0.004*importance_high + 0.004*emergency + 0.004*problem'), (18, '0.007*secure + 0.005*could_investigate + 0.005*corresponding + 0.005*matter + 0.004*printing + 0.004*yellow_metric + 0.004*investigation + 0.004*section + 0.004*warning_event + 0.004*procedure'), (19, '0.005*edition + 0.005*release + 0.005*modify + 0.004*possession + 0.004*street_kingdom + 0.004*test_consultant + 0.004*around + 0.004*engineer + 0.004*complete + 0.004*let')]\n"
          ]
        }
      ]
    },
    {
      "cell_type": "code",
      "source": [
        "getModelAccuacy(hdp_model,corpus,data,\"Label\")"
      ],
      "metadata": {
        "colab": {
          "base_uri": "https://localhost:8080/"
        },
        "id": "RypAO43ifGN9",
        "outputId": "27bef09a-ec56-4f15-8df3-a3dcdd57f9cc"
      },
      "execution_count": null,
      "outputs": [
        {
          "output_type": "execute_result",
          "data": {
            "text/plain": [
              "0.004666666666666667"
            ]
          },
          "metadata": {},
          "execution_count": 96
        }
      ]
    },
    {
      "cell_type": "code",
      "source": [
        "c_v_coherence_model_hdp = CoherenceModel(model=hdp_model, texts=docs, dictionary=dictionary, coherence='c_v')\n",
        "c_v_coherence_hdp = c_v_coherence_model_hdp.get_coherence()\n",
        "print('\\nC_V Coherence Score: ', c_v_coherence_hdp)"
      ],
      "metadata": {
        "colab": {
          "base_uri": "https://localhost:8080/"
        },
        "id": "BmiNUEwUql4y",
        "outputId": "d7c699a5-4f2f-4e8a-808c-61517de3c081"
      },
      "execution_count": null,
      "outputs": [
        {
          "output_type": "stream",
          "name": "stdout",
          "text": [
            "\n",
            "C_V Coherence Score:  0.6385758401321195\n"
          ]
        }
      ]
    },
    {
      "cell_type": "code",
      "source": [
        "u_mass_coherence_model_hdp = CoherenceModel(model=hdp_model, texts=docs, dictionary=dictionary, coherence='u_mass')\n",
        "u_mass_coherence_hdp = u_mass_coherence_model_hdp.get_coherence()\n",
        "print('\\nu_mass Coherence Score: ', u_mass_coherence_hdp)"
      ],
      "metadata": {
        "colab": {
          "base_uri": "https://localhost:8080/"
        },
        "id": "KD5bYYkzq38r",
        "outputId": "78bf592e-89f1-4bd8-a335-c3057e0b6578"
      },
      "execution_count": null,
      "outputs": [
        {
          "output_type": "stream",
          "name": "stdout",
          "text": [
            "\n",
            "u_mass Coherence Score:  -16.3361682120392\n"
          ]
        }
      ]
    },
    {
      "cell_type": "code",
      "source": [
        "c_uci_coherence_model_hdp = CoherenceModel(model=hdp_model, texts=docs, dictionary=dictionary, coherence='c_uci')\n",
        "c_uci_coherence_hdp = c_uci_coherence_model_hdp.get_coherence()\n",
        "print('\\nc_uci Coherence Score: ', c_uci_coherence_hdp)"
      ],
      "metadata": {
        "colab": {
          "base_uri": "https://localhost:8080/"
        },
        "id": "UUJ3c_cIrL16",
        "outputId": "f909b4c3-132c-4916-9e82-742744688764"
      },
      "execution_count": null,
      "outputs": [
        {
          "output_type": "stream",
          "name": "stdout",
          "text": [
            "\n",
            "c_uci Coherence Score:  -13.552392017212053\n"
          ]
        }
      ]
    },
    {
      "cell_type": "code",
      "source": [
        "c_npmi_coherence_model_hdp = CoherenceModel(model=hdp_model, texts=docs, dictionary=dictionary, coherence='c_npmi')\n",
        "c_npmi_coherence_hdp = c_npmi_coherence_model_hdp.get_coherence()\n",
        "\n",
        "print('\\nc_npmi Coherence Score: ', c_npmi_coherence_hdp)"
      ],
      "metadata": {
        "colab": {
          "base_uri": "https://localhost:8080/"
        },
        "id": "dnpKjdwirbsy",
        "outputId": "b08a6397-540a-4a5e-a8ef-1f0484638eeb"
      },
      "execution_count": null,
      "outputs": [
        {
          "output_type": "stream",
          "name": "stdout",
          "text": [
            "\n",
            "c_npmi Coherence Score:  -0.47886777780505546\n"
          ]
        }
      ]
    },
    {
      "cell_type": "code",
      "source": [
        "#lda multicore model\n",
        "lda_multicore_model = LdaMulticore(corpus=corpus, id2word=id2word, chunksize=chunksize, \\\n",
        "                       eta='auto', \\\n",
        "                       iterations=iterations, num_topics=num_topics, \\\n",
        "                       passes=passes, eval_every=eval_every)\n",
        "# Print the Keyword in the 5 topics\n",
        "print(lda_multicore_model.print_topics())"
      ],
      "metadata": {
        "colab": {
          "base_uri": "https://localhost:8080/"
        },
        "id": "H-FshpIUsMeu",
        "outputId": "d0785545-0e53-4743-e60a-1fe13dfb25c6"
      },
      "execution_count": null,
      "outputs": [
        {
          "output_type": "stream",
          "name": "stdout",
          "text": [
            "[(0, '0.018*\"importance_high\" + 0.012*\"issue\" + 0.010*\"could\" + 0.010*\"access\" + 0.010*\"en\" + 0.010*\"th_floor\" + 0.010*\"working\" + 0.009*\"floor\" + 0.009*\"let_know\" + 0.009*\"laptop\"'), (1, '0.022*\"leaver\" + 0.021*\"name\" + 0.014*\"meeting_room\" + 0.014*\"find_attached\" + 0.013*\"form\" + 0.012*\"leave\" + 0.012*\"information\" + 0.011*\"annual_leave\" + 0.010*\"leaver_form\" + 0.009*\"floor\"'), (2, '0.038*\"card\" + 0.033*\"event\" + 0.023*\"lost\" + 0.023*\"access_card\" + 0.022*\"disk\" + 0.020*\"access\" + 0.019*\"lost_access\" + 0.016*\"details\" + 0.013*\"original_message\" + 0.013*\"changed\"'), (3, '0.029*\"purchase_po\" + 0.026*\"receive_item\" + 0.024*\"engineer_ext\" + 0.019*\"upgrade\" + 0.019*\"item\" + 0.018*\"administrator\" + 0.016*\"log\" + 0.016*\"receive\" + 0.016*\"log_allocation\" + 0.015*\"po\"'), (4, '0.047*\"card\" + 0.044*\"la\" + 0.043*\"si\" + 0.034*\"senior_engineer\" + 0.031*\"visitor\" + 0.030*\"va\" + 0.027*\"cards\" + 0.024*\"ca\" + 0.021*\"visitor_cards\" + 0.020*\"care\"')]\n"
          ]
        }
      ]
    },
    {
      "cell_type": "code",
      "source": [
        "getLDAModelAccuacy(lda_multicore_model,corpus,data,\"Label\")"
      ],
      "metadata": {
        "colab": {
          "base_uri": "https://localhost:8080/"
        },
        "id": "mosRpgb9KGJL",
        "outputId": "ca8da830-f42d-4eee-e598-c5595522555f"
      },
      "execution_count": null,
      "outputs": [
        {
          "output_type": "execute_result",
          "data": {
            "text/plain": [
              "0.17933333333333334"
            ]
          },
          "metadata": {},
          "execution_count": 50
        }
      ]
    },
    {
      "cell_type": "code",
      "source": [
        "getModelAccuacy_2(lda_multicore_model,corpus,data,\"Label\")"
      ],
      "metadata": {
        "colab": {
          "base_uri": "https://localhost:8080/"
        },
        "id": "HLPst6qXfZXV",
        "outputId": "1aeafb26-b1ed-46c9-e8f9-acb999dd3115"
      },
      "execution_count": null,
      "outputs": [
        {
          "output_type": "execute_result",
          "data": {
            "text/plain": [
              "0.179"
            ]
          },
          "metadata": {},
          "execution_count": 98
        }
      ]
    },
    {
      "cell_type": "code",
      "source": [
        "c_v_coherence_model_lda_multicore = CoherenceModel(model=lda_multicore_model, texts=docs, dictionary=dictionary, coherence='c_v')\n",
        "c_v_coherence_lda_multicore = c_v_coherence_model_lda_multicore.get_coherence()\n",
        "print('\\nC_V Coherence Score: ', c_v_coherence_lda_multicore)"
      ],
      "metadata": {
        "colab": {
          "base_uri": "https://localhost:8080/"
        },
        "id": "_3X7iZdytcnX",
        "outputId": "4622d499-cb48-4a7d-b2c7-116e58ae9071"
      },
      "execution_count": null,
      "outputs": [
        {
          "output_type": "stream",
          "name": "stdout",
          "text": [
            "\n",
            "C_V Coherence Score:  0.4618258381260487\n"
          ]
        }
      ]
    },
    {
      "cell_type": "code",
      "source": [],
      "metadata": {
        "id": "6W9CAtSeGxsP"
      },
      "execution_count": null,
      "outputs": []
    },
    {
      "cell_type": "code",
      "source": [
        "u_mass_coherence_model_lda_multicore = CoherenceModel(model=lda_multicore_model, texts=docs, dictionary=dictionary, coherence='u_mass')\n",
        "u_mass_coherence_lda_multicore = u_mass_coherence_model_lda_multicore.get_coherence()\n",
        "print('\\nu_mass Coherence Score: ', u_mass_coherence_lda_multicore)"
      ],
      "metadata": {
        "colab": {
          "base_uri": "https://localhost:8080/"
        },
        "id": "GV28jjWruzNX",
        "outputId": "c752eeb4-28ce-4433-b5b9-7c7ff2b9eaa7"
      },
      "execution_count": null,
      "outputs": [
        {
          "output_type": "stream",
          "name": "stdout",
          "text": [
            "\n",
            "u_mass Coherence Score:  -5.7525765893386875\n"
          ]
        }
      ]
    },
    {
      "cell_type": "code",
      "source": [
        "c_uci_coherence_model_lda_multicore = CoherenceModel(model=lda_multicore_model, texts=docs, dictionary=dictionary, coherence='c_uci')\n",
        "c_uci_coherence_lda_multicore = c_uci_coherence_model_lda_multicore.get_coherence()\n",
        "print('\\nc_uci Coherence Score: ', c_uci_coherence_lda_multicore)"
      ],
      "metadata": {
        "colab": {
          "base_uri": "https://localhost:8080/"
        },
        "id": "GUt4SU2qvLru",
        "outputId": "14022677-e10c-4024-bed6-3022d2aa434f"
      },
      "execution_count": null,
      "outputs": [
        {
          "output_type": "stream",
          "name": "stdout",
          "text": [
            "\n",
            "c_uci Coherence Score:  -4.618530579694157\n"
          ]
        }
      ]
    },
    {
      "cell_type": "code",
      "source": [
        "c_npmi_coherence_model_lda_multicore = CoherenceModel(model=lda_multicore_model, texts=docs, dictionary=dictionary, coherence='c_npmi')\n",
        "c_npmi_coherence_lda_multicore = c_npmi_coherence_model_lda_multicore.get_coherence()\n",
        "print('\\nc_npmi Coherence Score: ', c_npmi_coherence_lda_multicore)"
      ],
      "metadata": {
        "colab": {
          "base_uri": "https://localhost:8080/"
        },
        "id": "usWqK2aHvi9L",
        "outputId": "1c2f3cd5-323b-449e-eb2d-db3a0d588cbc"
      },
      "execution_count": null,
      "outputs": [
        {
          "output_type": "stream",
          "name": "stdout",
          "text": [
            "\n",
            "c_npmi Coherence Score:  -0.10302079743096655\n"
          ]
        }
      ]
    },
    {
      "cell_type": "code",
      "source": [
        "#ensemble lda\n",
        "ensemble_lda_model = EnsembleLda(corpus=corpus, id2word=id2word, chunksize=chunksize, \\\n",
        "                       eta='auto', \\\n",
        "                       iterations=iterations, num_topics=num_topics, \\\n",
        "                       passes=passes, eval_every=eval_every)"
      ],
      "metadata": {
        "colab": {
          "base_uri": "https://localhost:8080/"
        },
        "id": "ayGy5SnKwg88",
        "outputId": "15c4c809-0f99-4ff3-cfe3-6df264c0ebae"
      },
      "execution_count": null,
      "outputs": [
        {
          "output_type": "stream",
          "name": "stderr",
          "text": [
            "WARNING:gensim.models.ldamulticore:too few updates, training might not converge; consider increasing the number of passes or iterations to improve accuracy\n"
          ]
        }
      ]
    },
    {
      "cell_type": "code",
      "source": [
        "# Print the Keyword in the 5 topics\n",
        "print(ensemble_lda_model.print_topics())"
      ],
      "metadata": {
        "id": "CNpZ7_KjeyCs",
        "outputId": "d04f167c-238c-44fb-f8dd-3dbb053a9cf3",
        "colab": {
          "base_uri": "https://localhost:8080/"
        }
      },
      "execution_count": null,
      "outputs": [
        {
          "output_type": "stream",
          "name": "stdout",
          "text": [
            "[(0, '0.028*\"access\" + 0.018*\"card\" + 0.016*\"could\" + 0.016*\"th_floor\" + 0.016*\"en\" + 0.015*\"access_card\" + 0.014*\"issue\" + 0.014*\"let_know\" + 0.013*\"lost_access\" + 0.012*\"lost\"')]\n"
          ]
        }
      ]
    },
    {
      "cell_type": "code",
      "source": [
        "getModelAccuacy(ensemble_lda_model,corpus,data,\"Label\")"
      ],
      "metadata": {
        "colab": {
          "base_uri": "https://localhost:8080/"
        },
        "id": "f8z0zIGVfSFf",
        "outputId": "898292a7-a70a-4e10-f397-364d0b1ab0dd"
      },
      "execution_count": null,
      "outputs": [
        {
          "output_type": "execute_result",
          "data": {
            "text/plain": [
              "0.2"
            ]
          },
          "metadata": {},
          "execution_count": 97
        }
      ]
    },
    {
      "cell_type": "code",
      "source": [
        "c_v_coherence_model_ensemble_lda = CoherenceModel(model=ensemble_lda_model, texts=docs, dictionary=dictionary, coherence='c_v')\n",
        "c_v_coherence_ensemble_lda = c_v_coherence_model_ensemble_lda.get_coherence()\n",
        "print('\\nC_V Coherence Score: ', c_v_coherence_ensemble_lda)"
      ],
      "metadata": {
        "colab": {
          "base_uri": "https://localhost:8080/"
        },
        "id": "gqEzvgcHwqd3",
        "outputId": "8c0a6cdb-17c1-4f95-f9d5-c8dda553d527"
      },
      "execution_count": null,
      "outputs": [
        {
          "output_type": "stream",
          "name": "stdout",
          "text": [
            "\n",
            "C_V Coherence Score:  0.5158562384081099\n"
          ]
        }
      ]
    },
    {
      "cell_type": "code",
      "source": [
        "u_mass_coherence_model_ensemble_lda = CoherenceModel(model=ensemble_lda_model, texts=docs, dictionary=dictionary, coherence='u_mass')\n",
        "u_mass_coherence_ensemble_lda = u_mass_coherence_model_ensemble_lda.get_coherence()\n",
        "print('\\nu_mass Coherence Score: ', u_mass_coherence_ensemble_lda)"
      ],
      "metadata": {
        "colab": {
          "base_uri": "https://localhost:8080/"
        },
        "id": "KCNZ6EE5wtB6",
        "outputId": "984d47cc-1039-4190-c84b-a49655114503"
      },
      "execution_count": null,
      "outputs": [
        {
          "output_type": "stream",
          "name": "stdout",
          "text": [
            "\n",
            "u_mass Coherence Score:  -3.1626473376908413\n"
          ]
        }
      ]
    },
    {
      "cell_type": "code",
      "source": [
        "c_uci_coherence_model_ensemble_lda = CoherenceModel(model=ensemble_lda_model, texts=docs, dictionary=dictionary, coherence='c_uci')\n",
        "c_uci_coherence_ensemble_lda = c_uci_coherence_model_ensemble_lda.get_coherence()\n",
        "print('\\nc_uci Coherence Score: ', c_uci_coherence_ensemble_lda)"
      ],
      "metadata": {
        "colab": {
          "base_uri": "https://localhost:8080/"
        },
        "id": "kxoXOwY9wwak",
        "outputId": "c5154d8e-2650-4b9e-f006-5a393f1ba05b"
      },
      "execution_count": null,
      "outputs": [
        {
          "output_type": "stream",
          "name": "stdout",
          "text": [
            "\n",
            "c_uci Coherence Score:  -1.033979957905106\n"
          ]
        }
      ]
    },
    {
      "cell_type": "code",
      "source": [
        "c_npmi_coherence_model_ensemble_lda = CoherenceModel(model=ensemble_lda_model, texts=docs, dictionary=dictionary, coherence='c_npmi')\n",
        "c_npmi_coherence_ensemble_lda = c_npmi_coherence_model_ensemble_lda.get_coherence()\n",
        "print('\\nc_npmi Coherence Score: ', c_npmi_coherence_ensemble_lda)"
      ],
      "metadata": {
        "colab": {
          "base_uri": "https://localhost:8080/"
        },
        "id": "ZJ6bVp3-wxF9",
        "outputId": "4befd47a-9b73-449b-dd81-7aee8d3c63cd"
      },
      "execution_count": null,
      "outputs": [
        {
          "output_type": "stream",
          "name": "stdout",
          "text": [
            "\n",
            "c_npmi Coherence Score:  0.031161199618615208\n"
          ]
        }
      ]
    }
  ]
}