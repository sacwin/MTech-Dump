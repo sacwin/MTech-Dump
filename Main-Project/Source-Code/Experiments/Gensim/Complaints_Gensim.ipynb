{
  "nbformat": 4,
  "nbformat_minor": 0,
  "metadata": {
    "colab": {
      "provenance": []
    },
    "kernelspec": {
      "name": "python3",
      "display_name": "Python 3"
    },
    "language_info": {
      "name": "python"
    }
  },
  "cells": [
    {
      "cell_type": "code",
      "execution_count": null,
      "metadata": {
        "id": "fyx2l_vehD4i",
        "colab": {
          "base_uri": "https://localhost:8080/"
        },
        "outputId": "21ec9582-b2d3-456b-8a23-41a54de3b3a2"
      },
      "outputs": [
        {
          "output_type": "stream",
          "name": "stderr",
          "text": [
            "[nltk_data] Downloading package stopwords to /root/nltk_data...\n",
            "[nltk_data]   Unzipping corpora/stopwords.zip.\n",
            "[nltk_data] Downloading package wordnet to /root/nltk_data...\n"
          ]
        }
      ],
      "source": [
        "import nltk\n",
        "import os\n",
        "import pandas as pd\n",
        "from tqdm.notebook import tqdm\n",
        "import matplotlib.pyplot as plt\n",
        "from sklearn.feature_extraction.text import TfidfVectorizer\n",
        "from sklearn.feature_extraction.text import CountVectorizer\n",
        "from sklearn.preprocessing import LabelEncoder\n",
        "from nltk.stem import PorterStemmer\n",
        "from nltk.stem import WordNetLemmatizer\n",
        "from nltk import word_tokenize\n",
        "import numpy as np\n",
        "from gensim.models import Nmf\n",
        "from gensim.models.ldamodel import LdaModel\n",
        "from gensim.models import LsiModel\n",
        "from gensim.models import HdpModel\n",
        "from gensim.models import LdaMulticore\n",
        "from gensim.models import EnsembleLda\n",
        "from gensim.models.ldamulticore import LdaMulticore\n",
        "from gensim.models.coherencemodel import CoherenceModel\n",
        "import gensim\n",
        "import gensim.corpora as corpora\n",
        "from gensim.models import Phrases\n",
        "from gensim.utils import simple_preprocess\n",
        "from gensim.corpora.dictionary import Dictionary\n",
        "from gensim.utils import tokenize\n",
        "from nltk.corpus import stopwords\n",
        "from collections import Counter\n",
        "nltk.download('stopwords')\n",
        "nltk.download('wordnet')\n",
        "import re\n",
        "import json\n",
        "import string\n",
        "from bs4 import BeautifulSoup\n",
        "from gensim.parsing.preprocessing import (\n",
        "    strip_non_alphanum,\n",
        "    split_alphanum,\n",
        "    strip_short,\n",
        "    strip_numeric\n",
        ")\n",
        "from collections import Counter\n",
        "from wordcloud import WordCloud, STOPWORDS\n",
        "from PIL import Image\n",
        "import seaborn as sns\n",
        "import matplotlib.pyplot as plt"
      ]
    },
    {
      "cell_type": "code",
      "source": [
        "# Opening JSON file\n",
        "f = open('complaints-2021-05-14_08_16_.json')\n",
        "datafile = json.load(f)\n",
        "data = pd.json_normalize(datafile)"
      ],
      "metadata": {
        "id": "WK8dxlLPiFPK"
      },
      "execution_count": null,
      "outputs": []
    },
    {
      "cell_type": "code",
      "source": [
        "def parse_html(text, parser=\"html.parser\"):\n",
        "    soup = BeautifulSoup(text, parser)\n",
        "    soup = remove_html_tags(soup)\n",
        "    text = remove_multiple_space(soup.get_text()).strip()\n",
        "    return text\n",
        "\n",
        "\n",
        "def parse_html_v2(text, loop=2, parser=\"html.parser\"):\n",
        "    if not text:\n",
        "        text = \"\"\n",
        "    # some contents still have html code after first parse\n",
        "    # loop solved problem\n",
        "    for _ in range(loop):\n",
        "        soup = BeautifulSoup(text, parser)\n",
        "        text = soup.get_text()\n",
        "    text = remove_multiple_space(text)\n",
        "    return text\n",
        "\n",
        "\n",
        "def remove_links_content(text):\n",
        "    text = re.sub(r\"http\\S+\", \"\", text)\n",
        "    return text\n",
        "\n",
        "\n",
        "def remove_emails(text):\n",
        "    return re.sub('\\S*@\\S*\\s?', '', text)  # noqa\n",
        "\n",
        "\n",
        "def remove_punctuation(text):\n",
        "    \"\"\"https://stackoverflow.com/a/37221663\"\"\"\n",
        "    table = str.maketrans({key: None for key in string.punctuation})\n",
        "    return text.translate(table)\n",
        "\n",
        "\n",
        "def remove_special_tags(text):\n",
        "    \"\"\"Remove html tags from a string\"\"\"\n",
        "    clean = re.compile('{.*?}')\n",
        "    return re.sub(clean, '', text)\n",
        "\n",
        "\n",
        "def preprocess_text(text):\n",
        "    text = parse_html_v2(text)\n",
        "    text = text.lower()\n",
        "    text = remove_links_content(text)\n",
        "    text = remove_emails(text)\n",
        "    text = remove_special_tags(text)  # remove content between {}\n",
        "    text = remove_punctuation(text)  # remove all puntuations\n",
        "    text = split_alphanum(text)  # add space between word and numeric\n",
        "    text = strip_numeric(text)  # remove digits\n",
        "    text = strip_non_alphanum(text)  # remove non-alphabetic characters\n",
        "    text = strip_short(text, minsize=2)  # remove word with length  <  minsize\n",
        "    text = remove_multiple_space(text).strip()  # remove space and strip\n",
        "    #text = tokenize(text)\n",
        "    return text\n",
        "\n",
        "\n",
        "def remove_multiple_space(text):\n",
        "    return re.sub(\"\\s\\s+\", \" \", text)  # noqa\n",
        "\n",
        "\n",
        "def remove_html_tags(soup,\n",
        "                     tags=[\"script\", \"style\"],\n",
        "                     get_text=False):\n",
        "    for tag in tags:\n",
        "        for sample in soup.find_all(tag):\n",
        "            sample.replaceWith('')\n",
        "\n",
        "    if get_text:\n",
        "        return soup.get_text()\n",
        "    return soup"
      ],
      "metadata": {
        "id": "8kBFOf4Ziw1S"
      },
      "execution_count": null,
      "outputs": []
    },
    {
      "cell_type": "code",
      "source": [
        "data['Message_Processed'] =data[\"_source.complaint_what_happened\"].map(lambda x: preprocess_text(x))"
      ],
      "metadata": {
        "id": "QmCmTvUfjBci",
        "colab": {
          "base_uri": "https://localhost:8080/"
        },
        "outputId": "8317567d-4e68-42dd-b337-d3af3b9a27c6"
      },
      "execution_count": null,
      "outputs": [
        {
          "output_type": "stream",
          "name": "stderr",
          "text": [
            "<ipython-input-4-9c3902e42405>:14: MarkupResemblesLocatorWarning: The input looks more like a filename than markup. You may want to open this file and pass the filehandle into Beautiful Soup.\n",
            "  soup = BeautifulSoup(text, parser)\n"
          ]
        }
      ]
    },
    {
      "cell_type": "code",
      "source": [
        "stop_words = stopwords.words('english')\n",
        "custom_stop_words = ['hi', 'since', 'please', 'best', 'regards', 'thank', 'thanks', 'hello', 'sent', 'great', 'dear', 'help', 'kind']\n",
        "time_words = ['january', 'february', 'march', 'april', 'may', 'june', 'july', 'august', 'september', 'october', 'november', 'december', 'monday', 'tuesday', 'wednesday', 'thursday', 'friday', 'saturday', 'sunday', 'today' , 'yesterday', 'tomorrow', 'hour', 'hours', 'time', 'times', 'timelines', 'date', 'day', 'days', 'am', 'pm', 'morning', 'noon', 'afternoon', 'evening', 'night', 'winter', 'summer', 'rain', 'cold']\n",
        "\n",
        "def remove_stop_words(text):\n",
        "    pattern = re.compile(r'\\b(' + r'|'.join(stop_words) + r')\\b\\s*')\n",
        "    text = pattern.sub('', text)\n",
        "    return text\n",
        "\n",
        "def remove_custom_words(text):\n",
        "    pattern = re.compile(r'\\b(' + r'|'.join(custom_stop_words) + r')\\b\\s*')\n",
        "    text = pattern.sub('', text)\n",
        "    return text\n",
        "\n",
        "def remove_time_words(text):\n",
        "    pattern = re.compile(r'\\b(' + r'|'.join(time_words) + r')\\b\\s*')\n",
        "    text = pattern.sub('', text)\n",
        "    return text\n",
        "\n",
        "data['Message_Processed'] = data[\"Message_Processed\"].map(lambda x: remove_stop_words(x))\n",
        "data['Message_Processed'] = data[\"Message_Processed\"].map(lambda x: remove_custom_words(x))\n",
        "data['Message_Processed'] = data[\"Message_Processed\"].map(lambda x: remove_time_words(x))"
      ],
      "metadata": {
        "id": "7DIJaQLpIrl6"
      },
      "execution_count": null,
      "outputs": []
    },
    {
      "cell_type": "code",
      "source": [
        "# Convert body column to string for performing text operations\n",
        "data['Message_Processed'] = data['Message_Processed'].astype(str)\n",
        "data['Message_Processed'] = data[\"Message_Processed\"].map(lambda x: preprocess_text(x))"
      ],
      "metadata": {
        "id": "bP4HRYWGJIaI"
      },
      "execution_count": null,
      "outputs": []
    },
    {
      "cell_type": "code",
      "source": [
        "def sent_to_words(sentences):\n",
        "    for sentence in sentences:\n",
        "        # deacc=True removes punctuations\n",
        "        yield(gensim.utils.simple_preprocess(str(sentence), deacc=True))\n",
        "\n",
        "\n",
        "x = data['Message_Processed'].values.tolist()\n",
        "docs = list(sent_to_words(x))\n",
        "bigram = Phrases(docs, min_count=10)\n",
        "trigram = Phrases(bigram[docs])"
      ],
      "metadata": {
        "id": "oTqrKiobkIuS"
      },
      "execution_count": null,
      "outputs": []
    },
    {
      "cell_type": "code",
      "source": [
        "for idx in range(len(docs)):\n",
        "    for token in bigram[docs[idx]]:\n",
        "        if '_' in token:\n",
        "            # Token is a bigram, add to document.\n",
        "            docs[idx].append(token)\n",
        "    for token in trigram[docs[idx]]:\n",
        "        if '_' in token:\n",
        "            # Token is a bigram, add to document.\n",
        "            docs[idx].append(token)"
      ],
      "metadata": {
        "id": "TV2XzsXlkQhR"
      },
      "execution_count": null,
      "outputs": []
    },
    {
      "cell_type": "code",
      "source": [
        "#Remove rare & common tokens\n",
        "# Create a dictionary representation of the documents.\n",
        "dictionary = Dictionary(docs)\n",
        "dictionary.filter_extremes(no_below=10, no_above=0.2)\n",
        "#Create dictionary and corpus required for Topic Modeling\n",
        "corpus = [dictionary.doc2bow(doc) for doc in docs]\n",
        "print('Number of unique tokens: %d' % len(dictionary))\n",
        "print('Number of documents: %d' % len(corpus))\n",
        "print(corpus[:1])"
      ],
      "metadata": {
        "colab": {
          "base_uri": "https://localhost:8080/"
        },
        "id": "xPrn-xmMkR-2",
        "outputId": "42e1cef7-dbd8-46a0-db0e-8220987ccd42"
      },
      "execution_count": null,
      "outputs": [
        {
          "output_type": "stream",
          "name": "stdout",
          "text": [
            "Number of unique tokens: 10958\n",
            "Number of documents: 78313\n",
            "[[]]\n"
          ]
        }
      ]
    },
    {
      "cell_type": "code",
      "source": [
        "# Set parameters.\n",
        "num_topics = 10\n",
        "chunksize = 500\n",
        "passes = 20\n",
        "iterations = 400\n",
        "eval_every = 1\n",
        "\n",
        "# Make a index to word dictionary.\n",
        "temp = dictionary[0]  # only to \"load\" the dictionary.\n",
        "id2word = dictionary.id2token"
      ],
      "metadata": {
        "id": "IN632ZgKc1Up"
      },
      "execution_count": null,
      "outputs": []
    },
    {
      "cell_type": "code",
      "source": [
        "data"
      ],
      "metadata": {
        "colab": {
          "base_uri": "https://localhost:8080/",
          "height": 773
        },
        "id": "U2cLhHhhUi0g",
        "outputId": "0708b018-84a8-4500-988d-76f59669fe5e"
      },
      "execution_count": null,
      "outputs": [
        {
          "output_type": "execute_result",
          "data": {
            "text/plain": [
              "                    _index      _type      _id  _score   _source.tags  \\\n",
              "0      complaint-public-v2  complaint  3211475     0.0           None   \n",
              "1      complaint-public-v2  complaint  3229299     0.0  Servicemember   \n",
              "2      complaint-public-v2  complaint  3199379     0.0           None   \n",
              "3      complaint-public-v2  complaint  2673060     0.0           None   \n",
              "4      complaint-public-v2  complaint  3203545     0.0           None   \n",
              "...                    ...        ...      ...     ...            ...   \n",
              "78308  complaint-public-v2  complaint  3105617     0.0           None   \n",
              "78309  complaint-public-v2  complaint  3091984     0.0           None   \n",
              "78310  complaint-public-v2  complaint  3133355     0.0           None   \n",
              "78311  complaint-public-v2  complaint  3110963     0.0           None   \n",
              "78312  complaint-public-v2  complaint  2001189     0.0           None   \n",
              "\n",
              "      _source.zip_code _source.complaint_id  \\\n",
              "0                90301              3211475   \n",
              "1                319XX              3229299   \n",
              "2                77069              3199379   \n",
              "3                48066              2673060   \n",
              "4                10473              3203545   \n",
              "...                ...                  ...   \n",
              "78308            08857              3105617   \n",
              "78309            934XX              3091984   \n",
              "78310            923XX              3133355   \n",
              "78311             None              3110963   \n",
              "78312             None              2001189   \n",
              "\n",
              "                                           _source.issue  \\\n",
              "0                      Attempts to collect debt not owed   \n",
              "1                        Written notification about debt   \n",
              "2                     Other features, terms, or problems   \n",
              "3                         Trouble during payment process   \n",
              "4                                       Fees or interest   \n",
              "...                                                  ...   \n",
              "78308                                 Closing an account   \n",
              "78309                 Other features, terms, or problems   \n",
              "78310  Problem with a lender or other company chargin...   \n",
              "78311                 Other features, terms, or problems   \n",
              "78312                       Payment to acct not credited   \n",
              "\n",
              "           _source.date_received _source.state  ...       _source.company  \\\n",
              "0      2019-04-13T12:00:00-05:00            CA  ...  JPMORGAN CHASE & CO.   \n",
              "1      2019-05-01T12:00:00-05:00            GA  ...  JPMORGAN CHASE & CO.   \n",
              "2      2019-04-02T12:00:00-05:00            TX  ...  JPMORGAN CHASE & CO.   \n",
              "3      2017-09-13T12:00:00-05:00            MI  ...  JPMORGAN CHASE & CO.   \n",
              "4      2019-04-05T12:00:00-05:00            NY  ...  JPMORGAN CHASE & CO.   \n",
              "...                          ...           ...  ...                   ...   \n",
              "78308  2018-12-20T12:00:00-05:00            NJ  ...  JPMORGAN CHASE & CO.   \n",
              "78309  2018-12-05T12:00:00-05:00            CA  ...  JPMORGAN CHASE & CO.   \n",
              "78310  2019-01-25T12:00:00-05:00            CA  ...  JPMORGAN CHASE & CO.   \n",
              "78311  2018-12-27T12:00:00-05:00            PA  ...  JPMORGAN CHASE & CO.   \n",
              "78312  2016-07-06T12:00:00-05:00            MI  ...  JPMORGAN CHASE & CO.   \n",
              "\n",
              "      _source.submitted_via _source.date_sent_to_company  \\\n",
              "0                       Web    2019-04-13T12:00:00-05:00   \n",
              "1                       Web    2019-05-01T12:00:00-05:00   \n",
              "2                       Web    2019-04-02T12:00:00-05:00   \n",
              "3                       Web    2017-09-14T12:00:00-05:00   \n",
              "4                  Referral    2019-04-05T12:00:00-05:00   \n",
              "...                     ...                          ...   \n",
              "78308                   Web    2018-12-21T12:00:00-05:00   \n",
              "78309                   Web    2018-12-05T12:00:00-05:00   \n",
              "78310                   Web    2019-01-25T12:00:00-05:00   \n",
              "78311                   Web    2018-12-27T12:00:00-05:00   \n",
              "78312                   Web    2016-07-07T12:00:00-05:00   \n",
              "\n",
              "      _source.company_public_response  \\\n",
              "0                                None   \n",
              "1                                None   \n",
              "2                                None   \n",
              "3                                None   \n",
              "4                                None   \n",
              "...                               ...   \n",
              "78308                            None   \n",
              "78309                            None   \n",
              "78310                            None   \n",
              "78311                            None   \n",
              "78312                            None   \n",
              "\n",
              "                              _source.sub_product _source.timely  \\\n",
              "0                                Credit card debt            Yes   \n",
              "1                                Credit card debt            Yes   \n",
              "2      General-purpose credit card or charge card            Yes   \n",
              "3                      Conventional home mortgage            Yes   \n",
              "4      General-purpose credit card or charge card            Yes   \n",
              "...                                           ...            ...   \n",
              "78308                            Checking account            Yes   \n",
              "78309  General-purpose credit card or charge card            Yes   \n",
              "78310                            Checking account            Yes   \n",
              "78311  General-purpose credit card or charge card            Yes   \n",
              "78312                                        None            Yes   \n",
              "\n",
              "                         _source.complaint_what_happened  \\\n",
              "0                                                          \n",
              "1      Good morning my name is XXXX XXXX and I apprec...   \n",
              "2      I upgraded my XXXX XXXX card in XX/XX/2018 and...   \n",
              "3                                                          \n",
              "4                                                          \n",
              "...                                                  ...   \n",
              "78308                                                      \n",
              "78309  On Wednesday, XX/XX/XXXX I called Chas, my XXX...   \n",
              "78310  I am not familiar with XXXX pay and did not un...   \n",
              "78311  I have had flawless credit for 30 yrs. I've ha...   \n",
              "78312  Roughly 10+ years ago I closed out my accounts...   \n",
              "\n",
              "                                      _source.sub_issue  \\\n",
              "0                                     Debt is not yours   \n",
              "1      Didn't receive enough information to verify debt   \n",
              "2                 Problem with rewards from credit card   \n",
              "3                                                  None   \n",
              "4                             Charged too much interest   \n",
              "...                                                 ...   \n",
              "78308            Funds not received from closed account   \n",
              "78309                                     Other problem   \n",
              "78310                    Transaction was not authorized   \n",
              "78311                     Problem with balance transfer   \n",
              "78312                                              None   \n",
              "\n",
              "      _source.consumer_consent_provided  \\\n",
              "0                  Consent not provided   \n",
              "1                      Consent provided   \n",
              "2                      Consent provided   \n",
              "3                  Consent not provided   \n",
              "4                                   N/A   \n",
              "...                                 ...   \n",
              "78308              Consent not provided   \n",
              "78309                  Consent provided   \n",
              "78310                  Consent provided   \n",
              "78311                  Consent provided   \n",
              "78312                  Consent provided   \n",
              "\n",
              "                                       Message_Processed  \n",
              "0                                                         \n",
              "1      good name xxxx xxxx appreciate could put stop ...  \n",
              "2      upgraded xxxx xxxx card xxxx told agent upgrad...  \n",
              "3                                                         \n",
              "4                                                         \n",
              "...                                                  ...  \n",
              "78308                                                     \n",
              "78309  xxxxxxxx called chas xxxx xxxx visa credit car...  \n",
              "78310  familiar xxxx pay understand risk provides con...  \n",
              "78311  flawless credit yrs ive chase credit cards cha...  \n",
              "78312  roughly years ago closed accounts jp morgan ch...  \n",
              "\n",
              "[78313 rows x 23 columns]"
            ],
            "text/html": [
              "\n",
              "  <div id=\"df-e123a411-eef1-40c5-ab71-4d2d7ed2ba51\" class=\"colab-df-container\">\n",
              "    <div>\n",
              "<style scoped>\n",
              "    .dataframe tbody tr th:only-of-type {\n",
              "        vertical-align: middle;\n",
              "    }\n",
              "\n",
              "    .dataframe tbody tr th {\n",
              "        vertical-align: top;\n",
              "    }\n",
              "\n",
              "    .dataframe thead th {\n",
              "        text-align: right;\n",
              "    }\n",
              "</style>\n",
              "<table border=\"1\" class=\"dataframe\">\n",
              "  <thead>\n",
              "    <tr style=\"text-align: right;\">\n",
              "      <th></th>\n",
              "      <th>_index</th>\n",
              "      <th>_type</th>\n",
              "      <th>_id</th>\n",
              "      <th>_score</th>\n",
              "      <th>_source.tags</th>\n",
              "      <th>_source.zip_code</th>\n",
              "      <th>_source.complaint_id</th>\n",
              "      <th>_source.issue</th>\n",
              "      <th>_source.date_received</th>\n",
              "      <th>_source.state</th>\n",
              "      <th>...</th>\n",
              "      <th>_source.company</th>\n",
              "      <th>_source.submitted_via</th>\n",
              "      <th>_source.date_sent_to_company</th>\n",
              "      <th>_source.company_public_response</th>\n",
              "      <th>_source.sub_product</th>\n",
              "      <th>_source.timely</th>\n",
              "      <th>_source.complaint_what_happened</th>\n",
              "      <th>_source.sub_issue</th>\n",
              "      <th>_source.consumer_consent_provided</th>\n",
              "      <th>Message_Processed</th>\n",
              "    </tr>\n",
              "  </thead>\n",
              "  <tbody>\n",
              "    <tr>\n",
              "      <th>0</th>\n",
              "      <td>complaint-public-v2</td>\n",
              "      <td>complaint</td>\n",
              "      <td>3211475</td>\n",
              "      <td>0.0</td>\n",
              "      <td>None</td>\n",
              "      <td>90301</td>\n",
              "      <td>3211475</td>\n",
              "      <td>Attempts to collect debt not owed</td>\n",
              "      <td>2019-04-13T12:00:00-05:00</td>\n",
              "      <td>CA</td>\n",
              "      <td>...</td>\n",
              "      <td>JPMORGAN CHASE &amp; CO.</td>\n",
              "      <td>Web</td>\n",
              "      <td>2019-04-13T12:00:00-05:00</td>\n",
              "      <td>None</td>\n",
              "      <td>Credit card debt</td>\n",
              "      <td>Yes</td>\n",
              "      <td></td>\n",
              "      <td>Debt is not yours</td>\n",
              "      <td>Consent not provided</td>\n",
              "      <td></td>\n",
              "    </tr>\n",
              "    <tr>\n",
              "      <th>1</th>\n",
              "      <td>complaint-public-v2</td>\n",
              "      <td>complaint</td>\n",
              "      <td>3229299</td>\n",
              "      <td>0.0</td>\n",
              "      <td>Servicemember</td>\n",
              "      <td>319XX</td>\n",
              "      <td>3229299</td>\n",
              "      <td>Written notification about debt</td>\n",
              "      <td>2019-05-01T12:00:00-05:00</td>\n",
              "      <td>GA</td>\n",
              "      <td>...</td>\n",
              "      <td>JPMORGAN CHASE &amp; CO.</td>\n",
              "      <td>Web</td>\n",
              "      <td>2019-05-01T12:00:00-05:00</td>\n",
              "      <td>None</td>\n",
              "      <td>Credit card debt</td>\n",
              "      <td>Yes</td>\n",
              "      <td>Good morning my name is XXXX XXXX and I apprec...</td>\n",
              "      <td>Didn't receive enough information to verify debt</td>\n",
              "      <td>Consent provided</td>\n",
              "      <td>good name xxxx xxxx appreciate could put stop ...</td>\n",
              "    </tr>\n",
              "    <tr>\n",
              "      <th>2</th>\n",
              "      <td>complaint-public-v2</td>\n",
              "      <td>complaint</td>\n",
              "      <td>3199379</td>\n",
              "      <td>0.0</td>\n",
              "      <td>None</td>\n",
              "      <td>77069</td>\n",
              "      <td>3199379</td>\n",
              "      <td>Other features, terms, or problems</td>\n",
              "      <td>2019-04-02T12:00:00-05:00</td>\n",
              "      <td>TX</td>\n",
              "      <td>...</td>\n",
              "      <td>JPMORGAN CHASE &amp; CO.</td>\n",
              "      <td>Web</td>\n",
              "      <td>2019-04-02T12:00:00-05:00</td>\n",
              "      <td>None</td>\n",
              "      <td>General-purpose credit card or charge card</td>\n",
              "      <td>Yes</td>\n",
              "      <td>I upgraded my XXXX XXXX card in XX/XX/2018 and...</td>\n",
              "      <td>Problem with rewards from credit card</td>\n",
              "      <td>Consent provided</td>\n",
              "      <td>upgraded xxxx xxxx card xxxx told agent upgrad...</td>\n",
              "    </tr>\n",
              "    <tr>\n",
              "      <th>3</th>\n",
              "      <td>complaint-public-v2</td>\n",
              "      <td>complaint</td>\n",
              "      <td>2673060</td>\n",
              "      <td>0.0</td>\n",
              "      <td>None</td>\n",
              "      <td>48066</td>\n",
              "      <td>2673060</td>\n",
              "      <td>Trouble during payment process</td>\n",
              "      <td>2017-09-13T12:00:00-05:00</td>\n",
              "      <td>MI</td>\n",
              "      <td>...</td>\n",
              "      <td>JPMORGAN CHASE &amp; CO.</td>\n",
              "      <td>Web</td>\n",
              "      <td>2017-09-14T12:00:00-05:00</td>\n",
              "      <td>None</td>\n",
              "      <td>Conventional home mortgage</td>\n",
              "      <td>Yes</td>\n",
              "      <td></td>\n",
              "      <td>None</td>\n",
              "      <td>Consent not provided</td>\n",
              "      <td></td>\n",
              "    </tr>\n",
              "    <tr>\n",
              "      <th>4</th>\n",
              "      <td>complaint-public-v2</td>\n",
              "      <td>complaint</td>\n",
              "      <td>3203545</td>\n",
              "      <td>0.0</td>\n",
              "      <td>None</td>\n",
              "      <td>10473</td>\n",
              "      <td>3203545</td>\n",
              "      <td>Fees or interest</td>\n",
              "      <td>2019-04-05T12:00:00-05:00</td>\n",
              "      <td>NY</td>\n",
              "      <td>...</td>\n",
              "      <td>JPMORGAN CHASE &amp; CO.</td>\n",
              "      <td>Referral</td>\n",
              "      <td>2019-04-05T12:00:00-05:00</td>\n",
              "      <td>None</td>\n",
              "      <td>General-purpose credit card or charge card</td>\n",
              "      <td>Yes</td>\n",
              "      <td></td>\n",
              "      <td>Charged too much interest</td>\n",
              "      <td>N/A</td>\n",
              "      <td></td>\n",
              "    </tr>\n",
              "    <tr>\n",
              "      <th>...</th>\n",
              "      <td>...</td>\n",
              "      <td>...</td>\n",
              "      <td>...</td>\n",
              "      <td>...</td>\n",
              "      <td>...</td>\n",
              "      <td>...</td>\n",
              "      <td>...</td>\n",
              "      <td>...</td>\n",
              "      <td>...</td>\n",
              "      <td>...</td>\n",
              "      <td>...</td>\n",
              "      <td>...</td>\n",
              "      <td>...</td>\n",
              "      <td>...</td>\n",
              "      <td>...</td>\n",
              "      <td>...</td>\n",
              "      <td>...</td>\n",
              "      <td>...</td>\n",
              "      <td>...</td>\n",
              "      <td>...</td>\n",
              "      <td>...</td>\n",
              "    </tr>\n",
              "    <tr>\n",
              "      <th>78308</th>\n",
              "      <td>complaint-public-v2</td>\n",
              "      <td>complaint</td>\n",
              "      <td>3105617</td>\n",
              "      <td>0.0</td>\n",
              "      <td>None</td>\n",
              "      <td>08857</td>\n",
              "      <td>3105617</td>\n",
              "      <td>Closing an account</td>\n",
              "      <td>2018-12-20T12:00:00-05:00</td>\n",
              "      <td>NJ</td>\n",
              "      <td>...</td>\n",
              "      <td>JPMORGAN CHASE &amp; CO.</td>\n",
              "      <td>Web</td>\n",
              "      <td>2018-12-21T12:00:00-05:00</td>\n",
              "      <td>None</td>\n",
              "      <td>Checking account</td>\n",
              "      <td>Yes</td>\n",
              "      <td></td>\n",
              "      <td>Funds not received from closed account</td>\n",
              "      <td>Consent not provided</td>\n",
              "      <td></td>\n",
              "    </tr>\n",
              "    <tr>\n",
              "      <th>78309</th>\n",
              "      <td>complaint-public-v2</td>\n",
              "      <td>complaint</td>\n",
              "      <td>3091984</td>\n",
              "      <td>0.0</td>\n",
              "      <td>None</td>\n",
              "      <td>934XX</td>\n",
              "      <td>3091984</td>\n",
              "      <td>Other features, terms, or problems</td>\n",
              "      <td>2018-12-05T12:00:00-05:00</td>\n",
              "      <td>CA</td>\n",
              "      <td>...</td>\n",
              "      <td>JPMORGAN CHASE &amp; CO.</td>\n",
              "      <td>Web</td>\n",
              "      <td>2018-12-05T12:00:00-05:00</td>\n",
              "      <td>None</td>\n",
              "      <td>General-purpose credit card or charge card</td>\n",
              "      <td>Yes</td>\n",
              "      <td>On Wednesday, XX/XX/XXXX I called Chas, my XXX...</td>\n",
              "      <td>Other problem</td>\n",
              "      <td>Consent provided</td>\n",
              "      <td>xxxxxxxx called chas xxxx xxxx visa credit car...</td>\n",
              "    </tr>\n",
              "    <tr>\n",
              "      <th>78310</th>\n",
              "      <td>complaint-public-v2</td>\n",
              "      <td>complaint</td>\n",
              "      <td>3133355</td>\n",
              "      <td>0.0</td>\n",
              "      <td>None</td>\n",
              "      <td>923XX</td>\n",
              "      <td>3133355</td>\n",
              "      <td>Problem with a lender or other company chargin...</td>\n",
              "      <td>2019-01-25T12:00:00-05:00</td>\n",
              "      <td>CA</td>\n",
              "      <td>...</td>\n",
              "      <td>JPMORGAN CHASE &amp; CO.</td>\n",
              "      <td>Web</td>\n",
              "      <td>2019-01-25T12:00:00-05:00</td>\n",
              "      <td>None</td>\n",
              "      <td>Checking account</td>\n",
              "      <td>Yes</td>\n",
              "      <td>I am not familiar with XXXX pay and did not un...</td>\n",
              "      <td>Transaction was not authorized</td>\n",
              "      <td>Consent provided</td>\n",
              "      <td>familiar xxxx pay understand risk provides con...</td>\n",
              "    </tr>\n",
              "    <tr>\n",
              "      <th>78311</th>\n",
              "      <td>complaint-public-v2</td>\n",
              "      <td>complaint</td>\n",
              "      <td>3110963</td>\n",
              "      <td>0.0</td>\n",
              "      <td>None</td>\n",
              "      <td>None</td>\n",
              "      <td>3110963</td>\n",
              "      <td>Other features, terms, or problems</td>\n",
              "      <td>2018-12-27T12:00:00-05:00</td>\n",
              "      <td>PA</td>\n",
              "      <td>...</td>\n",
              "      <td>JPMORGAN CHASE &amp; CO.</td>\n",
              "      <td>Web</td>\n",
              "      <td>2018-12-27T12:00:00-05:00</td>\n",
              "      <td>None</td>\n",
              "      <td>General-purpose credit card or charge card</td>\n",
              "      <td>Yes</td>\n",
              "      <td>I have had flawless credit for 30 yrs. I've ha...</td>\n",
              "      <td>Problem with balance transfer</td>\n",
              "      <td>Consent provided</td>\n",
              "      <td>flawless credit yrs ive chase credit cards cha...</td>\n",
              "    </tr>\n",
              "    <tr>\n",
              "      <th>78312</th>\n",
              "      <td>complaint-public-v2</td>\n",
              "      <td>complaint</td>\n",
              "      <td>2001189</td>\n",
              "      <td>0.0</td>\n",
              "      <td>None</td>\n",
              "      <td>None</td>\n",
              "      <td>2001189</td>\n",
              "      <td>Payment to acct not credited</td>\n",
              "      <td>2016-07-06T12:00:00-05:00</td>\n",
              "      <td>MI</td>\n",
              "      <td>...</td>\n",
              "      <td>JPMORGAN CHASE &amp; CO.</td>\n",
              "      <td>Web</td>\n",
              "      <td>2016-07-07T12:00:00-05:00</td>\n",
              "      <td>None</td>\n",
              "      <td>None</td>\n",
              "      <td>Yes</td>\n",
              "      <td>Roughly 10+ years ago I closed out my accounts...</td>\n",
              "      <td>None</td>\n",
              "      <td>Consent provided</td>\n",
              "      <td>roughly years ago closed accounts jp morgan ch...</td>\n",
              "    </tr>\n",
              "  </tbody>\n",
              "</table>\n",
              "<p>78313 rows × 23 columns</p>\n",
              "</div>\n",
              "    <div class=\"colab-df-buttons\">\n",
              "\n",
              "  <div class=\"colab-df-container\">\n",
              "    <button class=\"colab-df-convert\" onclick=\"convertToInteractive('df-e123a411-eef1-40c5-ab71-4d2d7ed2ba51')\"\n",
              "            title=\"Convert this dataframe to an interactive table.\"\n",
              "            style=\"display:none;\">\n",
              "\n",
              "  <svg xmlns=\"http://www.w3.org/2000/svg\" height=\"24px\" viewBox=\"0 -960 960 960\">\n",
              "    <path d=\"M120-120v-720h720v720H120Zm60-500h600v-160H180v160Zm220 220h160v-160H400v160Zm0 220h160v-160H400v160ZM180-400h160v-160H180v160Zm440 0h160v-160H620v160ZM180-180h160v-160H180v160Zm440 0h160v-160H620v160Z\"/>\n",
              "  </svg>\n",
              "    </button>\n",
              "\n",
              "  <style>\n",
              "    .colab-df-container {\n",
              "      display:flex;\n",
              "      gap: 12px;\n",
              "    }\n",
              "\n",
              "    .colab-df-convert {\n",
              "      background-color: #E8F0FE;\n",
              "      border: none;\n",
              "      border-radius: 50%;\n",
              "      cursor: pointer;\n",
              "      display: none;\n",
              "      fill: #1967D2;\n",
              "      height: 32px;\n",
              "      padding: 0 0 0 0;\n",
              "      width: 32px;\n",
              "    }\n",
              "\n",
              "    .colab-df-convert:hover {\n",
              "      background-color: #E2EBFA;\n",
              "      box-shadow: 0px 1px 2px rgba(60, 64, 67, 0.3), 0px 1px 3px 1px rgba(60, 64, 67, 0.15);\n",
              "      fill: #174EA6;\n",
              "    }\n",
              "\n",
              "    .colab-df-buttons div {\n",
              "      margin-bottom: 4px;\n",
              "    }\n",
              "\n",
              "    [theme=dark] .colab-df-convert {\n",
              "      background-color: #3B4455;\n",
              "      fill: #D2E3FC;\n",
              "    }\n",
              "\n",
              "    [theme=dark] .colab-df-convert:hover {\n",
              "      background-color: #434B5C;\n",
              "      box-shadow: 0px 1px 3px 1px rgba(0, 0, 0, 0.15);\n",
              "      filter: drop-shadow(0px 1px 2px rgba(0, 0, 0, 0.3));\n",
              "      fill: #FFFFFF;\n",
              "    }\n",
              "  </style>\n",
              "\n",
              "    <script>\n",
              "      const buttonEl =\n",
              "        document.querySelector('#df-e123a411-eef1-40c5-ab71-4d2d7ed2ba51 button.colab-df-convert');\n",
              "      buttonEl.style.display =\n",
              "        google.colab.kernel.accessAllowed ? 'block' : 'none';\n",
              "\n",
              "      async function convertToInteractive(key) {\n",
              "        const element = document.querySelector('#df-e123a411-eef1-40c5-ab71-4d2d7ed2ba51');\n",
              "        const dataTable =\n",
              "          await google.colab.kernel.invokeFunction('convertToInteractive',\n",
              "                                                    [key], {});\n",
              "        if (!dataTable) return;\n",
              "\n",
              "        const docLinkHtml = 'Like what you see? Visit the ' +\n",
              "          '<a target=\"_blank\" href=https://colab.research.google.com/notebooks/data_table.ipynb>data table notebook</a>'\n",
              "          + ' to learn more about interactive tables.';\n",
              "        element.innerHTML = '';\n",
              "        dataTable['output_type'] = 'display_data';\n",
              "        await google.colab.output.renderOutput(dataTable, element);\n",
              "        const docLink = document.createElement('div');\n",
              "        docLink.innerHTML = docLinkHtml;\n",
              "        element.appendChild(docLink);\n",
              "      }\n",
              "    </script>\n",
              "  </div>\n",
              "\n",
              "\n",
              "<div id=\"df-13267dfb-74cf-4a5d-a7e7-a99c11f9bb43\">\n",
              "  <button class=\"colab-df-quickchart\" onclick=\"quickchart('df-13267dfb-74cf-4a5d-a7e7-a99c11f9bb43')\"\n",
              "            title=\"Suggest charts\"\n",
              "            style=\"display:none;\">\n",
              "\n",
              "<svg xmlns=\"http://www.w3.org/2000/svg\" height=\"24px\"viewBox=\"0 0 24 24\"\n",
              "     width=\"24px\">\n",
              "    <g>\n",
              "        <path d=\"M19 3H5c-1.1 0-2 .9-2 2v14c0 1.1.9 2 2 2h14c1.1 0 2-.9 2-2V5c0-1.1-.9-2-2-2zM9 17H7v-7h2v7zm4 0h-2V7h2v10zm4 0h-2v-4h2v4z\"/>\n",
              "    </g>\n",
              "</svg>\n",
              "  </button>\n",
              "\n",
              "<style>\n",
              "  .colab-df-quickchart {\n",
              "      --bg-color: #E8F0FE;\n",
              "      --fill-color: #1967D2;\n",
              "      --hover-bg-color: #E2EBFA;\n",
              "      --hover-fill-color: #174EA6;\n",
              "      --disabled-fill-color: #AAA;\n",
              "      --disabled-bg-color: #DDD;\n",
              "  }\n",
              "\n",
              "  [theme=dark] .colab-df-quickchart {\n",
              "      --bg-color: #3B4455;\n",
              "      --fill-color: #D2E3FC;\n",
              "      --hover-bg-color: #434B5C;\n",
              "      --hover-fill-color: #FFFFFF;\n",
              "      --disabled-bg-color: #3B4455;\n",
              "      --disabled-fill-color: #666;\n",
              "  }\n",
              "\n",
              "  .colab-df-quickchart {\n",
              "    background-color: var(--bg-color);\n",
              "    border: none;\n",
              "    border-radius: 50%;\n",
              "    cursor: pointer;\n",
              "    display: none;\n",
              "    fill: var(--fill-color);\n",
              "    height: 32px;\n",
              "    padding: 0;\n",
              "    width: 32px;\n",
              "  }\n",
              "\n",
              "  .colab-df-quickchart:hover {\n",
              "    background-color: var(--hover-bg-color);\n",
              "    box-shadow: 0 1px 2px rgba(60, 64, 67, 0.3), 0 1px 3px 1px rgba(60, 64, 67, 0.15);\n",
              "    fill: var(--button-hover-fill-color);\n",
              "  }\n",
              "\n",
              "  .colab-df-quickchart-complete:disabled,\n",
              "  .colab-df-quickchart-complete:disabled:hover {\n",
              "    background-color: var(--disabled-bg-color);\n",
              "    fill: var(--disabled-fill-color);\n",
              "    box-shadow: none;\n",
              "  }\n",
              "\n",
              "  .colab-df-spinner {\n",
              "    border: 2px solid var(--fill-color);\n",
              "    border-color: transparent;\n",
              "    border-bottom-color: var(--fill-color);\n",
              "    animation:\n",
              "      spin 1s steps(1) infinite;\n",
              "  }\n",
              "\n",
              "  @keyframes spin {\n",
              "    0% {\n",
              "      border-color: transparent;\n",
              "      border-bottom-color: var(--fill-color);\n",
              "      border-left-color: var(--fill-color);\n",
              "    }\n",
              "    20% {\n",
              "      border-color: transparent;\n",
              "      border-left-color: var(--fill-color);\n",
              "      border-top-color: var(--fill-color);\n",
              "    }\n",
              "    30% {\n",
              "      border-color: transparent;\n",
              "      border-left-color: var(--fill-color);\n",
              "      border-top-color: var(--fill-color);\n",
              "      border-right-color: var(--fill-color);\n",
              "    }\n",
              "    40% {\n",
              "      border-color: transparent;\n",
              "      border-right-color: var(--fill-color);\n",
              "      border-top-color: var(--fill-color);\n",
              "    }\n",
              "    60% {\n",
              "      border-color: transparent;\n",
              "      border-right-color: var(--fill-color);\n",
              "    }\n",
              "    80% {\n",
              "      border-color: transparent;\n",
              "      border-right-color: var(--fill-color);\n",
              "      border-bottom-color: var(--fill-color);\n",
              "    }\n",
              "    90% {\n",
              "      border-color: transparent;\n",
              "      border-bottom-color: var(--fill-color);\n",
              "    }\n",
              "  }\n",
              "</style>\n",
              "\n",
              "  <script>\n",
              "    async function quickchart(key) {\n",
              "      const quickchartButtonEl =\n",
              "        document.querySelector('#' + key + ' button');\n",
              "      quickchartButtonEl.disabled = true;  // To prevent multiple clicks.\n",
              "      quickchartButtonEl.classList.add('colab-df-spinner');\n",
              "      try {\n",
              "        const charts = await google.colab.kernel.invokeFunction(\n",
              "            'suggestCharts', [key], {});\n",
              "      } catch (error) {\n",
              "        console.error('Error during call to suggestCharts:', error);\n",
              "      }\n",
              "      quickchartButtonEl.classList.remove('colab-df-spinner');\n",
              "      quickchartButtonEl.classList.add('colab-df-quickchart-complete');\n",
              "    }\n",
              "    (() => {\n",
              "      let quickchartButtonEl =\n",
              "        document.querySelector('#df-13267dfb-74cf-4a5d-a7e7-a99c11f9bb43 button');\n",
              "      quickchartButtonEl.style.display =\n",
              "        google.colab.kernel.accessAllowed ? 'block' : 'none';\n",
              "    })();\n",
              "  </script>\n",
              "</div>\n",
              "    </div>\n",
              "  </div>\n"
            ],
            "application/vnd.google.colaboratory.intrinsic+json": {
              "type": "dataframe",
              "variable_name": "data"
            }
          },
          "metadata": {},
          "execution_count": 12
        }
      ]
    },
    {
      "cell_type": "code",
      "source": [
        "data['_type'].unique()"
      ],
      "metadata": {
        "colab": {
          "base_uri": "https://localhost:8080/"
        },
        "id": "Rd9VMkclUupI",
        "outputId": "deeb03c0-cf2c-4ff4-a311-e2423329181f"
      },
      "execution_count": null,
      "outputs": [
        {
          "output_type": "execute_result",
          "data": {
            "text/plain": [
              "array(['complaint'], dtype=object)"
            ]
          },
          "metadata": {},
          "execution_count": 13
        }
      ]
    },
    {
      "cell_type": "code",
      "source": [
        "from sklearn.preprocessing import LabelEncoder\n",
        "LE = LabelEncoder()\n",
        "data['Label'] = LE.fit_transform(data['Category'])"
      ],
      "metadata": {
        "id": "jFhJEAV-JXId"
      },
      "execution_count": null,
      "outputs": []
    },
    {
      "cell_type": "code",
      "source": [
        "from sklearn.metrics import accuracy_score\n",
        "def getModelAccuacy(model, corpus, dataset, Label):\n",
        "  get_document_topics=model.__getitem__(corpus)\n",
        "  #np_array_of_objects = np.asarray(get_document_topics, dtype=\"object\")\n",
        "  pred_df = pd.DataFrame(columns=['pred_label'])\n",
        "  length = len(get_document_topics)\n",
        "  dict_list = []\n",
        "  for i in range(0,length):\n",
        "    count=len(get_document_topics[i])\n",
        "    max=0\n",
        "    for j in range(0,count):\n",
        "      if(max < get_document_topics[i][j][1]):\n",
        "        max=get_document_topics[i][j][1]\n",
        "        label=get_document_topics[i][j][0]\n",
        "    row_dict = {'pred_label': label}\n",
        "    dict_list.append(row_dict)\n",
        "  pred_df = pd.DataFrame.from_dict(dict_list)\n",
        "  y_pred = pred_df['pred_label'].values\n",
        "  y_true = dataset['Label'].values\n",
        "  return(accuracy_score(y_true, y_pred))"
      ],
      "metadata": {
        "id": "dpccuR1OJdtD"
      },
      "execution_count": null,
      "outputs": []
    },
    {
      "cell_type": "code",
      "source": [
        "from sklearn.metrics import accuracy_score\n",
        "def getLDAModelAccuacy(model, corpus, dataset, Label):\n",
        "  get_document_topics = [model.get_document_topics(item) for item in corpus]\n",
        "  np_array_of_objects = np.asarray(get_document_topics, dtype=\"object\")\n",
        "  pred_df = pd.DataFrame(columns=['pred_label'])\n",
        "  length = len(pd.DataFrame(np_array_of_objects)[0])\n",
        "  dict_list = []\n",
        "  for i in range(0,length):\n",
        "    count=len(pd.DataFrame(np_array_of_objects)[0][i])\n",
        "    max=0\n",
        "    for j in range(0,count):\n",
        "      if(max < (pd.DataFrame(np_array_of_objects)[0][i])[j][1]):\n",
        "        max=(pd.DataFrame(np_array_of_objects)[0][i])[j][1]\n",
        "        label=(pd.DataFrame(np_array_of_objects)[0][i])[j][0]\n",
        "    row_dict = {'pred_label': label}\n",
        "    dict_list.append(row_dict)\n",
        "  pred_df = pd.DataFrame.from_dict(dict_list)\n",
        "  y_pred = pred_df['pred_label'].values\n",
        "  y_true = dataset['Label'].values\n",
        "  return(accuracy_score(y_true, y_pred))"
      ],
      "metadata": {
        "id": "U8VDEB0XJedB"
      },
      "execution_count": null,
      "outputs": []
    },
    {
      "cell_type": "code",
      "source": [
        "#nmf model\n",
        "nmf_model = Nmf(corpus=corpus, id2word=id2word, chunksize=chunksize, \\\n",
        "                       w_max_iter=iterations, num_topics=num_topics, \\\n",
        "                       passes=passes, eval_every=eval_every)\n",
        "# Print the Keyword in the 10 topics\n",
        "print(nmf_model.print_topics())"
      ],
      "metadata": {
        "colab": {
          "base_uri": "https://localhost:8080/"
        },
        "id": "lGfkfkMYRq0W",
        "outputId": "6b90bf22-c258-4833-b718-038290e6578a"
      },
      "execution_count": null,
      "outputs": [
        {
          "output_type": "stream",
          "name": "stdout",
          "text": [
            "[(0, '0.205*\"xxxxxxxx\" + 0.014*\"letter\" + 0.012*\"received\" + 0.010*\"purchase\" + 0.008*\"dated_xxxxxxxx\" + 0.008*\"card\" + 0.007*\"insufficient_funds\" + 0.006*\"dispute\" + 0.006*\"email\" + 0.005*\"made\"'), (1, '0.066*\"bank\" + 0.024*\"account\" + 0.021*\"check\" + 0.019*\"money\" + 0.010*\"funds\" + 0.006*\"told\" + 0.006*\"branch\" + 0.006*\"back\" + 0.006*\"deposit\" + 0.005*\"said\"'), (2, '0.108*\"account\" + 0.055*\"checking_account\" + 0.023*\"checking\" + 0.012*\"closed\" + 0.011*\"funds\" + 0.010*\"savings_account\" + 0.009*\"accounts\" + 0.009*\"branch\" + 0.008*\"would\" + 0.007*\"deposit\"'), (3, '0.032*\"card\" + 0.024*\"debit_card\" + 0.015*\"fraud\" + 0.014*\"charges\" + 0.012*\"fraud_department\" + 0.009*\"debit\" + 0.009*\"fraudulent\" + 0.008*\"department\" + 0.008*\"fraudulent_charges\" + 0.008*\"claim\"'), (4, '0.136*\"jp_morgan\" + 0.046*\"jp\" + 0.046*\"morgan\" + 0.008*\"bank_na\" + 0.007*\"mortgage\" + 0.005*\"us\" + 0.005*\"home\" + 0.004*\"also\" + 0.004*\"washington_mutual\" + 0.004*\"complaint\"'), (5, '0.056*\"payment\" + 0.019*\"payments\" + 0.016*\"late\" + 0.015*\"balance\" + 0.014*\"interest\" + 0.012*\"due\" + 0.011*\"pay\" + 0.010*\"mortgage\" + 0.010*\"paid\" + 0.010*\"made\"'), (6, '0.130*\"credit_card\" + 0.064*\"credit\" + 0.061*\"card\" + 0.015*\"credit_cards\" + 0.008*\"cards\" + 0.006*\"charge\" + 0.006*\"credit_score\" + 0.005*\"company\" + 0.005*\"balance\" + 0.004*\"charges\"'), (7, '0.041*\"credit\" + 0.024*\"credit_report\" + 0.020*\"report\" + 0.017*\"account\" + 0.014*\"reporting\" + 0.013*\"consumer\" + 0.012*\"information\" + 0.010*\"act\" + 0.008*\"debt\" + 0.008*\"reporting_act\"'), (8, '0.027*\"loan\" + 0.023*\"loan_modification\" + 0.014*\"mortgage\" + 0.013*\"modification\" + 0.012*\"short_sale\" + 0.010*\"home\" + 0.008*\"property\" + 0.007*\"documents\" + 0.007*\"servicer\" + 0.007*\"loss_mitigation\"'), (9, '0.024*\"would\" + 0.017*\"told\" + 0.015*\"said\" + 0.011*\"called\" + 0.010*\"back\" + 0.010*\"could\" + 0.010*\"call\" + 0.008*\"asked\" + 0.008*\"get\" + 0.007*\"received\"')]\n"
          ]
        }
      ]
    },
    {
      "cell_type": "code",
      "source": [
        "#getLDAModelAccuacy(nmf_model,corpus,data,\"Label\")"
      ],
      "metadata": {
        "id": "jjuxkx6RJjrs"
      },
      "execution_count": null,
      "outputs": []
    },
    {
      "cell_type": "code",
      "source": [
        "c_v_coherence_model_nmf = CoherenceModel(model=nmf_model, texts=docs, dictionary=dictionary, coherence='c_v')\n",
        "c_v_coherence_nmf = c_v_coherence_model_nmf.get_coherence()\n",
        "print('\\nC_V Coherence Score: ', c_v_coherence_nmf)"
      ],
      "metadata": {
        "colab": {
          "base_uri": "https://localhost:8080/"
        },
        "id": "n5RR8SHBSG6O",
        "outputId": "fb99d039-8ad2-4b0c-a9ce-d9ac5a2c55e0"
      },
      "execution_count": null,
      "outputs": [
        {
          "output_type": "stream",
          "name": "stdout",
          "text": [
            "\n",
            "C_V Coherence Score:  0.4954060643759905\n"
          ]
        }
      ]
    },
    {
      "cell_type": "code",
      "source": [
        "u_mass_coherence_model_nmf = CoherenceModel(model=nmf_model, texts=docs, dictionary=dictionary, coherence='u_mass')\n",
        "u_mass_coherence_nmf = u_mass_coherence_model_nmf.get_coherence()\n",
        "print('\\nU_Mass Coherence Score: ', u_mass_coherence_nmf)"
      ],
      "metadata": {
        "colab": {
          "base_uri": "https://localhost:8080/"
        },
        "id": "mvKy701pSXdq",
        "outputId": "f680e899-4304-451f-e73c-f771dfab66bc"
      },
      "execution_count": null,
      "outputs": [
        {
          "output_type": "stream",
          "name": "stdout",
          "text": [
            "\n",
            "U_Mass Coherence Score:  -1.8849187412595843\n"
          ]
        }
      ]
    },
    {
      "cell_type": "code",
      "source": [
        "c_uci_coherence_model_nmf = CoherenceModel(model=nmf_model, texts=docs, dictionary=dictionary, coherence='c_uci')\n",
        "c_uci_coherence_nmf = c_uci_coherence_model_nmf.get_coherence()\n",
        "print('\\nc_uci Coherence Score: ', c_uci_coherence_nmf)"
      ],
      "metadata": {
        "colab": {
          "base_uri": "https://localhost:8080/"
        },
        "id": "4hWdGUrlXgvx",
        "outputId": "40900e51-09d3-433f-8ee5-f44bb956632b"
      },
      "execution_count": null,
      "outputs": [
        {
          "output_type": "stream",
          "name": "stdout",
          "text": [
            "\n",
            "c_uci Coherence Score:  -0.5012592013132667\n"
          ]
        }
      ]
    },
    {
      "cell_type": "code",
      "source": [
        "c_npmi_coherence_model_nmf = CoherenceModel(model=nmf_model, texts=docs, dictionary=dictionary, coherence='c_npmi')\n",
        "c_npmi_coherence_nmf = c_npmi_coherence_model_nmf.get_coherence()\n",
        "print('\\c_npmi_Coherence Score: ', c_npmi_coherence_nmf)"
      ],
      "metadata": {
        "colab": {
          "base_uri": "https://localhost:8080/"
        },
        "id": "4Jv9tHZ2YPhd",
        "outputId": "0347cfd6-b894-4fd3-8585-666d56a66f27"
      },
      "execution_count": null,
      "outputs": [
        {
          "output_type": "stream",
          "name": "stdout",
          "text": [
            "\\c_npmi_Coherence Score:  0.004243610391347364\n"
          ]
        }
      ]
    },
    {
      "cell_type": "code",
      "source": [
        "#lda model\n",
        "lda_model = LdaModel(corpus=corpus, id2word=id2word, chunksize=chunksize, \\\n",
        "                       alpha='auto', eta='auto', \\\n",
        "                       iterations=iterations, num_topics=num_topics, \\\n",
        "                       passes=passes, eval_every=eval_every)\n",
        "# Print the Keyword in the 10 topics\n",
        "print(lda_model.print_topics())"
      ],
      "metadata": {
        "colab": {
          "base_uri": "https://localhost:8080/"
        },
        "id": "_jyZXKjOlJWy",
        "outputId": "0a62ab83-8541-4619-c293-8232b8f40d5b"
      },
      "execution_count": null,
      "outputs": [
        {
          "output_type": "stream",
          "name": "stderr",
          "text": [
            "/usr/local/lib/python3.10/dist-packages/gensim/models/ldamodel.py:847: RuntimeWarning: divide by zero encountered in scalar divide\n",
            "  perwordbound = self.bound(chunk, subsample_ratio=subsample_ratio) / (subsample_ratio * corpus_words)\n"
          ]
        },
        {
          "output_type": "stream",
          "name": "stdout",
          "text": [
            "[(0, '0.042*\"account\" + 0.029*\"bank\" + 0.012*\"money\" + 0.011*\"check\" + 0.010*\"checking_account\" + 0.008*\"get\" + 0.008*\"funds\" + 0.006*\"would\" + 0.006*\"went\" + 0.006*\"nt\"'), (1, '0.076*\"would_like\" + 0.048*\"phone_call\" + 0.042*\"executive_office\" + 0.031*\"like\" + 0.025*\"office\" + 0.024*\"executive\" + 0.020*\"would\" + 0.018*\"file_complaint\" + 0.016*\"tickets\" + 0.015*\"message\"'), (2, '0.059*\"payment\" + 0.028*\"balance\" + 0.027*\"paid\" + 0.026*\"pay\" + 0.023*\"xxxxxxxx\" + 0.020*\"due\" + 0.019*\"payments\" + 0.019*\"late\" + 0.018*\"amount\" + 0.018*\"interest\"'), (3, '0.038*\"xxxxxxxx\" + 0.037*\"called\" + 0.037*\"would\" + 0.037*\"told\" + 0.029*\"received\" + 0.026*\"call\" + 0.025*\"customer_service\" + 0.024*\"said\" + 0.023*\"phone\" + 0.019*\"asked\"'), (4, '0.049*\"credit_report\" + 0.039*\"credit\" + 0.033*\"report\" + 0.018*\"debt\" + 0.017*\"information\" + 0.013*\"reporting\" + 0.012*\"credit_bureaus\" + 0.011*\"xxxxxxxx\" + 0.009*\"credit_reports\" + 0.009*\"reported\"'), (5, '0.031*\"jp_morgan\" + 0.017*\"xxxxxxxx\" + 0.015*\"short_sale\" + 0.013*\"complaint\" + 0.012*\"morgan\" + 0.011*\"letter\" + 0.011*\"jp\" + 0.009*\"request\" + 0.009*\"merchant\" + 0.008*\"received\"'), (6, '0.040*\"modification\" + 0.040*\"loan_modification\" + 0.037*\"loan\" + 0.033*\"fees\" + 0.031*\"payments\" + 0.024*\"late_fees\" + 0.022*\"overdraft\" + 0.021*\"overdraft_fees\" + 0.021*\"washington_mutual\" + 0.019*\"late_payments\"'), (7, '0.131*\"credit_card\" + 0.102*\"credit\" + 0.086*\"card\" + 0.024*\"credit_cards\" + 0.018*\"credit_score\" + 0.015*\"cards\" + 0.011*\"annual_fee\" + 0.009*\"score\" + 0.008*\"applied\" + 0.008*\"points\"'), (8, '0.032*\"fraud\" + 0.032*\"charges\" + 0.031*\"claim\" + 0.028*\"charge\" + 0.028*\"debit_card\" + 0.028*\"card\" + 0.026*\"transaction\" + 0.025*\"xxxxxxxx\" + 0.025*\"dispute\" + 0.023*\"fraudulent\"'), (9, '0.046*\"mortgage\" + 0.043*\"loan\" + 0.028*\"home\" + 0.016*\"property\" + 0.015*\"interest_rate\" + 0.015*\"rate\" + 0.013*\"documents\" + 0.011*\"us\" + 0.010*\"years\" + 0.008*\"xxxxxxxx\"')]\n"
          ]
        }
      ]
    },
    {
      "cell_type": "code",
      "source": [
        "#getLDAModelAccuacy(lda_model,corpus,data,\"Label\")"
      ],
      "metadata": {
        "id": "dgk9BYgAJpw2"
      },
      "execution_count": null,
      "outputs": []
    },
    {
      "cell_type": "code",
      "source": [
        "print('\\nLDA Perplexity: ', lda_model.log_perplexity(corpus))"
      ],
      "metadata": {
        "id": "AdEL_gS_5LWr",
        "colab": {
          "base_uri": "https://localhost:8080/"
        },
        "outputId": "522b2844-01ff-4376-c876-e9b3800d969d"
      },
      "execution_count": null,
      "outputs": [
        {
          "output_type": "stream",
          "name": "stdout",
          "text": [
            "\n",
            "LDA Perplexity:  -7.7400573703085325\n"
          ]
        }
      ]
    },
    {
      "cell_type": "code",
      "source": [
        "c_v_coherence_model_lda = CoherenceModel(model=lda_model, texts=docs, dictionary=dictionary, coherence='c_v')\n",
        "c_v_coherence_lda = c_v_coherence_model_lda.get_coherence()\n",
        "print('\\nC_V Coherence Score: ', c_v_coherence_lda)"
      ],
      "metadata": {
        "colab": {
          "base_uri": "https://localhost:8080/"
        },
        "id": "6ky-CFzbmGgj",
        "outputId": "2a9e8ea9-0dde-4dbf-e2e2-37ed31fd4e8f"
      },
      "execution_count": null,
      "outputs": [
        {
          "output_type": "stream",
          "name": "stdout",
          "text": [
            "\n",
            "C_V Coherence Score:  0.458080413932341\n"
          ]
        }
      ]
    },
    {
      "cell_type": "code",
      "source": [
        "u_mass_coherence_model_lda = CoherenceModel(model=lda_model, texts=docs, dictionary=dictionary, coherence='u_mass')\n",
        "u_mass_coherence_lda = u_mass_coherence_model_lda.get_coherence()\n",
        "print('\\nU_Mass Coherence Score: ', u_mass_coherence_lda)"
      ],
      "metadata": {
        "colab": {
          "base_uri": "https://localhost:8080/"
        },
        "id": "w2i7Fp_SmYxX",
        "outputId": "526d7d3f-d56f-4fd2-ae52-47f9943baa91"
      },
      "execution_count": null,
      "outputs": [
        {
          "output_type": "stream",
          "name": "stdout",
          "text": [
            "\n",
            "U_Mass Coherence Score:  -2.2856202454569887\n"
          ]
        }
      ]
    },
    {
      "cell_type": "code",
      "source": [
        "c_uci_coherence_model_lda = CoherenceModel(model=lda_model, texts=docs, dictionary=dictionary, coherence='c_uci')\n",
        "c_uci_coherence_lda = c_uci_coherence_model_lda.get_coherence()\n",
        "print('\\nc_uciCoherence Score: ', c_uci_coherence_lda)"
      ],
      "metadata": {
        "colab": {
          "base_uri": "https://localhost:8080/"
        },
        "id": "dJO4fir_msjm",
        "outputId": "72b9a6c5-99e8-467c-c8f9-d0fe72f072de"
      },
      "execution_count": null,
      "outputs": [
        {
          "output_type": "stream",
          "name": "stdout",
          "text": [
            "\n",
            "c_uciCoherence Score:  -0.9467439253195356\n"
          ]
        }
      ]
    },
    {
      "cell_type": "code",
      "source": [
        "c_npmi_coherence_model_lda = CoherenceModel(model=lda_model, texts=docs, dictionary=dictionary, coherence='c_npmi')\n",
        "c_npmi_coherence_lda = c_npmi_coherence_model_lda.get_coherence()\n",
        "print('\\c_npmi_Coherence Score: ', c_npmi_coherence_lda)"
      ],
      "metadata": {
        "colab": {
          "base_uri": "https://localhost:8080/"
        },
        "id": "249kZtm9nD9M",
        "outputId": "e94c7b7d-5e9b-42f6-b674-daaea1040acc"
      },
      "execution_count": null,
      "outputs": [
        {
          "output_type": "stream",
          "name": "stdout",
          "text": [
            "\\c_npmi_Coherence Score:  -0.011415092779170868\n"
          ]
        }
      ]
    },
    {
      "cell_type": "code",
      "source": [
        "lsi_model = LsiModel(corpus=corpus, id2word=id2word, chunksize=chunksize, \\\n",
        "                       num_topics=num_topics)\n",
        "# Print the Keyword in the 10 topics\n",
        "print(lsi_model.print_topics())"
      ],
      "metadata": {
        "colab": {
          "base_uri": "https://localhost:8080/"
        },
        "id": "dNtv796dnsTB",
        "outputId": "394d0f19-c549-4b20-abdb-7378c8de215b"
      },
      "execution_count": null,
      "outputs": [
        {
          "output_type": "stream",
          "name": "stderr",
          "text": [
            "/usr/local/lib/python3.10/dist-packages/gensim/models/lsimodel.py:102: RuntimeWarning: divide by zero encountered in divide\n",
            "  rel_spectrum = np.abs(1.0 - np.cumsum(s / np.sum(s)))\n",
            "/usr/local/lib/python3.10/dist-packages/gensim/models/lsimodel.py:102: RuntimeWarning: invalid value encountered in divide\n",
            "  rel_spectrum = np.abs(1.0 - np.cumsum(s / np.sum(s)))\n"
          ]
        },
        {
          "output_type": "stream",
          "name": "stdout",
          "text": [
            "[(0, '0.367*\"account\" + 0.331*\"credit_card\" + 0.300*\"xxxxxxxx\" + 0.289*\"credit\" + 0.258*\"card\" + 0.194*\"bank\" + 0.182*\"would\" + 0.141*\"told\" + 0.110*\"called\" + 0.108*\"payment\"'), (1, '-0.643*\"credit_card\" + -0.374*\"credit\" + -0.319*\"card\" + 0.287*\"account\" + 0.186*\"bank\" + 0.173*\"xxxxxxxx\" + 0.111*\"check\" + 0.106*\"money\" + 0.104*\"checking_account\" + 0.098*\"would\"'), (2, '0.640*\"xxxxxxxx\" + -0.501*\"account\" + 0.198*\"loan\" + -0.186*\"checking_account\" + 0.142*\"mortgage\" + -0.139*\"bank\" + 0.108*\"payment\" + 0.105*\"loan_modification\" + 0.094*\"jp_morgan\" + -0.088*\"money\"'), (3, '-0.459*\"xxxxxxxx\" + 0.312*\"credit\" + -0.281*\"card\" + 0.224*\"jp_morgan\" + 0.205*\"loan\" + 0.153*\"consumer\" + 0.151*\"payment\" + 0.147*\"report\" + 0.143*\"mortgage\" + 0.139*\"credit_report\"'), (4, '-0.403*\"xxxxxxxx\" + -0.385*\"account\" + 0.240*\"would\" + 0.197*\"told\" + -0.180*\"credit\" + 0.171*\"said\" + -0.150*\"checking_account\" + 0.147*\"loan\" + -0.140*\"consumer\" + 0.136*\"called\"'), (5, '-0.469*\"jp_morgan\" + -0.195*\"credit_card\" + -0.178*\"account\" + -0.166*\"loan_modification\" + 0.165*\"said\" + 0.163*\"consumer\" + 0.160*\"report\" + -0.160*\"jp\" + -0.158*\"loan\" + -0.157*\"morgan\"'), (6, '-0.438*\"debit_card\" + -0.314*\"card\" + -0.301*\"loan_modification\" + 0.234*\"payment\" + -0.193*\"bank\" + -0.156*\"debit\" + -0.153*\"short_sale\" + -0.138*\"servicer\" + -0.136*\"loss_mitigation\" + -0.129*\"shall\"'), (7, '-0.540*\"jp_morgan\" + -0.391*\"debit_card\" + 0.272*\"loan_modification\" + -0.183*\"jp\" + -0.182*\"morgan\" + 0.168*\"account\" + 0.161*\"credit_card\" + 0.161*\"short_sale\" + -0.150*\"card\" + -0.140*\"debit\"'), (8, '-0.458*\"wire_department\" + 0.260*\"payment\" + 0.257*\"debit_card\" + -0.227*\"wire\" + -0.213*\"department\" + -0.190*\"hold_harmless\" + 0.183*\"card\" + -0.179*\"xxxxxxxxxxxx\" + -0.177*\"jp_morgan\" + -0.168*\"said\"'), (9, '-0.773*\"insufficient_funds\" + -0.336*\"funds\" + -0.327*\"fee\" + -0.279*\"insufficient\" + -0.086*\"said\" + 0.075*\"xxxxxxxxxxxx\" + 0.070*\"account\" + 0.065*\"xxxxxxxxxxxx_xxxxxxxxxxxx\" + -0.065*\"wire_department\" + 0.060*\"checking_account\"')]\n"
          ]
        }
      ]
    },
    {
      "cell_type": "code",
      "source": [
        "c_v_coherence_model_lsi = CoherenceModel(model=lsi_model, texts=docs, dictionary=dictionary, coherence='c_v')\n",
        "c_v_coherence_lsi = c_v_coherence_model_lsi.get_coherence()\n",
        "print('\\nC_V Coherence Score: ', c_v_coherence_lsi)"
      ],
      "metadata": {
        "colab": {
          "base_uri": "https://localhost:8080/"
        },
        "id": "cntd2soOoUKf",
        "outputId": "8d7d880c-d155-4066-decc-3d3f7c26e420"
      },
      "execution_count": null,
      "outputs": [
        {
          "output_type": "stream",
          "name": "stdout",
          "text": [
            "\n",
            "C_V Coherence Score:  0.39048370253326775\n"
          ]
        }
      ]
    },
    {
      "cell_type": "code",
      "source": [
        "u_mass_coherence_model_lsi = CoherenceModel(model=lsi_model, texts=docs, dictionary=dictionary, coherence='u_mass')\n",
        "u_mass_coherence_lsi = u_mass_coherence_model_lsi.get_coherence()\n",
        "print('\\nu_mass Coherence Score: ', u_mass_coherence_lsi)"
      ],
      "metadata": {
        "colab": {
          "base_uri": "https://localhost:8080/"
        },
        "id": "VNUxMMRNonPj",
        "outputId": "56beea7a-1164-4d34-bc00-ccd5a4963037"
      },
      "execution_count": null,
      "outputs": [
        {
          "output_type": "stream",
          "name": "stdout",
          "text": [
            "\n",
            "u_mass Coherence Score:  -1.983091295865809\n"
          ]
        }
      ]
    },
    {
      "cell_type": "code",
      "source": [
        "c_uci_coherence_model_lsi = CoherenceModel(model=lsi_model, texts=docs, dictionary=dictionary, coherence='c_uci')\n",
        "c_uci_coherence_lsi = c_uci_coherence_model_lsi.get_coherence()\n",
        "print('\\nc_uci Coherence Score: ', c_uci_coherence_lsi)"
      ],
      "metadata": {
        "colab": {
          "base_uri": "https://localhost:8080/"
        },
        "id": "TgEbE8LEo6nZ",
        "outputId": "add87cf8-8e1a-4bff-ff0d-bf3a990927b2"
      },
      "execution_count": null,
      "outputs": [
        {
          "output_type": "stream",
          "name": "stdout",
          "text": [
            "\n",
            "c_uci Coherence Score:  -0.9645588810368336\n"
          ]
        }
      ]
    },
    {
      "cell_type": "code",
      "source": [
        "c_npmi_coherence_model_lsi = CoherenceModel(model=lsi_model, texts=docs, dictionary=dictionary, coherence='c_npmi')\n",
        "c_npmi_coherence_lsi = c_npmi_coherence_model_lsi.get_coherence()\n",
        "print('\\nc_npmi Coherence Score: ', c_npmi_coherence_lsi)"
      ],
      "metadata": {
        "colab": {
          "base_uri": "https://localhost:8080/"
        },
        "id": "9TV5PZj2pNA8",
        "outputId": "edd245d1-a766-46cc-f9c3-9997a5774b20"
      },
      "execution_count": null,
      "outputs": [
        {
          "output_type": "stream",
          "name": "stdout",
          "text": [
            "\n",
            "c_npmi Coherence Score:  -0.03182184023530729\n"
          ]
        }
      ]
    },
    {
      "cell_type": "code",
      "source": [
        "#hdp model\n",
        "hdp_model = HdpModel(corpus=corpus, id2word=id2word, chunksize=chunksize)\n",
        "# Print the Keyword in the 10 topics\n",
        "print(hdp_model.print_topics())"
      ],
      "metadata": {
        "colab": {
          "base_uri": "https://localhost:8080/"
        },
        "id": "VkC3BFiJpbnL",
        "outputId": "575fd50f-8e84-4f01-eb14-a74521aae7ea"
      },
      "execution_count": null,
      "outputs": [
        {
          "output_type": "stream",
          "name": "stderr",
          "text": [
            "WARNING:gensim.models.hdpmodel:likelihood is decreasing!\n",
            "WARNING:gensim.models.hdpmodel:likelihood is decreasing!\n",
            "WARNING:gensim.models.hdpmodel:likelihood is decreasing!\n",
            "WARNING:gensim.models.hdpmodel:likelihood is decreasing!\n",
            "WARNING:gensim.models.hdpmodel:likelihood is decreasing!\n",
            "WARNING:gensim.models.hdpmodel:likelihood is decreasing!\n",
            "WARNING:gensim.models.hdpmodel:likelihood is decreasing!\n",
            "WARNING:gensim.models.hdpmodel:likelihood is decreasing!\n",
            "WARNING:gensim.models.hdpmodel:likelihood is decreasing!\n",
            "WARNING:gensim.models.hdpmodel:likelihood is decreasing!\n",
            "WARNING:gensim.models.hdpmodel:likelihood is decreasing!\n",
            "WARNING:gensim.models.hdpmodel:likelihood is decreasing!\n",
            "WARNING:gensim.models.hdpmodel:likelihood is decreasing!\n",
            "WARNING:gensim.models.hdpmodel:likelihood is decreasing!\n",
            "WARNING:gensim.models.hdpmodel:likelihood is decreasing!\n",
            "WARNING:gensim.models.hdpmodel:likelihood is decreasing!\n",
            "WARNING:gensim.models.hdpmodel:likelihood is decreasing!\n",
            "WARNING:gensim.models.hdpmodel:likelihood is decreasing!\n",
            "WARNING:gensim.models.hdpmodel:likelihood is decreasing!\n",
            "WARNING:gensim.models.hdpmodel:likelihood is decreasing!\n",
            "WARNING:gensim.models.hdpmodel:likelihood is decreasing!\n",
            "WARNING:gensim.models.hdpmodel:likelihood is decreasing!\n",
            "WARNING:gensim.models.hdpmodel:likelihood is decreasing!\n",
            "WARNING:gensim.models.hdpmodel:likelihood is decreasing!\n",
            "WARNING:gensim.models.hdpmodel:likelihood is decreasing!\n",
            "WARNING:gensim.models.hdpmodel:likelihood is decreasing!\n",
            "WARNING:gensim.models.hdpmodel:likelihood is decreasing!\n",
            "WARNING:gensim.models.hdpmodel:likelihood is decreasing!\n",
            "WARNING:gensim.models.hdpmodel:likelihood is decreasing!\n",
            "WARNING:gensim.models.hdpmodel:likelihood is decreasing!\n",
            "WARNING:gensim.models.hdpmodel:likelihood is decreasing!\n",
            "WARNING:gensim.models.hdpmodel:likelihood is decreasing!\n",
            "WARNING:gensim.models.hdpmodel:likelihood is decreasing!\n",
            "WARNING:gensim.models.hdpmodel:likelihood is decreasing!\n",
            "WARNING:gensim.models.hdpmodel:likelihood is decreasing!\n",
            "WARNING:gensim.models.hdpmodel:likelihood is decreasing!\n",
            "WARNING:gensim.models.hdpmodel:likelihood is decreasing!\n",
            "WARNING:gensim.models.hdpmodel:likelihood is decreasing!\n",
            "WARNING:gensim.models.hdpmodel:likelihood is decreasing!\n",
            "WARNING:gensim.models.hdpmodel:likelihood is decreasing!\n",
            "WARNING:gensim.models.hdpmodel:likelihood is decreasing!\n",
            "WARNING:gensim.models.hdpmodel:likelihood is decreasing!\n",
            "WARNING:gensim.models.hdpmodel:likelihood is decreasing!\n",
            "WARNING:gensim.models.hdpmodel:likelihood is decreasing!\n",
            "WARNING:gensim.models.hdpmodel:likelihood is decreasing!\n",
            "WARNING:gensim.models.hdpmodel:likelihood is decreasing!\n",
            "WARNING:gensim.models.hdpmodel:likelihood is decreasing!\n",
            "WARNING:gensim.models.hdpmodel:likelihood is decreasing!\n",
            "WARNING:gensim.models.hdpmodel:likelihood is decreasing!\n",
            "WARNING:gensim.models.hdpmodel:likelihood is decreasing!\n",
            "WARNING:gensim.models.hdpmodel:likelihood is decreasing!\n",
            "WARNING:gensim.models.hdpmodel:likelihood is decreasing!\n",
            "WARNING:gensim.models.hdpmodel:likelihood is decreasing!\n",
            "WARNING:gensim.models.hdpmodel:likelihood is decreasing!\n",
            "WARNING:gensim.models.hdpmodel:likelihood is decreasing!\n",
            "WARNING:gensim.models.hdpmodel:likelihood is decreasing!\n",
            "WARNING:gensim.models.hdpmodel:likelihood is decreasing!\n",
            "WARNING:gensim.models.hdpmodel:likelihood is decreasing!\n",
            "WARNING:gensim.models.hdpmodel:likelihood is decreasing!\n",
            "WARNING:gensim.models.hdpmodel:likelihood is decreasing!\n",
            "WARNING:gensim.models.hdpmodel:likelihood is decreasing!\n",
            "WARNING:gensim.models.hdpmodel:likelihood is decreasing!\n"
          ]
        },
        {
          "output_type": "stream",
          "name": "stdout",
          "text": [
            "[(0, '0.019*account + 0.012*credit_card + 0.011*bank + 0.011*card + 0.010*xxxxxxxx + 0.009*credit + 0.008*would + 0.007*told + 0.006*called + 0.006*money'), (1, '0.014*credit + 0.011*credit_card + 0.011*account + 0.011*xxxxxxxx + 0.008*card + 0.008*bank + 0.007*payment + 0.007*would + 0.006*loan + 0.005*mortgage'), (2, '0.023*credit + 0.020*credit_report + 0.011*credit_card + 0.010*report + 0.009*card + 0.008*xxxxxxxx + 0.008*account + 0.007*inquiry + 0.006*hard + 0.005*add_hard'), (3, '0.012*account + 0.007*bank + 0.007*credit + 0.006*xxxxxxxx + 0.006*credit_card + 0.005*card + 0.003*checking_account + 0.003*would + 0.003*told + 0.003*money'), (4, '0.009*account + 0.007*credit_card + 0.007*credit + 0.006*bank + 0.005*card + 0.004*xxxxxxxx + 0.004*payment + 0.003*would + 0.003*credit_report + 0.003*late'), (5, '0.006*credit_card + 0.006*credit + 0.004*card + 0.003*credit_report + 0.002*account + 0.002*xxxxxxxx + 0.002*report + 0.001*bank + 0.001*payment + 0.001*loan'), (6, '0.002*account + 0.002*xxxxxxxx + 0.002*back + 0.001*bank + 0.001*fraud_department + 0.001*told + 0.001*credit + 0.001*said + 0.001*protection + 0.001*called'), (7, '0.002*jp_morgan + 0.002*ms + 0.002*loan + 0.001*application + 0.001*xxxxxxxx + 0.001*fico_score + 0.001*credit + 0.001*wife + 0.001*home + 0.001*good_faith'), (8, '0.002*xxxxxxxx + 0.002*credit + 0.002*account + 0.001*bank + 0.001*jpmorgan + 0.001*credit_card + 0.001*jpmorgan_chase + 0.001*merchant + 0.001*death_certificate + 0.001*card'), (9, '0.002*account + 0.002*xxxxxxxx + 0.002*bank + 0.002*credit + 0.001*card + 0.001*credit_card + 0.001*safe_deposit + 0.001*bc + 0.001*however + 0.001*funds'), (10, '0.003*xxxxxxxx + 0.002*account + 0.001*credit + 0.001*credit_card + 0.001*card + 0.001*bank + 0.001*claim + 0.001*due + 0.001*credit_report + 0.001*foreclosure'), (11, '0.002*credit + 0.002*xxxxxxxx + 0.002*account + 0.001*credit_card + 0.001*payment + 0.001*escrow + 0.001*credit_report + 0.001*bank + 0.001*got + 0.001*letting_know'), (12, '0.001*debt + 0.001*account + 0.001*card + 0.001*original_creditor + 0.001*credit + 0.001*credit_card + 0.001*bank + 0.001*conformation + 0.001*fee + 0.001*creditor'), (13, '0.002*account + 0.001*credit_report + 0.001*credit_card + 0.001*travel + 0.001*credit + 0.001*card + 0.001*transactions_totaling + 0.001*say + 0.001*honorable + 0.001*lack'), (14, '0.002*credit + 0.001*residual_interest + 0.001*traced + 0.001*account + 0.001*asked + 0.001*penalty_perjury + 0.001*bank + 0.001*taxpayer + 0.001*liar + 0.001*fo'), (15, '0.001*account + 0.001*bank + 0.001*seller + 0.001*moments + 0.001*welcome + 0.001*inspected + 0.001*xxxxxxxx + 0.001*listed + 0.001*attempts_obtain + 0.001*accomplish'), (16, '0.001*hotels + 0.001*chases_policy + 0.001*somewhere + 0.001*diagnosed + 0.001*credit_card + 0.001*parents + 0.001*eliminating + 0.001*collect_debt + 0.001*someone_stole_debit_card + 0.001*would'), (17, '0.001*assignee + 0.001*backed + 0.001*autobill + 0.001*credit_card + 0.001*louisiana + 0.001*wrong + 0.001*card + 0.001*credit + 0.001*realtime + 0.001*card_holders'), (18, '0.001*account + 0.001*got_sick + 0.001*bank + 0.001*ruining_credit + 0.001*credit_card + 0.001*luckily + 0.001*resolve_issue + 0.001*plan + 0.001*credit + 0.001*card'), (19, '0.001*account + 0.001*bank + 0.001*ontime_payments + 0.001*money + 0.001*yet_receive + 0.001*resources + 0.001*dates_amounts + 0.001*publishing + 0.001*paragraphs + 0.001*thousand_dollars')]\n"
          ]
        }
      ]
    },
    {
      "cell_type": "code",
      "source": [
        "c_v_coherence_model_hdp = CoherenceModel(model=hdp_model, texts=docs, dictionary=dictionary, coherence='c_v')\n",
        "c_v_coherence_hdp = c_v_coherence_model_hdp.get_coherence()\n",
        "print('\\nC_V Coherence Score: ', c_v_coherence_hdp)"
      ],
      "metadata": {
        "colab": {
          "base_uri": "https://localhost:8080/"
        },
        "id": "BmiNUEwUql4y",
        "outputId": "de681a3c-8017-49ff-d0f1-4a72996e67f0"
      },
      "execution_count": null,
      "outputs": [
        {
          "output_type": "stream",
          "name": "stdout",
          "text": [
            "\n",
            "C_V Coherence Score:  0.6103166242833822\n"
          ]
        }
      ]
    },
    {
      "cell_type": "code",
      "source": [
        "u_mass_coherence_model_hdp = CoherenceModel(model=hdp_model, texts=docs, dictionary=dictionary, coherence='u_mass')\n",
        "u_mass_coherence_hdp = u_mass_coherence_model_hdp.get_coherence()\n",
        "print('\\nu_mass Coherence Score: ', u_mass_coherence_hdp)"
      ],
      "metadata": {
        "colab": {
          "base_uri": "https://localhost:8080/"
        },
        "id": "KD5bYYkzq38r",
        "outputId": "a2270fbc-3328-4fca-c720-d88d0f407312"
      },
      "execution_count": null,
      "outputs": [
        {
          "output_type": "stream",
          "name": "stdout",
          "text": [
            "\n",
            "u_mass Coherence Score:  -13.763556224570957\n"
          ]
        }
      ]
    },
    {
      "cell_type": "code",
      "source": [
        "c_uci_coherence_model_hdp = CoherenceModel(model=hdp_model, texts=docs, dictionary=dictionary, coherence='c_uci')\n",
        "c_uci_coherence_hdp = c_uci_coherence_model_hdp.get_coherence()\n",
        "print('\\nc_uci Coherence Score: ', c_uci_coherence_hdp)"
      ],
      "metadata": {
        "colab": {
          "base_uri": "https://localhost:8080/"
        },
        "id": "UUJ3c_cIrL16",
        "outputId": "8055d4fc-36f6-40d0-d263-432e67893349"
      },
      "execution_count": null,
      "outputs": [
        {
          "output_type": "stream",
          "name": "stdout",
          "text": [
            "\n",
            "c_uci Coherence Score:  -8.496775522593829\n"
          ]
        }
      ]
    },
    {
      "cell_type": "code",
      "source": [
        "c_npmi_coherence_model_hdp = CoherenceModel(model=hdp_model, texts=docs, dictionary=dictionary, coherence='c_npmi')\n",
        "c_npmi_coherence_hdp = c_npmi_coherence_model_hdp.get_coherence()\n",
        "\n",
        "print('\\nc_npmi Coherence Score: ', c_npmi_coherence_hdp)"
      ],
      "metadata": {
        "colab": {
          "base_uri": "https://localhost:8080/"
        },
        "id": "dnpKjdwirbsy",
        "outputId": "c2d3b53e-664e-4661-c978-1cfdce32d239"
      },
      "execution_count": null,
      "outputs": [
        {
          "output_type": "stream",
          "name": "stdout",
          "text": [
            "\n",
            "c_npmi Coherence Score:  -0.3070418798023865\n"
          ]
        }
      ]
    },
    {
      "cell_type": "code",
      "source": [
        "#lda multicore model\n",
        "lda_multicore_model = LdaMulticore(corpus=corpus, id2word=id2word, chunksize=chunksize, \\\n",
        "                       eta='auto', \\\n",
        "                       iterations=iterations, num_topics=num_topics, \\\n",
        "                       passes=passes, eval_every=eval_every)\n",
        "# Print the Keyword in the 10 topics\n",
        "print(lda_multicore_model.print_topics())"
      ],
      "metadata": {
        "colab": {
          "base_uri": "https://localhost:8080/"
        },
        "id": "H-FshpIUsMeu",
        "outputId": "752b103a-8b29-44d7-e6cf-896d5e94f7a4"
      },
      "execution_count": null,
      "outputs": [
        {
          "output_type": "stream",
          "name": "stdout",
          "text": [
            "[(0, '0.032*\"car\" + 0.021*\"stop_payment\" + 0.019*\"resolve_issue\" + 0.016*\"insurance\" + 0.014*\"company\" + 0.012*\"vehicle\" + 0.012*\"check\" + 0.010*\"third_party\" + 0.010*\"issue\" + 0.010*\"months_ago\"'), (1, '0.023*\"xxxxxxxx\" + 0.016*\"fraud\" + 0.013*\"claim\" + 0.013*\"charges\" + 0.012*\"debit_card\" + 0.012*\"dispute\" + 0.012*\"account\" + 0.012*\"bank\" + 0.011*\"charge\" + 0.011*\"card\"'), (2, '0.049*\"loan\" + 0.043*\"mortgage\" + 0.026*\"xxxxxxxx\" + 0.022*\"home\" + 0.017*\"short_sale\" + 0.014*\"modification\" + 0.014*\"property\" + 0.014*\"loan_modification\" + 0.012*\"sale\" + 0.009*\"foreclosure\"'), (3, '0.040*\"fee\" + 0.035*\"balance\" + 0.032*\"interest\" + 0.027*\"fees\" + 0.026*\"xxxxxxxx\" + 0.022*\"annual_fee\" + 0.020*\"charged\" + 0.018*\"account\" + 0.016*\"interest_rate\" + 0.015*\"rate\"'), (4, '0.019*\"payment\" + 0.014*\"would\" + 0.010*\"get\" + 0.010*\"pay\" + 0.008*\"nt\" + 0.008*\"told\" + 0.007*\"even\" + 0.007*\"make\" + 0.007*\"payments\" + 0.007*\"never\"'), (5, '0.015*\"letter\" + 0.014*\"information\" + 0.012*\"complaint\" + 0.008*\"provide\" + 0.007*\"received_letter\" + 0.006*\"identity_theft\" + 0.006*\"received\" + 0.006*\"consumer\" + 0.006*\"response\" + 0.006*\"request\"'), (6, '0.093*\"account\" + 0.053*\"bank\" + 0.034*\"checking_account\" + 0.029*\"check\" + 0.023*\"funds\" + 0.023*\"money\" + 0.018*\"checking\" + 0.015*\"branch\" + 0.014*\"accounts\" + 0.012*\"closed\"'), (7, '0.032*\"told\" + 0.030*\"would\" + 0.029*\"called\" + 0.028*\"customer_service\" + 0.026*\"xxxxxxxx\" + 0.026*\"call\" + 0.025*\"said\" + 0.018*\"phone\" + 0.018*\"back\" + 0.017*\"asked\"'), (8, '0.126*\"credit_card\" + 0.087*\"credit\" + 0.086*\"card\" + 0.023*\"credit_cards\" + 0.015*\"cards\" + 0.014*\"credit_score\" + 0.011*\"account\" + 0.009*\"closed\" + 0.008*\"ca_nt\" + 0.007*\"credit_limit\"'), (9, '0.057*\"credit\" + 0.056*\"credit_report\" + 0.047*\"jp_morgan\" + 0.032*\"report\" + 0.027*\"account\" + 0.021*\"xxxxxxxx\" + 0.018*\"morgan\" + 0.017*\"jp\" + 0.016*\"debt\" + 0.015*\"reporting\"')]\n"
          ]
        }
      ]
    },
    {
      "cell_type": "code",
      "source": [
        "#getLDAModelAccuacy(lda_multicore_model,corpus,data,\"Label\")"
      ],
      "metadata": {
        "id": "g81a5EGlJwTn"
      },
      "execution_count": null,
      "outputs": []
    },
    {
      "cell_type": "code",
      "source": [
        "#print('\\nLDA Multicore Perplexity: ', lda_multicore_model.log_perplexity(corpus))"
      ],
      "metadata": {
        "id": "ZInxW9cc5fLb"
      },
      "execution_count": null,
      "outputs": []
    },
    {
      "cell_type": "code",
      "source": [
        "c_v_coherence_model_lda_multicore = CoherenceModel(model=lda_multicore_model, texts=docs, dictionary=dictionary, coherence='c_v')\n",
        "c_v_coherence_lda_multicore = c_v_coherence_model_lda_multicore.get_coherence()\n",
        "print('\\nC_V Coherence Score: ', c_v_coherence_lda_multicore)"
      ],
      "metadata": {
        "colab": {
          "base_uri": "https://localhost:8080/"
        },
        "id": "_3X7iZdytcnX",
        "outputId": "7b7b012f-612d-4667-b52a-bae38bcd525d"
      },
      "execution_count": null,
      "outputs": [
        {
          "output_type": "stream",
          "name": "stdout",
          "text": [
            "\n",
            "C_V Coherence Score:  0.4619015731393133\n"
          ]
        }
      ]
    },
    {
      "cell_type": "code",
      "source": [
        "u_mass_coherence_model_lda_multicore = CoherenceModel(model=lda_multicore_model, texts=docs, dictionary=dictionary, coherence='u_mass')\n",
        "u_mass_coherence_lda_multicore = u_mass_coherence_model_lda_multicore.get_coherence()\n",
        "print('\\nu_mass Coherence Score: ', u_mass_coherence_lda_multicore)"
      ],
      "metadata": {
        "colab": {
          "base_uri": "https://localhost:8080/"
        },
        "id": "GV28jjWruzNX",
        "outputId": "db418867-91c7-4152-b6b7-ddc8fe24d07c"
      },
      "execution_count": null,
      "outputs": [
        {
          "output_type": "stream",
          "name": "stdout",
          "text": [
            "\n",
            "u_mass Coherence Score:  -2.029062069727302\n"
          ]
        }
      ]
    },
    {
      "cell_type": "code",
      "source": [
        "c_uci_coherence_model_lda_multicore = CoherenceModel(model=lda_multicore_model, texts=docs, dictionary=dictionary, coherence='c_uci')\n",
        "c_uci_coherence_lda_multicore = c_uci_coherence_model_lda_multicore.get_coherence()\n",
        "print('\\nc_uci Coherence Score: ', c_uci_coherence_lda_multicore)"
      ],
      "metadata": {
        "colab": {
          "base_uri": "https://localhost:8080/"
        },
        "id": "GUt4SU2qvLru",
        "outputId": "5ed93888-407e-4059-caeb-e78b5c72292e"
      },
      "execution_count": null,
      "outputs": [
        {
          "output_type": "stream",
          "name": "stdout",
          "text": [
            "\n",
            "c_uci Coherence Score:  -0.747447497221261\n"
          ]
        }
      ]
    },
    {
      "cell_type": "code",
      "source": [
        "c_npmi_coherence_model_lda_multicore = CoherenceModel(model=lda_multicore_model, texts=docs, dictionary=dictionary, coherence='c_npmi')\n",
        "c_npmi_coherence_lda_multicore = c_npmi_coherence_model_lda_multicore.get_coherence()\n",
        "print('\\nc_npmi Coherence Score: ', c_npmi_coherence_lda_multicore)"
      ],
      "metadata": {
        "colab": {
          "base_uri": "https://localhost:8080/"
        },
        "id": "usWqK2aHvi9L",
        "outputId": "e447cb93-83a1-4e9f-a129-8edef8dd6e8b"
      },
      "execution_count": null,
      "outputs": [
        {
          "output_type": "stream",
          "name": "stdout",
          "text": [
            "\n",
            "c_npmi Coherence Score:  -0.006344125742783806\n"
          ]
        }
      ]
    },
    {
      "cell_type": "code",
      "source": [
        "#ensemble lda\n",
        "ensemble_lda_model = EnsembleLda(corpus=corpus, id2word=id2word, chunksize=chunksize, \\\n",
        "                       eta='auto', \\\n",
        "                       iterations=iterations, num_topics=num_topics, \\\n",
        "                       passes=passes, eval_every=eval_every)"
      ],
      "metadata": {
        "colab": {
          "base_uri": "https://localhost:8080/"
        },
        "id": "RW_oMDfoCkA7",
        "outputId": "91772306-fc6c-4cc7-80b0-55b83165da5e"
      },
      "execution_count": null,
      "outputs": [
        {
          "output_type": "stream",
          "name": "stderr",
          "text": [
            "WARNING:gensim.models.ldamulticore:too few updates, training might not converge; consider increasing the number of passes or iterations to improve accuracy\n"
          ]
        }
      ]
    },
    {
      "cell_type": "code",
      "source": [
        "#print('\\neLDA Perplexity: ', ensemble_lda_model.log_perplexity(corpus))"
      ],
      "metadata": {
        "id": "WcF9xs1C5lOT"
      },
      "execution_count": null,
      "outputs": []
    },
    {
      "cell_type": "code",
      "source": [
        "c_v_coherence_model_ensemble_lda = CoherenceModel(model=ensemble_lda_model, texts=docs, dictionary=dictionary, coherence='c_v')\n",
        "c_v_coherence_ensemble_lda = c_v_coherence_model_ensemble_lda.get_coherence()\n",
        "print('\\nC_V Coherence Score: ', c_v_coherence_ensemble_lda)"
      ],
      "metadata": {
        "colab": {
          "base_uri": "https://localhost:8080/"
        },
        "id": "iEnUkicbCknX",
        "outputId": "30d96eb1-20ad-4646-e458-cdeadfba1203"
      },
      "execution_count": null,
      "outputs": [
        {
          "output_type": "stream",
          "name": "stdout",
          "text": [
            "\n",
            "C_V Coherence Score:  0.5223804637531941\n"
          ]
        }
      ]
    },
    {
      "cell_type": "code",
      "source": [
        "u_mass_coherence_model_ensemble_lda = CoherenceModel(model=ensemble_lda_model, texts=docs, dictionary=dictionary, coherence='u_mass')\n",
        "u_mass_coherence_ensemble_lda = u_mass_coherence_model_ensemble_lda.get_coherence()\n",
        "print('\\nu_mass Coherence Score: ', u_mass_coherence_ensemble_lda)"
      ],
      "metadata": {
        "colab": {
          "base_uri": "https://localhost:8080/"
        },
        "id": "FUqNYdltCmon",
        "outputId": "7a3f0fda-916b-43d1-bd81-514273ffb393"
      },
      "execution_count": null,
      "outputs": [
        {
          "output_type": "stream",
          "name": "stdout",
          "text": [
            "\n",
            "u_mass Coherence Score:  -1.8525227407290399\n"
          ]
        }
      ]
    },
    {
      "cell_type": "code",
      "source": [
        "c_uci_coherence_model_ensemble_lda = CoherenceModel(model=ensemble_lda_model, texts=docs, dictionary=dictionary, coherence='c_uci')\n",
        "c_uci_coherence_ensemble_lda = c_uci_coherence_model_ensemble_lda.get_coherence()\n",
        "print('\\nc_uci Coherence Score: ', c_uci_coherence_ensemble_lda)"
      ],
      "metadata": {
        "colab": {
          "base_uri": "https://localhost:8080/"
        },
        "id": "nlvSTngRCoqs",
        "outputId": "333a3f99-fb52-4046-dfbb-8c5e82882277"
      },
      "execution_count": null,
      "outputs": [
        {
          "output_type": "stream",
          "name": "stdout",
          "text": [
            "\n",
            "c_uci Coherence Score:  -0.20802358587676628\n"
          ]
        }
      ]
    },
    {
      "cell_type": "code",
      "source": [
        "c_npmi_coherence_model_ensemble_lda = CoherenceModel(model=ensemble_lda_model, texts=docs, dictionary=dictionary, coherence='c_npmi')\n",
        "c_npmi_coherence_ensemble_lda = c_npmi_coherence_model_ensemble_lda.get_coherence()\n",
        "print('\\nc_npmi Coherence Score: ', c_npmi_coherence_ensemble_lda)"
      ],
      "metadata": {
        "colab": {
          "base_uri": "https://localhost:8080/"
        },
        "id": "RwGLYHKCCr-h",
        "outputId": "bb2c6b3b-ddf6-4144-84a9-6514eb1255fe"
      },
      "execution_count": null,
      "outputs": [
        {
          "output_type": "stream",
          "name": "stdout",
          "text": [
            "\n",
            "c_npmi Coherence Score:  0.015368058263052306\n"
          ]
        }
      ]
    }
  ]
}