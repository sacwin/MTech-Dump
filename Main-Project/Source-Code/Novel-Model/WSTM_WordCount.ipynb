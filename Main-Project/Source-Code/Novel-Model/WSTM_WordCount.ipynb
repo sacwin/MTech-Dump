{
  "nbformat": 4,
  "nbformat_minor": 0,
  "metadata": {
    "colab": {
      "provenance": []
    },
    "kernelspec": {
      "name": "python3",
      "display_name": "Python 3"
    },
    "language_info": {
      "name": "python"
    }
  },
  "cells": [
    {
      "cell_type": "code",
      "execution_count": null,
      "metadata": {
        "id": "EfDodKJL1NH2",
        "colab": {
          "base_uri": "https://localhost:8080/"
        },
        "outputId": "47c14f30-e35d-451f-de92-99bf71362a7d"
      },
      "outputs": [
        {
          "output_type": "stream",
          "name": "stderr",
          "text": [
            "[nltk_data] Downloading package wordnet to /root/nltk_data...\n",
            "[nltk_data] Downloading package punkt to /root/nltk_data...\n",
            "[nltk_data]   Unzipping tokenizers/punkt.zip.\n",
            "[nltk_data] Downloading package averaged_perceptron_tagger to\n",
            "[nltk_data]     /root/nltk_data...\n",
            "[nltk_data]   Unzipping taggers/averaged_perceptron_tagger.zip.\n",
            "[nltk_data] Downloading package stopwords to /root/nltk_data...\n",
            "[nltk_data]   Unzipping corpora/stopwords.zip.\n"
          ]
        }
      ],
      "source": [
        "# Import Libraries\n",
        "import pandas as pd\n",
        "import io\n",
        "import numpy as np\n",
        "import re\n",
        "\n",
        "from collections import Counter\n",
        "import seaborn as sns\n",
        "import matplotlib.pyplot as plt\n",
        "\n",
        "import nltk\n",
        "nltk.download('wordnet')\n",
        "nltk.download('punkt')\n",
        "nltk.download('averaged_perceptron_tagger')\n",
        "nltk.download('stopwords')\n",
        "from nltk.corpus import wordnet\n",
        "from nltk.corpus import stopwords\n",
        "\n",
        "from sklearn.preprocessing import LabelEncoder\n",
        "from sklearn.metrics import accuracy_score"
      ]
    },
    {
      "cell_type": "code",
      "source": [
        "df = pd.read_csv('latest_ticket_data.csv')"
      ],
      "metadata": {
        "id": "zkr0Kc7R2pGa"
      },
      "execution_count": null,
      "outputs": []
    },
    {
      "cell_type": "code",
      "source": [
        "def get_only_chars(line):\n",
        "\n",
        "    clean_line = \"\"\n",
        "\n",
        "    line = line.replace(\"’\", \"\")\n",
        "    line = line.replace(\"'\", \"\")\n",
        "    line = line.replace(\"-\", \" \") #replace hyphens with spaces\n",
        "    line = line.replace(\"\\t\", \" \")\n",
        "    line = line.replace(\"\\n\", \" \")\n",
        "    line = line.lower()\n",
        "\n",
        "    for char in line:\n",
        "        if char in 'qwertyuiopasdfghjklzxcvbnm ':\n",
        "            clean_line += char\n",
        "        else:\n",
        "            clean_line += ' '\n",
        "\n",
        "    clean_line = re.sub(' +',' ',clean_line) #delete extra spaces\n",
        "    if clean_line[0] == ' ':\n",
        "        clean_line = clean_line[1:]\n",
        "    return clean_line"
      ],
      "metadata": {
        "id": "wKt5AnR-TZav"
      },
      "execution_count": null,
      "outputs": []
    },
    {
      "cell_type": "code",
      "source": [
        "df['Description'] = df['Description'].apply(lambda x: get_only_chars(x))"
      ],
      "metadata": {
        "id": "OuDZi8vXTkKf"
      },
      "execution_count": null,
      "outputs": []
    },
    {
      "cell_type": "code",
      "source": [
        "df['Tokenized']=[nltk.word_tokenize(i) for i in df['Description']]"
      ],
      "metadata": {
        "id": "iB0EJWU63XKZ"
      },
      "execution_count": null,
      "outputs": []
    },
    {
      "cell_type": "code",
      "source": [
        "df['pos_tagged'] = [nltk.pos_tag(i) for i in df['Tokenized']]"
      ],
      "metadata": {
        "id": "tcXSr0ye3b5G"
      },
      "execution_count": null,
      "outputs": []
    },
    {
      "cell_type": "code",
      "source": [
        "df['NN_tagged'] = df['pos_tagged'].apply(lambda item:[w for w,t in item if t=='NN'])"
      ],
      "metadata": {
        "id": "k8OsXCby3iwn"
      },
      "execution_count": null,
      "outputs": []
    },
    {
      "cell_type": "code",
      "source": [
        "df['NN_Description'] = df.NN_tagged.map(lambda x: ' '.join(x))"
      ],
      "metadata": {
        "id": "insbKP9b3nCp"
      },
      "execution_count": null,
      "outputs": []
    },
    {
      "cell_type": "code",
      "source": [
        "stop_words = stopwords.words('english')\n",
        "custom_stop_words = ['hi', 'since', 'please', 'best', 'regards', 'thank', 'thanks', 'hello', 'sent', 'great', 'dear', 'help', 'kind']\n",
        "time_words = ['january', 'february', 'march', 'april', 'may', 'june', 'july', 'august', 'september', 'october', 'november', 'december',\n",
        "              'monday', 'tuesday', 'wednesday', 'thursday', 'friday', 'saturday', 'sunday', 'today' , 'yesterday', 'tomorrow',\n",
        "              'hour', 'hours', 'time', 'times', 'timelines', 'date', 'day', 'days', 'am', 'pm', 'morning', 'noon', 'afternoon', 'evening',\n",
        "              'night', 'winter', 'summer', 'rain', 'cold']\n",
        "\n",
        "def remove_stop_words(text):\n",
        "    pattern = re.compile(r'\\b(' + r'|'.join(stop_words) + r')\\b\\s*')\n",
        "    text = pattern.sub('', text)\n",
        "    return text\n",
        "\n",
        "def remove_custom_words(text):\n",
        "    pattern = re.compile(r'\\b(' + r'|'.join(custom_stop_words) + r')\\b\\s*')\n",
        "    text = pattern.sub('', text)\n",
        "    return text\n",
        "\n",
        "def remove_time_words(text):\n",
        "    pattern = re.compile(r'\\b(' + r'|'.join(time_words) + r')\\b\\s*')\n",
        "    text = pattern.sub('', text)\n",
        "    return text\n",
        "\n",
        "df['NN_Description'] = df[\"NN_Description\"].map(lambda x: remove_stop_words(x))\n",
        "df['NN_Description'] = df[\"NN_Description\"].map(lambda x: remove_custom_words(x))\n",
        "df['NN_Description'] = df[\"NN_Description\"].map(lambda x: remove_time_words(x))"
      ],
      "metadata": {
        "id": "ZX8Uiht6ULEq"
      },
      "execution_count": null,
      "outputs": []
    },
    {
      "cell_type": "code",
      "source": [
        "LE = LabelEncoder()\n",
        "df['Label'] = LE.fit_transform(df['Category'])\n",
        "\n",
        "print(df)"
      ],
      "metadata": {
        "colab": {
          "base_uri": "https://localhost:8080/"
        },
        "id": "8asUEwKY2sK_",
        "outputId": "3fc72bbe-5980-4f90-d58b-63edac58b404"
      },
      "execution_count": null,
      "outputs": [
        {
          "output_type": "stream",
          "name": "stdout",
          "text": [
            "                                            Description     Category  \\\n",
            "0     hi since recruiter lead permission approve req...  Application   \n",
            "1     re expire days hi ask help update passwords co...  Application   \n",
            "2     verification warning hi has got attached pleas...  Application   \n",
            "3     please dear looks blacklisted receiving mails ...  Application   \n",
            "4     dear modules report report cost thank much reg...  Application   \n",
            "...                                                 ...          ...   \n",
            "2995  sent tuesday feedback follow up conf call hell...     Database   \n",
            "2996  sent monday issues hi keep getting errors whil...     Database   \n",
            "2997  sent monday en working properly hi guys we hav...     Database   \n",
            "2998  sent wednesday july hi please log incident for...     Database   \n",
            "2999  sent tuesday july connection issues hello have...     Database   \n",
            "\n",
            "                                              Tokenized  \\\n",
            "0     [hi, since, recruiter, lead, permission, appro...   \n",
            "1     [re, expire, days, hi, ask, help, update, pass...   \n",
            "2     [verification, warning, hi, has, got, attached...   \n",
            "3     [please, dear, looks, blacklisted, receiving, ...   \n",
            "4     [dear, modules, report, report, cost, thank, m...   \n",
            "...                                                 ...   \n",
            "2995  [sent, tuesday, feedback, follow, up, conf, ca...   \n",
            "2996  [sent, monday, issues, hi, keep, getting, erro...   \n",
            "2997  [sent, monday, en, working, properly, hi, guys...   \n",
            "2998  [sent, wednesday, july, hi, please, log, incid...   \n",
            "2999  [sent, tuesday, july, connection, issues, hell...   \n",
            "\n",
            "                                             pos_tagged  \\\n",
            "0     [(hi, NN), (since, IN), (recruiter, NN), (lead...   \n",
            "1     [(re, NN), (expire, NN), (days, NNS), (hi, VBP...   \n",
            "2     [(verification, NN), (warning, VBG), (hi, NN),...   \n",
            "3     [(please, VB), (dear, JJ), (looks, NNS), (blac...   \n",
            "4     [(dear, JJ), (modules, NNS), (report, VB), (re...   \n",
            "...                                                 ...   \n",
            "2995  [(sent, NN), (tuesday, NN), (feedback, NN), (f...   \n",
            "2996  [(sent, NN), (monday, NN), (issues, NNS), (hi,...   \n",
            "2997  [(sent, NN), (monday, NN), (en, IN), (working,...   \n",
            "2998  [(sent, NN), (wednesday, NN), (july, NN), (hi,...   \n",
            "2999  [(sent, NN), (tuesday, NN), (july, JJ), (conne...   \n",
            "\n",
            "                                              NN_tagged  \\\n",
            "0                     [hi, recruiter, lead, permission]   \n",
            "1     [re, expire, help, expire, hi, expiration, ple...   \n",
            "2     [verification, hi, please, analyst, verification]   \n",
            "3                                      [kind, engineer]   \n",
            "4                                        [report, cost]   \n",
            "...                                                 ...   \n",
            "2995  [sent, tuesday, feedback, conf, call, hello, s...   \n",
            "2996                       [sent, monday, please, help]   \n",
            "2997  [sent, monday, number, meeting, room, dialer, ...   \n",
            "2998  [sent, wednesday, july, please, log, incident,...   \n",
            "2999  [sent, tuesday, connection, connection, client...   \n",
            "\n",
            "                                         NN_Description  Label  \n",
            "0                             recruiter lead permission      0  \n",
            "1     expire expire expiration prolongation expire o...      0  \n",
            "2                     verification analyst verification      0  \n",
            "3                                              engineer      0  \n",
            "4                                           report cost      0  \n",
            "...                                                 ...    ...  \n",
            "2995  feedback conf call setup meeting side meeting ...      1  \n",
            "2996                                                         1  \n",
            "2997  number meeting room dialer pad multiple access...      1  \n",
            "2998  log incident assistance mo el ticket con colom...      1  \n",
            "2999  connection connection client side link connect...      1  \n",
            "\n",
            "[3000 rows x 7 columns]\n"
          ]
        }
      ]
    },
    {
      "cell_type": "code",
      "source": [
        "df_0 = df.loc[(df['Label'] == 0)]\n",
        "df_1 = df.loc[(df['Label'] == 1)]\n",
        "df_2 = df.loc[(df['Label'] == 2)]\n",
        "df_3 = df.loc[(df['Label'] == 3)]\n",
        "df_4 = df.loc[(df['Label'] == 4)]"
      ],
      "metadata": {
        "id": "_BVhjjScbjlX"
      },
      "execution_count": null,
      "outputs": []
    },
    {
      "cell_type": "code",
      "source": [
        "corpus = []\n",
        "for disclosures in df_0['NN_Description'].tolist():\n",
        "    for word in disclosures.split():\n",
        "        corpus.append(word)\n",
        "# Bar plot - Create a dataframe of the most common 30 words\n",
        "common_words = pd.DataFrame(Counter(corpus).most_common(20))\n",
        "common_words.columns = ('Word', 'Count')\n",
        "keyword_0 = [common_words['Word'][0],common_words['Word'][1], common_words['Word'][2],common_words['Word'][3],common_words['Word'][4]]\n",
        "keyword_0\n",
        "# Plot a bar chart of the most common 20 words\n",
        "#sns.set(font_scale = 1.5)\n",
        "#sns.barplot(x= common_words['Word'], y=common_words['Count'])\n",
        "#plt.xticks(rotation='vertical')\n",
        "#plt.title(\"Key Word Count\", fontsize = 20)\n",
        "#plt.show()"
      ],
      "metadata": {
        "colab": {
          "base_uri": "https://localhost:8080/"
        },
        "id": "S_j20wRKcfUY",
        "outputId": "ca5b1f2b-268c-42d2-99e5-19a021969ea0"
      },
      "execution_count": null,
      "outputs": [
        {
          "output_type": "execute_result",
          "data": {
            "text/plain": [
              "['engineer', 'interface', 'change', 'name', 'information']"
            ]
          },
          "metadata": {},
          "execution_count": 12
        }
      ]
    },
    {
      "cell_type": "code",
      "source": [
        "corpus = []\n",
        "for disclosures in df_1['NN_Description'].tolist():\n",
        "    for word in disclosures.split():\n",
        "        corpus.append(word)\n",
        "# Bar plot - Create a dataframe of the most common 30 words\n",
        "common_words = pd.DataFrame(Counter(corpus).most_common(20))\n",
        "common_words.columns = ('Word', 'Count')\n",
        "keyword_1 = [common_words['Word'][0],common_words['Word'][1], common_words['Word'][2],common_words['Word'][3],common_words['Word'][4]]\n",
        "keyword_1\n",
        "# Plot a bar chart of the most common 20 words\n",
        "#sns.set(font_scale = 1.5)\n",
        "#sns.barplot(x= common_words['Word'], y=common_words['Count'])\n",
        "#plt.xticks(rotation='vertical')\n",
        "#plt.title(\"Key Word Count\", fontsize = 20)\n",
        "#plt.show()"
      ],
      "metadata": {
        "colab": {
          "base_uri": "https://localhost:8080/"
        },
        "id": "jopJLRXGbe8I",
        "outputId": "9e77de03-bc31-4843-ffdb-813d7277c25e"
      },
      "execution_count": null,
      "outputs": [
        {
          "output_type": "execute_result",
          "data": {
            "text/plain": [
              "['item', 'log', 'order', 'po', 'purchase']"
            ]
          },
          "metadata": {},
          "execution_count": 13
        }
      ]
    },
    {
      "cell_type": "code",
      "source": [
        "corpus = []\n",
        "for disclosures in df_2['NN_Description'].tolist():\n",
        "    for word in disclosures.split():\n",
        "        corpus.append(word)\n",
        "# Bar plot - Create a dataframe of the most common 30 words\n",
        "common_words = pd.DataFrame(Counter(corpus).most_common(20))\n",
        "common_words.columns = ('Word', 'Count')\n",
        "keyword_2 = [common_words['Word'][0],common_words['Word'][1], common_words['Word'][2],common_words['Word'][3],common_words['Word'][4]]\n",
        "keyword_2\n",
        "# Plot a bar chart of the most common 20 words\n",
        "#sns.set(font_scale = 1.5)\n",
        "#sns.barplot(x= common_words['Word'], y=common_words['Count'])\n",
        "#plt.xticks(rotation='vertical')\n",
        "#plt.title(\"Key Word Count\", fontsize = 20)\n",
        "#plt.show()"
      ],
      "metadata": {
        "colab": {
          "base_uri": "https://localhost:8080/"
        },
        "id": "ccbUvuvPck8V",
        "outputId": "3f22cb04-e814-41e3-d6ba-21be083abf96"
      },
      "execution_count": null,
      "outputs": [
        {
          "output_type": "execute_result",
          "data": {
            "text/plain": [
              "['event', 'disk', 'engineer', 'name', 'access']"
            ]
          },
          "metadata": {},
          "execution_count": 14
        }
      ]
    },
    {
      "cell_type": "code",
      "source": [
        "corpus = []\n",
        "for disclosures in df_3['NN_Description'].tolist():\n",
        "    for word in disclosures.split():\n",
        "        corpus.append(word)\n",
        "# Bar plot - Create a dataframe of the most common 30 words\n",
        "common_words = pd.DataFrame(Counter(corpus).most_common(20))\n",
        "common_words.columns = ('Word', 'Count')\n",
        "keyword_3 = [common_words['Word'][0],common_words['Word'][1], common_words['Word'][2],common_words['Word'][3],common_words['Word'][4]]\n",
        "keyword_3\n",
        "# Plot a bar chart of the most common 20 words\n",
        "#sns.set(font_scale = 1.5)\n",
        "#sns.barplot(x= common_words['Word'], y=common_words['Count'])\n",
        "#plt.xticks(rotation='vertical')\n",
        "#plt.title(\"Key Word Count\", fontsize = 20)\n",
        "#plt.show()"
      ],
      "metadata": {
        "colab": {
          "base_uri": "https://localhost:8080/"
        },
        "id": "8BIKCviXcoFl",
        "outputId": "dfe2852b-5b49-4e05-82a3-606744cad03e"
      },
      "execution_count": null,
      "outputs": [
        {
          "output_type": "execute_result",
          "data": {
            "text/plain": [
              "['card', 'access', 'floor', 'badge', 'manager']"
            ]
          },
          "metadata": {},
          "execution_count": 15
        }
      ]
    },
    {
      "cell_type": "code",
      "source": [
        "corpus = []\n",
        "for disclosures in df_4['NN_Description'].tolist():\n",
        "    for word in disclosures.split():\n",
        "        corpus.append(word)\n",
        "# Bar plot - Create a dataframe of the most common 30 words\n",
        "common_words = pd.DataFrame(Counter(corpus).most_common(20))\n",
        "common_words.columns = ('Word', 'Count')\n",
        "keyword_4 = [common_words['Word'][0],common_words['Word'][1], common_words['Word'][2],common_words['Word'][3],common_words['Word'][4]]\n",
        "keyword_4\n",
        "# Plot a bar chart of the most common 20 words\n",
        "#sns.set(font_scale = 1.5)\n",
        "#sns.barplot(x= common_words['Word'], y=common_words['Count'])\n",
        "#plt.xticks(rotation='vertical')\n",
        "#plt.title(\"Key Word Count\", fontsize = 20)\n",
        "#plt.show()"
      ],
      "metadata": {
        "colab": {
          "base_uri": "https://localhost:8080/"
        },
        "id": "aIYkSC2HcsWG",
        "outputId": "e776fc75-540b-453c-c2b2-adaee337d60a"
      },
      "execution_count": null,
      "outputs": [
        {
          "output_type": "execute_result",
          "data": {
            "text/plain": [
              "['card', 'visitor', 'area', 'floor', 'va']"
            ]
          },
          "metadata": {},
          "execution_count": 16
        }
      ]
    },
    {
      "cell_type": "code",
      "source": [
        "topics = [keyword_0,keyword_1,keyword_2,keyword_3,keyword_4]"
      ],
      "metadata": {
        "id": "ApGqPtmX3qeN"
      },
      "execution_count": null,
      "outputs": []
    },
    {
      "cell_type": "code",
      "source": [
        "def WordnetShortestPath_labelscore(a):\n",
        "  lowest_netavg=100\n",
        "  lowest_label=0\n",
        "  label=-1\n",
        "  #print(a)\n",
        "  words = nltk.word_tokenize(a)\n",
        "  for z in topics:\n",
        "    total=0\n",
        "    counter=0\n",
        "    #print(z)\n",
        "    for x in z:\n",
        "      count=0\n",
        "      avg=0\n",
        "      sum=0\n",
        "      for y in words:\n",
        "        if(wordnet.synsets(x) and wordnet.synsets(y)):\n",
        "          syn1 = wordnet.synsets(x)[0]\n",
        "          syn2 = wordnet.synsets(y)[0]\n",
        "          if(syn1.pos() == 'n' and syn2.pos() == 'n'):\n",
        "            #print(\"Shortest path between \",x,\" and \",y,\" is: \", syn1.shortest_path_distance(syn2))\n",
        "            sum=sum+syn1.shortest_path_distance(syn2)\n",
        "            count=count+1\n",
        "      if(count==0):\n",
        "        avg=0\n",
        "      else:\n",
        "        avg=sum/count\n",
        "      total=total+avg\n",
        "      counter=counter+1\n",
        "      #print(sum)\n",
        "      #print(count)\n",
        "      #print(avg)\n",
        "    if(counter==0):\n",
        "      netavg=0\n",
        "    else:\n",
        "      netavg=total/counter\n",
        "    #print(counter)\n",
        "    #print(\"Total score for \",z,\" is: \",total)\n",
        "    #print(\"Net average for \",z,\" is: \",netavg)\n",
        "    label=label+1\n",
        "    if(netavg<lowest_netavg):\n",
        "      lowest_netavg=netavg\n",
        "      lowest_label=label\n",
        "      #print(\"label: \",label,\" has shortest path value: \",lowest_netavg)\n",
        "  return lowest_label,lowest_netavg"
      ],
      "metadata": {
        "id": "saMjRxel4BqY"
      },
      "execution_count": null,
      "outputs": []
    },
    {
      "cell_type": "code",
      "source": [
        "df[ [\"WSP_Label\",\"WSP_Value\"] ] = df[\"Description\"].apply(WordnetShortestPath_labelscore).apply(pd.Series)"
      ],
      "metadata": {
        "id": "6M2TqlgT5Xzw"
      },
      "execution_count": null,
      "outputs": []
    },
    {
      "cell_type": "code",
      "source": [
        "df[ [\"NN_WSP_Label\",\"NN_WSP_Value\"] ] = df[\"NN_Description\"].apply(WordnetShortestPath_labelscore).apply(pd.Series)"
      ],
      "metadata": {
        "id": "EKChDTYTKgtg"
      },
      "execution_count": null,
      "outputs": []
    },
    {
      "cell_type": "code",
      "source": [
        "df[\"WSP_Label\"] = df[\"WSP_Label\"].astype(int)"
      ],
      "metadata": {
        "id": "2J8jXVYc_sZq"
      },
      "execution_count": null,
      "outputs": []
    },
    {
      "cell_type": "code",
      "source": [
        "df[\"NN_WSP_Label\"] = df[\"NN_WSP_Label\"].astype(int)"
      ],
      "metadata": {
        "id": "j5xhTY1SKcTi"
      },
      "execution_count": null,
      "outputs": []
    },
    {
      "cell_type": "code",
      "source": [
        "df"
      ],
      "metadata": {
        "id": "jEimst_yD7KG",
        "colab": {
          "base_uri": "https://localhost:8080/",
          "height": 1000
        },
        "outputId": "fb7e601d-f301-400d-d3cc-0b58fa1df0c9"
      },
      "execution_count": null,
      "outputs": [
        {
          "output_type": "execute_result",
          "data": {
            "text/plain": [
              "                                            Description     Category  \\\n",
              "0     hi since recruiter lead permission approve req...  Application   \n",
              "1     re expire days hi ask help update passwords co...  Application   \n",
              "2     verification warning hi has got attached pleas...  Application   \n",
              "3     please dear looks blacklisted receiving mails ...  Application   \n",
              "4     dear modules report report cost thank much reg...  Application   \n",
              "...                                                 ...          ...   \n",
              "2995  sent tuesday feedback follow up conf call hell...     Database   \n",
              "2996  sent monday issues hi keep getting errors whil...     Database   \n",
              "2997  sent monday en working properly hi guys we hav...     Database   \n",
              "2998  sent wednesday july hi please log incident for...     Database   \n",
              "2999  sent tuesday july connection issues hello have...     Database   \n",
              "\n",
              "                                              Tokenized  \\\n",
              "0     [hi, since, recruiter, lead, permission, appro...   \n",
              "1     [re, expire, days, hi, ask, help, update, pass...   \n",
              "2     [verification, warning, hi, has, got, attached...   \n",
              "3     [please, dear, looks, blacklisted, receiving, ...   \n",
              "4     [dear, modules, report, report, cost, thank, m...   \n",
              "...                                                 ...   \n",
              "2995  [sent, tuesday, feedback, follow, up, conf, ca...   \n",
              "2996  [sent, monday, issues, hi, keep, getting, erro...   \n",
              "2997  [sent, monday, en, working, properly, hi, guys...   \n",
              "2998  [sent, wednesday, july, hi, please, log, incid...   \n",
              "2999  [sent, tuesday, july, connection, issues, hell...   \n",
              "\n",
              "                                             pos_tagged  \\\n",
              "0     [(hi, NN), (since, IN), (recruiter, NN), (lead...   \n",
              "1     [(re, NN), (expire, NN), (days, NNS), (hi, VBP...   \n",
              "2     [(verification, NN), (warning, VBG), (hi, NN),...   \n",
              "3     [(please, VB), (dear, JJ), (looks, NNS), (blac...   \n",
              "4     [(dear, JJ), (modules, NNS), (report, VB), (re...   \n",
              "...                                                 ...   \n",
              "2995  [(sent, NN), (tuesday, NN), (feedback, NN), (f...   \n",
              "2996  [(sent, NN), (monday, NN), (issues, NNS), (hi,...   \n",
              "2997  [(sent, NN), (monday, NN), (en, IN), (working,...   \n",
              "2998  [(sent, NN), (wednesday, NN), (july, NN), (hi,...   \n",
              "2999  [(sent, NN), (tuesday, NN), (july, JJ), (conne...   \n",
              "\n",
              "                                              NN_tagged  \\\n",
              "0                     [hi, recruiter, lead, permission]   \n",
              "1     [re, expire, help, expire, hi, expiration, ple...   \n",
              "2     [verification, hi, please, analyst, verification]   \n",
              "3                                      [kind, engineer]   \n",
              "4                                        [report, cost]   \n",
              "...                                                 ...   \n",
              "2995  [sent, tuesday, feedback, conf, call, hello, s...   \n",
              "2996                       [sent, monday, please, help]   \n",
              "2997  [sent, monday, number, meeting, room, dialer, ...   \n",
              "2998  [sent, wednesday, july, please, log, incident,...   \n",
              "2999  [sent, tuesday, connection, connection, client...   \n",
              "\n",
              "                                         NN_Description  Label  WSP_Label  \\\n",
              "0                             recruiter lead permission      0          2   \n",
              "1     expire expire expiration prolongation expire o...      0          2   \n",
              "2                     verification analyst verification      0          2   \n",
              "3                                              engineer      0          2   \n",
              "4                                           report cost      0          2   \n",
              "...                                                 ...    ...        ...   \n",
              "2995  feedback conf call setup meeting side meeting ...      1          0   \n",
              "2996                                                         1          2   \n",
              "2997  number meeting room dialer pad multiple access...      1          2   \n",
              "2998  log incident assistance mo el ticket con colom...      1          2   \n",
              "2999  connection connection client side link connect...      1          2   \n",
              "\n",
              "      WSP_Value  NN_WSP_Label  NN_WSP_Value  \n",
              "0      9.777778             0      9.600000  \n",
              "1      9.441975             0      9.313043  \n",
              "2      9.836364             2      9.266667  \n",
              "3      9.000000             0      7.200000  \n",
              "4      8.971429             2      9.400000  \n",
              "...         ...           ...           ...  \n",
              "2995  10.327586             0     10.096296  \n",
              "2996   9.030769             0      0.000000  \n",
              "2997   9.752542             2      9.114286  \n",
              "2998   9.940741             2      9.462069  \n",
              "2999   9.335135             2      8.760000  \n",
              "\n",
              "[3000 rows x 11 columns]"
            ],
            "text/html": [
              "\n",
              "  <div id=\"df-e04c3a57-3299-4b5b-b2ef-764d59a62f56\" class=\"colab-df-container\">\n",
              "    <div>\n",
              "<style scoped>\n",
              "    .dataframe tbody tr th:only-of-type {\n",
              "        vertical-align: middle;\n",
              "    }\n",
              "\n",
              "    .dataframe tbody tr th {\n",
              "        vertical-align: top;\n",
              "    }\n",
              "\n",
              "    .dataframe thead th {\n",
              "        text-align: right;\n",
              "    }\n",
              "</style>\n",
              "<table border=\"1\" class=\"dataframe\">\n",
              "  <thead>\n",
              "    <tr style=\"text-align: right;\">\n",
              "      <th></th>\n",
              "      <th>Description</th>\n",
              "      <th>Category</th>\n",
              "      <th>Tokenized</th>\n",
              "      <th>pos_tagged</th>\n",
              "      <th>NN_tagged</th>\n",
              "      <th>NN_Description</th>\n",
              "      <th>Label</th>\n",
              "      <th>WSP_Label</th>\n",
              "      <th>WSP_Value</th>\n",
              "      <th>NN_WSP_Label</th>\n",
              "      <th>NN_WSP_Value</th>\n",
              "    </tr>\n",
              "  </thead>\n",
              "  <tbody>\n",
              "    <tr>\n",
              "      <th>0</th>\n",
              "      <td>hi since recruiter lead permission approve req...</td>\n",
              "      <td>Application</td>\n",
              "      <td>[hi, since, recruiter, lead, permission, appro...</td>\n",
              "      <td>[(hi, NN), (since, IN), (recruiter, NN), (lead...</td>\n",
              "      <td>[hi, recruiter, lead, permission]</td>\n",
              "      <td>recruiter lead permission</td>\n",
              "      <td>0</td>\n",
              "      <td>2</td>\n",
              "      <td>9.777778</td>\n",
              "      <td>0</td>\n",
              "      <td>9.600000</td>\n",
              "    </tr>\n",
              "    <tr>\n",
              "      <th>1</th>\n",
              "      <td>re expire days hi ask help update passwords co...</td>\n",
              "      <td>Application</td>\n",
              "      <td>[re, expire, days, hi, ask, help, update, pass...</td>\n",
              "      <td>[(re, NN), (expire, NN), (days, NNS), (hi, VBP...</td>\n",
              "      <td>[re, expire, help, expire, hi, expiration, ple...</td>\n",
              "      <td>expire expire expiration prolongation expire o...</td>\n",
              "      <td>0</td>\n",
              "      <td>2</td>\n",
              "      <td>9.441975</td>\n",
              "      <td>0</td>\n",
              "      <td>9.313043</td>\n",
              "    </tr>\n",
              "    <tr>\n",
              "      <th>2</th>\n",
              "      <td>verification warning hi has got attached pleas...</td>\n",
              "      <td>Application</td>\n",
              "      <td>[verification, warning, hi, has, got, attached...</td>\n",
              "      <td>[(verification, NN), (warning, VBG), (hi, NN),...</td>\n",
              "      <td>[verification, hi, please, analyst, verification]</td>\n",
              "      <td>verification analyst verification</td>\n",
              "      <td>0</td>\n",
              "      <td>2</td>\n",
              "      <td>9.836364</td>\n",
              "      <td>2</td>\n",
              "      <td>9.266667</td>\n",
              "    </tr>\n",
              "    <tr>\n",
              "      <th>3</th>\n",
              "      <td>please dear looks blacklisted receiving mails ...</td>\n",
              "      <td>Application</td>\n",
              "      <td>[please, dear, looks, blacklisted, receiving, ...</td>\n",
              "      <td>[(please, VB), (dear, JJ), (looks, NNS), (blac...</td>\n",
              "      <td>[kind, engineer]</td>\n",
              "      <td>engineer</td>\n",
              "      <td>0</td>\n",
              "      <td>2</td>\n",
              "      <td>9.000000</td>\n",
              "      <td>0</td>\n",
              "      <td>7.200000</td>\n",
              "    </tr>\n",
              "    <tr>\n",
              "      <th>4</th>\n",
              "      <td>dear modules report report cost thank much reg...</td>\n",
              "      <td>Application</td>\n",
              "      <td>[dear, modules, report, report, cost, thank, m...</td>\n",
              "      <td>[(dear, JJ), (modules, NNS), (report, VB), (re...</td>\n",
              "      <td>[report, cost]</td>\n",
              "      <td>report cost</td>\n",
              "      <td>0</td>\n",
              "      <td>2</td>\n",
              "      <td>8.971429</td>\n",
              "      <td>2</td>\n",
              "      <td>9.400000</td>\n",
              "    </tr>\n",
              "    <tr>\n",
              "      <th>...</th>\n",
              "      <td>...</td>\n",
              "      <td>...</td>\n",
              "      <td>...</td>\n",
              "      <td>...</td>\n",
              "      <td>...</td>\n",
              "      <td>...</td>\n",
              "      <td>...</td>\n",
              "      <td>...</td>\n",
              "      <td>...</td>\n",
              "      <td>...</td>\n",
              "      <td>...</td>\n",
              "    </tr>\n",
              "    <tr>\n",
              "      <th>2995</th>\n",
              "      <td>sent tuesday feedback follow up conf call hell...</td>\n",
              "      <td>Database</td>\n",
              "      <td>[sent, tuesday, feedback, follow, up, conf, ca...</td>\n",
              "      <td>[(sent, NN), (tuesday, NN), (feedback, NN), (f...</td>\n",
              "      <td>[sent, tuesday, feedback, conf, call, hello, s...</td>\n",
              "      <td>feedback conf call setup meeting side meeting ...</td>\n",
              "      <td>1</td>\n",
              "      <td>0</td>\n",
              "      <td>10.327586</td>\n",
              "      <td>0</td>\n",
              "      <td>10.096296</td>\n",
              "    </tr>\n",
              "    <tr>\n",
              "      <th>2996</th>\n",
              "      <td>sent monday issues hi keep getting errors whil...</td>\n",
              "      <td>Database</td>\n",
              "      <td>[sent, monday, issues, hi, keep, getting, erro...</td>\n",
              "      <td>[(sent, NN), (monday, NN), (issues, NNS), (hi,...</td>\n",
              "      <td>[sent, monday, please, help]</td>\n",
              "      <td></td>\n",
              "      <td>1</td>\n",
              "      <td>2</td>\n",
              "      <td>9.030769</td>\n",
              "      <td>0</td>\n",
              "      <td>0.000000</td>\n",
              "    </tr>\n",
              "    <tr>\n",
              "      <th>2997</th>\n",
              "      <td>sent monday en working properly hi guys we hav...</td>\n",
              "      <td>Database</td>\n",
              "      <td>[sent, monday, en, working, properly, hi, guys...</td>\n",
              "      <td>[(sent, NN), (monday, NN), (en, IN), (working,...</td>\n",
              "      <td>[sent, monday, number, meeting, room, dialer, ...</td>\n",
              "      <td>number meeting room dialer pad multiple access...</td>\n",
              "      <td>1</td>\n",
              "      <td>2</td>\n",
              "      <td>9.752542</td>\n",
              "      <td>2</td>\n",
              "      <td>9.114286</td>\n",
              "    </tr>\n",
              "    <tr>\n",
              "      <th>2998</th>\n",
              "      <td>sent wednesday july hi please log incident for...</td>\n",
              "      <td>Database</td>\n",
              "      <td>[sent, wednesday, july, hi, please, log, incid...</td>\n",
              "      <td>[(sent, NN), (wednesday, NN), (july, NN), (hi,...</td>\n",
              "      <td>[sent, wednesday, july, please, log, incident,...</td>\n",
              "      <td>log incident assistance mo el ticket con colom...</td>\n",
              "      <td>1</td>\n",
              "      <td>2</td>\n",
              "      <td>9.940741</td>\n",
              "      <td>2</td>\n",
              "      <td>9.462069</td>\n",
              "    </tr>\n",
              "    <tr>\n",
              "      <th>2999</th>\n",
              "      <td>sent tuesday july connection issues hello have...</td>\n",
              "      <td>Database</td>\n",
              "      <td>[sent, tuesday, july, connection, issues, hell...</td>\n",
              "      <td>[(sent, NN), (tuesday, NN), (july, JJ), (conne...</td>\n",
              "      <td>[sent, tuesday, connection, connection, client...</td>\n",
              "      <td>connection connection client side link connect...</td>\n",
              "      <td>1</td>\n",
              "      <td>2</td>\n",
              "      <td>9.335135</td>\n",
              "      <td>2</td>\n",
              "      <td>8.760000</td>\n",
              "    </tr>\n",
              "  </tbody>\n",
              "</table>\n",
              "<p>3000 rows × 11 columns</p>\n",
              "</div>\n",
              "    <div class=\"colab-df-buttons\">\n",
              "\n",
              "  <div class=\"colab-df-container\">\n",
              "    <button class=\"colab-df-convert\" onclick=\"convertToInteractive('df-e04c3a57-3299-4b5b-b2ef-764d59a62f56')\"\n",
              "            title=\"Convert this dataframe to an interactive table.\"\n",
              "            style=\"display:none;\">\n",
              "\n",
              "  <svg xmlns=\"http://www.w3.org/2000/svg\" height=\"24px\" viewBox=\"0 -960 960 960\">\n",
              "    <path d=\"M120-120v-720h720v720H120Zm60-500h600v-160H180v160Zm220 220h160v-160H400v160Zm0 220h160v-160H400v160ZM180-400h160v-160H180v160Zm440 0h160v-160H620v160ZM180-180h160v-160H180v160Zm440 0h160v-160H620v160Z\"/>\n",
              "  </svg>\n",
              "    </button>\n",
              "\n",
              "  <style>\n",
              "    .colab-df-container {\n",
              "      display:flex;\n",
              "      gap: 12px;\n",
              "    }\n",
              "\n",
              "    .colab-df-convert {\n",
              "      background-color: #E8F0FE;\n",
              "      border: none;\n",
              "      border-radius: 50%;\n",
              "      cursor: pointer;\n",
              "      display: none;\n",
              "      fill: #1967D2;\n",
              "      height: 32px;\n",
              "      padding: 0 0 0 0;\n",
              "      width: 32px;\n",
              "    }\n",
              "\n",
              "    .colab-df-convert:hover {\n",
              "      background-color: #E2EBFA;\n",
              "      box-shadow: 0px 1px 2px rgba(60, 64, 67, 0.3), 0px 1px 3px 1px rgba(60, 64, 67, 0.15);\n",
              "      fill: #174EA6;\n",
              "    }\n",
              "\n",
              "    .colab-df-buttons div {\n",
              "      margin-bottom: 4px;\n",
              "    }\n",
              "\n",
              "    [theme=dark] .colab-df-convert {\n",
              "      background-color: #3B4455;\n",
              "      fill: #D2E3FC;\n",
              "    }\n",
              "\n",
              "    [theme=dark] .colab-df-convert:hover {\n",
              "      background-color: #434B5C;\n",
              "      box-shadow: 0px 1px 3px 1px rgba(0, 0, 0, 0.15);\n",
              "      filter: drop-shadow(0px 1px 2px rgba(0, 0, 0, 0.3));\n",
              "      fill: #FFFFFF;\n",
              "    }\n",
              "  </style>\n",
              "\n",
              "    <script>\n",
              "      const buttonEl =\n",
              "        document.querySelector('#df-e04c3a57-3299-4b5b-b2ef-764d59a62f56 button.colab-df-convert');\n",
              "      buttonEl.style.display =\n",
              "        google.colab.kernel.accessAllowed ? 'block' : 'none';\n",
              "\n",
              "      async function convertToInteractive(key) {\n",
              "        const element = document.querySelector('#df-e04c3a57-3299-4b5b-b2ef-764d59a62f56');\n",
              "        const dataTable =\n",
              "          await google.colab.kernel.invokeFunction('convertToInteractive',\n",
              "                                                    [key], {});\n",
              "        if (!dataTable) return;\n",
              "\n",
              "        const docLinkHtml = 'Like what you see? Visit the ' +\n",
              "          '<a target=\"_blank\" href=https://colab.research.google.com/notebooks/data_table.ipynb>data table notebook</a>'\n",
              "          + ' to learn more about interactive tables.';\n",
              "        element.innerHTML = '';\n",
              "        dataTable['output_type'] = 'display_data';\n",
              "        await google.colab.output.renderOutput(dataTable, element);\n",
              "        const docLink = document.createElement('div');\n",
              "        docLink.innerHTML = docLinkHtml;\n",
              "        element.appendChild(docLink);\n",
              "      }\n",
              "    </script>\n",
              "  </div>\n",
              "\n",
              "\n",
              "<div id=\"df-ca5a949e-348d-4f05-92ed-588f5c321cee\">\n",
              "  <button class=\"colab-df-quickchart\" onclick=\"quickchart('df-ca5a949e-348d-4f05-92ed-588f5c321cee')\"\n",
              "            title=\"Suggest charts\"\n",
              "            style=\"display:none;\">\n",
              "\n",
              "<svg xmlns=\"http://www.w3.org/2000/svg\" height=\"24px\"viewBox=\"0 0 24 24\"\n",
              "     width=\"24px\">\n",
              "    <g>\n",
              "        <path d=\"M19 3H5c-1.1 0-2 .9-2 2v14c0 1.1.9 2 2 2h14c1.1 0 2-.9 2-2V5c0-1.1-.9-2-2-2zM9 17H7v-7h2v7zm4 0h-2V7h2v10zm4 0h-2v-4h2v4z\"/>\n",
              "    </g>\n",
              "</svg>\n",
              "  </button>\n",
              "\n",
              "<style>\n",
              "  .colab-df-quickchart {\n",
              "      --bg-color: #E8F0FE;\n",
              "      --fill-color: #1967D2;\n",
              "      --hover-bg-color: #E2EBFA;\n",
              "      --hover-fill-color: #174EA6;\n",
              "      --disabled-fill-color: #AAA;\n",
              "      --disabled-bg-color: #DDD;\n",
              "  }\n",
              "\n",
              "  [theme=dark] .colab-df-quickchart {\n",
              "      --bg-color: #3B4455;\n",
              "      --fill-color: #D2E3FC;\n",
              "      --hover-bg-color: #434B5C;\n",
              "      --hover-fill-color: #FFFFFF;\n",
              "      --disabled-bg-color: #3B4455;\n",
              "      --disabled-fill-color: #666;\n",
              "  }\n",
              "\n",
              "  .colab-df-quickchart {\n",
              "    background-color: var(--bg-color);\n",
              "    border: none;\n",
              "    border-radius: 50%;\n",
              "    cursor: pointer;\n",
              "    display: none;\n",
              "    fill: var(--fill-color);\n",
              "    height: 32px;\n",
              "    padding: 0;\n",
              "    width: 32px;\n",
              "  }\n",
              "\n",
              "  .colab-df-quickchart:hover {\n",
              "    background-color: var(--hover-bg-color);\n",
              "    box-shadow: 0 1px 2px rgba(60, 64, 67, 0.3), 0 1px 3px 1px rgba(60, 64, 67, 0.15);\n",
              "    fill: var(--button-hover-fill-color);\n",
              "  }\n",
              "\n",
              "  .colab-df-quickchart-complete:disabled,\n",
              "  .colab-df-quickchart-complete:disabled:hover {\n",
              "    background-color: var(--disabled-bg-color);\n",
              "    fill: var(--disabled-fill-color);\n",
              "    box-shadow: none;\n",
              "  }\n",
              "\n",
              "  .colab-df-spinner {\n",
              "    border: 2px solid var(--fill-color);\n",
              "    border-color: transparent;\n",
              "    border-bottom-color: var(--fill-color);\n",
              "    animation:\n",
              "      spin 1s steps(1) infinite;\n",
              "  }\n",
              "\n",
              "  @keyframes spin {\n",
              "    0% {\n",
              "      border-color: transparent;\n",
              "      border-bottom-color: var(--fill-color);\n",
              "      border-left-color: var(--fill-color);\n",
              "    }\n",
              "    20% {\n",
              "      border-color: transparent;\n",
              "      border-left-color: var(--fill-color);\n",
              "      border-top-color: var(--fill-color);\n",
              "    }\n",
              "    30% {\n",
              "      border-color: transparent;\n",
              "      border-left-color: var(--fill-color);\n",
              "      border-top-color: var(--fill-color);\n",
              "      border-right-color: var(--fill-color);\n",
              "    }\n",
              "    40% {\n",
              "      border-color: transparent;\n",
              "      border-right-color: var(--fill-color);\n",
              "      border-top-color: var(--fill-color);\n",
              "    }\n",
              "    60% {\n",
              "      border-color: transparent;\n",
              "      border-right-color: var(--fill-color);\n",
              "    }\n",
              "    80% {\n",
              "      border-color: transparent;\n",
              "      border-right-color: var(--fill-color);\n",
              "      border-bottom-color: var(--fill-color);\n",
              "    }\n",
              "    90% {\n",
              "      border-color: transparent;\n",
              "      border-bottom-color: var(--fill-color);\n",
              "    }\n",
              "  }\n",
              "</style>\n",
              "\n",
              "  <script>\n",
              "    async function quickchart(key) {\n",
              "      const quickchartButtonEl =\n",
              "        document.querySelector('#' + key + ' button');\n",
              "      quickchartButtonEl.disabled = true;  // To prevent multiple clicks.\n",
              "      quickchartButtonEl.classList.add('colab-df-spinner');\n",
              "      try {\n",
              "        const charts = await google.colab.kernel.invokeFunction(\n",
              "            'suggestCharts', [key], {});\n",
              "      } catch (error) {\n",
              "        console.error('Error during call to suggestCharts:', error);\n",
              "      }\n",
              "      quickchartButtonEl.classList.remove('colab-df-spinner');\n",
              "      quickchartButtonEl.classList.add('colab-df-quickchart-complete');\n",
              "    }\n",
              "    (() => {\n",
              "      let quickchartButtonEl =\n",
              "        document.querySelector('#df-ca5a949e-348d-4f05-92ed-588f5c321cee button');\n",
              "      quickchartButtonEl.style.display =\n",
              "        google.colab.kernel.accessAllowed ? 'block' : 'none';\n",
              "    })();\n",
              "  </script>\n",
              "</div>\n",
              "    </div>\n",
              "  </div>\n"
            ],
            "application/vnd.google.colaboratory.intrinsic+json": {
              "type": "dataframe",
              "variable_name": "df",
              "summary": "{\n  \"name\": \"df\",\n  \"rows\": 3000,\n  \"fields\": [\n    {\n      \"column\": \"Description\",\n      \"properties\": {\n        \"dtype\": \"string\",\n        \"num_unique_values\": 3000,\n        \"samples\": [\n          \"friday november pm assistants please secure floor tower hi please securing floor tower secure area evening cob tuesday morning area needs secure also needs informing employees about changes restriction well meeting rooms bookings restriction thank help kind regards officer information\",\n          \"pm hi joined fast followings visual studio provide other information please let thank best regards\",\n          \"card leaver la va ca defect\"\n        ],\n        \"semantic_type\": \"\",\n        \"description\": \"\"\n      }\n    },\n    {\n      \"column\": \"Category\",\n      \"properties\": {\n        \"dtype\": \"category\",\n        \"num_unique_values\": 5,\n        \"samples\": [\n          \"Database\",\n          \"Security\",\n          \"Network\"\n        ],\n        \"semantic_type\": \"\",\n        \"description\": \"\"\n      }\n    },\n    {\n      \"column\": \"Tokenized\",\n      \"properties\": {\n        \"dtype\": \"object\",\n        \"semantic_type\": \"\",\n        \"description\": \"\"\n      }\n    },\n    {\n      \"column\": \"pos_tagged\",\n      \"properties\": {\n        \"dtype\": \"object\",\n        \"semantic_type\": \"\",\n        \"description\": \"\"\n      }\n    },\n    {\n      \"column\": \"NN_tagged\",\n      \"properties\": {\n        \"dtype\": \"object\",\n        \"semantic_type\": \"\",\n        \"description\": \"\"\n      }\n    },\n    {\n      \"column\": \"NN_Description\",\n      \"properties\": {\n        \"dtype\": \"string\",\n        \"num_unique_values\": 2720,\n        \"samples\": [\n          \"announce crap eon program si va ne interval care placer la cl rom confidentiality notice content communication information environment printing\",\n          \"analyst submit make side let\",\n          \"phone issue move phone press cable discovery discovery issue phone centimeter analyst\"\n        ],\n        \"semantic_type\": \"\",\n        \"description\": \"\"\n      }\n    },\n    {\n      \"column\": \"Label\",\n      \"properties\": {\n        \"dtype\": \"number\",\n        \"std\": 1,\n        \"min\": 0,\n        \"max\": 4,\n        \"num_unique_values\": 5,\n        \"samples\": [\n          1,\n          3,\n          2\n        ],\n        \"semantic_type\": \"\",\n        \"description\": \"\"\n      }\n    },\n    {\n      \"column\": \"WSP_Label\",\n      \"properties\": {\n        \"dtype\": \"number\",\n        \"std\": 1,\n        \"min\": 0,\n        \"max\": 4,\n        \"num_unique_values\": 4,\n        \"samples\": [\n          0,\n          4,\n          2\n        ],\n        \"semantic_type\": \"\",\n        \"description\": \"\"\n      }\n    },\n    {\n      \"column\": \"WSP_Value\",\n      \"properties\": {\n        \"dtype\": \"number\",\n        \"std\": 0.6385605623595587,\n        \"min\": 0.0,\n        \"max\": 14.55,\n        \"num_unique_values\": 1753,\n        \"samples\": [\n          9.08235294117647,\n          9.62,\n          9.282352941176471\n        ],\n        \"semantic_type\": \"\",\n        \"description\": \"\"\n      }\n    },\n    {\n      \"column\": \"NN_WSP_Label\",\n      \"properties\": {\n        \"dtype\": \"number\",\n        \"std\": 1,\n        \"min\": 0,\n        \"max\": 4,\n        \"num_unique_values\": 4,\n        \"samples\": [\n          2,\n          1,\n          0\n        ],\n        \"semantic_type\": \"\",\n        \"description\": \"\"\n      }\n    },\n    {\n      \"column\": \"NN_WSP_Value\",\n      \"properties\": {\n        \"dtype\": \"number\",\n        \"std\": 1.871919753132991,\n        \"min\": 0.0,\n        \"max\": 18.8,\n        \"num_unique_values\": 1053,\n        \"samples\": [\n          10.77142857142857,\n          7.4,\n          9.057142857142857\n        ],\n        \"semantic_type\": \"\",\n        \"description\": \"\"\n      }\n    }\n  ]\n}"
            }
          },
          "metadata": {},
          "execution_count": 23
        }
      ]
    },
    {
      "cell_type": "code",
      "source": [
        "df_0 = df.loc[(df['Label'] == 0)]\n",
        "df_1 = df.loc[(df['Label'] == 1)]\n",
        "df_2 = df.loc[(df['Label'] == 2)]\n",
        "df_3 = df.loc[(df['Label'] == 3)]\n",
        "df_4 = df.loc[(df['Label'] == 4)]"
      ],
      "metadata": {
        "id": "XA0xO0qMRpt7"
      },
      "execution_count": null,
      "outputs": []
    },
    {
      "cell_type": "code",
      "source": [
        "accuracy_score(df['Label'], df['WSP_Label'])"
      ],
      "metadata": {
        "id": "9V_5rDwzNbaQ",
        "colab": {
          "base_uri": "https://localhost:8080/"
        },
        "outputId": "e05c16dc-8240-4593-f094-ef2e594067aa"
      },
      "execution_count": null,
      "outputs": [
        {
          "output_type": "execute_result",
          "data": {
            "text/plain": [
              "0.21933333333333332"
            ]
          },
          "metadata": {},
          "execution_count": 25
        }
      ]
    },
    {
      "cell_type": "code",
      "source": [
        "accuracy_score(df['Label'], df['NN_WSP_Label'])"
      ],
      "metadata": {
        "colab": {
          "base_uri": "https://localhost:8080/"
        },
        "id": "u_71Z2CBKZ0o",
        "outputId": "037d90cf-93e8-4b78-e00a-574b061f36ef"
      },
      "execution_count": null,
      "outputs": [
        {
          "output_type": "execute_result",
          "data": {
            "text/plain": [
              "0.2966666666666667"
            ]
          },
          "metadata": {},
          "execution_count": 26
        }
      ]
    },
    {
      "cell_type": "code",
      "source": [
        "accuracy_score(df_0['Label'], df_0['WSP_Label'])"
      ],
      "metadata": {
        "id": "YD2qDzLLVSY2",
        "colab": {
          "base_uri": "https://localhost:8080/"
        },
        "outputId": "1a8bd83f-9dc9-47fd-dab2-d9a0542a12a4"
      },
      "execution_count": null,
      "outputs": [
        {
          "output_type": "execute_result",
          "data": {
            "text/plain": [
              "0.25166666666666665"
            ]
          },
          "metadata": {},
          "execution_count": 27
        }
      ]
    },
    {
      "cell_type": "code",
      "source": [
        "accuracy_score(df_0['Label'], df_0['NN_WSP_Label'])"
      ],
      "metadata": {
        "colab": {
          "base_uri": "https://localhost:8080/"
        },
        "id": "1_P_dtM6KNP3",
        "outputId": "4c34a9c3-6d3e-46d1-cd2b-180cb8d85875"
      },
      "execution_count": null,
      "outputs": [
        {
          "output_type": "execute_result",
          "data": {
            "text/plain": [
              "0.37"
            ]
          },
          "metadata": {},
          "execution_count": 28
        }
      ]
    },
    {
      "cell_type": "code",
      "source": [
        "accuracy_score(df_1['Label'], df_1['WSP_Label'])"
      ],
      "metadata": {
        "id": "Way1SnfPVV_Z",
        "colab": {
          "base_uri": "https://localhost:8080/"
        },
        "outputId": "f67c8377-6451-4273-c3c6-40da0db50002"
      },
      "execution_count": null,
      "outputs": [
        {
          "output_type": "execute_result",
          "data": {
            "text/plain": [
              "0.015"
            ]
          },
          "metadata": {},
          "execution_count": 29
        }
      ]
    },
    {
      "cell_type": "code",
      "source": [
        "accuracy_score(df_1['Label'], df_1['NN_WSP_Label'])"
      ],
      "metadata": {
        "colab": {
          "base_uri": "https://localhost:8080/"
        },
        "id": "a_wOc1n0KLSF",
        "outputId": "a18aa981-ad19-4d64-8346-3b72a68337e2"
      },
      "execution_count": null,
      "outputs": [
        {
          "output_type": "execute_result",
          "data": {
            "text/plain": [
              "0.135"
            ]
          },
          "metadata": {},
          "execution_count": 30
        }
      ]
    },
    {
      "cell_type": "code",
      "source": [
        "accuracy_score(df_2['Label'], df_2['WSP_Label'])"
      ],
      "metadata": {
        "id": "eU19PCTkVZiT",
        "colab": {
          "base_uri": "https://localhost:8080/"
        },
        "outputId": "88887957-b126-4111-c8db-846b0f3044f6"
      },
      "execution_count": null,
      "outputs": [
        {
          "output_type": "execute_result",
          "data": {
            "text/plain": [
              "0.7233333333333334"
            ]
          },
          "metadata": {},
          "execution_count": 31
        }
      ]
    },
    {
      "cell_type": "code",
      "source": [
        "accuracy_score(df_2['Label'], df_2['NN_WSP_Label'])"
      ],
      "metadata": {
        "colab": {
          "base_uri": "https://localhost:8080/"
        },
        "id": "yajjHtAcKJE5",
        "outputId": "d124db64-d84e-4470-d33e-0cce29dd1b5d"
      },
      "execution_count": null,
      "outputs": [
        {
          "output_type": "execute_result",
          "data": {
            "text/plain": [
              "0.5783333333333334"
            ]
          },
          "metadata": {},
          "execution_count": 32
        }
      ]
    },
    {
      "cell_type": "code",
      "source": [
        "accuracy_score(df_2['Label'], df_2['NN_WSP_Label'])"
      ],
      "metadata": {
        "colab": {
          "base_uri": "https://localhost:8080/"
        },
        "id": "cq59-W4pKHFm",
        "outputId": "d3d7f2b0-dd67-41c6-d188-4d00c580c301"
      },
      "execution_count": null,
      "outputs": [
        {
          "output_type": "execute_result",
          "data": {
            "text/plain": [
              "0.5783333333333334"
            ]
          },
          "metadata": {},
          "execution_count": 33
        }
      ]
    },
    {
      "cell_type": "code",
      "source": [
        "accuracy_score(df_3['Label'], df_3['WSP_Label'])"
      ],
      "metadata": {
        "id": "F1h0mXBvVaf8",
        "colab": {
          "base_uri": "https://localhost:8080/"
        },
        "outputId": "234cd5ab-0bf2-4b24-968c-971b612d3555"
      },
      "execution_count": null,
      "outputs": [
        {
          "output_type": "execute_result",
          "data": {
            "text/plain": [
              "0.0"
            ]
          },
          "metadata": {},
          "execution_count": 34
        }
      ]
    },
    {
      "cell_type": "code",
      "source": [
        "accuracy_score(df_3['Label'], df_3['NN_WSP_Label'])"
      ],
      "metadata": {
        "colab": {
          "base_uri": "https://localhost:8080/"
        },
        "id": "x8E9FQRdKFIz",
        "outputId": "a2ab5d45-5412-4feb-e906-415d40eb53a7"
      },
      "execution_count": null,
      "outputs": [
        {
          "output_type": "execute_result",
          "data": {
            "text/plain": [
              "0.0"
            ]
          },
          "metadata": {},
          "execution_count": 35
        }
      ]
    },
    {
      "cell_type": "code",
      "source": [
        "accuracy_score(df_4['Label'], df_4['WSP_Label'])"
      ],
      "metadata": {
        "id": "y7FS_gFEVel7",
        "colab": {
          "base_uri": "https://localhost:8080/"
        },
        "outputId": "6bb19f86-56c3-495b-c327-2a2438954754"
      },
      "execution_count": null,
      "outputs": [
        {
          "output_type": "execute_result",
          "data": {
            "text/plain": [
              "0.10666666666666667"
            ]
          },
          "metadata": {},
          "execution_count": 36
        }
      ]
    },
    {
      "cell_type": "code",
      "source": [
        "accuracy_score(df_4['Label'], df_4['NN_WSP_Label'])"
      ],
      "metadata": {
        "colab": {
          "base_uri": "https://localhost:8080/"
        },
        "id": "M_mzA9NZKDK3",
        "outputId": "eae6020f-3462-4a80-c975-8d5ff0d30ac5"
      },
      "execution_count": null,
      "outputs": [
        {
          "output_type": "execute_result",
          "data": {
            "text/plain": [
              "0.4"
            ]
          },
          "metadata": {},
          "execution_count": 37
        }
      ]
    },
    {
      "cell_type": "code",
      "source": [
        "def WordnetWUP_labelscore(a):\n",
        "  highest_netavg=0\n",
        "  highest_label=0\n",
        "  label=-1\n",
        "  #print(a)\n",
        "  words = nltk.word_tokenize(a)\n",
        "  for z in topics:\n",
        "    total=0\n",
        "    counter=0\n",
        "    #print(z)\n",
        "    for x in z:\n",
        "      count=0\n",
        "      avg=0\n",
        "      sum=0\n",
        "      for y in words:\n",
        "        if(wordnet.synsets(x) and wordnet.synsets(y)):\n",
        "          syn1 = wordnet.synsets(x)[0]\n",
        "          syn2 = wordnet.synsets(y)[0]\n",
        "          if(syn1.pos() == 'n' and syn2.pos() == 'n'):\n",
        "            #print(\"Shortest path between \",x,\" and \",y,\" is: \", syn1.wup_similarity(syn2))\n",
        "            sum=sum+syn1.wup_similarity(syn2)\n",
        "            count=count+1\n",
        "      if(count==0):\n",
        "        avg=0\n",
        "      else:\n",
        "        avg=sum/count\n",
        "      total=total+avg\n",
        "      counter=counter+1\n",
        "      #print(sum)\n",
        "      #print(count)\n",
        "      #print(avg)\n",
        "    if(counter==0):\n",
        "      netavg=0\n",
        "    else:\n",
        "      netavg=total/counter\n",
        "    #print(counter)\n",
        "    #print(\"Total score for \",z,\" is: \",total)\n",
        "    #print(\"Net average for \",z,\" is: \",netavg)\n",
        "    label=label+1\n",
        "    if(netavg>highest_netavg):\n",
        "      highest_netavg=netavg\n",
        "      highest_label=label\n",
        "      #print(\"label: \",label,\" has shortest path value: \",lowest_netavg)\n",
        "  return highest_label,highest_netavg"
      ],
      "metadata": {
        "id": "LihS7434Nqgl"
      },
      "execution_count": null,
      "outputs": []
    },
    {
      "cell_type": "code",
      "source": [
        "df[ [\"WUP_Label\",\"WUP_Value\"] ] = df[\"Description\"].apply(WordnetWUP_labelscore).apply(pd.Series)"
      ],
      "metadata": {
        "id": "0PvuT1OfOSSd"
      },
      "execution_count": null,
      "outputs": []
    },
    {
      "cell_type": "code",
      "source": [
        "df[ [\"NN_WUP_Label\",\"NN_WUP_Value\"] ] = df[\"NN_Description\"].apply(WordnetWUP_labelscore).apply(pd.Series)"
      ],
      "metadata": {
        "id": "w1SO5Xo_J9pC"
      },
      "execution_count": null,
      "outputs": []
    },
    {
      "cell_type": "code",
      "source": [
        "df[\"WUP_Label\"] = df[\"WUP_Label\"].astype(int)"
      ],
      "metadata": {
        "id": "EuBx1IgdRBCV"
      },
      "execution_count": null,
      "outputs": []
    },
    {
      "cell_type": "code",
      "source": [
        "df[\"NN_WUP_Label\"] = df[\"NN_WUP_Label\"].astype(int)"
      ],
      "metadata": {
        "id": "7Z-SXKQMJ6oi"
      },
      "execution_count": null,
      "outputs": []
    },
    {
      "cell_type": "code",
      "source": [
        "df"
      ],
      "metadata": {
        "id": "VEU-WoElRLS8",
        "colab": {
          "base_uri": "https://localhost:8080/",
          "height": 1000
        },
        "outputId": "060aba73-6e73-4a4a-892a-1ee003324e5f"
      },
      "execution_count": null,
      "outputs": [
        {
          "output_type": "execute_result",
          "data": {
            "text/plain": [
              "                                            Description     Category  \\\n",
              "0     hi since recruiter lead permission approve req...  Application   \n",
              "1     re expire days hi ask help update passwords co...  Application   \n",
              "2     verification warning hi has got attached pleas...  Application   \n",
              "3     please dear looks blacklisted receiving mails ...  Application   \n",
              "4     dear modules report report cost thank much reg...  Application   \n",
              "...                                                 ...          ...   \n",
              "2995  sent tuesday feedback follow up conf call hell...     Database   \n",
              "2996  sent monday issues hi keep getting errors whil...     Database   \n",
              "2997  sent monday en working properly hi guys we hav...     Database   \n",
              "2998  sent wednesday july hi please log incident for...     Database   \n",
              "2999  sent tuesday july connection issues hello have...     Database   \n",
              "\n",
              "                                              Tokenized  \\\n",
              "0     [hi, since, recruiter, lead, permission, appro...   \n",
              "1     [re, expire, days, hi, ask, help, update, pass...   \n",
              "2     [verification, warning, hi, has, got, attached...   \n",
              "3     [please, dear, looks, blacklisted, receiving, ...   \n",
              "4     [dear, modules, report, report, cost, thank, m...   \n",
              "...                                                 ...   \n",
              "2995  [sent, tuesday, feedback, follow, up, conf, ca...   \n",
              "2996  [sent, monday, issues, hi, keep, getting, erro...   \n",
              "2997  [sent, monday, en, working, properly, hi, guys...   \n",
              "2998  [sent, wednesday, july, hi, please, log, incid...   \n",
              "2999  [sent, tuesday, july, connection, issues, hell...   \n",
              "\n",
              "                                             pos_tagged  \\\n",
              "0     [(hi, NN), (since, IN), (recruiter, NN), (lead...   \n",
              "1     [(re, NN), (expire, NN), (days, NNS), (hi, VBP...   \n",
              "2     [(verification, NN), (warning, VBG), (hi, NN),...   \n",
              "3     [(please, VB), (dear, JJ), (looks, NNS), (blac...   \n",
              "4     [(dear, JJ), (modules, NNS), (report, VB), (re...   \n",
              "...                                                 ...   \n",
              "2995  [(sent, NN), (tuesday, NN), (feedback, NN), (f...   \n",
              "2996  [(sent, NN), (monday, NN), (issues, NNS), (hi,...   \n",
              "2997  [(sent, NN), (monday, NN), (en, IN), (working,...   \n",
              "2998  [(sent, NN), (wednesday, NN), (july, NN), (hi,...   \n",
              "2999  [(sent, NN), (tuesday, NN), (july, JJ), (conne...   \n",
              "\n",
              "                                              NN_tagged  \\\n",
              "0                     [hi, recruiter, lead, permission]   \n",
              "1     [re, expire, help, expire, hi, expiration, ple...   \n",
              "2     [verification, hi, please, analyst, verification]   \n",
              "3                                      [kind, engineer]   \n",
              "4                                        [report, cost]   \n",
              "...                                                 ...   \n",
              "2995  [sent, tuesday, feedback, conf, call, hello, s...   \n",
              "2996                       [sent, monday, please, help]   \n",
              "2997  [sent, monday, number, meeting, room, dialer, ...   \n",
              "2998  [sent, wednesday, july, please, log, incident,...   \n",
              "2999  [sent, tuesday, connection, connection, client...   \n",
              "\n",
              "                                         NN_Description  Label  WSP_Label  \\\n",
              "0                             recruiter lead permission      0          2   \n",
              "1     expire expire expiration prolongation expire o...      0          2   \n",
              "2                     verification analyst verification      0          2   \n",
              "3                                              engineer      0          2   \n",
              "4                                           report cost      0          2   \n",
              "...                                                 ...    ...        ...   \n",
              "2995  feedback conf call setup meeting side meeting ...      1          0   \n",
              "2996                                                         1          2   \n",
              "2997  number meeting room dialer pad multiple access...      1          2   \n",
              "2998  log incident assistance mo el ticket con colom...      1          2   \n",
              "2999  connection connection client side link connect...      1          2   \n",
              "\n",
              "      WSP_Value  NN_WSP_Label  NN_WSP_Value  WUP_Label  WUP_Value  \\\n",
              "0      9.777778             0      9.600000          2   0.293505   \n",
              "1      9.441975             0      9.313043          1   0.307018   \n",
              "2      9.836364             2      9.266667          1   0.321312   \n",
              "3      9.000000             0      7.200000          2   0.310517   \n",
              "4      8.971429             2      9.400000          2   0.307934   \n",
              "...         ...           ...           ...        ...        ...   \n",
              "2995  10.327586             0     10.096296          1   0.280413   \n",
              "2996   9.030769             0      0.000000          1   0.364026   \n",
              "2997   9.752542             2      9.114286          2   0.288934   \n",
              "2998   9.940741             2      9.462069          1   0.301023   \n",
              "2999   9.335135             2      8.760000          2   0.301190   \n",
              "\n",
              "      NN_WUP_Label  NN_WUP_Value  \n",
              "0                0      0.289094  \n",
              "1                1      0.318041  \n",
              "2                2      0.313577  \n",
              "3                4      0.470739  \n",
              "4                1      0.319167  \n",
              "...            ...           ...  \n",
              "2995             4      0.306116  \n",
              "2996             0      0.000000  \n",
              "2997             2      0.304156  \n",
              "2998             1      0.304301  \n",
              "2999             2      0.322451  \n",
              "\n",
              "[3000 rows x 15 columns]"
            ],
            "text/html": [
              "\n",
              "  <div id=\"df-c0a0fbf5-7726-46bc-80a1-618c9621e317\" class=\"colab-df-container\">\n",
              "    <div>\n",
              "<style scoped>\n",
              "    .dataframe tbody tr th:only-of-type {\n",
              "        vertical-align: middle;\n",
              "    }\n",
              "\n",
              "    .dataframe tbody tr th {\n",
              "        vertical-align: top;\n",
              "    }\n",
              "\n",
              "    .dataframe thead th {\n",
              "        text-align: right;\n",
              "    }\n",
              "</style>\n",
              "<table border=\"1\" class=\"dataframe\">\n",
              "  <thead>\n",
              "    <tr style=\"text-align: right;\">\n",
              "      <th></th>\n",
              "      <th>Description</th>\n",
              "      <th>Category</th>\n",
              "      <th>Tokenized</th>\n",
              "      <th>pos_tagged</th>\n",
              "      <th>NN_tagged</th>\n",
              "      <th>NN_Description</th>\n",
              "      <th>Label</th>\n",
              "      <th>WSP_Label</th>\n",
              "      <th>WSP_Value</th>\n",
              "      <th>NN_WSP_Label</th>\n",
              "      <th>NN_WSP_Value</th>\n",
              "      <th>WUP_Label</th>\n",
              "      <th>WUP_Value</th>\n",
              "      <th>NN_WUP_Label</th>\n",
              "      <th>NN_WUP_Value</th>\n",
              "    </tr>\n",
              "  </thead>\n",
              "  <tbody>\n",
              "    <tr>\n",
              "      <th>0</th>\n",
              "      <td>hi since recruiter lead permission approve req...</td>\n",
              "      <td>Application</td>\n",
              "      <td>[hi, since, recruiter, lead, permission, appro...</td>\n",
              "      <td>[(hi, NN), (since, IN), (recruiter, NN), (lead...</td>\n",
              "      <td>[hi, recruiter, lead, permission]</td>\n",
              "      <td>recruiter lead permission</td>\n",
              "      <td>0</td>\n",
              "      <td>2</td>\n",
              "      <td>9.777778</td>\n",
              "      <td>0</td>\n",
              "      <td>9.600000</td>\n",
              "      <td>2</td>\n",
              "      <td>0.293505</td>\n",
              "      <td>0</td>\n",
              "      <td>0.289094</td>\n",
              "    </tr>\n",
              "    <tr>\n",
              "      <th>1</th>\n",
              "      <td>re expire days hi ask help update passwords co...</td>\n",
              "      <td>Application</td>\n",
              "      <td>[re, expire, days, hi, ask, help, update, pass...</td>\n",
              "      <td>[(re, NN), (expire, NN), (days, NNS), (hi, VBP...</td>\n",
              "      <td>[re, expire, help, expire, hi, expiration, ple...</td>\n",
              "      <td>expire expire expiration prolongation expire o...</td>\n",
              "      <td>0</td>\n",
              "      <td>2</td>\n",
              "      <td>9.441975</td>\n",
              "      <td>0</td>\n",
              "      <td>9.313043</td>\n",
              "      <td>1</td>\n",
              "      <td>0.307018</td>\n",
              "      <td>1</td>\n",
              "      <td>0.318041</td>\n",
              "    </tr>\n",
              "    <tr>\n",
              "      <th>2</th>\n",
              "      <td>verification warning hi has got attached pleas...</td>\n",
              "      <td>Application</td>\n",
              "      <td>[verification, warning, hi, has, got, attached...</td>\n",
              "      <td>[(verification, NN), (warning, VBG), (hi, NN),...</td>\n",
              "      <td>[verification, hi, please, analyst, verification]</td>\n",
              "      <td>verification analyst verification</td>\n",
              "      <td>0</td>\n",
              "      <td>2</td>\n",
              "      <td>9.836364</td>\n",
              "      <td>2</td>\n",
              "      <td>9.266667</td>\n",
              "      <td>1</td>\n",
              "      <td>0.321312</td>\n",
              "      <td>2</td>\n",
              "      <td>0.313577</td>\n",
              "    </tr>\n",
              "    <tr>\n",
              "      <th>3</th>\n",
              "      <td>please dear looks blacklisted receiving mails ...</td>\n",
              "      <td>Application</td>\n",
              "      <td>[please, dear, looks, blacklisted, receiving, ...</td>\n",
              "      <td>[(please, VB), (dear, JJ), (looks, NNS), (blac...</td>\n",
              "      <td>[kind, engineer]</td>\n",
              "      <td>engineer</td>\n",
              "      <td>0</td>\n",
              "      <td>2</td>\n",
              "      <td>9.000000</td>\n",
              "      <td>0</td>\n",
              "      <td>7.200000</td>\n",
              "      <td>2</td>\n",
              "      <td>0.310517</td>\n",
              "      <td>4</td>\n",
              "      <td>0.470739</td>\n",
              "    </tr>\n",
              "    <tr>\n",
              "      <th>4</th>\n",
              "      <td>dear modules report report cost thank much reg...</td>\n",
              "      <td>Application</td>\n",
              "      <td>[dear, modules, report, report, cost, thank, m...</td>\n",
              "      <td>[(dear, JJ), (modules, NNS), (report, VB), (re...</td>\n",
              "      <td>[report, cost]</td>\n",
              "      <td>report cost</td>\n",
              "      <td>0</td>\n",
              "      <td>2</td>\n",
              "      <td>8.971429</td>\n",
              "      <td>2</td>\n",
              "      <td>9.400000</td>\n",
              "      <td>2</td>\n",
              "      <td>0.307934</td>\n",
              "      <td>1</td>\n",
              "      <td>0.319167</td>\n",
              "    </tr>\n",
              "    <tr>\n",
              "      <th>...</th>\n",
              "      <td>...</td>\n",
              "      <td>...</td>\n",
              "      <td>...</td>\n",
              "      <td>...</td>\n",
              "      <td>...</td>\n",
              "      <td>...</td>\n",
              "      <td>...</td>\n",
              "      <td>...</td>\n",
              "      <td>...</td>\n",
              "      <td>...</td>\n",
              "      <td>...</td>\n",
              "      <td>...</td>\n",
              "      <td>...</td>\n",
              "      <td>...</td>\n",
              "      <td>...</td>\n",
              "    </tr>\n",
              "    <tr>\n",
              "      <th>2995</th>\n",
              "      <td>sent tuesday feedback follow up conf call hell...</td>\n",
              "      <td>Database</td>\n",
              "      <td>[sent, tuesday, feedback, follow, up, conf, ca...</td>\n",
              "      <td>[(sent, NN), (tuesday, NN), (feedback, NN), (f...</td>\n",
              "      <td>[sent, tuesday, feedback, conf, call, hello, s...</td>\n",
              "      <td>feedback conf call setup meeting side meeting ...</td>\n",
              "      <td>1</td>\n",
              "      <td>0</td>\n",
              "      <td>10.327586</td>\n",
              "      <td>0</td>\n",
              "      <td>10.096296</td>\n",
              "      <td>1</td>\n",
              "      <td>0.280413</td>\n",
              "      <td>4</td>\n",
              "      <td>0.306116</td>\n",
              "    </tr>\n",
              "    <tr>\n",
              "      <th>2996</th>\n",
              "      <td>sent monday issues hi keep getting errors whil...</td>\n",
              "      <td>Database</td>\n",
              "      <td>[sent, monday, issues, hi, keep, getting, erro...</td>\n",
              "      <td>[(sent, NN), (monday, NN), (issues, NNS), (hi,...</td>\n",
              "      <td>[sent, monday, please, help]</td>\n",
              "      <td></td>\n",
              "      <td>1</td>\n",
              "      <td>2</td>\n",
              "      <td>9.030769</td>\n",
              "      <td>0</td>\n",
              "      <td>0.000000</td>\n",
              "      <td>1</td>\n",
              "      <td>0.364026</td>\n",
              "      <td>0</td>\n",
              "      <td>0.000000</td>\n",
              "    </tr>\n",
              "    <tr>\n",
              "      <th>2997</th>\n",
              "      <td>sent monday en working properly hi guys we hav...</td>\n",
              "      <td>Database</td>\n",
              "      <td>[sent, monday, en, working, properly, hi, guys...</td>\n",
              "      <td>[(sent, NN), (monday, NN), (en, IN), (working,...</td>\n",
              "      <td>[sent, monday, number, meeting, room, dialer, ...</td>\n",
              "      <td>number meeting room dialer pad multiple access...</td>\n",
              "      <td>1</td>\n",
              "      <td>2</td>\n",
              "      <td>9.752542</td>\n",
              "      <td>2</td>\n",
              "      <td>9.114286</td>\n",
              "      <td>2</td>\n",
              "      <td>0.288934</td>\n",
              "      <td>2</td>\n",
              "      <td>0.304156</td>\n",
              "    </tr>\n",
              "    <tr>\n",
              "      <th>2998</th>\n",
              "      <td>sent wednesday july hi please log incident for...</td>\n",
              "      <td>Database</td>\n",
              "      <td>[sent, wednesday, july, hi, please, log, incid...</td>\n",
              "      <td>[(sent, NN), (wednesday, NN), (july, NN), (hi,...</td>\n",
              "      <td>[sent, wednesday, july, please, log, incident,...</td>\n",
              "      <td>log incident assistance mo el ticket con colom...</td>\n",
              "      <td>1</td>\n",
              "      <td>2</td>\n",
              "      <td>9.940741</td>\n",
              "      <td>2</td>\n",
              "      <td>9.462069</td>\n",
              "      <td>1</td>\n",
              "      <td>0.301023</td>\n",
              "      <td>1</td>\n",
              "      <td>0.304301</td>\n",
              "    </tr>\n",
              "    <tr>\n",
              "      <th>2999</th>\n",
              "      <td>sent tuesday july connection issues hello have...</td>\n",
              "      <td>Database</td>\n",
              "      <td>[sent, tuesday, july, connection, issues, hell...</td>\n",
              "      <td>[(sent, NN), (tuesday, NN), (july, JJ), (conne...</td>\n",
              "      <td>[sent, tuesday, connection, connection, client...</td>\n",
              "      <td>connection connection client side link connect...</td>\n",
              "      <td>1</td>\n",
              "      <td>2</td>\n",
              "      <td>9.335135</td>\n",
              "      <td>2</td>\n",
              "      <td>8.760000</td>\n",
              "      <td>2</td>\n",
              "      <td>0.301190</td>\n",
              "      <td>2</td>\n",
              "      <td>0.322451</td>\n",
              "    </tr>\n",
              "  </tbody>\n",
              "</table>\n",
              "<p>3000 rows × 15 columns</p>\n",
              "</div>\n",
              "    <div class=\"colab-df-buttons\">\n",
              "\n",
              "  <div class=\"colab-df-container\">\n",
              "    <button class=\"colab-df-convert\" onclick=\"convertToInteractive('df-c0a0fbf5-7726-46bc-80a1-618c9621e317')\"\n",
              "            title=\"Convert this dataframe to an interactive table.\"\n",
              "            style=\"display:none;\">\n",
              "\n",
              "  <svg xmlns=\"http://www.w3.org/2000/svg\" height=\"24px\" viewBox=\"0 -960 960 960\">\n",
              "    <path d=\"M120-120v-720h720v720H120Zm60-500h600v-160H180v160Zm220 220h160v-160H400v160Zm0 220h160v-160H400v160ZM180-400h160v-160H180v160Zm440 0h160v-160H620v160ZM180-180h160v-160H180v160Zm440 0h160v-160H620v160Z\"/>\n",
              "  </svg>\n",
              "    </button>\n",
              "\n",
              "  <style>\n",
              "    .colab-df-container {\n",
              "      display:flex;\n",
              "      gap: 12px;\n",
              "    }\n",
              "\n",
              "    .colab-df-convert {\n",
              "      background-color: #E8F0FE;\n",
              "      border: none;\n",
              "      border-radius: 50%;\n",
              "      cursor: pointer;\n",
              "      display: none;\n",
              "      fill: #1967D2;\n",
              "      height: 32px;\n",
              "      padding: 0 0 0 0;\n",
              "      width: 32px;\n",
              "    }\n",
              "\n",
              "    .colab-df-convert:hover {\n",
              "      background-color: #E2EBFA;\n",
              "      box-shadow: 0px 1px 2px rgba(60, 64, 67, 0.3), 0px 1px 3px 1px rgba(60, 64, 67, 0.15);\n",
              "      fill: #174EA6;\n",
              "    }\n",
              "\n",
              "    .colab-df-buttons div {\n",
              "      margin-bottom: 4px;\n",
              "    }\n",
              "\n",
              "    [theme=dark] .colab-df-convert {\n",
              "      background-color: #3B4455;\n",
              "      fill: #D2E3FC;\n",
              "    }\n",
              "\n",
              "    [theme=dark] .colab-df-convert:hover {\n",
              "      background-color: #434B5C;\n",
              "      box-shadow: 0px 1px 3px 1px rgba(0, 0, 0, 0.15);\n",
              "      filter: drop-shadow(0px 1px 2px rgba(0, 0, 0, 0.3));\n",
              "      fill: #FFFFFF;\n",
              "    }\n",
              "  </style>\n",
              "\n",
              "    <script>\n",
              "      const buttonEl =\n",
              "        document.querySelector('#df-c0a0fbf5-7726-46bc-80a1-618c9621e317 button.colab-df-convert');\n",
              "      buttonEl.style.display =\n",
              "        google.colab.kernel.accessAllowed ? 'block' : 'none';\n",
              "\n",
              "      async function convertToInteractive(key) {\n",
              "        const element = document.querySelector('#df-c0a0fbf5-7726-46bc-80a1-618c9621e317');\n",
              "        const dataTable =\n",
              "          await google.colab.kernel.invokeFunction('convertToInteractive',\n",
              "                                                    [key], {});\n",
              "        if (!dataTable) return;\n",
              "\n",
              "        const docLinkHtml = 'Like what you see? Visit the ' +\n",
              "          '<a target=\"_blank\" href=https://colab.research.google.com/notebooks/data_table.ipynb>data table notebook</a>'\n",
              "          + ' to learn more about interactive tables.';\n",
              "        element.innerHTML = '';\n",
              "        dataTable['output_type'] = 'display_data';\n",
              "        await google.colab.output.renderOutput(dataTable, element);\n",
              "        const docLink = document.createElement('div');\n",
              "        docLink.innerHTML = docLinkHtml;\n",
              "        element.appendChild(docLink);\n",
              "      }\n",
              "    </script>\n",
              "  </div>\n",
              "\n",
              "\n",
              "<div id=\"df-4e35e8f7-2aff-417f-88d3-1576c73f9482\">\n",
              "  <button class=\"colab-df-quickchart\" onclick=\"quickchart('df-4e35e8f7-2aff-417f-88d3-1576c73f9482')\"\n",
              "            title=\"Suggest charts\"\n",
              "            style=\"display:none;\">\n",
              "\n",
              "<svg xmlns=\"http://www.w3.org/2000/svg\" height=\"24px\"viewBox=\"0 0 24 24\"\n",
              "     width=\"24px\">\n",
              "    <g>\n",
              "        <path d=\"M19 3H5c-1.1 0-2 .9-2 2v14c0 1.1.9 2 2 2h14c1.1 0 2-.9 2-2V5c0-1.1-.9-2-2-2zM9 17H7v-7h2v7zm4 0h-2V7h2v10zm4 0h-2v-4h2v4z\"/>\n",
              "    </g>\n",
              "</svg>\n",
              "  </button>\n",
              "\n",
              "<style>\n",
              "  .colab-df-quickchart {\n",
              "      --bg-color: #E8F0FE;\n",
              "      --fill-color: #1967D2;\n",
              "      --hover-bg-color: #E2EBFA;\n",
              "      --hover-fill-color: #174EA6;\n",
              "      --disabled-fill-color: #AAA;\n",
              "      --disabled-bg-color: #DDD;\n",
              "  }\n",
              "\n",
              "  [theme=dark] .colab-df-quickchart {\n",
              "      --bg-color: #3B4455;\n",
              "      --fill-color: #D2E3FC;\n",
              "      --hover-bg-color: #434B5C;\n",
              "      --hover-fill-color: #FFFFFF;\n",
              "      --disabled-bg-color: #3B4455;\n",
              "      --disabled-fill-color: #666;\n",
              "  }\n",
              "\n",
              "  .colab-df-quickchart {\n",
              "    background-color: var(--bg-color);\n",
              "    border: none;\n",
              "    border-radius: 50%;\n",
              "    cursor: pointer;\n",
              "    display: none;\n",
              "    fill: var(--fill-color);\n",
              "    height: 32px;\n",
              "    padding: 0;\n",
              "    width: 32px;\n",
              "  }\n",
              "\n",
              "  .colab-df-quickchart:hover {\n",
              "    background-color: var(--hover-bg-color);\n",
              "    box-shadow: 0 1px 2px rgba(60, 64, 67, 0.3), 0 1px 3px 1px rgba(60, 64, 67, 0.15);\n",
              "    fill: var(--button-hover-fill-color);\n",
              "  }\n",
              "\n",
              "  .colab-df-quickchart-complete:disabled,\n",
              "  .colab-df-quickchart-complete:disabled:hover {\n",
              "    background-color: var(--disabled-bg-color);\n",
              "    fill: var(--disabled-fill-color);\n",
              "    box-shadow: none;\n",
              "  }\n",
              "\n",
              "  .colab-df-spinner {\n",
              "    border: 2px solid var(--fill-color);\n",
              "    border-color: transparent;\n",
              "    border-bottom-color: var(--fill-color);\n",
              "    animation:\n",
              "      spin 1s steps(1) infinite;\n",
              "  }\n",
              "\n",
              "  @keyframes spin {\n",
              "    0% {\n",
              "      border-color: transparent;\n",
              "      border-bottom-color: var(--fill-color);\n",
              "      border-left-color: var(--fill-color);\n",
              "    }\n",
              "    20% {\n",
              "      border-color: transparent;\n",
              "      border-left-color: var(--fill-color);\n",
              "      border-top-color: var(--fill-color);\n",
              "    }\n",
              "    30% {\n",
              "      border-color: transparent;\n",
              "      border-left-color: var(--fill-color);\n",
              "      border-top-color: var(--fill-color);\n",
              "      border-right-color: var(--fill-color);\n",
              "    }\n",
              "    40% {\n",
              "      border-color: transparent;\n",
              "      border-right-color: var(--fill-color);\n",
              "      border-top-color: var(--fill-color);\n",
              "    }\n",
              "    60% {\n",
              "      border-color: transparent;\n",
              "      border-right-color: var(--fill-color);\n",
              "    }\n",
              "    80% {\n",
              "      border-color: transparent;\n",
              "      border-right-color: var(--fill-color);\n",
              "      border-bottom-color: var(--fill-color);\n",
              "    }\n",
              "    90% {\n",
              "      border-color: transparent;\n",
              "      border-bottom-color: var(--fill-color);\n",
              "    }\n",
              "  }\n",
              "</style>\n",
              "\n",
              "  <script>\n",
              "    async function quickchart(key) {\n",
              "      const quickchartButtonEl =\n",
              "        document.querySelector('#' + key + ' button');\n",
              "      quickchartButtonEl.disabled = true;  // To prevent multiple clicks.\n",
              "      quickchartButtonEl.classList.add('colab-df-spinner');\n",
              "      try {\n",
              "        const charts = await google.colab.kernel.invokeFunction(\n",
              "            'suggestCharts', [key], {});\n",
              "      } catch (error) {\n",
              "        console.error('Error during call to suggestCharts:', error);\n",
              "      }\n",
              "      quickchartButtonEl.classList.remove('colab-df-spinner');\n",
              "      quickchartButtonEl.classList.add('colab-df-quickchart-complete');\n",
              "    }\n",
              "    (() => {\n",
              "      let quickchartButtonEl =\n",
              "        document.querySelector('#df-4e35e8f7-2aff-417f-88d3-1576c73f9482 button');\n",
              "      quickchartButtonEl.style.display =\n",
              "        google.colab.kernel.accessAllowed ? 'block' : 'none';\n",
              "    })();\n",
              "  </script>\n",
              "</div>\n",
              "    </div>\n",
              "  </div>\n"
            ],
            "application/vnd.google.colaboratory.intrinsic+json": {
              "type": "dataframe",
              "variable_name": "df",
              "summary": "{\n  \"name\": \"df\",\n  \"rows\": 3000,\n  \"fields\": [\n    {\n      \"column\": \"Description\",\n      \"properties\": {\n        \"dtype\": \"string\",\n        \"num_unique_values\": 3000,\n        \"samples\": [\n          \"friday november pm assistants please secure floor tower hi please securing floor tower secure area evening cob tuesday morning area needs secure also needs informing employees about changes restriction well meeting rooms bookings restriction thank help kind regards officer information\",\n          \"pm hi joined fast followings visual studio provide other information please let thank best regards\",\n          \"card leaver la va ca defect\"\n        ],\n        \"semantic_type\": \"\",\n        \"description\": \"\"\n      }\n    },\n    {\n      \"column\": \"Category\",\n      \"properties\": {\n        \"dtype\": \"category\",\n        \"num_unique_values\": 5,\n        \"samples\": [\n          \"Database\",\n          \"Security\",\n          \"Network\"\n        ],\n        \"semantic_type\": \"\",\n        \"description\": \"\"\n      }\n    },\n    {\n      \"column\": \"Tokenized\",\n      \"properties\": {\n        \"dtype\": \"object\",\n        \"semantic_type\": \"\",\n        \"description\": \"\"\n      }\n    },\n    {\n      \"column\": \"pos_tagged\",\n      \"properties\": {\n        \"dtype\": \"object\",\n        \"semantic_type\": \"\",\n        \"description\": \"\"\n      }\n    },\n    {\n      \"column\": \"NN_tagged\",\n      \"properties\": {\n        \"dtype\": \"object\",\n        \"semantic_type\": \"\",\n        \"description\": \"\"\n      }\n    },\n    {\n      \"column\": \"NN_Description\",\n      \"properties\": {\n        \"dtype\": \"string\",\n        \"num_unique_values\": 2720,\n        \"samples\": [\n          \"announce crap eon program si va ne interval care placer la cl rom confidentiality notice content communication information environment printing\",\n          \"analyst submit make side let\",\n          \"phone issue move phone press cable discovery discovery issue phone centimeter analyst\"\n        ],\n        \"semantic_type\": \"\",\n        \"description\": \"\"\n      }\n    },\n    {\n      \"column\": \"Label\",\n      \"properties\": {\n        \"dtype\": \"number\",\n        \"std\": 1,\n        \"min\": 0,\n        \"max\": 4,\n        \"num_unique_values\": 5,\n        \"samples\": [\n          1,\n          3,\n          2\n        ],\n        \"semantic_type\": \"\",\n        \"description\": \"\"\n      }\n    },\n    {\n      \"column\": \"WSP_Label\",\n      \"properties\": {\n        \"dtype\": \"number\",\n        \"std\": 1,\n        \"min\": 0,\n        \"max\": 4,\n        \"num_unique_values\": 4,\n        \"samples\": [\n          0,\n          4,\n          2\n        ],\n        \"semantic_type\": \"\",\n        \"description\": \"\"\n      }\n    },\n    {\n      \"column\": \"WSP_Value\",\n      \"properties\": {\n        \"dtype\": \"number\",\n        \"std\": 0.6385605623595587,\n        \"min\": 0.0,\n        \"max\": 14.55,\n        \"num_unique_values\": 1753,\n        \"samples\": [\n          9.08235294117647,\n          9.62,\n          9.282352941176471\n        ],\n        \"semantic_type\": \"\",\n        \"description\": \"\"\n      }\n    },\n    {\n      \"column\": \"NN_WSP_Label\",\n      \"properties\": {\n        \"dtype\": \"number\",\n        \"std\": 1,\n        \"min\": 0,\n        \"max\": 4,\n        \"num_unique_values\": 4,\n        \"samples\": [\n          2,\n          1,\n          0\n        ],\n        \"semantic_type\": \"\",\n        \"description\": \"\"\n      }\n    },\n    {\n      \"column\": \"NN_WSP_Value\",\n      \"properties\": {\n        \"dtype\": \"number\",\n        \"std\": 1.871919753132991,\n        \"min\": 0.0,\n        \"max\": 18.8,\n        \"num_unique_values\": 1053,\n        \"samples\": [\n          10.77142857142857,\n          7.4,\n          9.057142857142857\n        ],\n        \"semantic_type\": \"\",\n        \"description\": \"\"\n      }\n    },\n    {\n      \"column\": \"WUP_Label\",\n      \"properties\": {\n        \"dtype\": \"number\",\n        \"std\": 1,\n        \"min\": 0,\n        \"max\": 4,\n        \"num_unique_values\": 5,\n        \"samples\": [\n          1,\n          3,\n          0\n        ],\n        \"semantic_type\": \"\",\n        \"description\": \"\"\n      }\n    },\n    {\n      \"column\": \"WUP_Value\",\n      \"properties\": {\n        \"dtype\": \"number\",\n        \"std\": 0.03564191091274201,\n        \"min\": 0.0,\n        \"max\": 0.5059074912016088,\n        \"num_unique_values\": 2943,\n        \"samples\": [\n          0.29345897105790764,\n          0.31631507451210683,\n          0.28268249347221686\n        ],\n        \"semantic_type\": \"\",\n        \"description\": \"\"\n      }\n    },\n    {\n      \"column\": \"NN_WUP_Label\",\n      \"properties\": {\n        \"dtype\": \"number\",\n        \"std\": 1,\n        \"min\": 0,\n        \"max\": 4,\n        \"num_unique_values\": 5,\n        \"samples\": [\n          1,\n          3,\n          2\n        ],\n        \"semantic_type\": \"\",\n        \"description\": \"\"\n      }\n    },\n    {\n      \"column\": \"NN_WUP_Value\",\n      \"properties\": {\n        \"dtype\": \"number\",\n        \"std\": 0.08247588651589764,\n        \"min\": 0.0,\n        \"max\": 0.557967032967033,\n        \"num_unique_values\": 2507,\n        \"samples\": [\n          0.3137644047129341,\n          0.3199503295367957,\n          0.25758591094571714\n        ],\n        \"semantic_type\": \"\",\n        \"description\": \"\"\n      }\n    }\n  ]\n}"
            }
          },
          "metadata": {},
          "execution_count": 43
        }
      ]
    },
    {
      "cell_type": "code",
      "source": [
        "df_0 = df.loc[(df['Label'] == 0)]\n",
        "df_1 = df.loc[(df['Label'] == 1)]\n",
        "df_2 = df.loc[(df['Label'] == 2)]\n",
        "df_3 = df.loc[(df['Label'] == 3)]\n",
        "df_4 = df.loc[(df['Label'] == 4)]"
      ],
      "metadata": {
        "id": "7ZwGT5MZYxlH"
      },
      "execution_count": null,
      "outputs": []
    },
    {
      "cell_type": "code",
      "source": [
        "accuracy_score(df['Label'], df['WUP_Label'])"
      ],
      "metadata": {
        "id": "SU35Rm4CREcn",
        "colab": {
          "base_uri": "https://localhost:8080/"
        },
        "outputId": "396bd1bb-6816-4edc-9c6d-8adb959350ab"
      },
      "execution_count": null,
      "outputs": [
        {
          "output_type": "execute_result",
          "data": {
            "text/plain": [
              "0.261"
            ]
          },
          "metadata": {},
          "execution_count": 45
        }
      ]
    },
    {
      "cell_type": "code",
      "source": [
        "accuracy_score(df['Label'], df['NN_WUP_Label'])"
      ],
      "metadata": {
        "colab": {
          "base_uri": "https://localhost:8080/"
        },
        "id": "a6e5nVDrJ4Fk",
        "outputId": "313feeaf-f9a3-4414-8a31-49b927d7e063"
      },
      "execution_count": null,
      "outputs": [
        {
          "output_type": "execute_result",
          "data": {
            "text/plain": [
              "0.31166666666666665"
            ]
          },
          "metadata": {},
          "execution_count": 46
        }
      ]
    },
    {
      "cell_type": "code",
      "source": [
        "accuracy_score(df_0['Label'], df_0['WUP_Label'])"
      ],
      "metadata": {
        "id": "eh4D9XMERyvM",
        "colab": {
          "base_uri": "https://localhost:8080/"
        },
        "outputId": "d0937714-7f28-441e-e969-39ac7da1173b"
      },
      "execution_count": null,
      "outputs": [
        {
          "output_type": "execute_result",
          "data": {
            "text/plain": [
              "0.15833333333333333"
            ]
          },
          "metadata": {},
          "execution_count": 47
        }
      ]
    },
    {
      "cell_type": "code",
      "source": [
        "accuracy_score(df_0['Label'], df_0['NN_WUP_Label'])"
      ],
      "metadata": {
        "colab": {
          "base_uri": "https://localhost:8080/"
        },
        "id": "ywL2MxxhJ2Df",
        "outputId": "7ccdfae5-5743-4cd5-8bfc-1aa2e9957756"
      },
      "execution_count": null,
      "outputs": [
        {
          "output_type": "execute_result",
          "data": {
            "text/plain": [
              "0.20666666666666667"
            ]
          },
          "metadata": {},
          "execution_count": 48
        }
      ]
    },
    {
      "cell_type": "code",
      "source": [
        "accuracy_score(df_1['Label'], df_1['WUP_Label'])"
      ],
      "metadata": {
        "id": "r8zNUZzoR9R_",
        "colab": {
          "base_uri": "https://localhost:8080/"
        },
        "outputId": "1748009c-27e6-445d-aee1-ad799fa0062d"
      },
      "execution_count": null,
      "outputs": [
        {
          "output_type": "execute_result",
          "data": {
            "text/plain": [
              "0.3983333333333333"
            ]
          },
          "metadata": {},
          "execution_count": 49
        }
      ]
    },
    {
      "cell_type": "code",
      "source": [
        "accuracy_score(df_1['Label'], df_1['NN_WUP_Label'])"
      ],
      "metadata": {
        "colab": {
          "base_uri": "https://localhost:8080/"
        },
        "id": "SwqCxwbrJ0Jn",
        "outputId": "5d25ac63-8527-4ebc-beb5-5c48fc1b7f47"
      },
      "execution_count": null,
      "outputs": [
        {
          "output_type": "execute_result",
          "data": {
            "text/plain": [
              "0.33"
            ]
          },
          "metadata": {},
          "execution_count": 50
        }
      ]
    },
    {
      "cell_type": "code",
      "source": [
        "accuracy_score(df_2['Label'], df_2['WUP_Label'])"
      ],
      "metadata": {
        "id": "h9o6q8qDSK1T",
        "colab": {
          "base_uri": "https://localhost:8080/"
        },
        "outputId": "6d7bfdd5-1f6d-4135-8362-2761342971b0"
      },
      "execution_count": null,
      "outputs": [
        {
          "output_type": "execute_result",
          "data": {
            "text/plain": [
              "0.44333333333333336"
            ]
          },
          "metadata": {},
          "execution_count": 51
        }
      ]
    },
    {
      "cell_type": "code",
      "source": [
        "accuracy_score(df_2['Label'], df_2['NN_WUP_Label'])"
      ],
      "metadata": {
        "colab": {
          "base_uri": "https://localhost:8080/"
        },
        "id": "AeRthYzgJyKL",
        "outputId": "f79b2adb-522c-4eac-fa9d-1ba87e360349"
      },
      "execution_count": null,
      "outputs": [
        {
          "output_type": "execute_result",
          "data": {
            "text/plain": [
              "0.33166666666666667"
            ]
          },
          "metadata": {},
          "execution_count": 52
        }
      ]
    },
    {
      "cell_type": "code",
      "source": [
        "accuracy_score(df_3['Label'], df_3['WUP_Label'])"
      ],
      "metadata": {
        "id": "rhbSsUTbSRPq",
        "colab": {
          "base_uri": "https://localhost:8080/"
        },
        "outputId": "5b007723-f183-4216-8828-4b0e486368db"
      },
      "execution_count": null,
      "outputs": [
        {
          "output_type": "execute_result",
          "data": {
            "text/plain": [
              "0.015"
            ]
          },
          "metadata": {},
          "execution_count": 53
        }
      ]
    },
    {
      "cell_type": "code",
      "source": [
        "accuracy_score(df_3['Label'], df_3['NN_WUP_Label'])"
      ],
      "metadata": {
        "colab": {
          "base_uri": "https://localhost:8080/"
        },
        "id": "C780laWTJv7m",
        "outputId": "cf8302ce-5b37-40f4-e671-061762744e69"
      },
      "execution_count": null,
      "outputs": [
        {
          "output_type": "execute_result",
          "data": {
            "text/plain": [
              "0.16333333333333333"
            ]
          },
          "metadata": {},
          "execution_count": 54
        }
      ]
    },
    {
      "cell_type": "code",
      "source": [
        "accuracy_score(df_4['Label'], df_4['WUP_Label'])"
      ],
      "metadata": {
        "id": "MXEo7HjiSVQU",
        "colab": {
          "base_uri": "https://localhost:8080/"
        },
        "outputId": "7b71e3f1-59e0-417d-ba14-d64abe1b9a0c"
      },
      "execution_count": null,
      "outputs": [
        {
          "output_type": "execute_result",
          "data": {
            "text/plain": [
              "0.29"
            ]
          },
          "metadata": {},
          "execution_count": 55
        }
      ]
    },
    {
      "cell_type": "code",
      "source": [
        "accuracy_score(df_4['Label'], df_4['NN_WUP_Label'])"
      ],
      "metadata": {
        "colab": {
          "base_uri": "https://localhost:8080/"
        },
        "id": "8I43hfwdJtcG",
        "outputId": "ff97556d-416a-4cf3-866d-00af9ab6f9af"
      },
      "execution_count": null,
      "outputs": [
        {
          "output_type": "execute_result",
          "data": {
            "text/plain": [
              "0.5266666666666666"
            ]
          },
          "metadata": {},
          "execution_count": 56
        }
      ]
    }
  ]
}