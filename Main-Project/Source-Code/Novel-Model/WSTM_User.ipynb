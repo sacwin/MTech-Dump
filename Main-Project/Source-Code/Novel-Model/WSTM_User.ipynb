{
  "nbformat": 4,
  "nbformat_minor": 0,
  "metadata": {
    "colab": {
      "provenance": []
    },
    "kernelspec": {
      "name": "python3",
      "display_name": "Python 3"
    },
    "language_info": {
      "name": "python"
    }
  },
  "cells": [
    {
      "cell_type": "code",
      "execution_count": null,
      "metadata": {
        "id": "EfDodKJL1NH2",
        "colab": {
          "base_uri": "https://localhost:8080/"
        },
        "outputId": "9a73eb9c-3754-4144-c2d0-b63f6e1b1e66"
      },
      "outputs": [
        {
          "output_type": "stream",
          "name": "stderr",
          "text": [
            "[nltk_data] Downloading package wordnet to /root/nltk_data...\n",
            "[nltk_data] Downloading package punkt to /root/nltk_data...\n",
            "[nltk_data]   Unzipping tokenizers/punkt.zip.\n",
            "[nltk_data] Downloading package averaged_perceptron_tagger to\n",
            "[nltk_data]     /root/nltk_data...\n",
            "[nltk_data]   Unzipping taggers/averaged_perceptron_tagger.zip.\n",
            "[nltk_data] Downloading package stopwords to /root/nltk_data...\n",
            "[nltk_data]   Unzipping corpora/stopwords.zip.\n"
          ]
        }
      ],
      "source": [
        "# Import Libraries\n",
        "import pandas as pd\n",
        "import io\n",
        "import numpy as np\n",
        "import re\n",
        "\n",
        "import nltk\n",
        "nltk.download('wordnet')\n",
        "nltk.download('punkt')\n",
        "nltk.download('averaged_perceptron_tagger')\n",
        "nltk.download('stopwords')\n",
        "from nltk.corpus import wordnet\n",
        "from nltk.corpus import stopwords\n",
        "\n",
        "from sklearn.preprocessing import LabelEncoder\n",
        "from sklearn.metrics import accuracy_score"
      ]
    },
    {
      "cell_type": "code",
      "source": [
        "df = pd.read_csv('latest_ticket_data.csv')"
      ],
      "metadata": {
        "id": "zkr0Kc7R2pGa"
      },
      "execution_count": null,
      "outputs": []
    },
    {
      "cell_type": "code",
      "source": [
        "def get_only_chars(line):\n",
        "\n",
        "    clean_line = \"\"\n",
        "\n",
        "    line = line.replace(\"’\", \"\")\n",
        "    line = line.replace(\"'\", \"\")\n",
        "    line = line.replace(\"-\", \" \") #replace hyphens with spaces\n",
        "    line = line.replace(\"\\t\", \" \")\n",
        "    line = line.replace(\"\\n\", \" \")\n",
        "    line = line.lower()\n",
        "\n",
        "    for char in line:\n",
        "        if char in 'qwertyuiopasdfghjklzxcvbnm ':\n",
        "            clean_line += char\n",
        "        else:\n",
        "            clean_line += ' '\n",
        "\n",
        "    clean_line = re.sub(' +',' ',clean_line) #delete extra spaces\n",
        "    if clean_line[0] == ' ':\n",
        "        clean_line = clean_line[1:]\n",
        "    return clean_line"
      ],
      "metadata": {
        "id": "wKt5AnR-TZav"
      },
      "execution_count": null,
      "outputs": []
    },
    {
      "cell_type": "code",
      "source": [
        "df['Description'] = df['Description'].apply(lambda x: get_only_chars(x))"
      ],
      "metadata": {
        "id": "OuDZi8vXTkKf"
      },
      "execution_count": null,
      "outputs": []
    },
    {
      "cell_type": "code",
      "source": [
        "df['Tokenized']=[nltk.word_tokenize(i) for i in df['Description']]"
      ],
      "metadata": {
        "id": "iB0EJWU63XKZ"
      },
      "execution_count": null,
      "outputs": []
    },
    {
      "cell_type": "code",
      "source": [
        "df['pos_tagged'] = [nltk.pos_tag(i) for i in df['Tokenized']]"
      ],
      "metadata": {
        "id": "tcXSr0ye3b5G"
      },
      "execution_count": null,
      "outputs": []
    },
    {
      "cell_type": "code",
      "source": [
        "df['NN_tagged'] = df['pos_tagged'].apply(lambda item:[w for w,t in item if t=='NN'])"
      ],
      "metadata": {
        "id": "k8OsXCby3iwn"
      },
      "execution_count": null,
      "outputs": []
    },
    {
      "cell_type": "code",
      "source": [
        "df['NN_Description'] = df.NN_tagged.map(lambda x: ' '.join(x))"
      ],
      "metadata": {
        "id": "insbKP9b3nCp"
      },
      "execution_count": null,
      "outputs": []
    },
    {
      "cell_type": "code",
      "source": [
        "stop_words = stopwords.words('english')\n",
        "custom_stop_words = ['hi', 'since', 'please', 'best', 'regards', 'thank', 'thanks', 'hello', 'sent', 'great', 'dear', 'help', 'kind']\n",
        "time_words = ['january', 'february', 'march', 'april', 'may', 'june', 'july', 'august', 'september', 'october', 'november', 'december',\n",
        "              'monday', 'tuesday', 'wednesday', 'thursday', 'friday', 'saturday', 'sunday', 'today' , 'yesterday', 'tomorrow',\n",
        "              'hour', 'hours', 'time', 'times', 'timelines', 'date', 'day', 'days', 'am', 'pm', 'morning', 'noon', 'afternoon', 'evening',\n",
        "              'night', 'winter', 'summer', 'rain', 'cold']\n",
        "\n",
        "def remove_stop_words(text):\n",
        "    pattern = re.compile(r'\\b(' + r'|'.join(stop_words) + r')\\b\\s*')\n",
        "    text = pattern.sub('', text)\n",
        "    return text\n",
        "\n",
        "def remove_custom_words(text):\n",
        "    pattern = re.compile(r'\\b(' + r'|'.join(custom_stop_words) + r')\\b\\s*')\n",
        "    text = pattern.sub('', text)\n",
        "    return text\n",
        "\n",
        "def remove_time_words(text):\n",
        "    pattern = re.compile(r'\\b(' + r'|'.join(time_words) + r')\\b\\s*')\n",
        "    text = pattern.sub('', text)\n",
        "    return text\n",
        "\n",
        "df['NN_Description'] = df[\"NN_Description\"].map(lambda x: remove_stop_words(x))\n",
        "df['NN_Description'] = df[\"NN_Description\"].map(lambda x: remove_custom_words(x))\n",
        "df['NN_Description'] = df[\"NN_Description\"].map(lambda x: remove_time_words(x))"
      ],
      "metadata": {
        "id": "ZX8Uiht6ULEq"
      },
      "execution_count": null,
      "outputs": []
    },
    {
      "cell_type": "code",
      "source": [
        "LE = LabelEncoder()\n",
        "df['Label'] = LE.fit_transform(df['Category'])\n",
        "print(df)"
      ],
      "metadata": {
        "colab": {
          "base_uri": "https://localhost:8080/"
        },
        "id": "8asUEwKY2sK_",
        "outputId": "92e812f3-f5e8-4664-d906-9c3eb27942f2"
      },
      "execution_count": null,
      "outputs": [
        {
          "output_type": "stream",
          "name": "stdout",
          "text": [
            "                                            Description     Category  \\\n",
            "0     hi since recruiter lead permission approve req...  Application   \n",
            "1     re expire days hi ask help update passwords co...  Application   \n",
            "2     verification warning hi has got attached pleas...  Application   \n",
            "3     please dear looks blacklisted receiving mails ...  Application   \n",
            "4     dear modules report report cost thank much reg...  Application   \n",
            "...                                                 ...          ...   \n",
            "2995  sent tuesday feedback follow up conf call hell...     Database   \n",
            "2996  sent monday issues hi keep getting errors whil...     Database   \n",
            "2997  sent monday en working properly hi guys we hav...     Database   \n",
            "2998  sent wednesday july hi please log incident for...     Database   \n",
            "2999  sent tuesday july connection issues hello have...     Database   \n",
            "\n",
            "                                              Tokenized  \\\n",
            "0     [hi, since, recruiter, lead, permission, appro...   \n",
            "1     [re, expire, days, hi, ask, help, update, pass...   \n",
            "2     [verification, warning, hi, has, got, attached...   \n",
            "3     [please, dear, looks, blacklisted, receiving, ...   \n",
            "4     [dear, modules, report, report, cost, thank, m...   \n",
            "...                                                 ...   \n",
            "2995  [sent, tuesday, feedback, follow, up, conf, ca...   \n",
            "2996  [sent, monday, issues, hi, keep, getting, erro...   \n",
            "2997  [sent, monday, en, working, properly, hi, guys...   \n",
            "2998  [sent, wednesday, july, hi, please, log, incid...   \n",
            "2999  [sent, tuesday, july, connection, issues, hell...   \n",
            "\n",
            "                                             pos_tagged  \\\n",
            "0     [(hi, NN), (since, IN), (recruiter, NN), (lead...   \n",
            "1     [(re, NN), (expire, NN), (days, NNS), (hi, VBP...   \n",
            "2     [(verification, NN), (warning, VBG), (hi, NN),...   \n",
            "3     [(please, VB), (dear, JJ), (looks, NNS), (blac...   \n",
            "4     [(dear, JJ), (modules, NNS), (report, VB), (re...   \n",
            "...                                                 ...   \n",
            "2995  [(sent, NN), (tuesday, NN), (feedback, NN), (f...   \n",
            "2996  [(sent, NN), (monday, NN), (issues, NNS), (hi,...   \n",
            "2997  [(sent, NN), (monday, NN), (en, IN), (working,...   \n",
            "2998  [(sent, NN), (wednesday, NN), (july, NN), (hi,...   \n",
            "2999  [(sent, NN), (tuesday, NN), (july, JJ), (conne...   \n",
            "\n",
            "                                              NN_tagged  \\\n",
            "0                     [hi, recruiter, lead, permission]   \n",
            "1     [re, expire, help, expire, hi, expiration, ple...   \n",
            "2     [verification, hi, please, analyst, verification]   \n",
            "3                                      [kind, engineer]   \n",
            "4                                        [report, cost]   \n",
            "...                                                 ...   \n",
            "2995  [sent, tuesday, feedback, conf, call, hello, s...   \n",
            "2996                       [sent, monday, please, help]   \n",
            "2997  [sent, monday, number, meeting, room, dialer, ...   \n",
            "2998  [sent, wednesday, july, please, log, incident,...   \n",
            "2999  [sent, tuesday, connection, connection, client...   \n",
            "\n",
            "                                         NN_Description  Label  \n",
            "0                             recruiter lead permission      0  \n",
            "1     expire expire expiration prolongation expire o...      0  \n",
            "2                     verification analyst verification      0  \n",
            "3                                              engineer      0  \n",
            "4                                           report cost      0  \n",
            "...                                                 ...    ...  \n",
            "2995  feedback conf call setup meeting side meeting ...      1  \n",
            "2996                                                         1  \n",
            "2997  number meeting room dialer pad multiple access...      1  \n",
            "2998  log incident assistance mo el ticket con colom...      1  \n",
            "2999  connection connection client side link connect...      1  \n",
            "\n",
            "[3000 rows x 7 columns]\n"
          ]
        }
      ]
    },
    {
      "cell_type": "code",
      "source": [
        "df_0 = df.loc[(df['Label'] == 0)]\n",
        "df_1 = df.loc[(df['Label'] == 1)]\n",
        "df_2 = df.loc[(df['Label'] == 2)]\n",
        "df_3 = df.loc[(df['Label'] == 3)]\n",
        "df_4 = df.loc[(df['Label'] == 4)]"
      ],
      "metadata": {
        "id": "_BVhjjScbjlX"
      },
      "execution_count": null,
      "outputs": []
    },
    {
      "cell_type": "code",
      "source": [
        "label_0 = ['report', 'engineer', 'information', 'confluence', 'analyst']\n",
        "label_1 = ['item', 'log', 'purchase', 'order', 'po']\n",
        "label_2 = ['event', 'disk', 'name', 'host', 'server']\n",
        "label_3 = ['card', 'floor', 'badge' , 'access', 'manager']\n",
        "label_4 = ['area', 'officer', 'visitor', 'floor', 'form']\n",
        "topics = [label_0,label_1,label_2,label_3,label_4]"
      ],
      "metadata": {
        "id": "ApGqPtmX3qeN"
      },
      "execution_count": null,
      "outputs": []
    },
    {
      "cell_type": "code",
      "source": [
        "def WordnetShortestPath_labelscore(a):\n",
        "  lowest_netavg=100\n",
        "  lowest_label=0\n",
        "  label=-1\n",
        "  #print(a)\n",
        "  words = nltk.word_tokenize(a)\n",
        "  for z in topics:\n",
        "    total=0\n",
        "    counter=0\n",
        "    #print(z)\n",
        "    for x in z:\n",
        "      count=0\n",
        "      avg=0\n",
        "      sum=0\n",
        "      for y in words:\n",
        "        if(wordnet.synsets(x) and wordnet.synsets(y)):\n",
        "          syn1 = wordnet.synsets(x)[0]\n",
        "          syn2 = wordnet.synsets(y)[0]\n",
        "          if(syn1.pos() == 'n' and syn2.pos() == 'n'):\n",
        "            #print(\"Shortest path between \",x,\" and \",y,\" is: \", syn1.shortest_path_distance(syn2))\n",
        "            sum=sum+syn1.shortest_path_distance(syn2)\n",
        "            count=count+1\n",
        "      if(count==0):\n",
        "        avg=0\n",
        "      else:\n",
        "        avg=sum/count\n",
        "      total=total+avg\n",
        "      counter=counter+1\n",
        "      #print(sum)\n",
        "      #print(count)\n",
        "      #print(avg)\n",
        "    if(counter==0):\n",
        "      netavg=0\n",
        "    else:\n",
        "      netavg=total/counter\n",
        "    #print(counter)\n",
        "    #print(\"Total score for \",z,\" is: \",total)\n",
        "    #print(\"Net average for \",z,\" is: \",netavg)\n",
        "    label=label+1\n",
        "    if(netavg<lowest_netavg):\n",
        "      lowest_netavg=netavg\n",
        "      lowest_label=label\n",
        "      #print(\"label: \",label,\" has shortest path value: \",lowest_netavg)\n",
        "  return lowest_label,lowest_netavg"
      ],
      "metadata": {
        "id": "saMjRxel4BqY"
      },
      "execution_count": null,
      "outputs": []
    },
    {
      "cell_type": "code",
      "source": [
        "df[ [\"WSP_Label\",\"WSP_Value\"] ] = df[\"Description\"].apply(WordnetShortestPath_labelscore).apply(pd.Series)"
      ],
      "metadata": {
        "id": "6M2TqlgT5Xzw"
      },
      "execution_count": null,
      "outputs": []
    },
    {
      "cell_type": "code",
      "source": [
        "df[ [\"NN_WSP_Label\",\"NN_WSP_Value\"] ] = df[\"NN_Description\"].apply(WordnetShortestPath_labelscore).apply(pd.Series)"
      ],
      "metadata": {
        "id": "8VSQgtOxI1WI"
      },
      "execution_count": null,
      "outputs": []
    },
    {
      "cell_type": "code",
      "source": [
        "df[\"WSP_Label\"] = df[\"WSP_Label\"].astype(int)"
      ],
      "metadata": {
        "id": "2J8jXVYc_sZq"
      },
      "execution_count": null,
      "outputs": []
    },
    {
      "cell_type": "code",
      "source": [
        "df[\"NN_WSP_Label\"] = df[\"NN_WSP_Label\"].astype(int)"
      ],
      "metadata": {
        "id": "lOdyIIrlI6WK"
      },
      "execution_count": null,
      "outputs": []
    },
    {
      "cell_type": "code",
      "source": [
        "df"
      ],
      "metadata": {
        "colab": {
          "base_uri": "https://localhost:8080/",
          "height": 1000
        },
        "id": "jEimst_yD7KG",
        "outputId": "249aa3a6-f3ab-49ef-c6ec-5f0f0393de6b"
      },
      "execution_count": null,
      "outputs": [
        {
          "output_type": "execute_result",
          "data": {
            "text/plain": [
              "                                            Description     Category  \\\n",
              "0     hi since recruiter lead permission approve req...  Application   \n",
              "1     re expire days hi ask help update passwords co...  Application   \n",
              "2     verification warning hi has got attached pleas...  Application   \n",
              "3     please dear looks blacklisted receiving mails ...  Application   \n",
              "4     dear modules report report cost thank much reg...  Application   \n",
              "...                                                 ...          ...   \n",
              "2995  sent tuesday feedback follow up conf call hell...     Database   \n",
              "2996  sent monday issues hi keep getting errors whil...     Database   \n",
              "2997  sent monday en working properly hi guys we hav...     Database   \n",
              "2998  sent wednesday july hi please log incident for...     Database   \n",
              "2999  sent tuesday july connection issues hello have...     Database   \n",
              "\n",
              "                                              Tokenized  \\\n",
              "0     [hi, since, recruiter, lead, permission, appro...   \n",
              "1     [re, expire, days, hi, ask, help, update, pass...   \n",
              "2     [verification, warning, hi, has, got, attached...   \n",
              "3     [please, dear, looks, blacklisted, receiving, ...   \n",
              "4     [dear, modules, report, report, cost, thank, m...   \n",
              "...                                                 ...   \n",
              "2995  [sent, tuesday, feedback, follow, up, conf, ca...   \n",
              "2996  [sent, monday, issues, hi, keep, getting, erro...   \n",
              "2997  [sent, monday, en, working, properly, hi, guys...   \n",
              "2998  [sent, wednesday, july, hi, please, log, incid...   \n",
              "2999  [sent, tuesday, july, connection, issues, hell...   \n",
              "\n",
              "                                             pos_tagged  \\\n",
              "0     [(hi, NN), (since, IN), (recruiter, NN), (lead...   \n",
              "1     [(re, NN), (expire, NN), (days, NNS), (hi, VBP...   \n",
              "2     [(verification, NN), (warning, VBG), (hi, NN),...   \n",
              "3     [(please, VB), (dear, JJ), (looks, NNS), (blac...   \n",
              "4     [(dear, JJ), (modules, NNS), (report, VB), (re...   \n",
              "...                                                 ...   \n",
              "2995  [(sent, NN), (tuesday, NN), (feedback, NN), (f...   \n",
              "2996  [(sent, NN), (monday, NN), (issues, NNS), (hi,...   \n",
              "2997  [(sent, NN), (monday, NN), (en, IN), (working,...   \n",
              "2998  [(sent, NN), (wednesday, NN), (july, NN), (hi,...   \n",
              "2999  [(sent, NN), (tuesday, NN), (july, JJ), (conne...   \n",
              "\n",
              "                                              NN_tagged  \\\n",
              "0                     [hi, recruiter, lead, permission]   \n",
              "1     [re, expire, help, expire, hi, expiration, ple...   \n",
              "2     [verification, hi, please, analyst, verification]   \n",
              "3                                      [kind, engineer]   \n",
              "4                                        [report, cost]   \n",
              "...                                                 ...   \n",
              "2995  [sent, tuesday, feedback, conf, call, hello, s...   \n",
              "2996                       [sent, monday, please, help]   \n",
              "2997  [sent, monday, number, meeting, room, dialer, ...   \n",
              "2998  [sent, wednesday, july, please, log, incident,...   \n",
              "2999  [sent, tuesday, connection, connection, client...   \n",
              "\n",
              "                                         NN_Description  Label  WSP_Label  \\\n",
              "0                             recruiter lead permission      0          0   \n",
              "1     expire expire expiration prolongation expire o...      0          2   \n",
              "2                     verification analyst verification      0          2   \n",
              "3                                              engineer      0          2   \n",
              "4                                           report cost      0          0   \n",
              "...                                                 ...    ...        ...   \n",
              "2995  feedback conf call setup meeting side meeting ...      1          2   \n",
              "2996                                                         1          1   \n",
              "2997  number meeting room dialer pad multiple access...      1          2   \n",
              "2998  log incident assistance mo el ticket con colom...      1          2   \n",
              "2999  connection connection client side link connect...      1          2   \n",
              "\n",
              "      WSP_Value  NN_WSP_Label  NN_WSP_Value  \n",
              "0      9.888889             0      9.133333  \n",
              "1      9.358025             2      9.304348  \n",
              "2     10.200000             2      9.466667  \n",
              "3      9.111111             0      5.800000  \n",
              "4      8.942857             0      9.000000  \n",
              "...         ...           ...           ...  \n",
              "2995  10.165517             0      9.881481  \n",
              "2996   9.476923             0      0.000000  \n",
              "2997   9.806780             2      9.400000  \n",
              "2998   9.965079             2      9.413793  \n",
              "2999   9.248649             2      8.626667  \n",
              "\n",
              "[3000 rows x 11 columns]"
            ],
            "text/html": [
              "\n",
              "  <div id=\"df-bdaf2b8d-9a9b-4f9f-bf66-4d32fd79fa94\" class=\"colab-df-container\">\n",
              "    <div>\n",
              "<style scoped>\n",
              "    .dataframe tbody tr th:only-of-type {\n",
              "        vertical-align: middle;\n",
              "    }\n",
              "\n",
              "    .dataframe tbody tr th {\n",
              "        vertical-align: top;\n",
              "    }\n",
              "\n",
              "    .dataframe thead th {\n",
              "        text-align: right;\n",
              "    }\n",
              "</style>\n",
              "<table border=\"1\" class=\"dataframe\">\n",
              "  <thead>\n",
              "    <tr style=\"text-align: right;\">\n",
              "      <th></th>\n",
              "      <th>Description</th>\n",
              "      <th>Category</th>\n",
              "      <th>Tokenized</th>\n",
              "      <th>pos_tagged</th>\n",
              "      <th>NN_tagged</th>\n",
              "      <th>NN_Description</th>\n",
              "      <th>Label</th>\n",
              "      <th>WSP_Label</th>\n",
              "      <th>WSP_Value</th>\n",
              "      <th>NN_WSP_Label</th>\n",
              "      <th>NN_WSP_Value</th>\n",
              "    </tr>\n",
              "  </thead>\n",
              "  <tbody>\n",
              "    <tr>\n",
              "      <th>0</th>\n",
              "      <td>hi since recruiter lead permission approve req...</td>\n",
              "      <td>Application</td>\n",
              "      <td>[hi, since, recruiter, lead, permission, appro...</td>\n",
              "      <td>[(hi, NN), (since, IN), (recruiter, NN), (lead...</td>\n",
              "      <td>[hi, recruiter, lead, permission]</td>\n",
              "      <td>recruiter lead permission</td>\n",
              "      <td>0</td>\n",
              "      <td>0</td>\n",
              "      <td>9.888889</td>\n",
              "      <td>0</td>\n",
              "      <td>9.133333</td>\n",
              "    </tr>\n",
              "    <tr>\n",
              "      <th>1</th>\n",
              "      <td>re expire days hi ask help update passwords co...</td>\n",
              "      <td>Application</td>\n",
              "      <td>[re, expire, days, hi, ask, help, update, pass...</td>\n",
              "      <td>[(re, NN), (expire, NN), (days, NNS), (hi, VBP...</td>\n",
              "      <td>[re, expire, help, expire, hi, expiration, ple...</td>\n",
              "      <td>expire expire expiration prolongation expire o...</td>\n",
              "      <td>0</td>\n",
              "      <td>2</td>\n",
              "      <td>9.358025</td>\n",
              "      <td>2</td>\n",
              "      <td>9.304348</td>\n",
              "    </tr>\n",
              "    <tr>\n",
              "      <th>2</th>\n",
              "      <td>verification warning hi has got attached pleas...</td>\n",
              "      <td>Application</td>\n",
              "      <td>[verification, warning, hi, has, got, attached...</td>\n",
              "      <td>[(verification, NN), (warning, VBG), (hi, NN),...</td>\n",
              "      <td>[verification, hi, please, analyst, verification]</td>\n",
              "      <td>verification analyst verification</td>\n",
              "      <td>0</td>\n",
              "      <td>2</td>\n",
              "      <td>10.200000</td>\n",
              "      <td>2</td>\n",
              "      <td>9.466667</td>\n",
              "    </tr>\n",
              "    <tr>\n",
              "      <th>3</th>\n",
              "      <td>please dear looks blacklisted receiving mails ...</td>\n",
              "      <td>Application</td>\n",
              "      <td>[please, dear, looks, blacklisted, receiving, ...</td>\n",
              "      <td>[(please, VB), (dear, JJ), (looks, NNS), (blac...</td>\n",
              "      <td>[kind, engineer]</td>\n",
              "      <td>engineer</td>\n",
              "      <td>0</td>\n",
              "      <td>2</td>\n",
              "      <td>9.111111</td>\n",
              "      <td>0</td>\n",
              "      <td>5.800000</td>\n",
              "    </tr>\n",
              "    <tr>\n",
              "      <th>4</th>\n",
              "      <td>dear modules report report cost thank much reg...</td>\n",
              "      <td>Application</td>\n",
              "      <td>[dear, modules, report, report, cost, thank, m...</td>\n",
              "      <td>[(dear, JJ), (modules, NNS), (report, VB), (re...</td>\n",
              "      <td>[report, cost]</td>\n",
              "      <td>report cost</td>\n",
              "      <td>0</td>\n",
              "      <td>0</td>\n",
              "      <td>8.942857</td>\n",
              "      <td>0</td>\n",
              "      <td>9.000000</td>\n",
              "    </tr>\n",
              "    <tr>\n",
              "      <th>...</th>\n",
              "      <td>...</td>\n",
              "      <td>...</td>\n",
              "      <td>...</td>\n",
              "      <td>...</td>\n",
              "      <td>...</td>\n",
              "      <td>...</td>\n",
              "      <td>...</td>\n",
              "      <td>...</td>\n",
              "      <td>...</td>\n",
              "      <td>...</td>\n",
              "      <td>...</td>\n",
              "    </tr>\n",
              "    <tr>\n",
              "      <th>2995</th>\n",
              "      <td>sent tuesday feedback follow up conf call hell...</td>\n",
              "      <td>Database</td>\n",
              "      <td>[sent, tuesday, feedback, follow, up, conf, ca...</td>\n",
              "      <td>[(sent, NN), (tuesday, NN), (feedback, NN), (f...</td>\n",
              "      <td>[sent, tuesday, feedback, conf, call, hello, s...</td>\n",
              "      <td>feedback conf call setup meeting side meeting ...</td>\n",
              "      <td>1</td>\n",
              "      <td>2</td>\n",
              "      <td>10.165517</td>\n",
              "      <td>0</td>\n",
              "      <td>9.881481</td>\n",
              "    </tr>\n",
              "    <tr>\n",
              "      <th>2996</th>\n",
              "      <td>sent monday issues hi keep getting errors whil...</td>\n",
              "      <td>Database</td>\n",
              "      <td>[sent, monday, issues, hi, keep, getting, erro...</td>\n",
              "      <td>[(sent, NN), (monday, NN), (issues, NNS), (hi,...</td>\n",
              "      <td>[sent, monday, please, help]</td>\n",
              "      <td></td>\n",
              "      <td>1</td>\n",
              "      <td>1</td>\n",
              "      <td>9.476923</td>\n",
              "      <td>0</td>\n",
              "      <td>0.000000</td>\n",
              "    </tr>\n",
              "    <tr>\n",
              "      <th>2997</th>\n",
              "      <td>sent monday en working properly hi guys we hav...</td>\n",
              "      <td>Database</td>\n",
              "      <td>[sent, monday, en, working, properly, hi, guys...</td>\n",
              "      <td>[(sent, NN), (monday, NN), (en, IN), (working,...</td>\n",
              "      <td>[sent, monday, number, meeting, room, dialer, ...</td>\n",
              "      <td>number meeting room dialer pad multiple access...</td>\n",
              "      <td>1</td>\n",
              "      <td>2</td>\n",
              "      <td>9.806780</td>\n",
              "      <td>2</td>\n",
              "      <td>9.400000</td>\n",
              "    </tr>\n",
              "    <tr>\n",
              "      <th>2998</th>\n",
              "      <td>sent wednesday july hi please log incident for...</td>\n",
              "      <td>Database</td>\n",
              "      <td>[sent, wednesday, july, hi, please, log, incid...</td>\n",
              "      <td>[(sent, NN), (wednesday, NN), (july, NN), (hi,...</td>\n",
              "      <td>[sent, wednesday, july, please, log, incident,...</td>\n",
              "      <td>log incident assistance mo el ticket con colom...</td>\n",
              "      <td>1</td>\n",
              "      <td>2</td>\n",
              "      <td>9.965079</td>\n",
              "      <td>2</td>\n",
              "      <td>9.413793</td>\n",
              "    </tr>\n",
              "    <tr>\n",
              "      <th>2999</th>\n",
              "      <td>sent tuesday july connection issues hello have...</td>\n",
              "      <td>Database</td>\n",
              "      <td>[sent, tuesday, july, connection, issues, hell...</td>\n",
              "      <td>[(sent, NN), (tuesday, NN), (july, JJ), (conne...</td>\n",
              "      <td>[sent, tuesday, connection, connection, client...</td>\n",
              "      <td>connection connection client side link connect...</td>\n",
              "      <td>1</td>\n",
              "      <td>2</td>\n",
              "      <td>9.248649</td>\n",
              "      <td>2</td>\n",
              "      <td>8.626667</td>\n",
              "    </tr>\n",
              "  </tbody>\n",
              "</table>\n",
              "<p>3000 rows × 11 columns</p>\n",
              "</div>\n",
              "    <div class=\"colab-df-buttons\">\n",
              "\n",
              "  <div class=\"colab-df-container\">\n",
              "    <button class=\"colab-df-convert\" onclick=\"convertToInteractive('df-bdaf2b8d-9a9b-4f9f-bf66-4d32fd79fa94')\"\n",
              "            title=\"Convert this dataframe to an interactive table.\"\n",
              "            style=\"display:none;\">\n",
              "\n",
              "  <svg xmlns=\"http://www.w3.org/2000/svg\" height=\"24px\" viewBox=\"0 -960 960 960\">\n",
              "    <path d=\"M120-120v-720h720v720H120Zm60-500h600v-160H180v160Zm220 220h160v-160H400v160Zm0 220h160v-160H400v160ZM180-400h160v-160H180v160Zm440 0h160v-160H620v160ZM180-180h160v-160H180v160Zm440 0h160v-160H620v160Z\"/>\n",
              "  </svg>\n",
              "    </button>\n",
              "\n",
              "  <style>\n",
              "    .colab-df-container {\n",
              "      display:flex;\n",
              "      gap: 12px;\n",
              "    }\n",
              "\n",
              "    .colab-df-convert {\n",
              "      background-color: #E8F0FE;\n",
              "      border: none;\n",
              "      border-radius: 50%;\n",
              "      cursor: pointer;\n",
              "      display: none;\n",
              "      fill: #1967D2;\n",
              "      height: 32px;\n",
              "      padding: 0 0 0 0;\n",
              "      width: 32px;\n",
              "    }\n",
              "\n",
              "    .colab-df-convert:hover {\n",
              "      background-color: #E2EBFA;\n",
              "      box-shadow: 0px 1px 2px rgba(60, 64, 67, 0.3), 0px 1px 3px 1px rgba(60, 64, 67, 0.15);\n",
              "      fill: #174EA6;\n",
              "    }\n",
              "\n",
              "    .colab-df-buttons div {\n",
              "      margin-bottom: 4px;\n",
              "    }\n",
              "\n",
              "    [theme=dark] .colab-df-convert {\n",
              "      background-color: #3B4455;\n",
              "      fill: #D2E3FC;\n",
              "    }\n",
              "\n",
              "    [theme=dark] .colab-df-convert:hover {\n",
              "      background-color: #434B5C;\n",
              "      box-shadow: 0px 1px 3px 1px rgba(0, 0, 0, 0.15);\n",
              "      filter: drop-shadow(0px 1px 2px rgba(0, 0, 0, 0.3));\n",
              "      fill: #FFFFFF;\n",
              "    }\n",
              "  </style>\n",
              "\n",
              "    <script>\n",
              "      const buttonEl =\n",
              "        document.querySelector('#df-bdaf2b8d-9a9b-4f9f-bf66-4d32fd79fa94 button.colab-df-convert');\n",
              "      buttonEl.style.display =\n",
              "        google.colab.kernel.accessAllowed ? 'block' : 'none';\n",
              "\n",
              "      async function convertToInteractive(key) {\n",
              "        const element = document.querySelector('#df-bdaf2b8d-9a9b-4f9f-bf66-4d32fd79fa94');\n",
              "        const dataTable =\n",
              "          await google.colab.kernel.invokeFunction('convertToInteractive',\n",
              "                                                    [key], {});\n",
              "        if (!dataTable) return;\n",
              "\n",
              "        const docLinkHtml = 'Like what you see? Visit the ' +\n",
              "          '<a target=\"_blank\" href=https://colab.research.google.com/notebooks/data_table.ipynb>data table notebook</a>'\n",
              "          + ' to learn more about interactive tables.';\n",
              "        element.innerHTML = '';\n",
              "        dataTable['output_type'] = 'display_data';\n",
              "        await google.colab.output.renderOutput(dataTable, element);\n",
              "        const docLink = document.createElement('div');\n",
              "        docLink.innerHTML = docLinkHtml;\n",
              "        element.appendChild(docLink);\n",
              "      }\n",
              "    </script>\n",
              "  </div>\n",
              "\n",
              "\n",
              "<div id=\"df-7830cbfb-bb0d-4941-b44d-eb811e028cbf\">\n",
              "  <button class=\"colab-df-quickchart\" onclick=\"quickchart('df-7830cbfb-bb0d-4941-b44d-eb811e028cbf')\"\n",
              "            title=\"Suggest charts\"\n",
              "            style=\"display:none;\">\n",
              "\n",
              "<svg xmlns=\"http://www.w3.org/2000/svg\" height=\"24px\"viewBox=\"0 0 24 24\"\n",
              "     width=\"24px\">\n",
              "    <g>\n",
              "        <path d=\"M19 3H5c-1.1 0-2 .9-2 2v14c0 1.1.9 2 2 2h14c1.1 0 2-.9 2-2V5c0-1.1-.9-2-2-2zM9 17H7v-7h2v7zm4 0h-2V7h2v10zm4 0h-2v-4h2v4z\"/>\n",
              "    </g>\n",
              "</svg>\n",
              "  </button>\n",
              "\n",
              "<style>\n",
              "  .colab-df-quickchart {\n",
              "      --bg-color: #E8F0FE;\n",
              "      --fill-color: #1967D2;\n",
              "      --hover-bg-color: #E2EBFA;\n",
              "      --hover-fill-color: #174EA6;\n",
              "      --disabled-fill-color: #AAA;\n",
              "      --disabled-bg-color: #DDD;\n",
              "  }\n",
              "\n",
              "  [theme=dark] .colab-df-quickchart {\n",
              "      --bg-color: #3B4455;\n",
              "      --fill-color: #D2E3FC;\n",
              "      --hover-bg-color: #434B5C;\n",
              "      --hover-fill-color: #FFFFFF;\n",
              "      --disabled-bg-color: #3B4455;\n",
              "      --disabled-fill-color: #666;\n",
              "  }\n",
              "\n",
              "  .colab-df-quickchart {\n",
              "    background-color: var(--bg-color);\n",
              "    border: none;\n",
              "    border-radius: 50%;\n",
              "    cursor: pointer;\n",
              "    display: none;\n",
              "    fill: var(--fill-color);\n",
              "    height: 32px;\n",
              "    padding: 0;\n",
              "    width: 32px;\n",
              "  }\n",
              "\n",
              "  .colab-df-quickchart:hover {\n",
              "    background-color: var(--hover-bg-color);\n",
              "    box-shadow: 0 1px 2px rgba(60, 64, 67, 0.3), 0 1px 3px 1px rgba(60, 64, 67, 0.15);\n",
              "    fill: var(--button-hover-fill-color);\n",
              "  }\n",
              "\n",
              "  .colab-df-quickchart-complete:disabled,\n",
              "  .colab-df-quickchart-complete:disabled:hover {\n",
              "    background-color: var(--disabled-bg-color);\n",
              "    fill: var(--disabled-fill-color);\n",
              "    box-shadow: none;\n",
              "  }\n",
              "\n",
              "  .colab-df-spinner {\n",
              "    border: 2px solid var(--fill-color);\n",
              "    border-color: transparent;\n",
              "    border-bottom-color: var(--fill-color);\n",
              "    animation:\n",
              "      spin 1s steps(1) infinite;\n",
              "  }\n",
              "\n",
              "  @keyframes spin {\n",
              "    0% {\n",
              "      border-color: transparent;\n",
              "      border-bottom-color: var(--fill-color);\n",
              "      border-left-color: var(--fill-color);\n",
              "    }\n",
              "    20% {\n",
              "      border-color: transparent;\n",
              "      border-left-color: var(--fill-color);\n",
              "      border-top-color: var(--fill-color);\n",
              "    }\n",
              "    30% {\n",
              "      border-color: transparent;\n",
              "      border-left-color: var(--fill-color);\n",
              "      border-top-color: var(--fill-color);\n",
              "      border-right-color: var(--fill-color);\n",
              "    }\n",
              "    40% {\n",
              "      border-color: transparent;\n",
              "      border-right-color: var(--fill-color);\n",
              "      border-top-color: var(--fill-color);\n",
              "    }\n",
              "    60% {\n",
              "      border-color: transparent;\n",
              "      border-right-color: var(--fill-color);\n",
              "    }\n",
              "    80% {\n",
              "      border-color: transparent;\n",
              "      border-right-color: var(--fill-color);\n",
              "      border-bottom-color: var(--fill-color);\n",
              "    }\n",
              "    90% {\n",
              "      border-color: transparent;\n",
              "      border-bottom-color: var(--fill-color);\n",
              "    }\n",
              "  }\n",
              "</style>\n",
              "\n",
              "  <script>\n",
              "    async function quickchart(key) {\n",
              "      const quickchartButtonEl =\n",
              "        document.querySelector('#' + key + ' button');\n",
              "      quickchartButtonEl.disabled = true;  // To prevent multiple clicks.\n",
              "      quickchartButtonEl.classList.add('colab-df-spinner');\n",
              "      try {\n",
              "        const charts = await google.colab.kernel.invokeFunction(\n",
              "            'suggestCharts', [key], {});\n",
              "      } catch (error) {\n",
              "        console.error('Error during call to suggestCharts:', error);\n",
              "      }\n",
              "      quickchartButtonEl.classList.remove('colab-df-spinner');\n",
              "      quickchartButtonEl.classList.add('colab-df-quickchart-complete');\n",
              "    }\n",
              "    (() => {\n",
              "      let quickchartButtonEl =\n",
              "        document.querySelector('#df-7830cbfb-bb0d-4941-b44d-eb811e028cbf button');\n",
              "      quickchartButtonEl.style.display =\n",
              "        google.colab.kernel.accessAllowed ? 'block' : 'none';\n",
              "    })();\n",
              "  </script>\n",
              "</div>\n",
              "    </div>\n",
              "  </div>\n"
            ],
            "application/vnd.google.colaboratory.intrinsic+json": {
              "type": "dataframe",
              "variable_name": "df",
              "summary": "{\n  \"name\": \"df\",\n  \"rows\": 3000,\n  \"fields\": [\n    {\n      \"column\": \"Description\",\n      \"properties\": {\n        \"dtype\": \"string\",\n        \"num_unique_values\": 3000,\n        \"samples\": [\n          \"friday november pm assistants please secure floor tower hi please securing floor tower secure area evening cob tuesday morning area needs secure also needs informing employees about changes restriction well meeting rooms bookings restriction thank help kind regards officer information\",\n          \"pm hi joined fast followings visual studio provide other information please let thank best regards\",\n          \"card leaver la va ca defect\"\n        ],\n        \"semantic_type\": \"\",\n        \"description\": \"\"\n      }\n    },\n    {\n      \"column\": \"Category\",\n      \"properties\": {\n        \"dtype\": \"category\",\n        \"num_unique_values\": 5,\n        \"samples\": [\n          \"Database\",\n          \"Security\",\n          \"Network\"\n        ],\n        \"semantic_type\": \"\",\n        \"description\": \"\"\n      }\n    },\n    {\n      \"column\": \"Tokenized\",\n      \"properties\": {\n        \"dtype\": \"object\",\n        \"semantic_type\": \"\",\n        \"description\": \"\"\n      }\n    },\n    {\n      \"column\": \"pos_tagged\",\n      \"properties\": {\n        \"dtype\": \"object\",\n        \"semantic_type\": \"\",\n        \"description\": \"\"\n      }\n    },\n    {\n      \"column\": \"NN_tagged\",\n      \"properties\": {\n        \"dtype\": \"object\",\n        \"semantic_type\": \"\",\n        \"description\": \"\"\n      }\n    },\n    {\n      \"column\": \"NN_Description\",\n      \"properties\": {\n        \"dtype\": \"string\",\n        \"num_unique_values\": 2720,\n        \"samples\": [\n          \"announce crap eon program si va ne interval care placer la cl rom confidentiality notice content communication information environment printing\",\n          \"analyst submit make side let\",\n          \"phone issue move phone press cable discovery discovery issue phone centimeter analyst\"\n        ],\n        \"semantic_type\": \"\",\n        \"description\": \"\"\n      }\n    },\n    {\n      \"column\": \"Label\",\n      \"properties\": {\n        \"dtype\": \"number\",\n        \"std\": 1,\n        \"min\": 0,\n        \"max\": 4,\n        \"num_unique_values\": 5,\n        \"samples\": [\n          1,\n          3,\n          2\n        ],\n        \"semantic_type\": \"\",\n        \"description\": \"\"\n      }\n    },\n    {\n      \"column\": \"WSP_Label\",\n      \"properties\": {\n        \"dtype\": \"number\",\n        \"std\": 0,\n        \"min\": 0,\n        \"max\": 4,\n        \"num_unique_values\": 5,\n        \"samples\": [\n          2,\n          3,\n          1\n        ],\n        \"semantic_type\": \"\",\n        \"description\": \"\"\n      }\n    },\n    {\n      \"column\": \"WSP_Value\",\n      \"properties\": {\n        \"dtype\": \"number\",\n        \"std\": 0.6648724755922382,\n        \"min\": 0.0,\n        \"max\": 13.75,\n        \"num_unique_values\": 1808,\n        \"samples\": [\n          9.37704918032787,\n          8.815384615384616,\n          10.082352941176472\n        ],\n        \"semantic_type\": \"\",\n        \"description\": \"\"\n      }\n    },\n    {\n      \"column\": \"NN_WSP_Label\",\n      \"properties\": {\n        \"dtype\": \"number\",\n        \"std\": 1,\n        \"min\": 0,\n        \"max\": 4,\n        \"num_unique_values\": 5,\n        \"samples\": [\n          2,\n          3,\n          1\n        ],\n        \"semantic_type\": \"\",\n        \"description\": \"\"\n      }\n    },\n    {\n      \"column\": \"NN_WSP_Value\",\n      \"properties\": {\n        \"dtype\": \"number\",\n        \"std\": 1.9028235371271653,\n        \"min\": 0.0,\n        \"max\": 18.2,\n        \"num_unique_values\": 1102,\n        \"samples\": [\n          10.100000000000001,\n          8.476923076923077,\n          9.058823529411764\n        ],\n        \"semantic_type\": \"\",\n        \"description\": \"\"\n      }\n    }\n  ]\n}"
            }
          },
          "metadata": {},
          "execution_count": 18
        }
      ]
    },
    {
      "cell_type": "code",
      "source": [
        "df_0 = df.loc[(df['Label'] == 0)]\n",
        "df_1 = df.loc[(df['Label'] == 1)]\n",
        "df_2 = df.loc[(df['Label'] == 2)]\n",
        "df_3 = df.loc[(df['Label'] == 3)]\n",
        "df_4 = df.loc[(df['Label'] == 4)]"
      ],
      "metadata": {
        "id": "XA0xO0qMRpt7"
      },
      "execution_count": null,
      "outputs": []
    },
    {
      "cell_type": "code",
      "source": [
        "accuracy_score(df['Label'], df['WSP_Label'])"
      ],
      "metadata": {
        "colab": {
          "base_uri": "https://localhost:8080/"
        },
        "id": "9V_5rDwzNbaQ",
        "outputId": "a72acce4-fb64-45f3-8ff6-8a51302e72ee"
      },
      "execution_count": null,
      "outputs": [
        {
          "output_type": "execute_result",
          "data": {
            "text/plain": [
              "0.232"
            ]
          },
          "metadata": {},
          "execution_count": 20
        }
      ]
    },
    {
      "cell_type": "code",
      "source": [
        "accuracy_score(df['Label'], df['NN_WSP_Label'])"
      ],
      "metadata": {
        "colab": {
          "base_uri": "https://localhost:8080/"
        },
        "id": "wMvxJexFI_CC",
        "outputId": "1f152da0-db39-43d5-a536-cb9a36563580"
      },
      "execution_count": null,
      "outputs": [
        {
          "output_type": "execute_result",
          "data": {
            "text/plain": [
              "0.2906666666666667"
            ]
          },
          "metadata": {},
          "execution_count": 21
        }
      ]
    },
    {
      "cell_type": "code",
      "source": [
        "accuracy_score(df_0['Label'], df_0['WSP_Label'])"
      ],
      "metadata": {
        "colab": {
          "base_uri": "https://localhost:8080/"
        },
        "id": "YD2qDzLLVSY2",
        "outputId": "944c643f-8026-4014-95dc-5396ab60c2b6"
      },
      "execution_count": null,
      "outputs": [
        {
          "output_type": "execute_result",
          "data": {
            "text/plain": [
              "0.39"
            ]
          },
          "metadata": {},
          "execution_count": 22
        }
      ]
    },
    {
      "cell_type": "code",
      "source": [
        "accuracy_score(df_0['Label'], df_0['NN_WSP_Label'])"
      ],
      "metadata": {
        "colab": {
          "base_uri": "https://localhost:8080/"
        },
        "id": "5K11BwHeJB8L",
        "outputId": "bd35e3c1-3cee-4f3f-bac2-1fab4a69889b"
      },
      "execution_count": null,
      "outputs": [
        {
          "output_type": "execute_result",
          "data": {
            "text/plain": [
              "0.4716666666666667"
            ]
          },
          "metadata": {},
          "execution_count": 23
        }
      ]
    },
    {
      "cell_type": "code",
      "source": [
        "accuracy_score(df_1['Label'], df_1['WSP_Label'])"
      ],
      "metadata": {
        "colab": {
          "base_uri": "https://localhost:8080/"
        },
        "id": "Way1SnfPVV_Z",
        "outputId": "fd8f7ace-edc7-4765-d801-6cadb4a7c621"
      },
      "execution_count": null,
      "outputs": [
        {
          "output_type": "execute_result",
          "data": {
            "text/plain": [
              "0.028333333333333332"
            ]
          },
          "metadata": {},
          "execution_count": 24
        }
      ]
    },
    {
      "cell_type": "code",
      "source": [
        "accuracy_score(df_1['Label'], df_1['NN_WSP_Label'])"
      ],
      "metadata": {
        "colab": {
          "base_uri": "https://localhost:8080/"
        },
        "id": "nUV2rShcJDug",
        "outputId": "9d7b4ad8-ce81-451a-ae49-4a8d63b84796"
      },
      "execution_count": null,
      "outputs": [
        {
          "output_type": "execute_result",
          "data": {
            "text/plain": [
              "0.14166666666666666"
            ]
          },
          "metadata": {},
          "execution_count": 25
        }
      ]
    },
    {
      "cell_type": "code",
      "source": [
        "accuracy_score(df_2['Label'], df_2['WSP_Label'])"
      ],
      "metadata": {
        "colab": {
          "base_uri": "https://localhost:8080/"
        },
        "id": "eU19PCTkVZiT",
        "outputId": "14146a0d-8afc-4181-daa4-9fd4702ef8e8"
      },
      "execution_count": null,
      "outputs": [
        {
          "output_type": "execute_result",
          "data": {
            "text/plain": [
              "0.7033333333333334"
            ]
          },
          "metadata": {},
          "execution_count": 26
        }
      ]
    },
    {
      "cell_type": "code",
      "source": [
        "accuracy_score(df_2['Label'], df_2['NN_WSP_Label'])"
      ],
      "metadata": {
        "colab": {
          "base_uri": "https://localhost:8080/"
        },
        "id": "FiZU9ubSJGrq",
        "outputId": "c3f1b5ec-0645-4c58-a8a8-a770ef126a5b"
      },
      "execution_count": null,
      "outputs": [
        {
          "output_type": "execute_result",
          "data": {
            "text/plain": [
              "0.55"
            ]
          },
          "metadata": {},
          "execution_count": 27
        }
      ]
    },
    {
      "cell_type": "code",
      "source": [
        "accuracy_score(df_3['Label'], df_3['WSP_Label'])"
      ],
      "metadata": {
        "colab": {
          "base_uri": "https://localhost:8080/"
        },
        "id": "F1h0mXBvVaf8",
        "outputId": "f6b66d69-8305-4e80-8f9f-4c99fd9ad187"
      },
      "execution_count": null,
      "outputs": [
        {
          "output_type": "execute_result",
          "data": {
            "text/plain": [
              "0.0016666666666666668"
            ]
          },
          "metadata": {},
          "execution_count": 28
        }
      ]
    },
    {
      "cell_type": "code",
      "source": [
        "accuracy_score(df_3['Label'], df_3['NN_WSP_Label'])"
      ],
      "metadata": {
        "colab": {
          "base_uri": "https://localhost:8080/"
        },
        "id": "DV_1abWHJIhk",
        "outputId": "49f407cf-3ce5-4047-e7b2-5ef884509848"
      },
      "execution_count": null,
      "outputs": [
        {
          "output_type": "execute_result",
          "data": {
            "text/plain": [
              "0.023333333333333334"
            ]
          },
          "metadata": {},
          "execution_count": 29
        }
      ]
    },
    {
      "cell_type": "code",
      "source": [
        "accuracy_score(df_4['Label'], df_4['WSP_Label'])"
      ],
      "metadata": {
        "colab": {
          "base_uri": "https://localhost:8080/"
        },
        "id": "y7FS_gFEVel7",
        "outputId": "761ba360-57d5-4ed0-f5fc-ae4ba0d9e66a"
      },
      "execution_count": null,
      "outputs": [
        {
          "output_type": "execute_result",
          "data": {
            "text/plain": [
              "0.03666666666666667"
            ]
          },
          "metadata": {},
          "execution_count": 30
        }
      ]
    },
    {
      "cell_type": "code",
      "source": [
        "accuracy_score(df_4['Label'], df_4['NN_WSP_Label'])"
      ],
      "metadata": {
        "colab": {
          "base_uri": "https://localhost:8080/"
        },
        "id": "lXARJL4EJK3i",
        "outputId": "05b1b157-1f20-48a4-f420-c0846cfd6c93"
      },
      "execution_count": null,
      "outputs": [
        {
          "output_type": "execute_result",
          "data": {
            "text/plain": [
              "0.26666666666666666"
            ]
          },
          "metadata": {},
          "execution_count": 31
        }
      ]
    },
    {
      "cell_type": "code",
      "source": [
        "def WordnetWUP_labelscore(a):\n",
        "  highest_netavg=0\n",
        "  highest_label=0\n",
        "  label=-1\n",
        "  #print(a)\n",
        "  words = nltk.word_tokenize(a)\n",
        "  for z in topics:\n",
        "    total=0\n",
        "    counter=0\n",
        "    #print(z)\n",
        "    for x in z:\n",
        "      count=0\n",
        "      avg=0\n",
        "      sum=0\n",
        "      for y in words:\n",
        "        if(wordnet.synsets(x) and wordnet.synsets(y)):\n",
        "          syn1 = wordnet.synsets(x)[0]\n",
        "          syn2 = wordnet.synsets(y)[0]\n",
        "          if(syn1.pos() == 'n' and syn2.pos() == 'n'):\n",
        "            #print(\"Shortest path between \",x,\" and \",y,\" is: \", syn1.wup_similarity(syn2))\n",
        "            sum=sum+syn1.wup_similarity(syn2)\n",
        "            count=count+1\n",
        "      if(count==0):\n",
        "        avg=0\n",
        "      else:\n",
        "        avg=sum/count\n",
        "      total=total+avg\n",
        "      counter=counter+1\n",
        "      #print(sum)\n",
        "      #print(count)\n",
        "      #print(avg)\n",
        "    if(counter==0):\n",
        "      netavg=0\n",
        "    else:\n",
        "      netavg=total/counter\n",
        "    #print(counter)\n",
        "    #print(\"Total score for \",z,\" is: \",total)\n",
        "    #print(\"Net average for \",z,\" is: \",netavg)\n",
        "    label=label+1\n",
        "    if(netavg>highest_netavg):\n",
        "      highest_netavg=netavg\n",
        "      highest_label=label\n",
        "      #print(\"label: \",label,\" has shortest path value: \",lowest_netavg)\n",
        "  return highest_label,highest_netavg"
      ],
      "metadata": {
        "id": "LihS7434Nqgl"
      },
      "execution_count": null,
      "outputs": []
    },
    {
      "cell_type": "code",
      "source": [
        "df[ [\"WUP_Label\",\"WUP_Value\"] ] = df[\"Description\"].apply(WordnetWUP_labelscore).apply(pd.Series)"
      ],
      "metadata": {
        "id": "0PvuT1OfOSSd"
      },
      "execution_count": null,
      "outputs": []
    },
    {
      "cell_type": "code",
      "source": [
        "df[ [\"NN_WUP_Label\",\"NN_WUP_Value\"] ] = df[\"NN_Description\"].apply(WordnetWUP_labelscore).apply(pd.Series)"
      ],
      "metadata": {
        "id": "OzBN6EjlJNaj"
      },
      "execution_count": null,
      "outputs": []
    },
    {
      "cell_type": "code",
      "source": [
        "df[\"WUP_Label\"] = df[\"WUP_Label\"].astype(int)"
      ],
      "metadata": {
        "id": "EuBx1IgdRBCV"
      },
      "execution_count": null,
      "outputs": []
    },
    {
      "cell_type": "code",
      "source": [
        "df[\"NN_WUP_Label\"] = df[\"NN_WUP_Label\"].astype(int)"
      ],
      "metadata": {
        "id": "hIV-dhKfJQ0U"
      },
      "execution_count": null,
      "outputs": []
    },
    {
      "cell_type": "code",
      "source": [
        "df"
      ],
      "metadata": {
        "colab": {
          "base_uri": "https://localhost:8080/",
          "height": 1000
        },
        "id": "VEU-WoElRLS8",
        "outputId": "0c488c36-8150-426e-e2a9-baf9ed197826"
      },
      "execution_count": null,
      "outputs": [
        {
          "output_type": "execute_result",
          "data": {
            "text/plain": [
              "                                            Description     Category  \\\n",
              "0     hi since recruiter lead permission approve req...  Application   \n",
              "1     re expire days hi ask help update passwords co...  Application   \n",
              "2     verification warning hi has got attached pleas...  Application   \n",
              "3     please dear looks blacklisted receiving mails ...  Application   \n",
              "4     dear modules report report cost thank much reg...  Application   \n",
              "...                                                 ...          ...   \n",
              "2995  sent tuesday feedback follow up conf call hell...     Database   \n",
              "2996  sent monday issues hi keep getting errors whil...     Database   \n",
              "2997  sent monday en working properly hi guys we hav...     Database   \n",
              "2998  sent wednesday july hi please log incident for...     Database   \n",
              "2999  sent tuesday july connection issues hello have...     Database   \n",
              "\n",
              "                                              Tokenized  \\\n",
              "0     [hi, since, recruiter, lead, permission, appro...   \n",
              "1     [re, expire, days, hi, ask, help, update, pass...   \n",
              "2     [verification, warning, hi, has, got, attached...   \n",
              "3     [please, dear, looks, blacklisted, receiving, ...   \n",
              "4     [dear, modules, report, report, cost, thank, m...   \n",
              "...                                                 ...   \n",
              "2995  [sent, tuesday, feedback, follow, up, conf, ca...   \n",
              "2996  [sent, monday, issues, hi, keep, getting, erro...   \n",
              "2997  [sent, monday, en, working, properly, hi, guys...   \n",
              "2998  [sent, wednesday, july, hi, please, log, incid...   \n",
              "2999  [sent, tuesday, july, connection, issues, hell...   \n",
              "\n",
              "                                             pos_tagged  \\\n",
              "0     [(hi, NN), (since, IN), (recruiter, NN), (lead...   \n",
              "1     [(re, NN), (expire, NN), (days, NNS), (hi, VBP...   \n",
              "2     [(verification, NN), (warning, VBG), (hi, NN),...   \n",
              "3     [(please, VB), (dear, JJ), (looks, NNS), (blac...   \n",
              "4     [(dear, JJ), (modules, NNS), (report, VB), (re...   \n",
              "...                                                 ...   \n",
              "2995  [(sent, NN), (tuesday, NN), (feedback, NN), (f...   \n",
              "2996  [(sent, NN), (monday, NN), (issues, NNS), (hi,...   \n",
              "2997  [(sent, NN), (monday, NN), (en, IN), (working,...   \n",
              "2998  [(sent, NN), (wednesday, NN), (july, NN), (hi,...   \n",
              "2999  [(sent, NN), (tuesday, NN), (july, JJ), (conne...   \n",
              "\n",
              "                                              NN_tagged  \\\n",
              "0                     [hi, recruiter, lead, permission]   \n",
              "1     [re, expire, help, expire, hi, expiration, ple...   \n",
              "2     [verification, hi, please, analyst, verification]   \n",
              "3                                      [kind, engineer]   \n",
              "4                                        [report, cost]   \n",
              "...                                                 ...   \n",
              "2995  [sent, tuesday, feedback, conf, call, hello, s...   \n",
              "2996                       [sent, monday, please, help]   \n",
              "2997  [sent, monday, number, meeting, room, dialer, ...   \n",
              "2998  [sent, wednesday, july, please, log, incident,...   \n",
              "2999  [sent, tuesday, connection, connection, client...   \n",
              "\n",
              "                                         NN_Description  Label  WSP_Label  \\\n",
              "0                             recruiter lead permission      0          0   \n",
              "1     expire expire expiration prolongation expire o...      0          2   \n",
              "2                     verification analyst verification      0          2   \n",
              "3                                              engineer      0          2   \n",
              "4                                           report cost      0          0   \n",
              "...                                                 ...    ...        ...   \n",
              "2995  feedback conf call setup meeting side meeting ...      1          2   \n",
              "2996                                                         1          1   \n",
              "2997  number meeting room dialer pad multiple access...      1          2   \n",
              "2998  log incident assistance mo el ticket con colom...      1          2   \n",
              "2999  connection connection client side link connect...      1          2   \n",
              "\n",
              "      WSP_Value  NN_WSP_Label  NN_WSP_Value  WUP_Label  WUP_Value  \\\n",
              "0      9.888889             0      9.133333          0   0.290693   \n",
              "1      9.358025             2      9.304348          1   0.307018   \n",
              "2     10.200000             2      9.466667          1   0.321312   \n",
              "3      9.111111             0      5.800000          0   0.301727   \n",
              "4      8.942857             0      9.000000          0   0.299117   \n",
              "...         ...           ...           ...        ...        ...   \n",
              "2995  10.165517             0      9.881481          1   0.280413   \n",
              "2996   9.476923             0      0.000000          1   0.364026   \n",
              "2997   9.806780             2      9.400000          2   0.279986   \n",
              "2998   9.965079             2      9.413793          1   0.301023   \n",
              "2999   9.248649             2      8.626667          2   0.300693   \n",
              "\n",
              "      NN_WUP_Label  NN_WUP_Value  \n",
              "0                0      0.309684  \n",
              "1                1      0.318041  \n",
              "2                2      0.298571  \n",
              "3                4      0.493133  \n",
              "4                1      0.319167  \n",
              "...            ...           ...  \n",
              "2995             4      0.301832  \n",
              "2996             0      0.000000  \n",
              "2997             1      0.282970  \n",
              "2998             1      0.304301  \n",
              "2999             2      0.323516  \n",
              "\n",
              "[3000 rows x 15 columns]"
            ],
            "text/html": [
              "\n",
              "  <div id=\"df-1f595cc1-a53d-4d46-81ca-e060370d7337\" class=\"colab-df-container\">\n",
              "    <div>\n",
              "<style scoped>\n",
              "    .dataframe tbody tr th:only-of-type {\n",
              "        vertical-align: middle;\n",
              "    }\n",
              "\n",
              "    .dataframe tbody tr th {\n",
              "        vertical-align: top;\n",
              "    }\n",
              "\n",
              "    .dataframe thead th {\n",
              "        text-align: right;\n",
              "    }\n",
              "</style>\n",
              "<table border=\"1\" class=\"dataframe\">\n",
              "  <thead>\n",
              "    <tr style=\"text-align: right;\">\n",
              "      <th></th>\n",
              "      <th>Description</th>\n",
              "      <th>Category</th>\n",
              "      <th>Tokenized</th>\n",
              "      <th>pos_tagged</th>\n",
              "      <th>NN_tagged</th>\n",
              "      <th>NN_Description</th>\n",
              "      <th>Label</th>\n",
              "      <th>WSP_Label</th>\n",
              "      <th>WSP_Value</th>\n",
              "      <th>NN_WSP_Label</th>\n",
              "      <th>NN_WSP_Value</th>\n",
              "      <th>WUP_Label</th>\n",
              "      <th>WUP_Value</th>\n",
              "      <th>NN_WUP_Label</th>\n",
              "      <th>NN_WUP_Value</th>\n",
              "    </tr>\n",
              "  </thead>\n",
              "  <tbody>\n",
              "    <tr>\n",
              "      <th>0</th>\n",
              "      <td>hi since recruiter lead permission approve req...</td>\n",
              "      <td>Application</td>\n",
              "      <td>[hi, since, recruiter, lead, permission, appro...</td>\n",
              "      <td>[(hi, NN), (since, IN), (recruiter, NN), (lead...</td>\n",
              "      <td>[hi, recruiter, lead, permission]</td>\n",
              "      <td>recruiter lead permission</td>\n",
              "      <td>0</td>\n",
              "      <td>0</td>\n",
              "      <td>9.888889</td>\n",
              "      <td>0</td>\n",
              "      <td>9.133333</td>\n",
              "      <td>0</td>\n",
              "      <td>0.290693</td>\n",
              "      <td>0</td>\n",
              "      <td>0.309684</td>\n",
              "    </tr>\n",
              "    <tr>\n",
              "      <th>1</th>\n",
              "      <td>re expire days hi ask help update passwords co...</td>\n",
              "      <td>Application</td>\n",
              "      <td>[re, expire, days, hi, ask, help, update, pass...</td>\n",
              "      <td>[(re, NN), (expire, NN), (days, NNS), (hi, VBP...</td>\n",
              "      <td>[re, expire, help, expire, hi, expiration, ple...</td>\n",
              "      <td>expire expire expiration prolongation expire o...</td>\n",
              "      <td>0</td>\n",
              "      <td>2</td>\n",
              "      <td>9.358025</td>\n",
              "      <td>2</td>\n",
              "      <td>9.304348</td>\n",
              "      <td>1</td>\n",
              "      <td>0.307018</td>\n",
              "      <td>1</td>\n",
              "      <td>0.318041</td>\n",
              "    </tr>\n",
              "    <tr>\n",
              "      <th>2</th>\n",
              "      <td>verification warning hi has got attached pleas...</td>\n",
              "      <td>Application</td>\n",
              "      <td>[verification, warning, hi, has, got, attached...</td>\n",
              "      <td>[(verification, NN), (warning, VBG), (hi, NN),...</td>\n",
              "      <td>[verification, hi, please, analyst, verification]</td>\n",
              "      <td>verification analyst verification</td>\n",
              "      <td>0</td>\n",
              "      <td>2</td>\n",
              "      <td>10.200000</td>\n",
              "      <td>2</td>\n",
              "      <td>9.466667</td>\n",
              "      <td>1</td>\n",
              "      <td>0.321312</td>\n",
              "      <td>2</td>\n",
              "      <td>0.298571</td>\n",
              "    </tr>\n",
              "    <tr>\n",
              "      <th>3</th>\n",
              "      <td>please dear looks blacklisted receiving mails ...</td>\n",
              "      <td>Application</td>\n",
              "      <td>[please, dear, looks, blacklisted, receiving, ...</td>\n",
              "      <td>[(please, VB), (dear, JJ), (looks, NNS), (blac...</td>\n",
              "      <td>[kind, engineer]</td>\n",
              "      <td>engineer</td>\n",
              "      <td>0</td>\n",
              "      <td>2</td>\n",
              "      <td>9.111111</td>\n",
              "      <td>0</td>\n",
              "      <td>5.800000</td>\n",
              "      <td>0</td>\n",
              "      <td>0.301727</td>\n",
              "      <td>4</td>\n",
              "      <td>0.493133</td>\n",
              "    </tr>\n",
              "    <tr>\n",
              "      <th>4</th>\n",
              "      <td>dear modules report report cost thank much reg...</td>\n",
              "      <td>Application</td>\n",
              "      <td>[dear, modules, report, report, cost, thank, m...</td>\n",
              "      <td>[(dear, JJ), (modules, NNS), (report, VB), (re...</td>\n",
              "      <td>[report, cost]</td>\n",
              "      <td>report cost</td>\n",
              "      <td>0</td>\n",
              "      <td>0</td>\n",
              "      <td>8.942857</td>\n",
              "      <td>0</td>\n",
              "      <td>9.000000</td>\n",
              "      <td>0</td>\n",
              "      <td>0.299117</td>\n",
              "      <td>1</td>\n",
              "      <td>0.319167</td>\n",
              "    </tr>\n",
              "    <tr>\n",
              "      <th>...</th>\n",
              "      <td>...</td>\n",
              "      <td>...</td>\n",
              "      <td>...</td>\n",
              "      <td>...</td>\n",
              "      <td>...</td>\n",
              "      <td>...</td>\n",
              "      <td>...</td>\n",
              "      <td>...</td>\n",
              "      <td>...</td>\n",
              "      <td>...</td>\n",
              "      <td>...</td>\n",
              "      <td>...</td>\n",
              "      <td>...</td>\n",
              "      <td>...</td>\n",
              "      <td>...</td>\n",
              "    </tr>\n",
              "    <tr>\n",
              "      <th>2995</th>\n",
              "      <td>sent tuesday feedback follow up conf call hell...</td>\n",
              "      <td>Database</td>\n",
              "      <td>[sent, tuesday, feedback, follow, up, conf, ca...</td>\n",
              "      <td>[(sent, NN), (tuesday, NN), (feedback, NN), (f...</td>\n",
              "      <td>[sent, tuesday, feedback, conf, call, hello, s...</td>\n",
              "      <td>feedback conf call setup meeting side meeting ...</td>\n",
              "      <td>1</td>\n",
              "      <td>2</td>\n",
              "      <td>10.165517</td>\n",
              "      <td>0</td>\n",
              "      <td>9.881481</td>\n",
              "      <td>1</td>\n",
              "      <td>0.280413</td>\n",
              "      <td>4</td>\n",
              "      <td>0.301832</td>\n",
              "    </tr>\n",
              "    <tr>\n",
              "      <th>2996</th>\n",
              "      <td>sent monday issues hi keep getting errors whil...</td>\n",
              "      <td>Database</td>\n",
              "      <td>[sent, monday, issues, hi, keep, getting, erro...</td>\n",
              "      <td>[(sent, NN), (monday, NN), (issues, NNS), (hi,...</td>\n",
              "      <td>[sent, monday, please, help]</td>\n",
              "      <td></td>\n",
              "      <td>1</td>\n",
              "      <td>1</td>\n",
              "      <td>9.476923</td>\n",
              "      <td>0</td>\n",
              "      <td>0.000000</td>\n",
              "      <td>1</td>\n",
              "      <td>0.364026</td>\n",
              "      <td>0</td>\n",
              "      <td>0.000000</td>\n",
              "    </tr>\n",
              "    <tr>\n",
              "      <th>2997</th>\n",
              "      <td>sent monday en working properly hi guys we hav...</td>\n",
              "      <td>Database</td>\n",
              "      <td>[sent, monday, en, working, properly, hi, guys...</td>\n",
              "      <td>[(sent, NN), (monday, NN), (en, IN), (working,...</td>\n",
              "      <td>[sent, monday, number, meeting, room, dialer, ...</td>\n",
              "      <td>number meeting room dialer pad multiple access...</td>\n",
              "      <td>1</td>\n",
              "      <td>2</td>\n",
              "      <td>9.806780</td>\n",
              "      <td>2</td>\n",
              "      <td>9.400000</td>\n",
              "      <td>2</td>\n",
              "      <td>0.279986</td>\n",
              "      <td>1</td>\n",
              "      <td>0.282970</td>\n",
              "    </tr>\n",
              "    <tr>\n",
              "      <th>2998</th>\n",
              "      <td>sent wednesday july hi please log incident for...</td>\n",
              "      <td>Database</td>\n",
              "      <td>[sent, wednesday, july, hi, please, log, incid...</td>\n",
              "      <td>[(sent, NN), (wednesday, NN), (july, NN), (hi,...</td>\n",
              "      <td>[sent, wednesday, july, please, log, incident,...</td>\n",
              "      <td>log incident assistance mo el ticket con colom...</td>\n",
              "      <td>1</td>\n",
              "      <td>2</td>\n",
              "      <td>9.965079</td>\n",
              "      <td>2</td>\n",
              "      <td>9.413793</td>\n",
              "      <td>1</td>\n",
              "      <td>0.301023</td>\n",
              "      <td>1</td>\n",
              "      <td>0.304301</td>\n",
              "    </tr>\n",
              "    <tr>\n",
              "      <th>2999</th>\n",
              "      <td>sent tuesday july connection issues hello have...</td>\n",
              "      <td>Database</td>\n",
              "      <td>[sent, tuesday, july, connection, issues, hell...</td>\n",
              "      <td>[(sent, NN), (tuesday, NN), (july, JJ), (conne...</td>\n",
              "      <td>[sent, tuesday, connection, connection, client...</td>\n",
              "      <td>connection connection client side link connect...</td>\n",
              "      <td>1</td>\n",
              "      <td>2</td>\n",
              "      <td>9.248649</td>\n",
              "      <td>2</td>\n",
              "      <td>8.626667</td>\n",
              "      <td>2</td>\n",
              "      <td>0.300693</td>\n",
              "      <td>2</td>\n",
              "      <td>0.323516</td>\n",
              "    </tr>\n",
              "  </tbody>\n",
              "</table>\n",
              "<p>3000 rows × 15 columns</p>\n",
              "</div>\n",
              "    <div class=\"colab-df-buttons\">\n",
              "\n",
              "  <div class=\"colab-df-container\">\n",
              "    <button class=\"colab-df-convert\" onclick=\"convertToInteractive('df-1f595cc1-a53d-4d46-81ca-e060370d7337')\"\n",
              "            title=\"Convert this dataframe to an interactive table.\"\n",
              "            style=\"display:none;\">\n",
              "\n",
              "  <svg xmlns=\"http://www.w3.org/2000/svg\" height=\"24px\" viewBox=\"0 -960 960 960\">\n",
              "    <path d=\"M120-120v-720h720v720H120Zm60-500h600v-160H180v160Zm220 220h160v-160H400v160Zm0 220h160v-160H400v160ZM180-400h160v-160H180v160Zm440 0h160v-160H620v160ZM180-180h160v-160H180v160Zm440 0h160v-160H620v160Z\"/>\n",
              "  </svg>\n",
              "    </button>\n",
              "\n",
              "  <style>\n",
              "    .colab-df-container {\n",
              "      display:flex;\n",
              "      gap: 12px;\n",
              "    }\n",
              "\n",
              "    .colab-df-convert {\n",
              "      background-color: #E8F0FE;\n",
              "      border: none;\n",
              "      border-radius: 50%;\n",
              "      cursor: pointer;\n",
              "      display: none;\n",
              "      fill: #1967D2;\n",
              "      height: 32px;\n",
              "      padding: 0 0 0 0;\n",
              "      width: 32px;\n",
              "    }\n",
              "\n",
              "    .colab-df-convert:hover {\n",
              "      background-color: #E2EBFA;\n",
              "      box-shadow: 0px 1px 2px rgba(60, 64, 67, 0.3), 0px 1px 3px 1px rgba(60, 64, 67, 0.15);\n",
              "      fill: #174EA6;\n",
              "    }\n",
              "\n",
              "    .colab-df-buttons div {\n",
              "      margin-bottom: 4px;\n",
              "    }\n",
              "\n",
              "    [theme=dark] .colab-df-convert {\n",
              "      background-color: #3B4455;\n",
              "      fill: #D2E3FC;\n",
              "    }\n",
              "\n",
              "    [theme=dark] .colab-df-convert:hover {\n",
              "      background-color: #434B5C;\n",
              "      box-shadow: 0px 1px 3px 1px rgba(0, 0, 0, 0.15);\n",
              "      filter: drop-shadow(0px 1px 2px rgba(0, 0, 0, 0.3));\n",
              "      fill: #FFFFFF;\n",
              "    }\n",
              "  </style>\n",
              "\n",
              "    <script>\n",
              "      const buttonEl =\n",
              "        document.querySelector('#df-1f595cc1-a53d-4d46-81ca-e060370d7337 button.colab-df-convert');\n",
              "      buttonEl.style.display =\n",
              "        google.colab.kernel.accessAllowed ? 'block' : 'none';\n",
              "\n",
              "      async function convertToInteractive(key) {\n",
              "        const element = document.querySelector('#df-1f595cc1-a53d-4d46-81ca-e060370d7337');\n",
              "        const dataTable =\n",
              "          await google.colab.kernel.invokeFunction('convertToInteractive',\n",
              "                                                    [key], {});\n",
              "        if (!dataTable) return;\n",
              "\n",
              "        const docLinkHtml = 'Like what you see? Visit the ' +\n",
              "          '<a target=\"_blank\" href=https://colab.research.google.com/notebooks/data_table.ipynb>data table notebook</a>'\n",
              "          + ' to learn more about interactive tables.';\n",
              "        element.innerHTML = '';\n",
              "        dataTable['output_type'] = 'display_data';\n",
              "        await google.colab.output.renderOutput(dataTable, element);\n",
              "        const docLink = document.createElement('div');\n",
              "        docLink.innerHTML = docLinkHtml;\n",
              "        element.appendChild(docLink);\n",
              "      }\n",
              "    </script>\n",
              "  </div>\n",
              "\n",
              "\n",
              "<div id=\"df-0d9eb0a4-75f6-4829-a498-a28f3c5563c6\">\n",
              "  <button class=\"colab-df-quickchart\" onclick=\"quickchart('df-0d9eb0a4-75f6-4829-a498-a28f3c5563c6')\"\n",
              "            title=\"Suggest charts\"\n",
              "            style=\"display:none;\">\n",
              "\n",
              "<svg xmlns=\"http://www.w3.org/2000/svg\" height=\"24px\"viewBox=\"0 0 24 24\"\n",
              "     width=\"24px\">\n",
              "    <g>\n",
              "        <path d=\"M19 3H5c-1.1 0-2 .9-2 2v14c0 1.1.9 2 2 2h14c1.1 0 2-.9 2-2V5c0-1.1-.9-2-2-2zM9 17H7v-7h2v7zm4 0h-2V7h2v10zm4 0h-2v-4h2v4z\"/>\n",
              "    </g>\n",
              "</svg>\n",
              "  </button>\n",
              "\n",
              "<style>\n",
              "  .colab-df-quickchart {\n",
              "      --bg-color: #E8F0FE;\n",
              "      --fill-color: #1967D2;\n",
              "      --hover-bg-color: #E2EBFA;\n",
              "      --hover-fill-color: #174EA6;\n",
              "      --disabled-fill-color: #AAA;\n",
              "      --disabled-bg-color: #DDD;\n",
              "  }\n",
              "\n",
              "  [theme=dark] .colab-df-quickchart {\n",
              "      --bg-color: #3B4455;\n",
              "      --fill-color: #D2E3FC;\n",
              "      --hover-bg-color: #434B5C;\n",
              "      --hover-fill-color: #FFFFFF;\n",
              "      --disabled-bg-color: #3B4455;\n",
              "      --disabled-fill-color: #666;\n",
              "  }\n",
              "\n",
              "  .colab-df-quickchart {\n",
              "    background-color: var(--bg-color);\n",
              "    border: none;\n",
              "    border-radius: 50%;\n",
              "    cursor: pointer;\n",
              "    display: none;\n",
              "    fill: var(--fill-color);\n",
              "    height: 32px;\n",
              "    padding: 0;\n",
              "    width: 32px;\n",
              "  }\n",
              "\n",
              "  .colab-df-quickchart:hover {\n",
              "    background-color: var(--hover-bg-color);\n",
              "    box-shadow: 0 1px 2px rgba(60, 64, 67, 0.3), 0 1px 3px 1px rgba(60, 64, 67, 0.15);\n",
              "    fill: var(--button-hover-fill-color);\n",
              "  }\n",
              "\n",
              "  .colab-df-quickchart-complete:disabled,\n",
              "  .colab-df-quickchart-complete:disabled:hover {\n",
              "    background-color: var(--disabled-bg-color);\n",
              "    fill: var(--disabled-fill-color);\n",
              "    box-shadow: none;\n",
              "  }\n",
              "\n",
              "  .colab-df-spinner {\n",
              "    border: 2px solid var(--fill-color);\n",
              "    border-color: transparent;\n",
              "    border-bottom-color: var(--fill-color);\n",
              "    animation:\n",
              "      spin 1s steps(1) infinite;\n",
              "  }\n",
              "\n",
              "  @keyframes spin {\n",
              "    0% {\n",
              "      border-color: transparent;\n",
              "      border-bottom-color: var(--fill-color);\n",
              "      border-left-color: var(--fill-color);\n",
              "    }\n",
              "    20% {\n",
              "      border-color: transparent;\n",
              "      border-left-color: var(--fill-color);\n",
              "      border-top-color: var(--fill-color);\n",
              "    }\n",
              "    30% {\n",
              "      border-color: transparent;\n",
              "      border-left-color: var(--fill-color);\n",
              "      border-top-color: var(--fill-color);\n",
              "      border-right-color: var(--fill-color);\n",
              "    }\n",
              "    40% {\n",
              "      border-color: transparent;\n",
              "      border-right-color: var(--fill-color);\n",
              "      border-top-color: var(--fill-color);\n",
              "    }\n",
              "    60% {\n",
              "      border-color: transparent;\n",
              "      border-right-color: var(--fill-color);\n",
              "    }\n",
              "    80% {\n",
              "      border-color: transparent;\n",
              "      border-right-color: var(--fill-color);\n",
              "      border-bottom-color: var(--fill-color);\n",
              "    }\n",
              "    90% {\n",
              "      border-color: transparent;\n",
              "      border-bottom-color: var(--fill-color);\n",
              "    }\n",
              "  }\n",
              "</style>\n",
              "\n",
              "  <script>\n",
              "    async function quickchart(key) {\n",
              "      const quickchartButtonEl =\n",
              "        document.querySelector('#' + key + ' button');\n",
              "      quickchartButtonEl.disabled = true;  // To prevent multiple clicks.\n",
              "      quickchartButtonEl.classList.add('colab-df-spinner');\n",
              "      try {\n",
              "        const charts = await google.colab.kernel.invokeFunction(\n",
              "            'suggestCharts', [key], {});\n",
              "      } catch (error) {\n",
              "        console.error('Error during call to suggestCharts:', error);\n",
              "      }\n",
              "      quickchartButtonEl.classList.remove('colab-df-spinner');\n",
              "      quickchartButtonEl.classList.add('colab-df-quickchart-complete');\n",
              "    }\n",
              "    (() => {\n",
              "      let quickchartButtonEl =\n",
              "        document.querySelector('#df-0d9eb0a4-75f6-4829-a498-a28f3c5563c6 button');\n",
              "      quickchartButtonEl.style.display =\n",
              "        google.colab.kernel.accessAllowed ? 'block' : 'none';\n",
              "    })();\n",
              "  </script>\n",
              "</div>\n",
              "    </div>\n",
              "  </div>\n"
            ],
            "application/vnd.google.colaboratory.intrinsic+json": {
              "type": "dataframe",
              "variable_name": "df",
              "summary": "{\n  \"name\": \"df\",\n  \"rows\": 3000,\n  \"fields\": [\n    {\n      \"column\": \"Description\",\n      \"properties\": {\n        \"dtype\": \"string\",\n        \"num_unique_values\": 3000,\n        \"samples\": [\n          \"friday november pm assistants please secure floor tower hi please securing floor tower secure area evening cob tuesday morning area needs secure also needs informing employees about changes restriction well meeting rooms bookings restriction thank help kind regards officer information\",\n          \"pm hi joined fast followings visual studio provide other information please let thank best regards\",\n          \"card leaver la va ca defect\"\n        ],\n        \"semantic_type\": \"\",\n        \"description\": \"\"\n      }\n    },\n    {\n      \"column\": \"Category\",\n      \"properties\": {\n        \"dtype\": \"category\",\n        \"num_unique_values\": 5,\n        \"samples\": [\n          \"Database\",\n          \"Security\",\n          \"Network\"\n        ],\n        \"semantic_type\": \"\",\n        \"description\": \"\"\n      }\n    },\n    {\n      \"column\": \"Tokenized\",\n      \"properties\": {\n        \"dtype\": \"object\",\n        \"semantic_type\": \"\",\n        \"description\": \"\"\n      }\n    },\n    {\n      \"column\": \"pos_tagged\",\n      \"properties\": {\n        \"dtype\": \"object\",\n        \"semantic_type\": \"\",\n        \"description\": \"\"\n      }\n    },\n    {\n      \"column\": \"NN_tagged\",\n      \"properties\": {\n        \"dtype\": \"object\",\n        \"semantic_type\": \"\",\n        \"description\": \"\"\n      }\n    },\n    {\n      \"column\": \"NN_Description\",\n      \"properties\": {\n        \"dtype\": \"string\",\n        \"num_unique_values\": 2720,\n        \"samples\": [\n          \"announce crap eon program si va ne interval care placer la cl rom confidentiality notice content communication information environment printing\",\n          \"analyst submit make side let\",\n          \"phone issue move phone press cable discovery discovery issue phone centimeter analyst\"\n        ],\n        \"semantic_type\": \"\",\n        \"description\": \"\"\n      }\n    },\n    {\n      \"column\": \"Label\",\n      \"properties\": {\n        \"dtype\": \"number\",\n        \"std\": 1,\n        \"min\": 0,\n        \"max\": 4,\n        \"num_unique_values\": 5,\n        \"samples\": [\n          1,\n          3,\n          2\n        ],\n        \"semantic_type\": \"\",\n        \"description\": \"\"\n      }\n    },\n    {\n      \"column\": \"WSP_Label\",\n      \"properties\": {\n        \"dtype\": \"number\",\n        \"std\": 0,\n        \"min\": 0,\n        \"max\": 4,\n        \"num_unique_values\": 5,\n        \"samples\": [\n          2,\n          3,\n          1\n        ],\n        \"semantic_type\": \"\",\n        \"description\": \"\"\n      }\n    },\n    {\n      \"column\": \"WSP_Value\",\n      \"properties\": {\n        \"dtype\": \"number\",\n        \"std\": 0.6648724755922382,\n        \"min\": 0.0,\n        \"max\": 13.75,\n        \"num_unique_values\": 1808,\n        \"samples\": [\n          9.37704918032787,\n          8.815384615384616,\n          10.082352941176472\n        ],\n        \"semantic_type\": \"\",\n        \"description\": \"\"\n      }\n    },\n    {\n      \"column\": \"NN_WSP_Label\",\n      \"properties\": {\n        \"dtype\": \"number\",\n        \"std\": 1,\n        \"min\": 0,\n        \"max\": 4,\n        \"num_unique_values\": 5,\n        \"samples\": [\n          2,\n          3,\n          1\n        ],\n        \"semantic_type\": \"\",\n        \"description\": \"\"\n      }\n    },\n    {\n      \"column\": \"NN_WSP_Value\",\n      \"properties\": {\n        \"dtype\": \"number\",\n        \"std\": 1.9028235371271653,\n        \"min\": 0.0,\n        \"max\": 18.2,\n        \"num_unique_values\": 1102,\n        \"samples\": [\n          10.100000000000001,\n          8.476923076923077,\n          9.058823529411764\n        ],\n        \"semantic_type\": \"\",\n        \"description\": \"\"\n      }\n    },\n    {\n      \"column\": \"WUP_Label\",\n      \"properties\": {\n        \"dtype\": \"number\",\n        \"std\": 1,\n        \"min\": 0,\n        \"max\": 4,\n        \"num_unique_values\": 5,\n        \"samples\": [\n          1,\n          3,\n          2\n        ],\n        \"semantic_type\": \"\",\n        \"description\": \"\"\n      }\n    },\n    {\n      \"column\": \"WUP_Value\",\n      \"properties\": {\n        \"dtype\": \"number\",\n        \"std\": 0.03471681895373833,\n        \"min\": 0.0,\n        \"max\": 0.5059074912016088,\n        \"num_unique_values\": 2938,\n        \"samples\": [\n          0.3321504483433663,\n          0.3476911976911977,\n          0.27167691132397015\n        ],\n        \"semantic_type\": \"\",\n        \"description\": \"\"\n      }\n    },\n    {\n      \"column\": \"NN_WUP_Label\",\n      \"properties\": {\n        \"dtype\": \"number\",\n        \"std\": 1,\n        \"min\": 0,\n        \"max\": 4,\n        \"num_unique_values\": 5,\n        \"samples\": [\n          1,\n          3,\n          2\n        ],\n        \"semantic_type\": \"\",\n        \"description\": \"\"\n      }\n    },\n    {\n      \"column\": \"NN_WUP_Value\",\n      \"properties\": {\n        \"dtype\": \"number\",\n        \"std\": 0.08078157227430566,\n        \"min\": 0.0,\n        \"max\": 0.5333333333333333,\n        \"num_unique_values\": 2508,\n        \"samples\": [\n          0.3649148090376161,\n          0.3199503295367957,\n          0.24712197713229705\n        ],\n        \"semantic_type\": \"\",\n        \"description\": \"\"\n      }\n    }\n  ]\n}"
            }
          },
          "metadata": {},
          "execution_count": 37
        }
      ]
    },
    {
      "cell_type": "code",
      "source": [
        "df_0 = df.loc[(df['Label'] == 0)]\n",
        "df_1 = df.loc[(df['Label'] == 1)]\n",
        "df_2 = df.loc[(df['Label'] == 2)]\n",
        "df_3 = df.loc[(df['Label'] == 3)]\n",
        "df_4 = df.loc[(df['Label'] == 4)]"
      ],
      "metadata": {
        "id": "7ZwGT5MZYxlH"
      },
      "execution_count": null,
      "outputs": []
    },
    {
      "cell_type": "code",
      "source": [
        "accuracy_score(df['Label'], df['WUP_Label'])"
      ],
      "metadata": {
        "colab": {
          "base_uri": "https://localhost:8080/"
        },
        "id": "SU35Rm4CREcn",
        "outputId": "4e2c1f0f-dfe4-4105-c7c7-3a9af0865a54"
      },
      "execution_count": null,
      "outputs": [
        {
          "output_type": "execute_result",
          "data": {
            "text/plain": [
              "0.257"
            ]
          },
          "metadata": {},
          "execution_count": 39
        }
      ]
    },
    {
      "cell_type": "code",
      "source": [
        "accuracy_score(df['Label'], df['NN_WUP_Label'])"
      ],
      "metadata": {
        "colab": {
          "base_uri": "https://localhost:8080/"
        },
        "id": "UhgEIOo7JU4y",
        "outputId": "0132f79a-cbd3-483b-b734-497b279d55c8"
      },
      "execution_count": null,
      "outputs": [
        {
          "output_type": "execute_result",
          "data": {
            "text/plain": [
              "0.306"
            ]
          },
          "metadata": {},
          "execution_count": 40
        }
      ]
    },
    {
      "cell_type": "code",
      "source": [
        "accuracy_score(df_0['Label'], df_0['WUP_Label'])"
      ],
      "metadata": {
        "colab": {
          "base_uri": "https://localhost:8080/"
        },
        "id": "eh4D9XMERyvM",
        "outputId": "b08144d3-36b5-41c3-b0f9-999d557a8fde"
      },
      "execution_count": null,
      "outputs": [
        {
          "output_type": "execute_result",
          "data": {
            "text/plain": [
              "0.2866666666666667"
            ]
          },
          "metadata": {},
          "execution_count": 41
        }
      ]
    },
    {
      "cell_type": "code",
      "source": [
        "accuracy_score(df_0['Label'], df_0['NN_WUP_Label'])"
      ],
      "metadata": {
        "colab": {
          "base_uri": "https://localhost:8080/"
        },
        "id": "6xMzP2ceJXJr",
        "outputId": "08352133-2f51-4c2b-d22a-41d9a8512c73"
      },
      "execution_count": null,
      "outputs": [
        {
          "output_type": "execute_result",
          "data": {
            "text/plain": [
              "0.295"
            ]
          },
          "metadata": {},
          "execution_count": 42
        }
      ]
    },
    {
      "cell_type": "code",
      "source": [
        "accuracy_score(df_1['Label'], df_1['WUP_Label'])"
      ],
      "metadata": {
        "colab": {
          "base_uri": "https://localhost:8080/"
        },
        "id": "r8zNUZzoR9R_",
        "outputId": "176eceaf-8848-4015-ba31-507dd1e13136"
      },
      "execution_count": null,
      "outputs": [
        {
          "output_type": "execute_result",
          "data": {
            "text/plain": [
              "0.495"
            ]
          },
          "metadata": {},
          "execution_count": 43
        }
      ]
    },
    {
      "cell_type": "code",
      "source": [
        "accuracy_score(df_1['Label'], df_1['NN_WUP_Label'])"
      ],
      "metadata": {
        "colab": {
          "base_uri": "https://localhost:8080/"
        },
        "id": "FTJK1nQxJaMq",
        "outputId": "c5b96278-54ef-460c-90e2-76c7a39e37c0"
      },
      "execution_count": null,
      "outputs": [
        {
          "output_type": "execute_result",
          "data": {
            "text/plain": [
              "0.39"
            ]
          },
          "metadata": {},
          "execution_count": 44
        }
      ]
    },
    {
      "cell_type": "code",
      "source": [
        "accuracy_score(df_2['Label'], df_2['WUP_Label'])"
      ],
      "metadata": {
        "colab": {
          "base_uri": "https://localhost:8080/"
        },
        "id": "h9o6q8qDSK1T",
        "outputId": "51e7da4c-902f-4bcd-c238-c42ede45b2ef"
      },
      "execution_count": null,
      "outputs": [
        {
          "output_type": "execute_result",
          "data": {
            "text/plain": [
              "0.23666666666666666"
            ]
          },
          "metadata": {},
          "execution_count": 45
        }
      ]
    },
    {
      "cell_type": "code",
      "source": [
        "accuracy_score(df_2['Label'], df_2['NN_WUP_Label'])"
      ],
      "metadata": {
        "colab": {
          "base_uri": "https://localhost:8080/"
        },
        "id": "tVUIOOdcJcxL",
        "outputId": "00e7f367-028d-4eb7-c60b-3f32908630ba"
      },
      "execution_count": null,
      "outputs": [
        {
          "output_type": "execute_result",
          "data": {
            "text/plain": [
              "0.195"
            ]
          },
          "metadata": {},
          "execution_count": 46
        }
      ]
    },
    {
      "cell_type": "code",
      "source": [
        "accuracy_score(df_3['Label'], df_3['WUP_Label'])"
      ],
      "metadata": {
        "colab": {
          "base_uri": "https://localhost:8080/"
        },
        "id": "rhbSsUTbSRPq",
        "outputId": "71854b48-0f5d-4705-a295-b83d8f049a05"
      },
      "execution_count": null,
      "outputs": [
        {
          "output_type": "execute_result",
          "data": {
            "text/plain": [
              "0.045"
            ]
          },
          "metadata": {},
          "execution_count": 47
        }
      ]
    },
    {
      "cell_type": "code",
      "source": [
        "accuracy_score(df_3['Label'], df_3['NN_WUP_Label'])"
      ],
      "metadata": {
        "colab": {
          "base_uri": "https://localhost:8080/"
        },
        "id": "qGDfcMMKJegA",
        "outputId": "7683aea9-4c8d-4bfa-ad1b-36e8b7fa92e2"
      },
      "execution_count": null,
      "outputs": [
        {
          "output_type": "execute_result",
          "data": {
            "text/plain": [
              "0.24"
            ]
          },
          "metadata": {},
          "execution_count": 48
        }
      ]
    },
    {
      "cell_type": "code",
      "source": [
        "accuracy_score(df_4['Label'], df_4['WUP_Label'])"
      ],
      "metadata": {
        "colab": {
          "base_uri": "https://localhost:8080/"
        },
        "id": "MXEo7HjiSVQU",
        "outputId": "60a343a5-19e1-4a04-b1fb-8c6f2aa7384d"
      },
      "execution_count": null,
      "outputs": [
        {
          "output_type": "execute_result",
          "data": {
            "text/plain": [
              "0.22166666666666668"
            ]
          },
          "metadata": {},
          "execution_count": 49
        }
      ]
    },
    {
      "cell_type": "code",
      "source": [
        "accuracy_score(df_4['Label'], df_4['NN_WUP_Label'])"
      ],
      "metadata": {
        "colab": {
          "base_uri": "https://localhost:8080/"
        },
        "id": "I0kcOaIFJgdA",
        "outputId": "d4ab6e9a-e882-4edd-e0d2-fed22d409799"
      },
      "execution_count": null,
      "outputs": [
        {
          "output_type": "execute_result",
          "data": {
            "text/plain": [
              "0.41"
            ]
          },
          "metadata": {},
          "execution_count": 50
        }
      ]
    }
  ]
}