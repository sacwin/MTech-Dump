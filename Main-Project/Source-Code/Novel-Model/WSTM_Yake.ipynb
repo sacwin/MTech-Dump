{
  "nbformat": 4,
  "nbformat_minor": 0,
  "metadata": {
    "colab": {
      "provenance": []
    },
    "kernelspec": {
      "name": "python3",
      "display_name": "Python 3"
    },
    "language_info": {
      "name": "python"
    }
  },
  "cells": [
    {
      "cell_type": "code",
      "source": [
        "!pip install yake"
      ],
      "metadata": {
        "colab": {
          "base_uri": "https://localhost:8080/"
        },
        "id": "Luf1BXX2i-xT",
        "outputId": "56e3431f-9ede-4d2b-bf42-ea4609ebcae9"
      },
      "execution_count": null,
      "outputs": [
        {
          "output_type": "stream",
          "name": "stdout",
          "text": [
            "Collecting yake\n",
            "  Downloading yake-0.4.8-py2.py3-none-any.whl (60 kB)\n",
            "\u001b[2K     \u001b[90m━━━━━━━━━━━━━━━━━━━━━━━━━━━━━━━━━━━━━━━━\u001b[0m \u001b[32m60.2/60.2 kB\u001b[0m \u001b[31m420.0 kB/s\u001b[0m eta \u001b[36m0:00:00\u001b[0m\n",
            "\u001b[?25hRequirement already satisfied: tabulate in /usr/local/lib/python3.10/dist-packages (from yake) (0.9.0)\n",
            "Requirement already satisfied: click>=6.0 in /usr/local/lib/python3.10/dist-packages (from yake) (8.1.7)\n",
            "Requirement already satisfied: numpy in /usr/local/lib/python3.10/dist-packages (from yake) (1.25.2)\n",
            "Collecting segtok (from yake)\n",
            "  Downloading segtok-1.5.11-py3-none-any.whl (24 kB)\n",
            "Requirement already satisfied: networkx in /usr/local/lib/python3.10/dist-packages (from yake) (3.2.1)\n",
            "Collecting jellyfish (from yake)\n",
            "  Downloading jellyfish-1.0.3-cp310-cp310-manylinux_2_17_x86_64.manylinux2014_x86_64.whl (1.2 MB)\n",
            "\u001b[2K     \u001b[90m━━━━━━━━━━━━━━━━━━━━━━━━━━━━━━━━━━━━━━━━\u001b[0m \u001b[32m1.2/1.2 MB\u001b[0m \u001b[31m12.5 MB/s\u001b[0m eta \u001b[36m0:00:00\u001b[0m\n",
            "\u001b[?25hRequirement already satisfied: regex in /usr/local/lib/python3.10/dist-packages (from segtok->yake) (2023.12.25)\n",
            "Installing collected packages: segtok, jellyfish, yake\n",
            "Successfully installed jellyfish-1.0.3 segtok-1.5.11 yake-0.4.8\n"
          ]
        }
      ]
    },
    {
      "cell_type": "code",
      "execution_count": null,
      "metadata": {
        "id": "EfDodKJL1NH2",
        "colab": {
          "base_uri": "https://localhost:8080/"
        },
        "outputId": "9868dd54-1dd1-4bef-85e9-3cce40828a92"
      },
      "outputs": [
        {
          "output_type": "stream",
          "name": "stderr",
          "text": [
            "[nltk_data] Downloading package wordnet to /root/nltk_data...\n",
            "[nltk_data] Downloading package punkt to /root/nltk_data...\n",
            "[nltk_data]   Unzipping tokenizers/punkt.zip.\n",
            "[nltk_data] Downloading package averaged_perceptron_tagger to\n",
            "[nltk_data]     /root/nltk_data...\n",
            "[nltk_data]   Unzipping taggers/averaged_perceptron_tagger.zip.\n",
            "[nltk_data] Downloading package stopwords to /root/nltk_data...\n",
            "[nltk_data]   Unzipping corpora/stopwords.zip.\n"
          ]
        }
      ],
      "source": [
        "# Import Libraries\n",
        "import pandas as pd\n",
        "import io\n",
        "import numpy as np\n",
        "import re\n",
        "\n",
        "from collections import Counter\n",
        "import seaborn as sns\n",
        "import matplotlib.pyplot as plt\n",
        "\n",
        "import nltk\n",
        "nltk.download('wordnet')\n",
        "nltk.download('punkt')\n",
        "nltk.download('averaged_perceptron_tagger')\n",
        "nltk.download('stopwords')\n",
        "from nltk.corpus import wordnet\n",
        "from nltk.corpus import stopwords\n",
        "\n",
        "from sklearn.preprocessing import LabelEncoder\n",
        "from sklearn.metrics import accuracy_score\n",
        "\n",
        "import yake"
      ]
    },
    {
      "cell_type": "code",
      "source": [
        "df = pd.read_csv('latest_ticket_data.csv')"
      ],
      "metadata": {
        "id": "zkr0Kc7R2pGa"
      },
      "execution_count": null,
      "outputs": []
    },
    {
      "cell_type": "code",
      "source": [
        "def get_only_chars(line):\n",
        "\n",
        "    clean_line = \"\"\n",
        "\n",
        "    line = line.replace(\"’\", \"\")\n",
        "    line = line.replace(\"'\", \"\")\n",
        "    line = line.replace(\"-\", \" \") #replace hyphens with spaces\n",
        "    line = line.replace(\"\\t\", \" \")\n",
        "    line = line.replace(\"\\n\", \" \")\n",
        "    line = line.lower()\n",
        "\n",
        "    for char in line:\n",
        "        if char in 'qwertyuiopasdfghjklzxcvbnm ':\n",
        "            clean_line += char\n",
        "        else:\n",
        "            clean_line += ' '\n",
        "\n",
        "    clean_line = re.sub(' +',' ',clean_line) #delete extra spaces\n",
        "    if clean_line[0] == ' ':\n",
        "        clean_line = clean_line[1:]\n",
        "    return clean_line"
      ],
      "metadata": {
        "id": "wKt5AnR-TZav"
      },
      "execution_count": null,
      "outputs": []
    },
    {
      "cell_type": "code",
      "source": [
        "df['Description'] = df['Description'].apply(lambda x: get_only_chars(x))"
      ],
      "metadata": {
        "id": "OuDZi8vXTkKf"
      },
      "execution_count": null,
      "outputs": []
    },
    {
      "cell_type": "code",
      "source": [
        "df['Tokenized']=[nltk.word_tokenize(i) for i in df['Description']]"
      ],
      "metadata": {
        "id": "iB0EJWU63XKZ"
      },
      "execution_count": null,
      "outputs": []
    },
    {
      "cell_type": "code",
      "source": [
        "df['pos_tagged'] = [nltk.pos_tag(i) for i in df['Tokenized']]"
      ],
      "metadata": {
        "id": "tcXSr0ye3b5G"
      },
      "execution_count": null,
      "outputs": []
    },
    {
      "cell_type": "code",
      "source": [
        "df['NN_tagged'] = df['pos_tagged'].apply(lambda item:[w for w,t in item if t=='NN'])"
      ],
      "metadata": {
        "id": "k8OsXCby3iwn"
      },
      "execution_count": null,
      "outputs": []
    },
    {
      "cell_type": "code",
      "source": [
        "df['NN_Description'] = df.NN_tagged.map(lambda x: ' '.join(x))"
      ],
      "metadata": {
        "id": "insbKP9b3nCp"
      },
      "execution_count": null,
      "outputs": []
    },
    {
      "cell_type": "code",
      "source": [
        "stop_words = stopwords.words('english')\n",
        "custom_stop_words = ['hi', 'since', 'please', 'best', 'regards', 'thank', 'thanks', 'hello', 'sent', 'great', 'dear', 'help', 'kind']\n",
        "time_words = ['january', 'february', 'march', 'april', 'may', 'june', 'july', 'august', 'september', 'october', 'november', 'december',\n",
        "              'monday', 'tuesday', 'wednesday', 'thursday', 'friday', 'saturday', 'sunday', 'today' , 'yesterday', 'tomorrow',\n",
        "              'hour', 'hours', 'time', 'times', 'timelines', 'date', 'day', 'days', 'am', 'pm', 'morning', 'noon', 'afternoon', 'evening',\n",
        "              'night', 'winter', 'summer', 'rain', 'cold']\n",
        "\n",
        "def remove_stop_words(text):\n",
        "    pattern = re.compile(r'\\b(' + r'|'.join(stop_words) + r')\\b\\s*')\n",
        "    text = pattern.sub('', text)\n",
        "    return text\n",
        "\n",
        "def remove_custom_words(text):\n",
        "    pattern = re.compile(r'\\b(' + r'|'.join(custom_stop_words) + r')\\b\\s*')\n",
        "    text = pattern.sub('', text)\n",
        "    return text\n",
        "\n",
        "def remove_time_words(text):\n",
        "    pattern = re.compile(r'\\b(' + r'|'.join(time_words) + r')\\b\\s*')\n",
        "    text = pattern.sub('', text)\n",
        "    return text\n",
        "\n",
        "df['NN_Description'] = df[\"NN_Description\"].map(lambda x: remove_stop_words(x))\n",
        "df['NN_Description'] = df[\"NN_Description\"].map(lambda x: remove_custom_words(x))\n",
        "df['NN_Description'] = df[\"NN_Description\"].map(lambda x: remove_time_words(x))"
      ],
      "metadata": {
        "id": "ZX8Uiht6ULEq"
      },
      "execution_count": null,
      "outputs": []
    },
    {
      "cell_type": "code",
      "source": [
        "LE = LabelEncoder()\n",
        "df['Label'] = LE.fit_transform(df['Category'])\n",
        "\n",
        "print(df)"
      ],
      "metadata": {
        "colab": {
          "base_uri": "https://localhost:8080/"
        },
        "id": "8asUEwKY2sK_",
        "outputId": "2a3e1202-d1fb-4409-d305-22b1c1d50883"
      },
      "execution_count": null,
      "outputs": [
        {
          "output_type": "stream",
          "name": "stdout",
          "text": [
            "                                            Description     Category  \\\n",
            "0     hi since recruiter lead permission approve req...  Application   \n",
            "1     re expire days hi ask help update passwords co...  Application   \n",
            "2     verification warning hi has got attached pleas...  Application   \n",
            "3     please dear looks blacklisted receiving mails ...  Application   \n",
            "4     dear modules report report cost thank much reg...  Application   \n",
            "...                                                 ...          ...   \n",
            "2995  sent tuesday feedback follow up conf call hell...     Database   \n",
            "2996  sent monday issues hi keep getting errors whil...     Database   \n",
            "2997  sent monday en working properly hi guys we hav...     Database   \n",
            "2998  sent wednesday july hi please log incident for...     Database   \n",
            "2999  sent tuesday july connection issues hello have...     Database   \n",
            "\n",
            "                                              Tokenized  \\\n",
            "0     [hi, since, recruiter, lead, permission, appro...   \n",
            "1     [re, expire, days, hi, ask, help, update, pass...   \n",
            "2     [verification, warning, hi, has, got, attached...   \n",
            "3     [please, dear, looks, blacklisted, receiving, ...   \n",
            "4     [dear, modules, report, report, cost, thank, m...   \n",
            "...                                                 ...   \n",
            "2995  [sent, tuesday, feedback, follow, up, conf, ca...   \n",
            "2996  [sent, monday, issues, hi, keep, getting, erro...   \n",
            "2997  [sent, monday, en, working, properly, hi, guys...   \n",
            "2998  [sent, wednesday, july, hi, please, log, incid...   \n",
            "2999  [sent, tuesday, july, connection, issues, hell...   \n",
            "\n",
            "                                             pos_tagged  \\\n",
            "0     [(hi, NN), (since, IN), (recruiter, NN), (lead...   \n",
            "1     [(re, NN), (expire, NN), (days, NNS), (hi, VBP...   \n",
            "2     [(verification, NN), (warning, VBG), (hi, NN),...   \n",
            "3     [(please, VB), (dear, JJ), (looks, NNS), (blac...   \n",
            "4     [(dear, JJ), (modules, NNS), (report, VB), (re...   \n",
            "...                                                 ...   \n",
            "2995  [(sent, NN), (tuesday, NN), (feedback, NN), (f...   \n",
            "2996  [(sent, NN), (monday, NN), (issues, NNS), (hi,...   \n",
            "2997  [(sent, NN), (monday, NN), (en, IN), (working,...   \n",
            "2998  [(sent, NN), (wednesday, NN), (july, NN), (hi,...   \n",
            "2999  [(sent, NN), (tuesday, NN), (july, JJ), (conne...   \n",
            "\n",
            "                                              NN_tagged  \\\n",
            "0                     [hi, recruiter, lead, permission]   \n",
            "1     [re, expire, help, expire, hi, expiration, ple...   \n",
            "2     [verification, hi, please, analyst, verification]   \n",
            "3                                      [kind, engineer]   \n",
            "4                                        [report, cost]   \n",
            "...                                                 ...   \n",
            "2995  [sent, tuesday, feedback, conf, call, hello, s...   \n",
            "2996                       [sent, monday, please, help]   \n",
            "2997  [sent, monday, number, meeting, room, dialer, ...   \n",
            "2998  [sent, wednesday, july, please, log, incident,...   \n",
            "2999  [sent, tuesday, connection, connection, client...   \n",
            "\n",
            "                                         NN_Description  Label  \n",
            "0                             recruiter lead permission      0  \n",
            "1     expire expire expiration prolongation expire o...      0  \n",
            "2                     verification analyst verification      0  \n",
            "3                                              engineer      0  \n",
            "4                                           report cost      0  \n",
            "...                                                 ...    ...  \n",
            "2995  feedback conf call setup meeting side meeting ...      1  \n",
            "2996                                                         1  \n",
            "2997  number meeting room dialer pad multiple access...      1  \n",
            "2998  log incident assistance mo el ticket con colom...      1  \n",
            "2999  connection connection client side link connect...      1  \n",
            "\n",
            "[3000 rows x 7 columns]\n"
          ]
        }
      ]
    },
    {
      "cell_type": "code",
      "source": [
        "df_0 = df.loc[(df['Label'] == 0)]\n",
        "df_1 = df.loc[(df['Label'] == 1)]\n",
        "df_2 = df.loc[(df['Label'] == 2)]\n",
        "df_3 = df.loc[(df['Label'] == 3)]\n",
        "df_4 = df.loc[(df['Label'] == 4)]"
      ],
      "metadata": {
        "id": "_BVhjjScbjlX"
      },
      "execution_count": null,
      "outputs": []
    },
    {
      "cell_type": "code",
      "source": [
        "# Instantiate (set n-word groupings hyperparameters to 2)\n",
        "kw_extractor = yake.KeywordExtractor(n=1)\n",
        "keywords = df_0['NN_Description'].apply(kw_extractor.extract_keywords)\n",
        "# Extract scores from the YAKE output\n",
        "text = []\n",
        "for list in keywords:\n",
        "    for component in list:\n",
        "        text.append(str(component[0]))\n",
        "\n",
        "# Bar plot - Create a dataframe of the most common 20 words\n",
        "common_words = pd.DataFrame(Counter(text).most_common(20))\n",
        "common_words.columns = ('Word', 'Count')\n",
        "keyword_0 = [common_words['Word'][0],common_words['Word'][1], common_words['Word'][2],common_words['Word'][3],common_words['Word'][4]]\n",
        "keyword_0\n",
        "# Plot a bar chart of the most common 20 words\n",
        "#sns.set(font_scale = 1.5)\n",
        "#sns.barplot(x= common_words['Word'], y=common_words['Count'])\n",
        "#plt.xticks(rotation='vertical')\n",
        "#plt.title(\"Key Word Count\", fontsize = 20)\n",
        "#plt.show()"
      ],
      "metadata": {
        "colab": {
          "base_uri": "https://localhost:8080/"
        },
        "id": "S_j20wRKcfUY",
        "outputId": "5d03ff8d-91e9-4366-a1ee-a6068e605407"
      },
      "execution_count": null,
      "outputs": [
        {
          "output_type": "execute_result",
          "data": {
            "text/plain": [
              "['engineer', 'information', 'officer', 'change', 'analyst']"
            ]
          },
          "metadata": {},
          "execution_count": 13
        }
      ]
    },
    {
      "cell_type": "code",
      "source": [
        "# Instantiate (set n-word groupings hyperparameters to 2)\n",
        "kw_extractor = yake.KeywordExtractor(n=1)\n",
        "keywords = df_1['NN_Description'].apply(kw_extractor.extract_keywords)\n",
        "# Extract scores from the YAKE output\n",
        "text = []\n",
        "for list in keywords:\n",
        "    for component in list:\n",
        "        text.append(str(component[0]))\n",
        "\n",
        "# Bar plot - Create a dataframe of the most common 20 words\n",
        "common_words = pd.DataFrame(Counter(text).most_common(20))\n",
        "common_words.columns = ('Word', 'Count')\n",
        "keyword_1 = [common_words['Word'][0],common_words['Word'][1], common_words['Word'][2],common_words['Word'][3],common_words['Word'][4]]\n",
        "keyword_1\n",
        "# Plot a bar chart of the most common 20 words\n",
        "#sns.set(font_scale = 1.5)\n",
        "#sns.barplot(x= common_words['Word'], y=common_words['Count'])\n",
        "#plt.xticks(rotation='vertical')\n",
        "#plt.title(\"Key Word Count\", fontsize = 20)\n",
        "#plt.show()"
      ],
      "metadata": {
        "colab": {
          "base_uri": "https://localhost:8080/"
        },
        "id": "jopJLRXGbe8I",
        "outputId": "fb11cc55-5b52-40f5-c874-b71d02aa4b24"
      },
      "execution_count": null,
      "outputs": [
        {
          "output_type": "execute_result",
          "data": {
            "text/plain": [
              "['log', 'order', 'administrator', 'purchase', 'allocation']"
            ]
          },
          "metadata": {},
          "execution_count": 14
        }
      ]
    },
    {
      "cell_type": "code",
      "source": [
        "# Instantiate (set n-word groupings hyperparameters to 2)\n",
        "kw_extractor = yake.KeywordExtractor(n=1)\n",
        "keywords = df_2['NN_Description'].apply(kw_extractor.extract_keywords)\n",
        "# Extract scores from the YAKE output\n",
        "text = []\n",
        "for list in keywords:\n",
        "    for component in list:\n",
        "        text.append(str(component[0]))\n",
        "\n",
        "# Bar plot - Create a dataframe of the most common 20 words\n",
        "common_words = pd.DataFrame(Counter(text).most_common(20))\n",
        "common_words.columns = ('Word', 'Count')\n",
        "keyword_2 = [common_words['Word'][0],common_words['Word'][1], common_words['Word'][2],common_words['Word'][3],common_words['Word'][4]]\n",
        "keyword_2\n",
        "# Plot a bar chart of the most common 20 words\n",
        "#sns.set(font_scale = 1.5)\n",
        "#sns.barplot(x= common_words['Word'], y=common_words['Count'])\n",
        "#plt.xticks(rotation='vertical')\n",
        "#plt.title(\"Key Word Count\", fontsize = 20)\n",
        "#plt.show()"
      ],
      "metadata": {
        "colab": {
          "base_uri": "https://localhost:8080/"
        },
        "id": "ccbUvuvPck8V",
        "outputId": "7151a481-5800-4ca6-ac95-a1214a74cb51"
      },
      "execution_count": null,
      "outputs": [
        {
          "output_type": "execute_result",
          "data": {
            "text/plain": [
              "['engineer', 'issue', 'access', 'client', 'machine']"
            ]
          },
          "metadata": {},
          "execution_count": 15
        }
      ]
    },
    {
      "cell_type": "code",
      "source": [
        "# Instantiate (set n-word groupings hyperparameters to 2)\n",
        "kw_extractor = yake.KeywordExtractor(n=1)\n",
        "keywords = df_3['NN_Description'].apply(kw_extractor.extract_keywords)\n",
        "# Extract scores from the YAKE output\n",
        "text = []\n",
        "for list in keywords:\n",
        "    for component in list:\n",
        "        text.append(str(component[0]))\n",
        "\n",
        "# Bar plot - Create a dataframe of the most common 20 words\n",
        "common_words = pd.DataFrame(Counter(text).most_common(20))\n",
        "common_words.columns = ('Word', 'Count')\n",
        "keyword_3 = [common_words['Word'][0],common_words['Word'][1], common_words['Word'][2],common_words['Word'][3],common_words['Word'][4]]\n",
        "keyword_3\n",
        "# Plot a bar chart of the most common 20 words\n",
        "#sns.set(font_scale = 1.5)\n",
        "#sns.barplot(x= common_words['Word'], y=common_words['Count'])\n",
        "#plt.xticks(rotation='vertical')\n",
        "#plt.title(\"Key Word Count\", fontsize = 20)\n",
        "#plt.show()"
      ],
      "metadata": {
        "colab": {
          "base_uri": "https://localhost:8080/"
        },
        "id": "8BIKCviXcoFl",
        "outputId": "a80f654d-c8cf-4a3d-9306-59d0d4fce940"
      },
      "execution_count": null,
      "outputs": [
        {
          "output_type": "execute_result",
          "data": {
            "text/plain": [
              "['card', 'access', 'manager', 'floor', 'badge']"
            ]
          },
          "metadata": {},
          "execution_count": 16
        }
      ]
    },
    {
      "cell_type": "code",
      "source": [
        "# Instantiate (set n-word groupings hyperparameters to 2)\n",
        "kw_extractor = yake.KeywordExtractor(n=1)\n",
        "keywords = df_4['NN_Description'].apply(kw_extractor.extract_keywords)\n",
        "# Extract scores from the YAKE output\n",
        "text = []\n",
        "for list in keywords:\n",
        "    for component in list:\n",
        "        text.append(str(component[0]))\n",
        "\n",
        "# Bar plot - Create a dataframe of the most common 20 words\n",
        "common_words = pd.DataFrame(Counter(text).most_common(20))\n",
        "common_words.columns = ('Word', 'Count')\n",
        "keyword_4 = [common_words['Word'][0],common_words['Word'][1], common_words['Word'][2],common_words['Word'][3],common_words['Word'][4]]\n",
        "keyword_4\n",
        "# Plot a bar chart of the most common 20 words\n",
        "#sns.set(font_scale = 1.5)\n",
        "#sns.barplot(x= common_words['Word'], y=common_words['Count'])\n",
        "#plt.xticks(rotation='vertical')\n",
        "#plt.title(\"Key Word Count\", fontsize = 20)\n",
        "#plt.show()"
      ],
      "metadata": {
        "colab": {
          "base_uri": "https://localhost:8080/"
        },
        "id": "aIYkSC2HcsWG",
        "outputId": "59976b14-17a1-43e3-f7de-19f0eb3c7b78"
      },
      "execution_count": null,
      "outputs": [
        {
          "output_type": "execute_result",
          "data": {
            "text/plain": [
              "['card', 'officer', 'area', 'floor', 'visitor']"
            ]
          },
          "metadata": {},
          "execution_count": 17
        }
      ]
    },
    {
      "cell_type": "code",
      "source": [
        "topics = [keyword_0,keyword_1,keyword_2,keyword_3,keyword_4]"
      ],
      "metadata": {
        "id": "ApGqPtmX3qeN"
      },
      "execution_count": null,
      "outputs": []
    },
    {
      "cell_type": "code",
      "source": [
        "def WordnetShortestPath_labelscore(a):\n",
        "  lowest_netavg=100\n",
        "  lowest_label=0\n",
        "  label=-1\n",
        "  #print(a)\n",
        "  words = nltk.word_tokenize(a)\n",
        "  for z in topics:\n",
        "    total=0\n",
        "    counter=0\n",
        "    #print(z)\n",
        "    for x in z:\n",
        "      count=0\n",
        "      avg=0\n",
        "      sum=0\n",
        "      for y in words:\n",
        "        if(wordnet.synsets(x) and wordnet.synsets(y)):\n",
        "          syn1 = wordnet.synsets(x)[0]\n",
        "          syn2 = wordnet.synsets(y)[0]\n",
        "          if(syn1.pos() == 'n' and syn2.pos() == 'n'):\n",
        "            #print(\"Shortest path between \",x,\" and \",y,\" is: \", syn1.shortest_path_distance(syn2))\n",
        "            sum=sum+syn1.shortest_path_distance(syn2)\n",
        "            count=count+1\n",
        "      if(count==0):\n",
        "        avg=0\n",
        "      else:\n",
        "        avg=sum/count\n",
        "      total=total+avg\n",
        "      counter=counter+1\n",
        "      #print(sum)\n",
        "      #print(count)\n",
        "      #print(avg)\n",
        "    if(counter==0):\n",
        "      netavg=0\n",
        "    else:\n",
        "      netavg=total/counter\n",
        "    #print(counter)\n",
        "    #print(\"Total score for \",z,\" is: \",total)\n",
        "    #print(\"Net average for \",z,\" is: \",netavg)\n",
        "    label=label+1\n",
        "    if(netavg<lowest_netavg):\n",
        "      lowest_netavg=netavg\n",
        "      lowest_label=label\n",
        "      #print(\"label: \",label,\" has shortest path value: \",lowest_netavg)\n",
        "  return lowest_label,lowest_netavg"
      ],
      "metadata": {
        "id": "saMjRxel4BqY"
      },
      "execution_count": null,
      "outputs": []
    },
    {
      "cell_type": "code",
      "source": [
        "df[ [\"WSP_Label\",\"WSP_Value\"] ] = df[\"Description\"].apply(WordnetShortestPath_labelscore).apply(pd.Series)"
      ],
      "metadata": {
        "id": "6M2TqlgT5Xzw"
      },
      "execution_count": null,
      "outputs": []
    },
    {
      "cell_type": "code",
      "source": [
        "df[ [\"NN_WSP_Label\",\"NN_WSP_Value\"] ] = df[\"NN_Description\"].apply(WordnetShortestPath_labelscore).apply(pd.Series)"
      ],
      "metadata": {
        "id": "EKChDTYTKgtg"
      },
      "execution_count": null,
      "outputs": []
    },
    {
      "cell_type": "code",
      "source": [
        "df[\"WSP_Label\"] = df[\"WSP_Label\"].astype(int)"
      ],
      "metadata": {
        "id": "2J8jXVYc_sZq"
      },
      "execution_count": null,
      "outputs": []
    },
    {
      "cell_type": "code",
      "source": [
        "df[\"NN_WSP_Label\"] = df[\"NN_WSP_Label\"].astype(int)"
      ],
      "metadata": {
        "id": "j5xhTY1SKcTi"
      },
      "execution_count": null,
      "outputs": []
    },
    {
      "cell_type": "code",
      "source": [
        "df"
      ],
      "metadata": {
        "id": "jEimst_yD7KG",
        "colab": {
          "base_uri": "https://localhost:8080/",
          "height": 1000
        },
        "outputId": "45c2be99-ed4d-4c5c-be11-1bef86b69202"
      },
      "execution_count": null,
      "outputs": [
        {
          "output_type": "execute_result",
          "data": {
            "text/plain": [
              "                                            Description     Category  \\\n",
              "0     hi since recruiter lead permission approve req...  Application   \n",
              "1     re expire days hi ask help update passwords co...  Application   \n",
              "2     verification warning hi has got attached pleas...  Application   \n",
              "3     please dear looks blacklisted receiving mails ...  Application   \n",
              "4     dear modules report report cost thank much reg...  Application   \n",
              "...                                                 ...          ...   \n",
              "2995  sent tuesday feedback follow up conf call hell...     Database   \n",
              "2996  sent monday issues hi keep getting errors whil...     Database   \n",
              "2997  sent monday en working properly hi guys we hav...     Database   \n",
              "2998  sent wednesday july hi please log incident for...     Database   \n",
              "2999  sent tuesday july connection issues hello have...     Database   \n",
              "\n",
              "                                              Tokenized  \\\n",
              "0     [hi, since, recruiter, lead, permission, appro...   \n",
              "1     [re, expire, days, hi, ask, help, update, pass...   \n",
              "2     [verification, warning, hi, has, got, attached...   \n",
              "3     [please, dear, looks, blacklisted, receiving, ...   \n",
              "4     [dear, modules, report, report, cost, thank, m...   \n",
              "...                                                 ...   \n",
              "2995  [sent, tuesday, feedback, follow, up, conf, ca...   \n",
              "2996  [sent, monday, issues, hi, keep, getting, erro...   \n",
              "2997  [sent, monday, en, working, properly, hi, guys...   \n",
              "2998  [sent, wednesday, july, hi, please, log, incid...   \n",
              "2999  [sent, tuesday, july, connection, issues, hell...   \n",
              "\n",
              "                                             pos_tagged  \\\n",
              "0     [(hi, NN), (since, IN), (recruiter, NN), (lead...   \n",
              "1     [(re, NN), (expire, NN), (days, NNS), (hi, VBP...   \n",
              "2     [(verification, NN), (warning, VBG), (hi, NN),...   \n",
              "3     [(please, VB), (dear, JJ), (looks, NNS), (blac...   \n",
              "4     [(dear, JJ), (modules, NNS), (report, VB), (re...   \n",
              "...                                                 ...   \n",
              "2995  [(sent, NN), (tuesday, NN), (feedback, NN), (f...   \n",
              "2996  [(sent, NN), (monday, NN), (issues, NNS), (hi,...   \n",
              "2997  [(sent, NN), (monday, NN), (en, IN), (working,...   \n",
              "2998  [(sent, NN), (wednesday, NN), (july, NN), (hi,...   \n",
              "2999  [(sent, NN), (tuesday, NN), (july, JJ), (conne...   \n",
              "\n",
              "                                              NN_tagged  \\\n",
              "0                     [hi, recruiter, lead, permission]   \n",
              "1     [re, expire, help, expire, hi, expiration, ple...   \n",
              "2     [verification, hi, please, analyst, verification]   \n",
              "3                                      [kind, engineer]   \n",
              "4                                        [report, cost]   \n",
              "...                                                 ...   \n",
              "2995  [sent, tuesday, feedback, conf, call, hello, s...   \n",
              "2996                       [sent, monday, please, help]   \n",
              "2997  [sent, monday, number, meeting, room, dialer, ...   \n",
              "2998  [sent, wednesday, july, please, log, incident,...   \n",
              "2999  [sent, tuesday, connection, connection, client...   \n",
              "\n",
              "                                         NN_Description  Label  WSP_Label  \\\n",
              "0                             recruiter lead permission      0          0   \n",
              "1     expire expire expiration prolongation expire o...      0          0   \n",
              "2                     verification analyst verification      0          0   \n",
              "3                                              engineer      0          0   \n",
              "4                                           report cost      0          0   \n",
              "...                                                 ...    ...        ...   \n",
              "2995  feedback conf call setup meeting side meeting ...      1          0   \n",
              "2996                                                         1          0   \n",
              "2997  number meeting room dialer pad multiple access...      1          0   \n",
              "2998  log incident assistance mo el ticket con colom...      1          0   \n",
              "2999  connection connection client side link connect...      1          0   \n",
              "\n",
              "      WSP_Value  NN_WSP_Label  NN_WSP_Value  \n",
              "0      9.800000             0      9.000000  \n",
              "1      9.301235             0      9.208696  \n",
              "2     10.290909             0      9.066667  \n",
              "3      8.844444             0      5.000000  \n",
              "4      9.285714             0     10.000000  \n",
              "...         ...           ...           ...  \n",
              "2995  10.200000             0      9.896296  \n",
              "2996   9.938462             0      0.000000  \n",
              "2997   9.823729             0      9.600000  \n",
              "2998  10.082540             0      9.410345  \n",
              "2999   9.210811             0      8.693333  \n",
              "\n",
              "[3000 rows x 11 columns]"
            ],
            "text/html": [
              "\n",
              "  <div id=\"df-41ae0650-3594-46ed-81a1-eb01128e05f6\" class=\"colab-df-container\">\n",
              "    <div>\n",
              "<style scoped>\n",
              "    .dataframe tbody tr th:only-of-type {\n",
              "        vertical-align: middle;\n",
              "    }\n",
              "\n",
              "    .dataframe tbody tr th {\n",
              "        vertical-align: top;\n",
              "    }\n",
              "\n",
              "    .dataframe thead th {\n",
              "        text-align: right;\n",
              "    }\n",
              "</style>\n",
              "<table border=\"1\" class=\"dataframe\">\n",
              "  <thead>\n",
              "    <tr style=\"text-align: right;\">\n",
              "      <th></th>\n",
              "      <th>Description</th>\n",
              "      <th>Category</th>\n",
              "      <th>Tokenized</th>\n",
              "      <th>pos_tagged</th>\n",
              "      <th>NN_tagged</th>\n",
              "      <th>NN_Description</th>\n",
              "      <th>Label</th>\n",
              "      <th>WSP_Label</th>\n",
              "      <th>WSP_Value</th>\n",
              "      <th>NN_WSP_Label</th>\n",
              "      <th>NN_WSP_Value</th>\n",
              "    </tr>\n",
              "  </thead>\n",
              "  <tbody>\n",
              "    <tr>\n",
              "      <th>0</th>\n",
              "      <td>hi since recruiter lead permission approve req...</td>\n",
              "      <td>Application</td>\n",
              "      <td>[hi, since, recruiter, lead, permission, appro...</td>\n",
              "      <td>[(hi, NN), (since, IN), (recruiter, NN), (lead...</td>\n",
              "      <td>[hi, recruiter, lead, permission]</td>\n",
              "      <td>recruiter lead permission</td>\n",
              "      <td>0</td>\n",
              "      <td>0</td>\n",
              "      <td>9.800000</td>\n",
              "      <td>0</td>\n",
              "      <td>9.000000</td>\n",
              "    </tr>\n",
              "    <tr>\n",
              "      <th>1</th>\n",
              "      <td>re expire days hi ask help update passwords co...</td>\n",
              "      <td>Application</td>\n",
              "      <td>[re, expire, days, hi, ask, help, update, pass...</td>\n",
              "      <td>[(re, NN), (expire, NN), (days, NNS), (hi, VBP...</td>\n",
              "      <td>[re, expire, help, expire, hi, expiration, ple...</td>\n",
              "      <td>expire expire expiration prolongation expire o...</td>\n",
              "      <td>0</td>\n",
              "      <td>0</td>\n",
              "      <td>9.301235</td>\n",
              "      <td>0</td>\n",
              "      <td>9.208696</td>\n",
              "    </tr>\n",
              "    <tr>\n",
              "      <th>2</th>\n",
              "      <td>verification warning hi has got attached pleas...</td>\n",
              "      <td>Application</td>\n",
              "      <td>[verification, warning, hi, has, got, attached...</td>\n",
              "      <td>[(verification, NN), (warning, VBG), (hi, NN),...</td>\n",
              "      <td>[verification, hi, please, analyst, verification]</td>\n",
              "      <td>verification analyst verification</td>\n",
              "      <td>0</td>\n",
              "      <td>0</td>\n",
              "      <td>10.290909</td>\n",
              "      <td>0</td>\n",
              "      <td>9.066667</td>\n",
              "    </tr>\n",
              "    <tr>\n",
              "      <th>3</th>\n",
              "      <td>please dear looks blacklisted receiving mails ...</td>\n",
              "      <td>Application</td>\n",
              "      <td>[please, dear, looks, blacklisted, receiving, ...</td>\n",
              "      <td>[(please, VB), (dear, JJ), (looks, NNS), (blac...</td>\n",
              "      <td>[kind, engineer]</td>\n",
              "      <td>engineer</td>\n",
              "      <td>0</td>\n",
              "      <td>0</td>\n",
              "      <td>8.844444</td>\n",
              "      <td>0</td>\n",
              "      <td>5.000000</td>\n",
              "    </tr>\n",
              "    <tr>\n",
              "      <th>4</th>\n",
              "      <td>dear modules report report cost thank much reg...</td>\n",
              "      <td>Application</td>\n",
              "      <td>[dear, modules, report, report, cost, thank, m...</td>\n",
              "      <td>[(dear, JJ), (modules, NNS), (report, VB), (re...</td>\n",
              "      <td>[report, cost]</td>\n",
              "      <td>report cost</td>\n",
              "      <td>0</td>\n",
              "      <td>0</td>\n",
              "      <td>9.285714</td>\n",
              "      <td>0</td>\n",
              "      <td>10.000000</td>\n",
              "    </tr>\n",
              "    <tr>\n",
              "      <th>...</th>\n",
              "      <td>...</td>\n",
              "      <td>...</td>\n",
              "      <td>...</td>\n",
              "      <td>...</td>\n",
              "      <td>...</td>\n",
              "      <td>...</td>\n",
              "      <td>...</td>\n",
              "      <td>...</td>\n",
              "      <td>...</td>\n",
              "      <td>...</td>\n",
              "      <td>...</td>\n",
              "    </tr>\n",
              "    <tr>\n",
              "      <th>2995</th>\n",
              "      <td>sent tuesday feedback follow up conf call hell...</td>\n",
              "      <td>Database</td>\n",
              "      <td>[sent, tuesday, feedback, follow, up, conf, ca...</td>\n",
              "      <td>[(sent, NN), (tuesday, NN), (feedback, NN), (f...</td>\n",
              "      <td>[sent, tuesday, feedback, conf, call, hello, s...</td>\n",
              "      <td>feedback conf call setup meeting side meeting ...</td>\n",
              "      <td>1</td>\n",
              "      <td>0</td>\n",
              "      <td>10.200000</td>\n",
              "      <td>0</td>\n",
              "      <td>9.896296</td>\n",
              "    </tr>\n",
              "    <tr>\n",
              "      <th>2996</th>\n",
              "      <td>sent monday issues hi keep getting errors whil...</td>\n",
              "      <td>Database</td>\n",
              "      <td>[sent, monday, issues, hi, keep, getting, erro...</td>\n",
              "      <td>[(sent, NN), (monday, NN), (issues, NNS), (hi,...</td>\n",
              "      <td>[sent, monday, please, help]</td>\n",
              "      <td></td>\n",
              "      <td>1</td>\n",
              "      <td>0</td>\n",
              "      <td>9.938462</td>\n",
              "      <td>0</td>\n",
              "      <td>0.000000</td>\n",
              "    </tr>\n",
              "    <tr>\n",
              "      <th>2997</th>\n",
              "      <td>sent monday en working properly hi guys we hav...</td>\n",
              "      <td>Database</td>\n",
              "      <td>[sent, monday, en, working, properly, hi, guys...</td>\n",
              "      <td>[(sent, NN), (monday, NN), (en, IN), (working,...</td>\n",
              "      <td>[sent, monday, number, meeting, room, dialer, ...</td>\n",
              "      <td>number meeting room dialer pad multiple access...</td>\n",
              "      <td>1</td>\n",
              "      <td>0</td>\n",
              "      <td>9.823729</td>\n",
              "      <td>0</td>\n",
              "      <td>9.600000</td>\n",
              "    </tr>\n",
              "    <tr>\n",
              "      <th>2998</th>\n",
              "      <td>sent wednesday july hi please log incident for...</td>\n",
              "      <td>Database</td>\n",
              "      <td>[sent, wednesday, july, hi, please, log, incid...</td>\n",
              "      <td>[(sent, NN), (wednesday, NN), (july, NN), (hi,...</td>\n",
              "      <td>[sent, wednesday, july, please, log, incident,...</td>\n",
              "      <td>log incident assistance mo el ticket con colom...</td>\n",
              "      <td>1</td>\n",
              "      <td>0</td>\n",
              "      <td>10.082540</td>\n",
              "      <td>0</td>\n",
              "      <td>9.410345</td>\n",
              "    </tr>\n",
              "    <tr>\n",
              "      <th>2999</th>\n",
              "      <td>sent tuesday july connection issues hello have...</td>\n",
              "      <td>Database</td>\n",
              "      <td>[sent, tuesday, july, connection, issues, hell...</td>\n",
              "      <td>[(sent, NN), (tuesday, NN), (july, JJ), (conne...</td>\n",
              "      <td>[sent, tuesday, connection, connection, client...</td>\n",
              "      <td>connection connection client side link connect...</td>\n",
              "      <td>1</td>\n",
              "      <td>0</td>\n",
              "      <td>9.210811</td>\n",
              "      <td>0</td>\n",
              "      <td>8.693333</td>\n",
              "    </tr>\n",
              "  </tbody>\n",
              "</table>\n",
              "<p>3000 rows × 11 columns</p>\n",
              "</div>\n",
              "    <div class=\"colab-df-buttons\">\n",
              "\n",
              "  <div class=\"colab-df-container\">\n",
              "    <button class=\"colab-df-convert\" onclick=\"convertToInteractive('df-41ae0650-3594-46ed-81a1-eb01128e05f6')\"\n",
              "            title=\"Convert this dataframe to an interactive table.\"\n",
              "            style=\"display:none;\">\n",
              "\n",
              "  <svg xmlns=\"http://www.w3.org/2000/svg\" height=\"24px\" viewBox=\"0 -960 960 960\">\n",
              "    <path d=\"M120-120v-720h720v720H120Zm60-500h600v-160H180v160Zm220 220h160v-160H400v160Zm0 220h160v-160H400v160ZM180-400h160v-160H180v160Zm440 0h160v-160H620v160ZM180-180h160v-160H180v160Zm440 0h160v-160H620v160Z\"/>\n",
              "  </svg>\n",
              "    </button>\n",
              "\n",
              "  <style>\n",
              "    .colab-df-container {\n",
              "      display:flex;\n",
              "      gap: 12px;\n",
              "    }\n",
              "\n",
              "    .colab-df-convert {\n",
              "      background-color: #E8F0FE;\n",
              "      border: none;\n",
              "      border-radius: 50%;\n",
              "      cursor: pointer;\n",
              "      display: none;\n",
              "      fill: #1967D2;\n",
              "      height: 32px;\n",
              "      padding: 0 0 0 0;\n",
              "      width: 32px;\n",
              "    }\n",
              "\n",
              "    .colab-df-convert:hover {\n",
              "      background-color: #E2EBFA;\n",
              "      box-shadow: 0px 1px 2px rgba(60, 64, 67, 0.3), 0px 1px 3px 1px rgba(60, 64, 67, 0.15);\n",
              "      fill: #174EA6;\n",
              "    }\n",
              "\n",
              "    .colab-df-buttons div {\n",
              "      margin-bottom: 4px;\n",
              "    }\n",
              "\n",
              "    [theme=dark] .colab-df-convert {\n",
              "      background-color: #3B4455;\n",
              "      fill: #D2E3FC;\n",
              "    }\n",
              "\n",
              "    [theme=dark] .colab-df-convert:hover {\n",
              "      background-color: #434B5C;\n",
              "      box-shadow: 0px 1px 3px 1px rgba(0, 0, 0, 0.15);\n",
              "      filter: drop-shadow(0px 1px 2px rgba(0, 0, 0, 0.3));\n",
              "      fill: #FFFFFF;\n",
              "    }\n",
              "  </style>\n",
              "\n",
              "    <script>\n",
              "      const buttonEl =\n",
              "        document.querySelector('#df-41ae0650-3594-46ed-81a1-eb01128e05f6 button.colab-df-convert');\n",
              "      buttonEl.style.display =\n",
              "        google.colab.kernel.accessAllowed ? 'block' : 'none';\n",
              "\n",
              "      async function convertToInteractive(key) {\n",
              "        const element = document.querySelector('#df-41ae0650-3594-46ed-81a1-eb01128e05f6');\n",
              "        const dataTable =\n",
              "          await google.colab.kernel.invokeFunction('convertToInteractive',\n",
              "                                                    [key], {});\n",
              "        if (!dataTable) return;\n",
              "\n",
              "        const docLinkHtml = 'Like what you see? Visit the ' +\n",
              "          '<a target=\"_blank\" href=https://colab.research.google.com/notebooks/data_table.ipynb>data table notebook</a>'\n",
              "          + ' to learn more about interactive tables.';\n",
              "        element.innerHTML = '';\n",
              "        dataTable['output_type'] = 'display_data';\n",
              "        await google.colab.output.renderOutput(dataTable, element);\n",
              "        const docLink = document.createElement('div');\n",
              "        docLink.innerHTML = docLinkHtml;\n",
              "        element.appendChild(docLink);\n",
              "      }\n",
              "    </script>\n",
              "  </div>\n",
              "\n",
              "\n",
              "<div id=\"df-5a07f617-ed32-4b5f-9afb-d3bd0cc93478\">\n",
              "  <button class=\"colab-df-quickchart\" onclick=\"quickchart('df-5a07f617-ed32-4b5f-9afb-d3bd0cc93478')\"\n",
              "            title=\"Suggest charts\"\n",
              "            style=\"display:none;\">\n",
              "\n",
              "<svg xmlns=\"http://www.w3.org/2000/svg\" height=\"24px\"viewBox=\"0 0 24 24\"\n",
              "     width=\"24px\">\n",
              "    <g>\n",
              "        <path d=\"M19 3H5c-1.1 0-2 .9-2 2v14c0 1.1.9 2 2 2h14c1.1 0 2-.9 2-2V5c0-1.1-.9-2-2-2zM9 17H7v-7h2v7zm4 0h-2V7h2v10zm4 0h-2v-4h2v4z\"/>\n",
              "    </g>\n",
              "</svg>\n",
              "  </button>\n",
              "\n",
              "<style>\n",
              "  .colab-df-quickchart {\n",
              "      --bg-color: #E8F0FE;\n",
              "      --fill-color: #1967D2;\n",
              "      --hover-bg-color: #E2EBFA;\n",
              "      --hover-fill-color: #174EA6;\n",
              "      --disabled-fill-color: #AAA;\n",
              "      --disabled-bg-color: #DDD;\n",
              "  }\n",
              "\n",
              "  [theme=dark] .colab-df-quickchart {\n",
              "      --bg-color: #3B4455;\n",
              "      --fill-color: #D2E3FC;\n",
              "      --hover-bg-color: #434B5C;\n",
              "      --hover-fill-color: #FFFFFF;\n",
              "      --disabled-bg-color: #3B4455;\n",
              "      --disabled-fill-color: #666;\n",
              "  }\n",
              "\n",
              "  .colab-df-quickchart {\n",
              "    background-color: var(--bg-color);\n",
              "    border: none;\n",
              "    border-radius: 50%;\n",
              "    cursor: pointer;\n",
              "    display: none;\n",
              "    fill: var(--fill-color);\n",
              "    height: 32px;\n",
              "    padding: 0;\n",
              "    width: 32px;\n",
              "  }\n",
              "\n",
              "  .colab-df-quickchart:hover {\n",
              "    background-color: var(--hover-bg-color);\n",
              "    box-shadow: 0 1px 2px rgba(60, 64, 67, 0.3), 0 1px 3px 1px rgba(60, 64, 67, 0.15);\n",
              "    fill: var(--button-hover-fill-color);\n",
              "  }\n",
              "\n",
              "  .colab-df-quickchart-complete:disabled,\n",
              "  .colab-df-quickchart-complete:disabled:hover {\n",
              "    background-color: var(--disabled-bg-color);\n",
              "    fill: var(--disabled-fill-color);\n",
              "    box-shadow: none;\n",
              "  }\n",
              "\n",
              "  .colab-df-spinner {\n",
              "    border: 2px solid var(--fill-color);\n",
              "    border-color: transparent;\n",
              "    border-bottom-color: var(--fill-color);\n",
              "    animation:\n",
              "      spin 1s steps(1) infinite;\n",
              "  }\n",
              "\n",
              "  @keyframes spin {\n",
              "    0% {\n",
              "      border-color: transparent;\n",
              "      border-bottom-color: var(--fill-color);\n",
              "      border-left-color: var(--fill-color);\n",
              "    }\n",
              "    20% {\n",
              "      border-color: transparent;\n",
              "      border-left-color: var(--fill-color);\n",
              "      border-top-color: var(--fill-color);\n",
              "    }\n",
              "    30% {\n",
              "      border-color: transparent;\n",
              "      border-left-color: var(--fill-color);\n",
              "      border-top-color: var(--fill-color);\n",
              "      border-right-color: var(--fill-color);\n",
              "    }\n",
              "    40% {\n",
              "      border-color: transparent;\n",
              "      border-right-color: var(--fill-color);\n",
              "      border-top-color: var(--fill-color);\n",
              "    }\n",
              "    60% {\n",
              "      border-color: transparent;\n",
              "      border-right-color: var(--fill-color);\n",
              "    }\n",
              "    80% {\n",
              "      border-color: transparent;\n",
              "      border-right-color: var(--fill-color);\n",
              "      border-bottom-color: var(--fill-color);\n",
              "    }\n",
              "    90% {\n",
              "      border-color: transparent;\n",
              "      border-bottom-color: var(--fill-color);\n",
              "    }\n",
              "  }\n",
              "</style>\n",
              "\n",
              "  <script>\n",
              "    async function quickchart(key) {\n",
              "      const quickchartButtonEl =\n",
              "        document.querySelector('#' + key + ' button');\n",
              "      quickchartButtonEl.disabled = true;  // To prevent multiple clicks.\n",
              "      quickchartButtonEl.classList.add('colab-df-spinner');\n",
              "      try {\n",
              "        const charts = await google.colab.kernel.invokeFunction(\n",
              "            'suggestCharts', [key], {});\n",
              "      } catch (error) {\n",
              "        console.error('Error during call to suggestCharts:', error);\n",
              "      }\n",
              "      quickchartButtonEl.classList.remove('colab-df-spinner');\n",
              "      quickchartButtonEl.classList.add('colab-df-quickchart-complete');\n",
              "    }\n",
              "    (() => {\n",
              "      let quickchartButtonEl =\n",
              "        document.querySelector('#df-5a07f617-ed32-4b5f-9afb-d3bd0cc93478 button');\n",
              "      quickchartButtonEl.style.display =\n",
              "        google.colab.kernel.accessAllowed ? 'block' : 'none';\n",
              "    })();\n",
              "  </script>\n",
              "</div>\n",
              "    </div>\n",
              "  </div>\n"
            ],
            "application/vnd.google.colaboratory.intrinsic+json": {
              "type": "dataframe",
              "variable_name": "df",
              "summary": "{\n  \"name\": \"df\",\n  \"rows\": 3000,\n  \"fields\": [\n    {\n      \"column\": \"Description\",\n      \"properties\": {\n        \"dtype\": \"string\",\n        \"num_unique_values\": 3000,\n        \"samples\": [\n          \"friday november pm assistants please secure floor tower hi please securing floor tower secure area evening cob tuesday morning area needs secure also needs informing employees about changes restriction well meeting rooms bookings restriction thank help kind regards officer information\",\n          \"pm hi joined fast followings visual studio provide other information please let thank best regards\",\n          \"card leaver la va ca defect\"\n        ],\n        \"semantic_type\": \"\",\n        \"description\": \"\"\n      }\n    },\n    {\n      \"column\": \"Category\",\n      \"properties\": {\n        \"dtype\": \"category\",\n        \"num_unique_values\": 5,\n        \"samples\": [\n          \"Database\",\n          \"Security\",\n          \"Network\"\n        ],\n        \"semantic_type\": \"\",\n        \"description\": \"\"\n      }\n    },\n    {\n      \"column\": \"Tokenized\",\n      \"properties\": {\n        \"dtype\": \"object\",\n        \"semantic_type\": \"\",\n        \"description\": \"\"\n      }\n    },\n    {\n      \"column\": \"pos_tagged\",\n      \"properties\": {\n        \"dtype\": \"object\",\n        \"semantic_type\": \"\",\n        \"description\": \"\"\n      }\n    },\n    {\n      \"column\": \"NN_tagged\",\n      \"properties\": {\n        \"dtype\": \"object\",\n        \"semantic_type\": \"\",\n        \"description\": \"\"\n      }\n    },\n    {\n      \"column\": \"NN_Description\",\n      \"properties\": {\n        \"dtype\": \"string\",\n        \"num_unique_values\": 2720,\n        \"samples\": [\n          \"announce crap eon program si va ne interval care placer la cl rom confidentiality notice content communication information environment printing\",\n          \"analyst submit make side let\",\n          \"phone issue move phone press cable discovery discovery issue phone centimeter analyst\"\n        ],\n        \"semantic_type\": \"\",\n        \"description\": \"\"\n      }\n    },\n    {\n      \"column\": \"Label\",\n      \"properties\": {\n        \"dtype\": \"number\",\n        \"std\": 1,\n        \"min\": 0,\n        \"max\": 4,\n        \"num_unique_values\": 5,\n        \"samples\": [\n          1,\n          3,\n          2\n        ],\n        \"semantic_type\": \"\",\n        \"description\": \"\"\n      }\n    },\n    {\n      \"column\": \"WSP_Label\",\n      \"properties\": {\n        \"dtype\": \"number\",\n        \"std\": 0,\n        \"min\": 0,\n        \"max\": 4,\n        \"num_unique_values\": 4,\n        \"samples\": [\n          4,\n          1,\n          0\n        ],\n        \"semantic_type\": \"\",\n        \"description\": \"\"\n      }\n    },\n    {\n      \"column\": \"WSP_Value\",\n      \"properties\": {\n        \"dtype\": \"number\",\n        \"std\": 0.69427466463411,\n        \"min\": 0.0,\n        \"max\": 13.55,\n        \"num_unique_values\": 1849,\n        \"samples\": [\n          11.244444444444444,\n          9.123076923076923,\n          10.618181818181819\n        ],\n        \"semantic_type\": \"\",\n        \"description\": \"\"\n      }\n    },\n    {\n      \"column\": \"NN_WSP_Label\",\n      \"properties\": {\n        \"dtype\": \"number\",\n        \"std\": 1,\n        \"min\": 0,\n        \"max\": 4,\n        \"num_unique_values\": 5,\n        \"samples\": [\n          4,\n          3,\n          2\n        ],\n        \"semantic_type\": \"\",\n        \"description\": \"\"\n      }\n    },\n    {\n      \"column\": \"NN_WSP_Value\",\n      \"properties\": {\n        \"dtype\": \"number\",\n        \"std\": 1.9400058931907664,\n        \"min\": 0.0,\n        \"max\": 17.8,\n        \"num_unique_values\": 1122,\n        \"samples\": [\n          8.175,\n          9.780000000000001,\n          8.6\n        ],\n        \"semantic_type\": \"\",\n        \"description\": \"\"\n      }\n    }\n  ]\n}"
            }
          },
          "metadata": {},
          "execution_count": 24
        }
      ]
    },
    {
      "cell_type": "code",
      "source": [
        "df_0 = df.loc[(df['Label'] == 0)]\n",
        "df_1 = df.loc[(df['Label'] == 1)]\n",
        "df_2 = df.loc[(df['Label'] == 2)]\n",
        "df_3 = df.loc[(df['Label'] == 3)]\n",
        "df_4 = df.loc[(df['Label'] == 4)]"
      ],
      "metadata": {
        "id": "XA0xO0qMRpt7"
      },
      "execution_count": null,
      "outputs": []
    },
    {
      "cell_type": "code",
      "source": [
        "accuracy_score(df['Label'], df['WSP_Label'])"
      ],
      "metadata": {
        "id": "9V_5rDwzNbaQ",
        "colab": {
          "base_uri": "https://localhost:8080/"
        },
        "outputId": "1fded351-bbb7-44a5-e6c7-aecaaff53665"
      },
      "execution_count": null,
      "outputs": [
        {
          "output_type": "execute_result",
          "data": {
            "text/plain": [
              "0.22066666666666668"
            ]
          },
          "metadata": {},
          "execution_count": 26
        }
      ]
    },
    {
      "cell_type": "code",
      "source": [
        "accuracy_score(df['Label'], df['NN_WSP_Label'])"
      ],
      "metadata": {
        "colab": {
          "base_uri": "https://localhost:8080/"
        },
        "id": "u_71Z2CBKZ0o",
        "outputId": "911b4f73-e302-4311-fa8b-05b750081b61"
      },
      "execution_count": null,
      "outputs": [
        {
          "output_type": "execute_result",
          "data": {
            "text/plain": [
              "0.29333333333333333"
            ]
          },
          "metadata": {},
          "execution_count": 27
        }
      ]
    },
    {
      "cell_type": "code",
      "source": [
        "accuracy_score(df_0['Label'], df_0['WSP_Label'])"
      ],
      "metadata": {
        "id": "YD2qDzLLVSY2",
        "colab": {
          "base_uri": "https://localhost:8080/"
        },
        "outputId": "737bacb0-22e3-49ee-b066-87681d2bb7e3"
      },
      "execution_count": null,
      "outputs": [
        {
          "output_type": "execute_result",
          "data": {
            "text/plain": [
              "0.9766666666666667"
            ]
          },
          "metadata": {},
          "execution_count": 28
        }
      ]
    },
    {
      "cell_type": "code",
      "source": [
        "accuracy_score(df_0['Label'], df_0['NN_WSP_Label'])"
      ],
      "metadata": {
        "colab": {
          "base_uri": "https://localhost:8080/"
        },
        "id": "1_P_dtM6KNP3",
        "outputId": "68d0f99e-d382-4c18-acb3-113e89d116b0"
      },
      "execution_count": null,
      "outputs": [
        {
          "output_type": "execute_result",
          "data": {
            "text/plain": [
              "0.8883333333333333"
            ]
          },
          "metadata": {},
          "execution_count": 29
        }
      ]
    },
    {
      "cell_type": "code",
      "source": [
        "accuracy_score(df_1['Label'], df_1['WSP_Label'])"
      ],
      "metadata": {
        "id": "Way1SnfPVV_Z",
        "colab": {
          "base_uri": "https://localhost:8080/"
        },
        "outputId": "fe3f5b6b-2148-4744-f841-a98428679a87"
      },
      "execution_count": null,
      "outputs": [
        {
          "output_type": "execute_result",
          "data": {
            "text/plain": [
              "0.0"
            ]
          },
          "metadata": {},
          "execution_count": 30
        }
      ]
    },
    {
      "cell_type": "code",
      "source": [
        "accuracy_score(df_1['Label'], df_1['NN_WSP_Label'])"
      ],
      "metadata": {
        "colab": {
          "base_uri": "https://localhost:8080/"
        },
        "id": "a_wOc1n0KLSF",
        "outputId": "dd9846f8-7848-43c8-e849-91d8fcda6832"
      },
      "execution_count": null,
      "outputs": [
        {
          "output_type": "execute_result",
          "data": {
            "text/plain": [
              "0.02"
            ]
          },
          "metadata": {},
          "execution_count": 31
        }
      ]
    },
    {
      "cell_type": "code",
      "source": [
        "accuracy_score(df_2['Label'], df_2['WSP_Label'])"
      ],
      "metadata": {
        "id": "eU19PCTkVZiT",
        "colab": {
          "base_uri": "https://localhost:8080/"
        },
        "outputId": "27958a7e-ed90-4046-903a-49db50a04a38"
      },
      "execution_count": null,
      "outputs": [
        {
          "output_type": "execute_result",
          "data": {
            "text/plain": [
              "0.011666666666666667"
            ]
          },
          "metadata": {},
          "execution_count": 32
        }
      ]
    },
    {
      "cell_type": "code",
      "source": [
        "accuracy_score(df_2['Label'], df_2['NN_WSP_Label'])"
      ],
      "metadata": {
        "colab": {
          "base_uri": "https://localhost:8080/"
        },
        "id": "yajjHtAcKJE5",
        "outputId": "77e083fa-7fab-44cb-de32-9d51d7caeb21"
      },
      "execution_count": null,
      "outputs": [
        {
          "output_type": "execute_result",
          "data": {
            "text/plain": [
              "0.07"
            ]
          },
          "metadata": {},
          "execution_count": 33
        }
      ]
    },
    {
      "cell_type": "code",
      "source": [
        "accuracy_score(df_2['Label'], df_2['NN_WSP_Label'])"
      ],
      "metadata": {
        "colab": {
          "base_uri": "https://localhost:8080/"
        },
        "id": "cq59-W4pKHFm",
        "outputId": "5fdc031e-a30f-4b09-ab39-626de469f488"
      },
      "execution_count": null,
      "outputs": [
        {
          "output_type": "execute_result",
          "data": {
            "text/plain": [
              "0.07"
            ]
          },
          "metadata": {},
          "execution_count": 34
        }
      ]
    },
    {
      "cell_type": "code",
      "source": [
        "accuracy_score(df_3['Label'], df_3['WSP_Label'])"
      ],
      "metadata": {
        "id": "F1h0mXBvVaf8",
        "colab": {
          "base_uri": "https://localhost:8080/"
        },
        "outputId": "034c667f-749b-4808-d77d-51f5814bfc3d"
      },
      "execution_count": null,
      "outputs": [
        {
          "output_type": "execute_result",
          "data": {
            "text/plain": [
              "0.0"
            ]
          },
          "metadata": {},
          "execution_count": 35
        }
      ]
    },
    {
      "cell_type": "code",
      "source": [
        "accuracy_score(df_3['Label'], df_3['NN_WSP_Label'])"
      ],
      "metadata": {
        "colab": {
          "base_uri": "https://localhost:8080/"
        },
        "id": "x8E9FQRdKFIz",
        "outputId": "a6d10bbe-633c-4144-de27-63f428472d8d"
      },
      "execution_count": null,
      "outputs": [
        {
          "output_type": "execute_result",
          "data": {
            "text/plain": [
              "0.011666666666666667"
            ]
          },
          "metadata": {},
          "execution_count": 36
        }
      ]
    },
    {
      "cell_type": "code",
      "source": [
        "accuracy_score(df_4['Label'], df_4['WSP_Label'])"
      ],
      "metadata": {
        "id": "y7FS_gFEVel7",
        "colab": {
          "base_uri": "https://localhost:8080/"
        },
        "outputId": "2d6857db-74d4-4476-939f-5ec549fc461b"
      },
      "execution_count": null,
      "outputs": [
        {
          "output_type": "execute_result",
          "data": {
            "text/plain": [
              "0.115"
            ]
          },
          "metadata": {},
          "execution_count": 37
        }
      ]
    },
    {
      "cell_type": "code",
      "source": [
        "accuracy_score(df_4['Label'], df_4['NN_WSP_Label'])"
      ],
      "metadata": {
        "colab": {
          "base_uri": "https://localhost:8080/"
        },
        "id": "M_mzA9NZKDK3",
        "outputId": "14f595c6-ca03-43e6-c480-be3428530450"
      },
      "execution_count": null,
      "outputs": [
        {
          "output_type": "execute_result",
          "data": {
            "text/plain": [
              "0.4766666666666667"
            ]
          },
          "metadata": {},
          "execution_count": 38
        }
      ]
    },
    {
      "cell_type": "code",
      "source": [
        "def WordnetWUP_labelscore(a):\n",
        "  highest_netavg=0\n",
        "  highest_label=0\n",
        "  label=-1\n",
        "  #print(a)\n",
        "  words = nltk.word_tokenize(a)\n",
        "  for z in topics:\n",
        "    total=0\n",
        "    counter=0\n",
        "    #print(z)\n",
        "    for x in z:\n",
        "      count=0\n",
        "      avg=0\n",
        "      sum=0\n",
        "      for y in words:\n",
        "        if(wordnet.synsets(x) and wordnet.synsets(y)):\n",
        "          syn1 = wordnet.synsets(x)[0]\n",
        "          syn2 = wordnet.synsets(y)[0]\n",
        "          if(syn1.pos() == 'n' and syn2.pos() == 'n'):\n",
        "            #print(\"Shortest path between \",x,\" and \",y,\" is: \", syn1.wup_similarity(syn2))\n",
        "            sum=sum+syn1.wup_similarity(syn2)\n",
        "            count=count+1\n",
        "      if(count==0):\n",
        "        avg=0\n",
        "      else:\n",
        "        avg=sum/count\n",
        "      total=total+avg\n",
        "      counter=counter+1\n",
        "      #print(sum)\n",
        "      #print(count)\n",
        "      #print(avg)\n",
        "    if(counter==0):\n",
        "      netavg=0\n",
        "    else:\n",
        "      netavg=total/counter\n",
        "    #print(counter)\n",
        "    #print(\"Total score for \",z,\" is: \",total)\n",
        "    #print(\"Net average for \",z,\" is: \",netavg)\n",
        "    label=label+1\n",
        "    if(netavg>highest_netavg):\n",
        "      highest_netavg=netavg\n",
        "      highest_label=label\n",
        "      #print(\"label: \",label,\" has shortest path value: \",lowest_netavg)\n",
        "  return highest_label,highest_netavg"
      ],
      "metadata": {
        "id": "LihS7434Nqgl"
      },
      "execution_count": null,
      "outputs": []
    },
    {
      "cell_type": "code",
      "source": [
        "df[ [\"WUP_Label\",\"WUP_Value\"] ] = df[\"Description\"].apply(WordnetWUP_labelscore).apply(pd.Series)"
      ],
      "metadata": {
        "id": "0PvuT1OfOSSd"
      },
      "execution_count": null,
      "outputs": []
    },
    {
      "cell_type": "code",
      "source": [
        "df[ [\"NN_WUP_Label\",\"NN_WUP_Value\"] ] = df[\"NN_Description\"].apply(WordnetWUP_labelscore).apply(pd.Series)"
      ],
      "metadata": {
        "id": "w1SO5Xo_J9pC"
      },
      "execution_count": null,
      "outputs": []
    },
    {
      "cell_type": "code",
      "source": [
        "df[\"WUP_Label\"] = df[\"WUP_Label\"].astype(int)"
      ],
      "metadata": {
        "id": "EuBx1IgdRBCV"
      },
      "execution_count": null,
      "outputs": []
    },
    {
      "cell_type": "code",
      "source": [
        "df[\"NN_WUP_Label\"] = df[\"NN_WUP_Label\"].astype(int)"
      ],
      "metadata": {
        "id": "7Z-SXKQMJ6oi"
      },
      "execution_count": null,
      "outputs": []
    },
    {
      "cell_type": "code",
      "source": [
        "df"
      ],
      "metadata": {
        "id": "VEU-WoElRLS8",
        "colab": {
          "base_uri": "https://localhost:8080/",
          "height": 1000
        },
        "outputId": "a975de91-f02a-4954-d105-512d81db7717"
      },
      "execution_count": null,
      "outputs": [
        {
          "output_type": "execute_result",
          "data": {
            "text/plain": [
              "                                            Description     Category  \\\n",
              "0     hi since recruiter lead permission approve req...  Application   \n",
              "1     re expire days hi ask help update passwords co...  Application   \n",
              "2     verification warning hi has got attached pleas...  Application   \n",
              "3     please dear looks blacklisted receiving mails ...  Application   \n",
              "4     dear modules report report cost thank much reg...  Application   \n",
              "...                                                 ...          ...   \n",
              "2995  sent tuesday feedback follow up conf call hell...     Database   \n",
              "2996  sent monday issues hi keep getting errors whil...     Database   \n",
              "2997  sent monday en working properly hi guys we hav...     Database   \n",
              "2998  sent wednesday july hi please log incident for...     Database   \n",
              "2999  sent tuesday july connection issues hello have...     Database   \n",
              "\n",
              "                                              Tokenized  \\\n",
              "0     [hi, since, recruiter, lead, permission, appro...   \n",
              "1     [re, expire, days, hi, ask, help, update, pass...   \n",
              "2     [verification, warning, hi, has, got, attached...   \n",
              "3     [please, dear, looks, blacklisted, receiving, ...   \n",
              "4     [dear, modules, report, report, cost, thank, m...   \n",
              "...                                                 ...   \n",
              "2995  [sent, tuesday, feedback, follow, up, conf, ca...   \n",
              "2996  [sent, monday, issues, hi, keep, getting, erro...   \n",
              "2997  [sent, monday, en, working, properly, hi, guys...   \n",
              "2998  [sent, wednesday, july, hi, please, log, incid...   \n",
              "2999  [sent, tuesday, july, connection, issues, hell...   \n",
              "\n",
              "                                             pos_tagged  \\\n",
              "0     [(hi, NN), (since, IN), (recruiter, NN), (lead...   \n",
              "1     [(re, NN), (expire, NN), (days, NNS), (hi, VBP...   \n",
              "2     [(verification, NN), (warning, VBG), (hi, NN),...   \n",
              "3     [(please, VB), (dear, JJ), (looks, NNS), (blac...   \n",
              "4     [(dear, JJ), (modules, NNS), (report, VB), (re...   \n",
              "...                                                 ...   \n",
              "2995  [(sent, NN), (tuesday, NN), (feedback, NN), (f...   \n",
              "2996  [(sent, NN), (monday, NN), (issues, NNS), (hi,...   \n",
              "2997  [(sent, NN), (monday, NN), (en, IN), (working,...   \n",
              "2998  [(sent, NN), (wednesday, NN), (july, NN), (hi,...   \n",
              "2999  [(sent, NN), (tuesday, NN), (july, JJ), (conne...   \n",
              "\n",
              "                                              NN_tagged  \\\n",
              "0                     [hi, recruiter, lead, permission]   \n",
              "1     [re, expire, help, expire, hi, expiration, ple...   \n",
              "2     [verification, hi, please, analyst, verification]   \n",
              "3                                      [kind, engineer]   \n",
              "4                                        [report, cost]   \n",
              "...                                                 ...   \n",
              "2995  [sent, tuesday, feedback, conf, call, hello, s...   \n",
              "2996                       [sent, monday, please, help]   \n",
              "2997  [sent, monday, number, meeting, room, dialer, ...   \n",
              "2998  [sent, wednesday, july, please, log, incident,...   \n",
              "2999  [sent, tuesday, connection, connection, client...   \n",
              "\n",
              "                                         NN_Description  Label  WSP_Label  \\\n",
              "0                             recruiter lead permission      0          0   \n",
              "1     expire expire expiration prolongation expire o...      0          0   \n",
              "2                     verification analyst verification      0          0   \n",
              "3                                              engineer      0          0   \n",
              "4                                           report cost      0          0   \n",
              "...                                                 ...    ...        ...   \n",
              "2995  feedback conf call setup meeting side meeting ...      1          0   \n",
              "2996                                                         1          0   \n",
              "2997  number meeting room dialer pad multiple access...      1          0   \n",
              "2998  log incident assistance mo el ticket con colom...      1          0   \n",
              "2999  connection connection client side link connect...      1          0   \n",
              "\n",
              "      WSP_Value  NN_WSP_Label  NN_WSP_Value  WUP_Label  WUP_Value  \\\n",
              "0      9.800000             0      9.000000          0   0.293886   \n",
              "1      9.301235             0      9.208696          0   0.300035   \n",
              "2     10.290909             0      9.066667          1   0.302682   \n",
              "3      8.844444             0      5.000000          0   0.319823   \n",
              "4      9.285714             0     10.000000          1   0.276387   \n",
              "...         ...           ...           ...        ...        ...   \n",
              "2995  10.200000             0      9.896296          4   0.277744   \n",
              "2996   9.938462             0      0.000000          1   0.332240   \n",
              "2997   9.823729             0      9.600000          2   0.283534   \n",
              "2998  10.082540             0      9.410345          1   0.271318   \n",
              "2999   9.210811             0      8.693333          0   0.302920   \n",
              "\n",
              "      NN_WUP_Label  NN_WUP_Value  \n",
              "0                0      0.314704  \n",
              "1                0      0.306632  \n",
              "2                2      0.333997  \n",
              "3                4      0.526467  \n",
              "4                1      0.283452  \n",
              "...            ...           ...  \n",
              "2995             4      0.315261  \n",
              "2996             0      0.000000  \n",
              "2997             2      0.264745  \n",
              "2998             0      0.295802  \n",
              "2999             0      0.313889  \n",
              "\n",
              "[3000 rows x 15 columns]"
            ],
            "text/html": [
              "\n",
              "  <div id=\"df-546addca-47fb-4835-8fa2-80fcc9b01033\" class=\"colab-df-container\">\n",
              "    <div>\n",
              "<style scoped>\n",
              "    .dataframe tbody tr th:only-of-type {\n",
              "        vertical-align: middle;\n",
              "    }\n",
              "\n",
              "    .dataframe tbody tr th {\n",
              "        vertical-align: top;\n",
              "    }\n",
              "\n",
              "    .dataframe thead th {\n",
              "        text-align: right;\n",
              "    }\n",
              "</style>\n",
              "<table border=\"1\" class=\"dataframe\">\n",
              "  <thead>\n",
              "    <tr style=\"text-align: right;\">\n",
              "      <th></th>\n",
              "      <th>Description</th>\n",
              "      <th>Category</th>\n",
              "      <th>Tokenized</th>\n",
              "      <th>pos_tagged</th>\n",
              "      <th>NN_tagged</th>\n",
              "      <th>NN_Description</th>\n",
              "      <th>Label</th>\n",
              "      <th>WSP_Label</th>\n",
              "      <th>WSP_Value</th>\n",
              "      <th>NN_WSP_Label</th>\n",
              "      <th>NN_WSP_Value</th>\n",
              "      <th>WUP_Label</th>\n",
              "      <th>WUP_Value</th>\n",
              "      <th>NN_WUP_Label</th>\n",
              "      <th>NN_WUP_Value</th>\n",
              "    </tr>\n",
              "  </thead>\n",
              "  <tbody>\n",
              "    <tr>\n",
              "      <th>0</th>\n",
              "      <td>hi since recruiter lead permission approve req...</td>\n",
              "      <td>Application</td>\n",
              "      <td>[hi, since, recruiter, lead, permission, appro...</td>\n",
              "      <td>[(hi, NN), (since, IN), (recruiter, NN), (lead...</td>\n",
              "      <td>[hi, recruiter, lead, permission]</td>\n",
              "      <td>recruiter lead permission</td>\n",
              "      <td>0</td>\n",
              "      <td>0</td>\n",
              "      <td>9.800000</td>\n",
              "      <td>0</td>\n",
              "      <td>9.000000</td>\n",
              "      <td>0</td>\n",
              "      <td>0.293886</td>\n",
              "      <td>0</td>\n",
              "      <td>0.314704</td>\n",
              "    </tr>\n",
              "    <tr>\n",
              "      <th>1</th>\n",
              "      <td>re expire days hi ask help update passwords co...</td>\n",
              "      <td>Application</td>\n",
              "      <td>[re, expire, days, hi, ask, help, update, pass...</td>\n",
              "      <td>[(re, NN), (expire, NN), (days, NNS), (hi, VBP...</td>\n",
              "      <td>[re, expire, help, expire, hi, expiration, ple...</td>\n",
              "      <td>expire expire expiration prolongation expire o...</td>\n",
              "      <td>0</td>\n",
              "      <td>0</td>\n",
              "      <td>9.301235</td>\n",
              "      <td>0</td>\n",
              "      <td>9.208696</td>\n",
              "      <td>0</td>\n",
              "      <td>0.300035</td>\n",
              "      <td>0</td>\n",
              "      <td>0.306632</td>\n",
              "    </tr>\n",
              "    <tr>\n",
              "      <th>2</th>\n",
              "      <td>verification warning hi has got attached pleas...</td>\n",
              "      <td>Application</td>\n",
              "      <td>[verification, warning, hi, has, got, attached...</td>\n",
              "      <td>[(verification, NN), (warning, VBG), (hi, NN),...</td>\n",
              "      <td>[verification, hi, please, analyst, verification]</td>\n",
              "      <td>verification analyst verification</td>\n",
              "      <td>0</td>\n",
              "      <td>0</td>\n",
              "      <td>10.290909</td>\n",
              "      <td>0</td>\n",
              "      <td>9.066667</td>\n",
              "      <td>1</td>\n",
              "      <td>0.302682</td>\n",
              "      <td>2</td>\n",
              "      <td>0.333997</td>\n",
              "    </tr>\n",
              "    <tr>\n",
              "      <th>3</th>\n",
              "      <td>please dear looks blacklisted receiving mails ...</td>\n",
              "      <td>Application</td>\n",
              "      <td>[please, dear, looks, blacklisted, receiving, ...</td>\n",
              "      <td>[(please, VB), (dear, JJ), (looks, NNS), (blac...</td>\n",
              "      <td>[kind, engineer]</td>\n",
              "      <td>engineer</td>\n",
              "      <td>0</td>\n",
              "      <td>0</td>\n",
              "      <td>8.844444</td>\n",
              "      <td>0</td>\n",
              "      <td>5.000000</td>\n",
              "      <td>0</td>\n",
              "      <td>0.319823</td>\n",
              "      <td>4</td>\n",
              "      <td>0.526467</td>\n",
              "    </tr>\n",
              "    <tr>\n",
              "      <th>4</th>\n",
              "      <td>dear modules report report cost thank much reg...</td>\n",
              "      <td>Application</td>\n",
              "      <td>[dear, modules, report, report, cost, thank, m...</td>\n",
              "      <td>[(dear, JJ), (modules, NNS), (report, VB), (re...</td>\n",
              "      <td>[report, cost]</td>\n",
              "      <td>report cost</td>\n",
              "      <td>0</td>\n",
              "      <td>0</td>\n",
              "      <td>9.285714</td>\n",
              "      <td>0</td>\n",
              "      <td>10.000000</td>\n",
              "      <td>1</td>\n",
              "      <td>0.276387</td>\n",
              "      <td>1</td>\n",
              "      <td>0.283452</td>\n",
              "    </tr>\n",
              "    <tr>\n",
              "      <th>...</th>\n",
              "      <td>...</td>\n",
              "      <td>...</td>\n",
              "      <td>...</td>\n",
              "      <td>...</td>\n",
              "      <td>...</td>\n",
              "      <td>...</td>\n",
              "      <td>...</td>\n",
              "      <td>...</td>\n",
              "      <td>...</td>\n",
              "      <td>...</td>\n",
              "      <td>...</td>\n",
              "      <td>...</td>\n",
              "      <td>...</td>\n",
              "      <td>...</td>\n",
              "      <td>...</td>\n",
              "    </tr>\n",
              "    <tr>\n",
              "      <th>2995</th>\n",
              "      <td>sent tuesday feedback follow up conf call hell...</td>\n",
              "      <td>Database</td>\n",
              "      <td>[sent, tuesday, feedback, follow, up, conf, ca...</td>\n",
              "      <td>[(sent, NN), (tuesday, NN), (feedback, NN), (f...</td>\n",
              "      <td>[sent, tuesday, feedback, conf, call, hello, s...</td>\n",
              "      <td>feedback conf call setup meeting side meeting ...</td>\n",
              "      <td>1</td>\n",
              "      <td>0</td>\n",
              "      <td>10.200000</td>\n",
              "      <td>0</td>\n",
              "      <td>9.896296</td>\n",
              "      <td>4</td>\n",
              "      <td>0.277744</td>\n",
              "      <td>4</td>\n",
              "      <td>0.315261</td>\n",
              "    </tr>\n",
              "    <tr>\n",
              "      <th>2996</th>\n",
              "      <td>sent monday issues hi keep getting errors whil...</td>\n",
              "      <td>Database</td>\n",
              "      <td>[sent, monday, issues, hi, keep, getting, erro...</td>\n",
              "      <td>[(sent, NN), (monday, NN), (issues, NNS), (hi,...</td>\n",
              "      <td>[sent, monday, please, help]</td>\n",
              "      <td></td>\n",
              "      <td>1</td>\n",
              "      <td>0</td>\n",
              "      <td>9.938462</td>\n",
              "      <td>0</td>\n",
              "      <td>0.000000</td>\n",
              "      <td>1</td>\n",
              "      <td>0.332240</td>\n",
              "      <td>0</td>\n",
              "      <td>0.000000</td>\n",
              "    </tr>\n",
              "    <tr>\n",
              "      <th>2997</th>\n",
              "      <td>sent monday en working properly hi guys we hav...</td>\n",
              "      <td>Database</td>\n",
              "      <td>[sent, monday, en, working, properly, hi, guys...</td>\n",
              "      <td>[(sent, NN), (monday, NN), (en, IN), (working,...</td>\n",
              "      <td>[sent, monday, number, meeting, room, dialer, ...</td>\n",
              "      <td>number meeting room dialer pad multiple access...</td>\n",
              "      <td>1</td>\n",
              "      <td>0</td>\n",
              "      <td>9.823729</td>\n",
              "      <td>0</td>\n",
              "      <td>9.600000</td>\n",
              "      <td>2</td>\n",
              "      <td>0.283534</td>\n",
              "      <td>2</td>\n",
              "      <td>0.264745</td>\n",
              "    </tr>\n",
              "    <tr>\n",
              "      <th>2998</th>\n",
              "      <td>sent wednesday july hi please log incident for...</td>\n",
              "      <td>Database</td>\n",
              "      <td>[sent, wednesday, july, hi, please, log, incid...</td>\n",
              "      <td>[(sent, NN), (wednesday, NN), (july, NN), (hi,...</td>\n",
              "      <td>[sent, wednesday, july, please, log, incident,...</td>\n",
              "      <td>log incident assistance mo el ticket con colom...</td>\n",
              "      <td>1</td>\n",
              "      <td>0</td>\n",
              "      <td>10.082540</td>\n",
              "      <td>0</td>\n",
              "      <td>9.410345</td>\n",
              "      <td>1</td>\n",
              "      <td>0.271318</td>\n",
              "      <td>0</td>\n",
              "      <td>0.295802</td>\n",
              "    </tr>\n",
              "    <tr>\n",
              "      <th>2999</th>\n",
              "      <td>sent tuesday july connection issues hello have...</td>\n",
              "      <td>Database</td>\n",
              "      <td>[sent, tuesday, july, connection, issues, hell...</td>\n",
              "      <td>[(sent, NN), (tuesday, NN), (july, JJ), (conne...</td>\n",
              "      <td>[sent, tuesday, connection, connection, client...</td>\n",
              "      <td>connection connection client side link connect...</td>\n",
              "      <td>1</td>\n",
              "      <td>0</td>\n",
              "      <td>9.210811</td>\n",
              "      <td>0</td>\n",
              "      <td>8.693333</td>\n",
              "      <td>0</td>\n",
              "      <td>0.302920</td>\n",
              "      <td>0</td>\n",
              "      <td>0.313889</td>\n",
              "    </tr>\n",
              "  </tbody>\n",
              "</table>\n",
              "<p>3000 rows × 15 columns</p>\n",
              "</div>\n",
              "    <div class=\"colab-df-buttons\">\n",
              "\n",
              "  <div class=\"colab-df-container\">\n",
              "    <button class=\"colab-df-convert\" onclick=\"convertToInteractive('df-546addca-47fb-4835-8fa2-80fcc9b01033')\"\n",
              "            title=\"Convert this dataframe to an interactive table.\"\n",
              "            style=\"display:none;\">\n",
              "\n",
              "  <svg xmlns=\"http://www.w3.org/2000/svg\" height=\"24px\" viewBox=\"0 -960 960 960\">\n",
              "    <path d=\"M120-120v-720h720v720H120Zm60-500h600v-160H180v160Zm220 220h160v-160H400v160Zm0 220h160v-160H400v160ZM180-400h160v-160H180v160Zm440 0h160v-160H620v160ZM180-180h160v-160H180v160Zm440 0h160v-160H620v160Z\"/>\n",
              "  </svg>\n",
              "    </button>\n",
              "\n",
              "  <style>\n",
              "    .colab-df-container {\n",
              "      display:flex;\n",
              "      gap: 12px;\n",
              "    }\n",
              "\n",
              "    .colab-df-convert {\n",
              "      background-color: #E8F0FE;\n",
              "      border: none;\n",
              "      border-radius: 50%;\n",
              "      cursor: pointer;\n",
              "      display: none;\n",
              "      fill: #1967D2;\n",
              "      height: 32px;\n",
              "      padding: 0 0 0 0;\n",
              "      width: 32px;\n",
              "    }\n",
              "\n",
              "    .colab-df-convert:hover {\n",
              "      background-color: #E2EBFA;\n",
              "      box-shadow: 0px 1px 2px rgba(60, 64, 67, 0.3), 0px 1px 3px 1px rgba(60, 64, 67, 0.15);\n",
              "      fill: #174EA6;\n",
              "    }\n",
              "\n",
              "    .colab-df-buttons div {\n",
              "      margin-bottom: 4px;\n",
              "    }\n",
              "\n",
              "    [theme=dark] .colab-df-convert {\n",
              "      background-color: #3B4455;\n",
              "      fill: #D2E3FC;\n",
              "    }\n",
              "\n",
              "    [theme=dark] .colab-df-convert:hover {\n",
              "      background-color: #434B5C;\n",
              "      box-shadow: 0px 1px 3px 1px rgba(0, 0, 0, 0.15);\n",
              "      filter: drop-shadow(0px 1px 2px rgba(0, 0, 0, 0.3));\n",
              "      fill: #FFFFFF;\n",
              "    }\n",
              "  </style>\n",
              "\n",
              "    <script>\n",
              "      const buttonEl =\n",
              "        document.querySelector('#df-546addca-47fb-4835-8fa2-80fcc9b01033 button.colab-df-convert');\n",
              "      buttonEl.style.display =\n",
              "        google.colab.kernel.accessAllowed ? 'block' : 'none';\n",
              "\n",
              "      async function convertToInteractive(key) {\n",
              "        const element = document.querySelector('#df-546addca-47fb-4835-8fa2-80fcc9b01033');\n",
              "        const dataTable =\n",
              "          await google.colab.kernel.invokeFunction('convertToInteractive',\n",
              "                                                    [key], {});\n",
              "        if (!dataTable) return;\n",
              "\n",
              "        const docLinkHtml = 'Like what you see? Visit the ' +\n",
              "          '<a target=\"_blank\" href=https://colab.research.google.com/notebooks/data_table.ipynb>data table notebook</a>'\n",
              "          + ' to learn more about interactive tables.';\n",
              "        element.innerHTML = '';\n",
              "        dataTable['output_type'] = 'display_data';\n",
              "        await google.colab.output.renderOutput(dataTable, element);\n",
              "        const docLink = document.createElement('div');\n",
              "        docLink.innerHTML = docLinkHtml;\n",
              "        element.appendChild(docLink);\n",
              "      }\n",
              "    </script>\n",
              "  </div>\n",
              "\n",
              "\n",
              "<div id=\"df-bb725ef7-565c-42db-8b97-f4a14e93a125\">\n",
              "  <button class=\"colab-df-quickchart\" onclick=\"quickchart('df-bb725ef7-565c-42db-8b97-f4a14e93a125')\"\n",
              "            title=\"Suggest charts\"\n",
              "            style=\"display:none;\">\n",
              "\n",
              "<svg xmlns=\"http://www.w3.org/2000/svg\" height=\"24px\"viewBox=\"0 0 24 24\"\n",
              "     width=\"24px\">\n",
              "    <g>\n",
              "        <path d=\"M19 3H5c-1.1 0-2 .9-2 2v14c0 1.1.9 2 2 2h14c1.1 0 2-.9 2-2V5c0-1.1-.9-2-2-2zM9 17H7v-7h2v7zm4 0h-2V7h2v10zm4 0h-2v-4h2v4z\"/>\n",
              "    </g>\n",
              "</svg>\n",
              "  </button>\n",
              "\n",
              "<style>\n",
              "  .colab-df-quickchart {\n",
              "      --bg-color: #E8F0FE;\n",
              "      --fill-color: #1967D2;\n",
              "      --hover-bg-color: #E2EBFA;\n",
              "      --hover-fill-color: #174EA6;\n",
              "      --disabled-fill-color: #AAA;\n",
              "      --disabled-bg-color: #DDD;\n",
              "  }\n",
              "\n",
              "  [theme=dark] .colab-df-quickchart {\n",
              "      --bg-color: #3B4455;\n",
              "      --fill-color: #D2E3FC;\n",
              "      --hover-bg-color: #434B5C;\n",
              "      --hover-fill-color: #FFFFFF;\n",
              "      --disabled-bg-color: #3B4455;\n",
              "      --disabled-fill-color: #666;\n",
              "  }\n",
              "\n",
              "  .colab-df-quickchart {\n",
              "    background-color: var(--bg-color);\n",
              "    border: none;\n",
              "    border-radius: 50%;\n",
              "    cursor: pointer;\n",
              "    display: none;\n",
              "    fill: var(--fill-color);\n",
              "    height: 32px;\n",
              "    padding: 0;\n",
              "    width: 32px;\n",
              "  }\n",
              "\n",
              "  .colab-df-quickchart:hover {\n",
              "    background-color: var(--hover-bg-color);\n",
              "    box-shadow: 0 1px 2px rgba(60, 64, 67, 0.3), 0 1px 3px 1px rgba(60, 64, 67, 0.15);\n",
              "    fill: var(--button-hover-fill-color);\n",
              "  }\n",
              "\n",
              "  .colab-df-quickchart-complete:disabled,\n",
              "  .colab-df-quickchart-complete:disabled:hover {\n",
              "    background-color: var(--disabled-bg-color);\n",
              "    fill: var(--disabled-fill-color);\n",
              "    box-shadow: none;\n",
              "  }\n",
              "\n",
              "  .colab-df-spinner {\n",
              "    border: 2px solid var(--fill-color);\n",
              "    border-color: transparent;\n",
              "    border-bottom-color: var(--fill-color);\n",
              "    animation:\n",
              "      spin 1s steps(1) infinite;\n",
              "  }\n",
              "\n",
              "  @keyframes spin {\n",
              "    0% {\n",
              "      border-color: transparent;\n",
              "      border-bottom-color: var(--fill-color);\n",
              "      border-left-color: var(--fill-color);\n",
              "    }\n",
              "    20% {\n",
              "      border-color: transparent;\n",
              "      border-left-color: var(--fill-color);\n",
              "      border-top-color: var(--fill-color);\n",
              "    }\n",
              "    30% {\n",
              "      border-color: transparent;\n",
              "      border-left-color: var(--fill-color);\n",
              "      border-top-color: var(--fill-color);\n",
              "      border-right-color: var(--fill-color);\n",
              "    }\n",
              "    40% {\n",
              "      border-color: transparent;\n",
              "      border-right-color: var(--fill-color);\n",
              "      border-top-color: var(--fill-color);\n",
              "    }\n",
              "    60% {\n",
              "      border-color: transparent;\n",
              "      border-right-color: var(--fill-color);\n",
              "    }\n",
              "    80% {\n",
              "      border-color: transparent;\n",
              "      border-right-color: var(--fill-color);\n",
              "      border-bottom-color: var(--fill-color);\n",
              "    }\n",
              "    90% {\n",
              "      border-color: transparent;\n",
              "      border-bottom-color: var(--fill-color);\n",
              "    }\n",
              "  }\n",
              "</style>\n",
              "\n",
              "  <script>\n",
              "    async function quickchart(key) {\n",
              "      const quickchartButtonEl =\n",
              "        document.querySelector('#' + key + ' button');\n",
              "      quickchartButtonEl.disabled = true;  // To prevent multiple clicks.\n",
              "      quickchartButtonEl.classList.add('colab-df-spinner');\n",
              "      try {\n",
              "        const charts = await google.colab.kernel.invokeFunction(\n",
              "            'suggestCharts', [key], {});\n",
              "      } catch (error) {\n",
              "        console.error('Error during call to suggestCharts:', error);\n",
              "      }\n",
              "      quickchartButtonEl.classList.remove('colab-df-spinner');\n",
              "      quickchartButtonEl.classList.add('colab-df-quickchart-complete');\n",
              "    }\n",
              "    (() => {\n",
              "      let quickchartButtonEl =\n",
              "        document.querySelector('#df-bb725ef7-565c-42db-8b97-f4a14e93a125 button');\n",
              "      quickchartButtonEl.style.display =\n",
              "        google.colab.kernel.accessAllowed ? 'block' : 'none';\n",
              "    })();\n",
              "  </script>\n",
              "</div>\n",
              "    </div>\n",
              "  </div>\n"
            ],
            "application/vnd.google.colaboratory.intrinsic+json": {
              "type": "dataframe",
              "variable_name": "df",
              "summary": "{\n  \"name\": \"df\",\n  \"rows\": 3000,\n  \"fields\": [\n    {\n      \"column\": \"Description\",\n      \"properties\": {\n        \"dtype\": \"string\",\n        \"num_unique_values\": 3000,\n        \"samples\": [\n          \"friday november pm assistants please secure floor tower hi please securing floor tower secure area evening cob tuesday morning area needs secure also needs informing employees about changes restriction well meeting rooms bookings restriction thank help kind regards officer information\",\n          \"pm hi joined fast followings visual studio provide other information please let thank best regards\",\n          \"card leaver la va ca defect\"\n        ],\n        \"semantic_type\": \"\",\n        \"description\": \"\"\n      }\n    },\n    {\n      \"column\": \"Category\",\n      \"properties\": {\n        \"dtype\": \"category\",\n        \"num_unique_values\": 5,\n        \"samples\": [\n          \"Database\",\n          \"Security\",\n          \"Network\"\n        ],\n        \"semantic_type\": \"\",\n        \"description\": \"\"\n      }\n    },\n    {\n      \"column\": \"Tokenized\",\n      \"properties\": {\n        \"dtype\": \"object\",\n        \"semantic_type\": \"\",\n        \"description\": \"\"\n      }\n    },\n    {\n      \"column\": \"pos_tagged\",\n      \"properties\": {\n        \"dtype\": \"object\",\n        \"semantic_type\": \"\",\n        \"description\": \"\"\n      }\n    },\n    {\n      \"column\": \"NN_tagged\",\n      \"properties\": {\n        \"dtype\": \"object\",\n        \"semantic_type\": \"\",\n        \"description\": \"\"\n      }\n    },\n    {\n      \"column\": \"NN_Description\",\n      \"properties\": {\n        \"dtype\": \"string\",\n        \"num_unique_values\": 2720,\n        \"samples\": [\n          \"announce crap eon program si va ne interval care placer la cl rom confidentiality notice content communication information environment printing\",\n          \"analyst submit make side let\",\n          \"phone issue move phone press cable discovery discovery issue phone centimeter analyst\"\n        ],\n        \"semantic_type\": \"\",\n        \"description\": \"\"\n      }\n    },\n    {\n      \"column\": \"Label\",\n      \"properties\": {\n        \"dtype\": \"number\",\n        \"std\": 1,\n        \"min\": 0,\n        \"max\": 4,\n        \"num_unique_values\": 5,\n        \"samples\": [\n          1,\n          3,\n          2\n        ],\n        \"semantic_type\": \"\",\n        \"description\": \"\"\n      }\n    },\n    {\n      \"column\": \"WSP_Label\",\n      \"properties\": {\n        \"dtype\": \"number\",\n        \"std\": 0,\n        \"min\": 0,\n        \"max\": 4,\n        \"num_unique_values\": 4,\n        \"samples\": [\n          4,\n          1,\n          0\n        ],\n        \"semantic_type\": \"\",\n        \"description\": \"\"\n      }\n    },\n    {\n      \"column\": \"WSP_Value\",\n      \"properties\": {\n        \"dtype\": \"number\",\n        \"std\": 0.69427466463411,\n        \"min\": 0.0,\n        \"max\": 13.55,\n        \"num_unique_values\": 1849,\n        \"samples\": [\n          11.244444444444444,\n          9.123076923076923,\n          10.618181818181819\n        ],\n        \"semantic_type\": \"\",\n        \"description\": \"\"\n      }\n    },\n    {\n      \"column\": \"NN_WSP_Label\",\n      \"properties\": {\n        \"dtype\": \"number\",\n        \"std\": 1,\n        \"min\": 0,\n        \"max\": 4,\n        \"num_unique_values\": 5,\n        \"samples\": [\n          4,\n          3,\n          2\n        ],\n        \"semantic_type\": \"\",\n        \"description\": \"\"\n      }\n    },\n    {\n      \"column\": \"NN_WSP_Value\",\n      \"properties\": {\n        \"dtype\": \"number\",\n        \"std\": 1.9400058931907664,\n        \"min\": 0.0,\n        \"max\": 17.8,\n        \"num_unique_values\": 1122,\n        \"samples\": [\n          8.175,\n          9.780000000000001,\n          8.6\n        ],\n        \"semantic_type\": \"\",\n        \"description\": \"\"\n      }\n    },\n    {\n      \"column\": \"WUP_Label\",\n      \"properties\": {\n        \"dtype\": \"number\",\n        \"std\": 1,\n        \"min\": 0,\n        \"max\": 4,\n        \"num_unique_values\": 5,\n        \"samples\": [\n          1,\n          3,\n          2\n        ],\n        \"semantic_type\": \"\",\n        \"description\": \"\"\n      }\n    },\n    {\n      \"column\": \"WUP_Value\",\n      \"properties\": {\n        \"dtype\": \"number\",\n        \"std\": 0.033831347400645764,\n        \"min\": 0.0,\n        \"max\": 0.5220538677009265,\n        \"num_unique_values\": 2944,\n        \"samples\": [\n          0.33367229147414906,\n          0.29813956442843237,\n          0.2845443875010438\n        ],\n        \"semantic_type\": \"\",\n        \"description\": \"\"\n      }\n    },\n    {\n      \"column\": \"NN_WUP_Label\",\n      \"properties\": {\n        \"dtype\": \"number\",\n        \"std\": 1,\n        \"min\": 0,\n        \"max\": 4,\n        \"num_unique_values\": 5,\n        \"samples\": [\n          2,\n          3,\n          4\n        ],\n        \"semantic_type\": \"\",\n        \"description\": \"\"\n      }\n    },\n    {\n      \"column\": \"NN_WUP_Value\",\n      \"properties\": {\n        \"dtype\": \"number\",\n        \"std\": 0.0851075433605772,\n        \"min\": 0.0,\n        \"max\": 0.5627272727272727,\n        \"num_unique_values\": 2518,\n        \"samples\": [\n          0.29027540570884225,\n          0.36203984697792746,\n          0.29939093586152404\n        ],\n        \"semantic_type\": \"\",\n        \"description\": \"\"\n      }\n    }\n  ]\n}"
            }
          },
          "metadata": {},
          "execution_count": 44
        }
      ]
    },
    {
      "cell_type": "code",
      "source": [
        "df_0 = df.loc[(df['Label'] == 0)]\n",
        "df_1 = df.loc[(df['Label'] == 1)]\n",
        "df_2 = df.loc[(df['Label'] == 2)]\n",
        "df_3 = df.loc[(df['Label'] == 3)]\n",
        "df_4 = df.loc[(df['Label'] == 4)]"
      ],
      "metadata": {
        "id": "7ZwGT5MZYxlH"
      },
      "execution_count": null,
      "outputs": []
    },
    {
      "cell_type": "code",
      "source": [
        "accuracy_score(df['Label'], df['WUP_Label'])"
      ],
      "metadata": {
        "id": "SU35Rm4CREcn",
        "colab": {
          "base_uri": "https://localhost:8080/"
        },
        "outputId": "76ed2179-5b25-455d-b0db-6039ef3bdbdd"
      },
      "execution_count": null,
      "outputs": [
        {
          "output_type": "execute_result",
          "data": {
            "text/plain": [
              "0.29033333333333333"
            ]
          },
          "metadata": {},
          "execution_count": 46
        }
      ]
    },
    {
      "cell_type": "code",
      "source": [
        "accuracy_score(df['Label'], df['NN_WUP_Label'])"
      ],
      "metadata": {
        "colab": {
          "base_uri": "https://localhost:8080/"
        },
        "id": "a6e5nVDrJ4Fk",
        "outputId": "8a15bbec-1dfa-484b-b724-682368acaf0d"
      },
      "execution_count": null,
      "outputs": [
        {
          "output_type": "execute_result",
          "data": {
            "text/plain": [
              "0.35833333333333334"
            ]
          },
          "metadata": {},
          "execution_count": 47
        }
      ]
    },
    {
      "cell_type": "code",
      "source": [
        "accuracy_score(df_0['Label'], df_0['WUP_Label'])"
      ],
      "metadata": {
        "id": "eh4D9XMERyvM",
        "colab": {
          "base_uri": "https://localhost:8080/"
        },
        "outputId": "9e2024e0-5cca-44b1-cc7e-926427ed6df8"
      },
      "execution_count": null,
      "outputs": [
        {
          "output_type": "execute_result",
          "data": {
            "text/plain": [
              "0.5566666666666666"
            ]
          },
          "metadata": {},
          "execution_count": 48
        }
      ]
    },
    {
      "cell_type": "code",
      "source": [
        "accuracy_score(df_0['Label'], df_0['NN_WUP_Label'])"
      ],
      "metadata": {
        "colab": {
          "base_uri": "https://localhost:8080/"
        },
        "id": "ywL2MxxhJ2Df",
        "outputId": "fa3c3de6-b172-4ef0-f78a-00a34702c2e4"
      },
      "execution_count": null,
      "outputs": [
        {
          "output_type": "execute_result",
          "data": {
            "text/plain": [
              "0.42"
            ]
          },
          "metadata": {},
          "execution_count": 49
        }
      ]
    },
    {
      "cell_type": "code",
      "source": [
        "accuracy_score(df_1['Label'], df_1['WUP_Label'])"
      ],
      "metadata": {
        "id": "r8zNUZzoR9R_",
        "colab": {
          "base_uri": "https://localhost:8080/"
        },
        "outputId": "5fa89e0e-78d2-4093-cc58-478ab6bd8072"
      },
      "execution_count": null,
      "outputs": [
        {
          "output_type": "execute_result",
          "data": {
            "text/plain": [
              "0.27666666666666667"
            ]
          },
          "metadata": {},
          "execution_count": 50
        }
      ]
    },
    {
      "cell_type": "code",
      "source": [
        "accuracy_score(df_1['Label'], df_1['NN_WUP_Label'])"
      ],
      "metadata": {
        "colab": {
          "base_uri": "https://localhost:8080/"
        },
        "id": "SwqCxwbrJ0Jn",
        "outputId": "eb60da05-794a-43be-c337-93e847e27002"
      },
      "execution_count": null,
      "outputs": [
        {
          "output_type": "execute_result",
          "data": {
            "text/plain": [
              "0.305"
            ]
          },
          "metadata": {},
          "execution_count": 51
        }
      ]
    },
    {
      "cell_type": "code",
      "source": [
        "accuracy_score(df_2['Label'], df_2['WUP_Label'])"
      ],
      "metadata": {
        "id": "h9o6q8qDSK1T",
        "colab": {
          "base_uri": "https://localhost:8080/"
        },
        "outputId": "9dd352d4-1597-43b3-e14c-e24074fd40a2"
      },
      "execution_count": null,
      "outputs": [
        {
          "output_type": "execute_result",
          "data": {
            "text/plain": [
              "0.17833333333333334"
            ]
          },
          "metadata": {},
          "execution_count": 52
        }
      ]
    },
    {
      "cell_type": "code",
      "source": [
        "accuracy_score(df_2['Label'], df_2['NN_WUP_Label'])"
      ],
      "metadata": {
        "colab": {
          "base_uri": "https://localhost:8080/"
        },
        "id": "AeRthYzgJyKL",
        "outputId": "a187d61a-8bee-4d8f-be22-fe740078a661"
      },
      "execution_count": null,
      "outputs": [
        {
          "output_type": "execute_result",
          "data": {
            "text/plain": [
              "0.19833333333333333"
            ]
          },
          "metadata": {},
          "execution_count": 53
        }
      ]
    },
    {
      "cell_type": "code",
      "source": [
        "accuracy_score(df_3['Label'], df_3['WUP_Label'])"
      ],
      "metadata": {
        "id": "rhbSsUTbSRPq",
        "colab": {
          "base_uri": "https://localhost:8080/"
        },
        "outputId": "aaa51876-6a78-490b-bc9a-fa1b2e6f3270"
      },
      "execution_count": null,
      "outputs": [
        {
          "output_type": "execute_result",
          "data": {
            "text/plain": [
              "0.075"
            ]
          },
          "metadata": {},
          "execution_count": 54
        }
      ]
    },
    {
      "cell_type": "code",
      "source": [
        "accuracy_score(df_3['Label'], df_3['NN_WUP_Label'])"
      ],
      "metadata": {
        "colab": {
          "base_uri": "https://localhost:8080/"
        },
        "id": "C780laWTJv7m",
        "outputId": "46ded65e-1595-4955-e230-4f5e109909e9"
      },
      "execution_count": null,
      "outputs": [
        {
          "output_type": "execute_result",
          "data": {
            "text/plain": [
              "0.23666666666666666"
            ]
          },
          "metadata": {},
          "execution_count": 55
        }
      ]
    },
    {
      "cell_type": "code",
      "source": [
        "accuracy_score(df_4['Label'], df_4['WUP_Label'])"
      ],
      "metadata": {
        "id": "MXEo7HjiSVQU",
        "colab": {
          "base_uri": "https://localhost:8080/"
        },
        "outputId": "e79634dd-6f67-413b-8f85-3c3eb9ae04cb"
      },
      "execution_count": null,
      "outputs": [
        {
          "output_type": "execute_result",
          "data": {
            "text/plain": [
              "0.365"
            ]
          },
          "metadata": {},
          "execution_count": 56
        }
      ]
    },
    {
      "cell_type": "code",
      "source": [
        "accuracy_score(df_4['Label'], df_4['NN_WUP_Label'])"
      ],
      "metadata": {
        "colab": {
          "base_uri": "https://localhost:8080/"
        },
        "id": "8I43hfwdJtcG",
        "outputId": "c23e6d95-69d1-44d0-923c-610978455f9a"
      },
      "execution_count": null,
      "outputs": [
        {
          "output_type": "execute_result",
          "data": {
            "text/plain": [
              "0.6316666666666667"
            ]
          },
          "metadata": {},
          "execution_count": 57
        }
      ]
    }
  ]
}