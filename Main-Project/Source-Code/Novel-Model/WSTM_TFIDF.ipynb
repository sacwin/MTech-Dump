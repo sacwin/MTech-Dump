{
  "nbformat": 4,
  "nbformat_minor": 0,
  "metadata": {
    "colab": {
      "provenance": []
    },
    "kernelspec": {
      "name": "python3",
      "display_name": "Python 3"
    },
    "language_info": {
      "name": "python"
    }
  },
  "cells": [
    {
      "cell_type": "code",
      "execution_count": null,
      "metadata": {
        "id": "EfDodKJL1NH2",
        "colab": {
          "base_uri": "https://localhost:8080/"
        },
        "outputId": "abfd4a83-5f42-4070-8529-4569d939ad12"
      },
      "outputs": [
        {
          "output_type": "stream",
          "name": "stderr",
          "text": [
            "[nltk_data] Downloading package wordnet to /root/nltk_data...\n",
            "[nltk_data] Downloading package punkt to /root/nltk_data...\n",
            "[nltk_data]   Unzipping tokenizers/punkt.zip.\n",
            "[nltk_data] Downloading package averaged_perceptron_tagger to\n",
            "[nltk_data]     /root/nltk_data...\n",
            "[nltk_data]   Unzipping taggers/averaged_perceptron_tagger.zip.\n",
            "[nltk_data] Downloading package stopwords to /root/nltk_data...\n",
            "[nltk_data]   Unzipping corpora/stopwords.zip.\n"
          ]
        }
      ],
      "source": [
        "# Import Libraries\n",
        "import pandas as pd\n",
        "import io\n",
        "import numpy as np\n",
        "import re\n",
        "\n",
        "import nltk\n",
        "nltk.download('wordnet')\n",
        "nltk.download('punkt')\n",
        "nltk.download('averaged_perceptron_tagger')\n",
        "nltk.download('stopwords')\n",
        "from nltk.corpus import wordnet\n",
        "from nltk.corpus import stopwords\n",
        "\n",
        "from sklearn.preprocessing import LabelEncoder\n",
        "from sklearn.feature_extraction.text import TfidfVectorizer\n",
        "from sklearn.metrics import accuracy_score"
      ]
    },
    {
      "cell_type": "code",
      "source": [
        "df = pd.read_csv('latest_ticket_data.csv')"
      ],
      "metadata": {
        "id": "zkr0Kc7R2pGa"
      },
      "execution_count": null,
      "outputs": []
    },
    {
      "cell_type": "code",
      "source": [
        "def get_only_chars(line):\n",
        "\n",
        "    clean_line = \"\"\n",
        "\n",
        "    line = line.replace(\"’\", \"\")\n",
        "    line = line.replace(\"'\", \"\")\n",
        "    line = line.replace(\"-\", \" \") #replace hyphens with spaces\n",
        "    line = line.replace(\"\\t\", \" \")\n",
        "    line = line.replace(\"\\n\", \" \")\n",
        "    line = line.lower()\n",
        "\n",
        "    for char in line:\n",
        "        if char in 'qwertyuiopasdfghjklzxcvbnm ':\n",
        "            clean_line += char\n",
        "        else:\n",
        "            clean_line += ' '\n",
        "\n",
        "    clean_line = re.sub(' +',' ',clean_line) #delete extra spaces\n",
        "    if clean_line[0] == ' ':\n",
        "        clean_line = clean_line[1:]\n",
        "    return clean_line"
      ],
      "metadata": {
        "id": "wKt5AnR-TZav"
      },
      "execution_count": null,
      "outputs": []
    },
    {
      "cell_type": "code",
      "source": [
        "df['Description'] = df['Description'].apply(lambda x: get_only_chars(x))"
      ],
      "metadata": {
        "id": "OuDZi8vXTkKf"
      },
      "execution_count": null,
      "outputs": []
    },
    {
      "cell_type": "code",
      "source": [
        "df['Tokenized']=[nltk.word_tokenize(i) for i in df['Description']]"
      ],
      "metadata": {
        "id": "iB0EJWU63XKZ"
      },
      "execution_count": null,
      "outputs": []
    },
    {
      "cell_type": "code",
      "source": [
        "df['pos_tagged'] = [nltk.pos_tag(i) for i in df['Tokenized']]"
      ],
      "metadata": {
        "id": "tcXSr0ye3b5G"
      },
      "execution_count": null,
      "outputs": []
    },
    {
      "cell_type": "code",
      "source": [
        "df['NN_tagged'] = df['pos_tagged'].apply(lambda item:[w for w,t in item if t=='NN'])"
      ],
      "metadata": {
        "id": "k8OsXCby3iwn"
      },
      "execution_count": null,
      "outputs": []
    },
    {
      "cell_type": "code",
      "source": [
        "df['NN_Description'] = df.NN_tagged.map(lambda x: ' '.join(x))"
      ],
      "metadata": {
        "id": "insbKP9b3nCp"
      },
      "execution_count": null,
      "outputs": []
    },
    {
      "cell_type": "code",
      "source": [
        "stop_words = stopwords.words('english')\n",
        "custom_stop_words = ['hi', 'since', 'please', 'best', 'regards', 'thank', 'thanks', 'hello', 'sent', 'great', 'dear', 'help', 'kind']\n",
        "time_words = ['january', 'february', 'march', 'april', 'may', 'june', 'july', 'august', 'september', 'october', 'november', 'december',\n",
        "              'monday', 'tuesday', 'wednesday', 'thursday', 'friday', 'saturday', 'sunday', 'today' , 'yesterday', 'tomorrow',\n",
        "              'hour', 'hours', 'time', 'times', 'timelines', 'date', 'day', 'days', 'am', 'pm', 'morning', 'noon', 'afternoon', 'evening',\n",
        "              'night', 'winter', 'summer', 'rain', 'cold']\n",
        "\n",
        "def remove_stop_words(text):\n",
        "    pattern = re.compile(r'\\b(' + r'|'.join(stop_words) + r')\\b\\s*')\n",
        "    text = pattern.sub('', text)\n",
        "    return text\n",
        "\n",
        "def remove_custom_words(text):\n",
        "    pattern = re.compile(r'\\b(' + r'|'.join(custom_stop_words) + r')\\b\\s*')\n",
        "    text = pattern.sub('', text)\n",
        "    return text\n",
        "\n",
        "def remove_time_words(text):\n",
        "    pattern = re.compile(r'\\b(' + r'|'.join(time_words) + r')\\b\\s*')\n",
        "    text = pattern.sub('', text)\n",
        "    return text\n",
        "\n",
        "df['NN_Description'] = df[\"NN_Description\"].map(lambda x: remove_stop_words(x))\n",
        "df['NN_Description'] = df[\"NN_Description\"].map(lambda x: remove_custom_words(x))\n",
        "df['NN_Description'] = df[\"NN_Description\"].map(lambda x: remove_time_words(x))"
      ],
      "metadata": {
        "id": "ZX8Uiht6ULEq"
      },
      "execution_count": null,
      "outputs": []
    },
    {
      "cell_type": "code",
      "source": [
        "LE = LabelEncoder()\n",
        "df['Label'] = LE.fit_transform(df['Category'])\n",
        "print(df)"
      ],
      "metadata": {
        "colab": {
          "base_uri": "https://localhost:8080/"
        },
        "id": "8asUEwKY2sK_",
        "outputId": "6e60b38f-6d68-4529-b537-e56189134009"
      },
      "execution_count": null,
      "outputs": [
        {
          "output_type": "stream",
          "name": "stdout",
          "text": [
            "                                            Description     Category  \\\n",
            "0     hi since recruiter lead permission approve req...  Application   \n",
            "1     re expire days hi ask help update passwords co...  Application   \n",
            "2     verification warning hi has got attached pleas...  Application   \n",
            "3     please dear looks blacklisted receiving mails ...  Application   \n",
            "4     dear modules report report cost thank much reg...  Application   \n",
            "...                                                 ...          ...   \n",
            "2995  sent tuesday feedback follow up conf call hell...     Database   \n",
            "2996  sent monday issues hi keep getting errors whil...     Database   \n",
            "2997  sent monday en working properly hi guys we hav...     Database   \n",
            "2998  sent wednesday july hi please log incident for...     Database   \n",
            "2999  sent tuesday july connection issues hello have...     Database   \n",
            "\n",
            "                                              Tokenized  \\\n",
            "0     [hi, since, recruiter, lead, permission, appro...   \n",
            "1     [re, expire, days, hi, ask, help, update, pass...   \n",
            "2     [verification, warning, hi, has, got, attached...   \n",
            "3     [please, dear, looks, blacklisted, receiving, ...   \n",
            "4     [dear, modules, report, report, cost, thank, m...   \n",
            "...                                                 ...   \n",
            "2995  [sent, tuesday, feedback, follow, up, conf, ca...   \n",
            "2996  [sent, monday, issues, hi, keep, getting, erro...   \n",
            "2997  [sent, monday, en, working, properly, hi, guys...   \n",
            "2998  [sent, wednesday, july, hi, please, log, incid...   \n",
            "2999  [sent, tuesday, july, connection, issues, hell...   \n",
            "\n",
            "                                             pos_tagged  \\\n",
            "0     [(hi, NN), (since, IN), (recruiter, NN), (lead...   \n",
            "1     [(re, NN), (expire, NN), (days, NNS), (hi, VBP...   \n",
            "2     [(verification, NN), (warning, VBG), (hi, NN),...   \n",
            "3     [(please, VB), (dear, JJ), (looks, NNS), (blac...   \n",
            "4     [(dear, JJ), (modules, NNS), (report, VB), (re...   \n",
            "...                                                 ...   \n",
            "2995  [(sent, NN), (tuesday, NN), (feedback, NN), (f...   \n",
            "2996  [(sent, NN), (monday, NN), (issues, NNS), (hi,...   \n",
            "2997  [(sent, NN), (monday, NN), (en, IN), (working,...   \n",
            "2998  [(sent, NN), (wednesday, NN), (july, NN), (hi,...   \n",
            "2999  [(sent, NN), (tuesday, NN), (july, JJ), (conne...   \n",
            "\n",
            "                                              NN_tagged  \\\n",
            "0                     [hi, recruiter, lead, permission]   \n",
            "1     [re, expire, help, expire, hi, expiration, ple...   \n",
            "2     [verification, hi, please, analyst, verification]   \n",
            "3                                      [kind, engineer]   \n",
            "4                                        [report, cost]   \n",
            "...                                                 ...   \n",
            "2995  [sent, tuesday, feedback, conf, call, hello, s...   \n",
            "2996                       [sent, monday, please, help]   \n",
            "2997  [sent, monday, number, meeting, room, dialer, ...   \n",
            "2998  [sent, wednesday, july, please, log, incident,...   \n",
            "2999  [sent, tuesday, connection, connection, client...   \n",
            "\n",
            "                                         NN_Description  Label  \n",
            "0                             recruiter lead permission      0  \n",
            "1     expire expire expiration prolongation expire o...      0  \n",
            "2                     verification analyst verification      0  \n",
            "3                                              engineer      0  \n",
            "4                                           report cost      0  \n",
            "...                                                 ...    ...  \n",
            "2995  feedback conf call setup meeting side meeting ...      1  \n",
            "2996                                                         1  \n",
            "2997  number meeting room dialer pad multiple access...      1  \n",
            "2998  log incident assistance mo el ticket con colom...      1  \n",
            "2999  connection connection client side link connect...      1  \n",
            "\n",
            "[3000 rows x 7 columns]\n"
          ]
        }
      ]
    },
    {
      "cell_type": "code",
      "source": [
        "df_0 = df.loc[(df['Label'] == 0)]\n",
        "df_1 = df.loc[(df['Label'] == 1)]\n",
        "df_2 = df.loc[(df['Label'] == 2)]\n",
        "df_3 = df.loc[(df['Label'] == 3)]\n",
        "df_4 = df.loc[(df['Label'] == 4)]"
      ],
      "metadata": {
        "id": "_BVhjjScbjlX"
      },
      "execution_count": null,
      "outputs": []
    },
    {
      "cell_type": "code",
      "source": [
        "# Instantiate\n",
        "vectorizer = TfidfVectorizer()\n",
        "# Fit the data\n",
        "tfidf_0 = vectorizer.fit_transform(df_0['NN_Description'])\n",
        "# Create a dataframe of TFIDF\n",
        "tfidf_df_0 = pd.DataFrame(tfidf_0[0].T.todense(),\n",
        "                      index=vectorizer.get_feature_names_out(),\n",
        "                      columns=[\"TF-IDF\"])\n",
        "# Sort\n",
        "tfidf_df_0 = tfidf_df_0.sort_values('TF-IDF', ascending=False)\n",
        "tfidf_df_0[:20].plot.bar(title=\"Top 30 TF-IDF Words\")"
      ],
      "metadata": {
        "id": "V4lDqYcOCFiK",
        "colab": {
          "base_uri": "https://localhost:8080/",
          "height": 539
        },
        "outputId": "c933633d-816d-4341-f199-4add2867c439"
      },
      "execution_count": null,
      "outputs": [
        {
          "output_type": "execute_result",
          "data": {
            "text/plain": [
              "<Axes: title={'center': 'Top 30 TF-IDF Words'}>"
            ]
          },
          "metadata": {},
          "execution_count": 12
        },
        {
          "output_type": "display_data",
          "data": {
            "text/plain": [
              "<Figure size 640x480 with 1 Axes>"
            ],
            "image/png": "[encoded data removed]"
          },
          "metadata": {}
        }
      ]
    },
    {
      "cell_type": "code",
      "source": [
        "tf_keyword_0 = ['recruiter','permission', 'lead']\n",
        "tf_keyword_0"
      ],
      "metadata": {
        "colab": {
          "base_uri": "https://localhost:8080/"
        },
        "id": "-zxm_1fNpUNl",
        "outputId": "0fbd98df-60ce-48ee-ff1c-f82107c8c078"
      },
      "execution_count": null,
      "outputs": [
        {
          "output_type": "execute_result",
          "data": {
            "text/plain": [
              "['recruiter', 'permission', 'lead']"
            ]
          },
          "metadata": {},
          "execution_count": 13
        }
      ]
    },
    {
      "cell_type": "code",
      "source": [
        "# Instantiate\n",
        "vectorizer = TfidfVectorizer()\n",
        "# Fit the data\n",
        "tfidf_1 = vectorizer.fit_transform(df_1['NN_Description'])\n",
        "# Create a dataframe of TFIDF\n",
        "tfidf_df_1 = pd.DataFrame(tfidf_1[0].T.todense(),\n",
        "                      index=vectorizer.get_feature_names_out(),\n",
        "                      columns=[\"TF-IDF\"])\n",
        "# Sort\n",
        "tfidf_df_1 = tfidf_df_1.sort_values('TF-IDF', ascending=False)\n",
        "tfidf_df_1[:20].plot.bar(title=\"Top 30 TF-IDF Words\")"
      ],
      "metadata": {
        "id": "Tqx6ITe-CTEN",
        "colab": {
          "base_uri": "https://localhost:8080/",
          "height": 549
        },
        "outputId": "0a8d94be-7ba5-4c21-ddbb-c86892d06454"
      },
      "execution_count": null,
      "outputs": [
        {
          "output_type": "execute_result",
          "data": {
            "text/plain": [
              "<Axes: title={'center': 'Top 30 TF-IDF Words'}>"
            ]
          },
          "metadata": {},
          "execution_count": 14
        },
        {
          "output_type": "display_data",
          "data": {
            "text/plain": [
              "<Figure size 640x480 with 1 Axes>"
            ],
            "image/png": "[encoded data removed]"
          },
          "metadata": {}
        }
      ]
    },
    {
      "cell_type": "code",
      "source": [
        "tf_keyword_1 = ['item','number','user','subscription','name']\n",
        "tf_keyword_1"
      ],
      "metadata": {
        "colab": {
          "base_uri": "https://localhost:8080/"
        },
        "id": "kzRwND09ppMc",
        "outputId": "fb74295f-c0e3-49c3-cee9-50a490bb124d"
      },
      "execution_count": null,
      "outputs": [
        {
          "output_type": "execute_result",
          "data": {
            "text/plain": [
              "['item', 'number', 'user', 'subscription', 'name']"
            ]
          },
          "metadata": {},
          "execution_count": 15
        }
      ]
    },
    {
      "cell_type": "code",
      "source": [
        "# Instantiate\n",
        "vectorizer = TfidfVectorizer()\n",
        "# Fit the data\n",
        "tfidf_2 = vectorizer.fit_transform(df_2['NN_Description'])\n",
        "# Create a dataframe of TFIDF\n",
        "tfidf_df_2 = pd.DataFrame(tfidf_2[0].T.todense(),\n",
        "                      index=vectorizer.get_feature_names_out(),\n",
        "                      columns=[\"TF-IDF\"])\n",
        "# Sort\n",
        "tfidf_df_2 = tfidf_df_2.sort_values('TF-IDF', ascending=False)\n",
        "tfidf_df_2[:20].plot.bar(title=\"Top 30 TF-IDF Words\")"
      ],
      "metadata": {
        "id": "Wro3FdTFCv0Q",
        "colab": {
          "base_uri": "https://localhost:8080/",
          "height": 539
        },
        "outputId": "aba40343-318e-4fa9-9617-cf6ba342b6ca"
      },
      "execution_count": null,
      "outputs": [
        {
          "output_type": "execute_result",
          "data": {
            "text/plain": [
              "<Axes: title={'center': 'Top 30 TF-IDF Words'}>"
            ]
          },
          "metadata": {},
          "execution_count": 16
        },
        {
          "output_type": "display_data",
          "data": {
            "text/plain": [
              "<Figure size 640x480 with 1 Axes>"
            ],
            "image/png": "[encoded data removed]"
          },
          "metadata": {}
        }
      ]
    },
    {
      "cell_type": "code",
      "source": [
        "tf_keyword_2 = ['test','scenario','mobile','device','order']\n",
        "tf_keyword_2"
      ],
      "metadata": {
        "colab": {
          "base_uri": "https://localhost:8080/"
        },
        "id": "cO3OInNpp4Vj",
        "outputId": "2ee6018b-4456-418f-96c8-55ea60dfdce2"
      },
      "execution_count": null,
      "outputs": [
        {
          "output_type": "execute_result",
          "data": {
            "text/plain": [
              "['test', 'scenario', 'mobile', 'device', 'order']"
            ]
          },
          "metadata": {},
          "execution_count": 17
        }
      ]
    },
    {
      "cell_type": "code",
      "source": [
        "# Instantiate\n",
        "vectorizer = TfidfVectorizer()\n",
        "# Fit the data\n",
        "tfidf_3 = vectorizer.fit_transform(df_3['NN_Description'])\n",
        "# Create a dataframe of TFIDF\n",
        "tfidf_df_3 = pd.DataFrame(tfidf_3[0].T.todense(),\n",
        "                      index=vectorizer.get_feature_names_out(),\n",
        "                      columns=[\"TF-IDF\"])\n",
        "# Sort\n",
        "tfidf_df_3 = tfidf_df_3.sort_values('TF-IDF', ascending=False)\n",
        "# Bar Plot\n",
        "tfidf_df_3[:20].plot.bar(title=\"Top 30 TF-IDF Words\")"
      ],
      "metadata": {
        "id": "tKRv2J1ODrx6",
        "colab": {
          "base_uri": "https://localhost:8080/",
          "height": 543
        },
        "outputId": "a231a367-a698-4f82-edf0-1a9a435a3858"
      },
      "execution_count": null,
      "outputs": [
        {
          "output_type": "execute_result",
          "data": {
            "text/plain": [
              "<Axes: title={'center': 'Top 30 TF-IDF Words'}>"
            ]
          },
          "metadata": {},
          "execution_count": 18
        },
        {
          "output_type": "display_data",
          "data": {
            "text/plain": [
              "<Figure size 640x480 with 1 Axes>"
            ],
            "image/png": "[encoded data removed]"
          },
          "metadata": {}
        }
      ]
    },
    {
      "cell_type": "code",
      "source": [
        "tf_keyword_3 = ['maternity']\n",
        "tf_keyword_3"
      ],
      "metadata": {
        "colab": {
          "base_uri": "https://localhost:8080/"
        },
        "id": "Own4PBXgqGok",
        "outputId": "5815a073-67a9-46be-971c-97045a2ca590"
      },
      "execution_count": null,
      "outputs": [
        {
          "output_type": "execute_result",
          "data": {
            "text/plain": [
              "['maternity']"
            ]
          },
          "metadata": {},
          "execution_count": 19
        }
      ]
    },
    {
      "cell_type": "code",
      "source": [
        "# Instantiate\n",
        "vectorizer = TfidfVectorizer()\n",
        "# Fit the data\n",
        "tfidf_4 = vectorizer.fit_transform(df_4['NN_Description'])\n",
        "# Create a dataframe of TFIDF\n",
        "tfidf_df_4 = pd.DataFrame(tfidf_4[0].T.todense(),\n",
        "                      index=vectorizer.get_feature_names_out(),\n",
        "                      columns=[\"TF-IDF\"])\n",
        "# Sort\n",
        "tfidf_df_4 = tfidf_df_4.sort_values('TF-IDF', ascending=False)\n",
        "tfidf_df_4[:20].plot.bar(title=\"Top 30 TF-IDF Words\")"
      ],
      "metadata": {
        "id": "Ha3SoXFSDsjw",
        "colab": {
          "base_uri": "https://localhost:8080/",
          "height": 537
        },
        "outputId": "7721f0fa-936d-41bc-dfe7-b9c3aef83dba"
      },
      "execution_count": null,
      "outputs": [
        {
          "output_type": "execute_result",
          "data": {
            "text/plain": [
              "<Axes: title={'center': 'Top 30 TF-IDF Words'}>"
            ]
          },
          "metadata": {},
          "execution_count": 20
        },
        {
          "output_type": "display_data",
          "data": {
            "text/plain": [
              "<Figure size 640x480 with 1 Axes>"
            ],
            "image/png": "[encoded data removed]"
          },
          "metadata": {}
        }
      ]
    },
    {
      "cell_type": "code",
      "source": [
        "tf_keyword_4 = ['badge']\n",
        "tf_keyword_4"
      ],
      "metadata": {
        "colab": {
          "base_uri": "https://localhost:8080/"
        },
        "id": "NbgYwUr8qUyf",
        "outputId": "1944520e-cc9d-499c-f551-61fe280a40db"
      },
      "execution_count": null,
      "outputs": [
        {
          "output_type": "execute_result",
          "data": {
            "text/plain": [
              "['badge']"
            ]
          },
          "metadata": {},
          "execution_count": 21
        }
      ]
    },
    {
      "cell_type": "code",
      "source": [
        "topics =[tf_keyword_0,tf_keyword_1,tf_keyword_2,tf_keyword_3,tf_keyword_4]"
      ],
      "metadata": {
        "id": "ApGqPtmX3qeN"
      },
      "execution_count": null,
      "outputs": []
    },
    {
      "cell_type": "code",
      "source": [
        "def WordnetShortestPath_labelscore(a):\n",
        "  lowest_netavg=100\n",
        "  lowest_label=0\n",
        "  label=-1\n",
        "  #print(a)\n",
        "  words = nltk.word_tokenize(a)\n",
        "  for z in topics:\n",
        "    total=0\n",
        "    counter=0\n",
        "    #print(z)\n",
        "    for x in z:\n",
        "      count=0\n",
        "      avg=0\n",
        "      sum=0\n",
        "      for y in words:\n",
        "        if(wordnet.synsets(x) and wordnet.synsets(y)):\n",
        "          syn1 = wordnet.synsets(x)[0]\n",
        "          syn2 = wordnet.synsets(y)[0]\n",
        "          if(syn1.pos() == 'n' and syn2.pos() == 'n'):\n",
        "            #print(\"Shortest path between \",x,\" and \",y,\" is: \", syn1.shortest_path_distance(syn2))\n",
        "            sum=sum+syn1.shortest_path_distance(syn2)\n",
        "            count=count+1\n",
        "      if(count==0):\n",
        "        avg=0\n",
        "      else:\n",
        "        avg=sum/count\n",
        "      total=total+avg\n",
        "      counter=counter+1\n",
        "      #print(sum)\n",
        "      #print(count)\n",
        "      #print(avg)\n",
        "    if(counter==0):\n",
        "      netavg=0\n",
        "    else:\n",
        "      netavg=total/counter\n",
        "    #print(counter)\n",
        "    #print(\"Total score for \",z,\" is: \",total)\n",
        "    #print(\"Net average for \",z,\" is: \",netavg)\n",
        "    label=label+1\n",
        "    if(netavg<lowest_netavg):\n",
        "      lowest_netavg=netavg\n",
        "      lowest_label=label\n",
        "      #print(\"label: \",label,\" has shortest path value: \",lowest_netavg)\n",
        "  return lowest_label,lowest_netavg"
      ],
      "metadata": {
        "id": "saMjRxel4BqY"
      },
      "execution_count": null,
      "outputs": []
    },
    {
      "cell_type": "code",
      "source": [
        "df[ [\"WSP_Label\",\"WSP_Value\"] ] = df[\"Description\"].apply(WordnetShortestPath_labelscore).apply(pd.Series)"
      ],
      "metadata": {
        "id": "6M2TqlgT5Xzw"
      },
      "execution_count": null,
      "outputs": []
    },
    {
      "cell_type": "code",
      "source": [
        "df[ [\"NN_WSP_Label\",\"NN_WSP_Value\"] ] = df[\"NN_Description\"].apply(WordnetShortestPath_labelscore).apply(pd.Series)"
      ],
      "metadata": {
        "id": "RbC17Tx3HKpM"
      },
      "execution_count": null,
      "outputs": []
    },
    {
      "cell_type": "code",
      "source": [
        "df[\"WSP_Label\"] = df[\"WSP_Label\"].astype(int)"
      ],
      "metadata": {
        "id": "7mWUr1zTHlMG"
      },
      "execution_count": null,
      "outputs": []
    },
    {
      "cell_type": "code",
      "source": [
        "df[\"NN_WSP_Label\"] = df[\"NN_WSP_Label\"].astype(int)"
      ],
      "metadata": {
        "id": "2J8jXVYc_sZq"
      },
      "execution_count": null,
      "outputs": []
    },
    {
      "cell_type": "code",
      "source": [
        "df"
      ],
      "metadata": {
        "id": "jEimst_yD7KG",
        "colab": {
          "base_uri": "https://localhost:8080/",
          "height": 1000
        },
        "outputId": "8933a06a-03a0-4d80-e8d6-f9e185d83e8f"
      },
      "execution_count": null,
      "outputs": [
        {
          "output_type": "execute_result",
          "data": {
            "text/plain": [
              "                                            Description     Category  \\\n",
              "0     hi since recruiter lead permission approve req...  Application   \n",
              "1     re expire days hi ask help update passwords co...  Application   \n",
              "2     verification warning hi has got attached pleas...  Application   \n",
              "3     please dear looks blacklisted receiving mails ...  Application   \n",
              "4     dear modules report report cost thank much reg...  Application   \n",
              "...                                                 ...          ...   \n",
              "2995  sent tuesday feedback follow up conf call hell...     Database   \n",
              "2996  sent monday issues hi keep getting errors whil...     Database   \n",
              "2997  sent monday en working properly hi guys we hav...     Database   \n",
              "2998  sent wednesday july hi please log incident for...     Database   \n",
              "2999  sent tuesday july connection issues hello have...     Database   \n",
              "\n",
              "                                              Tokenized  \\\n",
              "0     [hi, since, recruiter, lead, permission, appro...   \n",
              "1     [re, expire, days, hi, ask, help, update, pass...   \n",
              "2     [verification, warning, hi, has, got, attached...   \n",
              "3     [please, dear, looks, blacklisted, receiving, ...   \n",
              "4     [dear, modules, report, report, cost, thank, m...   \n",
              "...                                                 ...   \n",
              "2995  [sent, tuesday, feedback, follow, up, conf, ca...   \n",
              "2996  [sent, monday, issues, hi, keep, getting, erro...   \n",
              "2997  [sent, monday, en, working, properly, hi, guys...   \n",
              "2998  [sent, wednesday, july, hi, please, log, incid...   \n",
              "2999  [sent, tuesday, july, connection, issues, hell...   \n",
              "\n",
              "                                             pos_tagged  \\\n",
              "0     [(hi, NN), (since, IN), (recruiter, NN), (lead...   \n",
              "1     [(re, NN), (expire, NN), (days, NNS), (hi, VBP...   \n",
              "2     [(verification, NN), (warning, VBG), (hi, NN),...   \n",
              "3     [(please, VB), (dear, JJ), (looks, NNS), (blac...   \n",
              "4     [(dear, JJ), (modules, NNS), (report, VB), (re...   \n",
              "...                                                 ...   \n",
              "2995  [(sent, NN), (tuesday, NN), (feedback, NN), (f...   \n",
              "2996  [(sent, NN), (monday, NN), (issues, NNS), (hi,...   \n",
              "2997  [(sent, NN), (monday, NN), (en, IN), (working,...   \n",
              "2998  [(sent, NN), (wednesday, NN), (july, NN), (hi,...   \n",
              "2999  [(sent, NN), (tuesday, NN), (july, JJ), (conne...   \n",
              "\n",
              "                                              NN_tagged  \\\n",
              "0                     [hi, recruiter, lead, permission]   \n",
              "1     [re, expire, help, expire, hi, expiration, ple...   \n",
              "2     [verification, hi, please, analyst, verification]   \n",
              "3                                      [kind, engineer]   \n",
              "4                                        [report, cost]   \n",
              "...                                                 ...   \n",
              "2995  [sent, tuesday, feedback, conf, call, hello, s...   \n",
              "2996                       [sent, monday, please, help]   \n",
              "2997  [sent, monday, number, meeting, room, dialer, ...   \n",
              "2998  [sent, wednesday, july, please, log, incident,...   \n",
              "2999  [sent, tuesday, connection, connection, client...   \n",
              "\n",
              "                                         NN_Description  Label  WSP_Label  \\\n",
              "0                             recruiter lead permission      0          0   \n",
              "1     expire expire expiration prolongation expire o...      0          1   \n",
              "2                     verification analyst verification      0          1   \n",
              "3                                              engineer      0          1   \n",
              "4                                           report cost      0          1   \n",
              "...                                                 ...    ...        ...   \n",
              "2995  feedback conf call setup meeting side meeting ...      1          1   \n",
              "2996                                                         1          1   \n",
              "2997  number meeting room dialer pad multiple access...      1          1   \n",
              "2998  log incident assistance mo el ticket con colom...      1          1   \n",
              "2999  connection connection client side link connect...      1          1   \n",
              "\n",
              "      WSP_Value  NN_WSP_Label  NN_WSP_Value  \n",
              "0      9.481481             0      7.555556  \n",
              "1      9.804938             1      9.730435  \n",
              "2     10.836364             1     10.266667  \n",
              "3      9.777778             0      8.000000  \n",
              "4      9.171429             1      8.400000  \n",
              "...         ...           ...           ...  \n",
              "2995  10.489655             1     10.414815  \n",
              "2996   9.907692             0      0.000000  \n",
              "2997  10.257627             1      9.523810  \n",
              "2998  10.130159             1      9.655172  \n",
              "2999   9.729730             1      8.906667  \n",
              "\n",
              "[3000 rows x 11 columns]"
            ],
            "text/html": [
              "\n",
              "  <div id=\"df-9ae408e7-b18c-49a0-87ad-59e0ab6b17f5\" class=\"colab-df-container\">\n",
              "    <div>\n",
              "<style scoped>\n",
              "    .dataframe tbody tr th:only-of-type {\n",
              "        vertical-align: middle;\n",
              "    }\n",
              "\n",
              "    .dataframe tbody tr th {\n",
              "        vertical-align: top;\n",
              "    }\n",
              "\n",
              "    .dataframe thead th {\n",
              "        text-align: right;\n",
              "    }\n",
              "</style>\n",
              "<table border=\"1\" class=\"dataframe\">\n",
              "  <thead>\n",
              "    <tr style=\"text-align: right;\">\n",
              "      <th></th>\n",
              "      <th>Description</th>\n",
              "      <th>Category</th>\n",
              "      <th>Tokenized</th>\n",
              "      <th>pos_tagged</th>\n",
              "      <th>NN_tagged</th>\n",
              "      <th>NN_Description</th>\n",
              "      <th>Label</th>\n",
              "      <th>WSP_Label</th>\n",
              "      <th>WSP_Value</th>\n",
              "      <th>NN_WSP_Label</th>\n",
              "      <th>NN_WSP_Value</th>\n",
              "    </tr>\n",
              "  </thead>\n",
              "  <tbody>\n",
              "    <tr>\n",
              "      <th>0</th>\n",
              "      <td>hi since recruiter lead permission approve req...</td>\n",
              "      <td>Application</td>\n",
              "      <td>[hi, since, recruiter, lead, permission, appro...</td>\n",
              "      <td>[(hi, NN), (since, IN), (recruiter, NN), (lead...</td>\n",
              "      <td>[hi, recruiter, lead, permission]</td>\n",
              "      <td>recruiter lead permission</td>\n",
              "      <td>0</td>\n",
              "      <td>0</td>\n",
              "      <td>9.481481</td>\n",
              "      <td>0</td>\n",
              "      <td>7.555556</td>\n",
              "    </tr>\n",
              "    <tr>\n",
              "      <th>1</th>\n",
              "      <td>re expire days hi ask help update passwords co...</td>\n",
              "      <td>Application</td>\n",
              "      <td>[re, expire, days, hi, ask, help, update, pass...</td>\n",
              "      <td>[(re, NN), (expire, NN), (days, NNS), (hi, VBP...</td>\n",
              "      <td>[re, expire, help, expire, hi, expiration, ple...</td>\n",
              "      <td>expire expire expiration prolongation expire o...</td>\n",
              "      <td>0</td>\n",
              "      <td>1</td>\n",
              "      <td>9.804938</td>\n",
              "      <td>1</td>\n",
              "      <td>9.730435</td>\n",
              "    </tr>\n",
              "    <tr>\n",
              "      <th>2</th>\n",
              "      <td>verification warning hi has got attached pleas...</td>\n",
              "      <td>Application</td>\n",
              "      <td>[verification, warning, hi, has, got, attached...</td>\n",
              "      <td>[(verification, NN), (warning, VBG), (hi, NN),...</td>\n",
              "      <td>[verification, hi, please, analyst, verification]</td>\n",
              "      <td>verification analyst verification</td>\n",
              "      <td>0</td>\n",
              "      <td>1</td>\n",
              "      <td>10.836364</td>\n",
              "      <td>1</td>\n",
              "      <td>10.266667</td>\n",
              "    </tr>\n",
              "    <tr>\n",
              "      <th>3</th>\n",
              "      <td>please dear looks blacklisted receiving mails ...</td>\n",
              "      <td>Application</td>\n",
              "      <td>[please, dear, looks, blacklisted, receiving, ...</td>\n",
              "      <td>[(please, VB), (dear, JJ), (looks, NNS), (blac...</td>\n",
              "      <td>[kind, engineer]</td>\n",
              "      <td>engineer</td>\n",
              "      <td>0</td>\n",
              "      <td>1</td>\n",
              "      <td>9.777778</td>\n",
              "      <td>0</td>\n",
              "      <td>8.000000</td>\n",
              "    </tr>\n",
              "    <tr>\n",
              "      <th>4</th>\n",
              "      <td>dear modules report report cost thank much reg...</td>\n",
              "      <td>Application</td>\n",
              "      <td>[dear, modules, report, report, cost, thank, m...</td>\n",
              "      <td>[(dear, JJ), (modules, NNS), (report, VB), (re...</td>\n",
              "      <td>[report, cost]</td>\n",
              "      <td>report cost</td>\n",
              "      <td>0</td>\n",
              "      <td>1</td>\n",
              "      <td>9.171429</td>\n",
              "      <td>1</td>\n",
              "      <td>8.400000</td>\n",
              "    </tr>\n",
              "    <tr>\n",
              "      <th>...</th>\n",
              "      <td>...</td>\n",
              "      <td>...</td>\n",
              "      <td>...</td>\n",
              "      <td>...</td>\n",
              "      <td>...</td>\n",
              "      <td>...</td>\n",
              "      <td>...</td>\n",
              "      <td>...</td>\n",
              "      <td>...</td>\n",
              "      <td>...</td>\n",
              "      <td>...</td>\n",
              "    </tr>\n",
              "    <tr>\n",
              "      <th>2995</th>\n",
              "      <td>sent tuesday feedback follow up conf call hell...</td>\n",
              "      <td>Database</td>\n",
              "      <td>[sent, tuesday, feedback, follow, up, conf, ca...</td>\n",
              "      <td>[(sent, NN), (tuesday, NN), (feedback, NN), (f...</td>\n",
              "      <td>[sent, tuesday, feedback, conf, call, hello, s...</td>\n",
              "      <td>feedback conf call setup meeting side meeting ...</td>\n",
              "      <td>1</td>\n",
              "      <td>1</td>\n",
              "      <td>10.489655</td>\n",
              "      <td>1</td>\n",
              "      <td>10.414815</td>\n",
              "    </tr>\n",
              "    <tr>\n",
              "      <th>2996</th>\n",
              "      <td>sent monday issues hi keep getting errors whil...</td>\n",
              "      <td>Database</td>\n",
              "      <td>[sent, monday, issues, hi, keep, getting, erro...</td>\n",
              "      <td>[(sent, NN), (monday, NN), (issues, NNS), (hi,...</td>\n",
              "      <td>[sent, monday, please, help]</td>\n",
              "      <td></td>\n",
              "      <td>1</td>\n",
              "      <td>1</td>\n",
              "      <td>9.907692</td>\n",
              "      <td>0</td>\n",
              "      <td>0.000000</td>\n",
              "    </tr>\n",
              "    <tr>\n",
              "      <th>2997</th>\n",
              "      <td>sent monday en working properly hi guys we hav...</td>\n",
              "      <td>Database</td>\n",
              "      <td>[sent, monday, en, working, properly, hi, guys...</td>\n",
              "      <td>[(sent, NN), (monday, NN), (en, IN), (working,...</td>\n",
              "      <td>[sent, monday, number, meeting, room, dialer, ...</td>\n",
              "      <td>number meeting room dialer pad multiple access...</td>\n",
              "      <td>1</td>\n",
              "      <td>1</td>\n",
              "      <td>10.257627</td>\n",
              "      <td>1</td>\n",
              "      <td>9.523810</td>\n",
              "    </tr>\n",
              "    <tr>\n",
              "      <th>2998</th>\n",
              "      <td>sent wednesday july hi please log incident for...</td>\n",
              "      <td>Database</td>\n",
              "      <td>[sent, wednesday, july, hi, please, log, incid...</td>\n",
              "      <td>[(sent, NN), (wednesday, NN), (july, NN), (hi,...</td>\n",
              "      <td>[sent, wednesday, july, please, log, incident,...</td>\n",
              "      <td>log incident assistance mo el ticket con colom...</td>\n",
              "      <td>1</td>\n",
              "      <td>1</td>\n",
              "      <td>10.130159</td>\n",
              "      <td>1</td>\n",
              "      <td>9.655172</td>\n",
              "    </tr>\n",
              "    <tr>\n",
              "      <th>2999</th>\n",
              "      <td>sent tuesday july connection issues hello have...</td>\n",
              "      <td>Database</td>\n",
              "      <td>[sent, tuesday, july, connection, issues, hell...</td>\n",
              "      <td>[(sent, NN), (tuesday, NN), (july, JJ), (conne...</td>\n",
              "      <td>[sent, tuesday, connection, connection, client...</td>\n",
              "      <td>connection connection client side link connect...</td>\n",
              "      <td>1</td>\n",
              "      <td>1</td>\n",
              "      <td>9.729730</td>\n",
              "      <td>1</td>\n",
              "      <td>8.906667</td>\n",
              "    </tr>\n",
              "  </tbody>\n",
              "</table>\n",
              "<p>3000 rows × 11 columns</p>\n",
              "</div>\n",
              "    <div class=\"colab-df-buttons\">\n",
              "\n",
              "  <div class=\"colab-df-container\">\n",
              "    <button class=\"colab-df-convert\" onclick=\"convertToInteractive('df-9ae408e7-b18c-49a0-87ad-59e0ab6b17f5')\"\n",
              "            title=\"Convert this dataframe to an interactive table.\"\n",
              "            style=\"display:none;\">\n",
              "\n",
              "  <svg xmlns=\"http://www.w3.org/2000/svg\" height=\"24px\" viewBox=\"0 -960 960 960\">\n",
              "    <path d=\"M120-120v-720h720v720H120Zm60-500h600v-160H180v160Zm220 220h160v-160H400v160Zm0 220h160v-160H400v160ZM180-400h160v-160H180v160Zm440 0h160v-160H620v160ZM180-180h160v-160H180v160Zm440 0h160v-160H620v160Z\"/>\n",
              "  </svg>\n",
              "    </button>\n",
              "\n",
              "  <style>\n",
              "    .colab-df-container {\n",
              "      display:flex;\n",
              "      gap: 12px;\n",
              "    }\n",
              "\n",
              "    .colab-df-convert {\n",
              "      background-color: #E8F0FE;\n",
              "      border: none;\n",
              "      border-radius: 50%;\n",
              "      cursor: pointer;\n",
              "      display: none;\n",
              "      fill: #1967D2;\n",
              "      height: 32px;\n",
              "      padding: 0 0 0 0;\n",
              "      width: 32px;\n",
              "    }\n",
              "\n",
              "    .colab-df-convert:hover {\n",
              "      background-color: #E2EBFA;\n",
              "      box-shadow: 0px 1px 2px rgba(60, 64, 67, 0.3), 0px 1px 3px 1px rgba(60, 64, 67, 0.15);\n",
              "      fill: #174EA6;\n",
              "    }\n",
              "\n",
              "    .colab-df-buttons div {\n",
              "      margin-bottom: 4px;\n",
              "    }\n",
              "\n",
              "    [theme=dark] .colab-df-convert {\n",
              "      background-color: #3B4455;\n",
              "      fill: #D2E3FC;\n",
              "    }\n",
              "\n",
              "    [theme=dark] .colab-df-convert:hover {\n",
              "      background-color: #434B5C;\n",
              "      box-shadow: 0px 1px 3px 1px rgba(0, 0, 0, 0.15);\n",
              "      filter: drop-shadow(0px 1px 2px rgba(0, 0, 0, 0.3));\n",
              "      fill: #FFFFFF;\n",
              "    }\n",
              "  </style>\n",
              "\n",
              "    <script>\n",
              "      const buttonEl =\n",
              "        document.querySelector('#df-9ae408e7-b18c-49a0-87ad-59e0ab6b17f5 button.colab-df-convert');\n",
              "      buttonEl.style.display =\n",
              "        google.colab.kernel.accessAllowed ? 'block' : 'none';\n",
              "\n",
              "      async function convertToInteractive(key) {\n",
              "        const element = document.querySelector('#df-9ae408e7-b18c-49a0-87ad-59e0ab6b17f5');\n",
              "        const dataTable =\n",
              "          await google.colab.kernel.invokeFunction('convertToInteractive',\n",
              "                                                    [key], {});\n",
              "        if (!dataTable) return;\n",
              "\n",
              "        const docLinkHtml = 'Like what you see? Visit the ' +\n",
              "          '<a target=\"_blank\" href=https://colab.research.google.com/notebooks/data_table.ipynb>data table notebook</a>'\n",
              "          + ' to learn more about interactive tables.';\n",
              "        element.innerHTML = '';\n",
              "        dataTable['output_type'] = 'display_data';\n",
              "        await google.colab.output.renderOutput(dataTable, element);\n",
              "        const docLink = document.createElement('div');\n",
              "        docLink.innerHTML = docLinkHtml;\n",
              "        element.appendChild(docLink);\n",
              "      }\n",
              "    </script>\n",
              "  </div>\n",
              "\n",
              "\n",
              "<div id=\"df-9be9c0b7-056d-40b6-95ad-2ea4914cfe32\">\n",
              "  <button class=\"colab-df-quickchart\" onclick=\"quickchart('df-9be9c0b7-056d-40b6-95ad-2ea4914cfe32')\"\n",
              "            title=\"Suggest charts\"\n",
              "            style=\"display:none;\">\n",
              "\n",
              "<svg xmlns=\"http://www.w3.org/2000/svg\" height=\"24px\"viewBox=\"0 0 24 24\"\n",
              "     width=\"24px\">\n",
              "    <g>\n",
              "        <path d=\"M19 3H5c-1.1 0-2 .9-2 2v14c0 1.1.9 2 2 2h14c1.1 0 2-.9 2-2V5c0-1.1-.9-2-2-2zM9 17H7v-7h2v7zm4 0h-2V7h2v10zm4 0h-2v-4h2v4z\"/>\n",
              "    </g>\n",
              "</svg>\n",
              "  </button>\n",
              "\n",
              "<style>\n",
              "  .colab-df-quickchart {\n",
              "      --bg-color: #E8F0FE;\n",
              "      --fill-color: #1967D2;\n",
              "      --hover-bg-color: #E2EBFA;\n",
              "      --hover-fill-color: #174EA6;\n",
              "      --disabled-fill-color: #AAA;\n",
              "      --disabled-bg-color: #DDD;\n",
              "  }\n",
              "\n",
              "  [theme=dark] .colab-df-quickchart {\n",
              "      --bg-color: #3B4455;\n",
              "      --fill-color: #D2E3FC;\n",
              "      --hover-bg-color: #434B5C;\n",
              "      --hover-fill-color: #FFFFFF;\n",
              "      --disabled-bg-color: #3B4455;\n",
              "      --disabled-fill-color: #666;\n",
              "  }\n",
              "\n",
              "  .colab-df-quickchart {\n",
              "    background-color: var(--bg-color);\n",
              "    border: none;\n",
              "    border-radius: 50%;\n",
              "    cursor: pointer;\n",
              "    display: none;\n",
              "    fill: var(--fill-color);\n",
              "    height: 32px;\n",
              "    padding: 0;\n",
              "    width: 32px;\n",
              "  }\n",
              "\n",
              "  .colab-df-quickchart:hover {\n",
              "    background-color: var(--hover-bg-color);\n",
              "    box-shadow: 0 1px 2px rgba(60, 64, 67, 0.3), 0 1px 3px 1px rgba(60, 64, 67, 0.15);\n",
              "    fill: var(--button-hover-fill-color);\n",
              "  }\n",
              "\n",
              "  .colab-df-quickchart-complete:disabled,\n",
              "  .colab-df-quickchart-complete:disabled:hover {\n",
              "    background-color: var(--disabled-bg-color);\n",
              "    fill: var(--disabled-fill-color);\n",
              "    box-shadow: none;\n",
              "  }\n",
              "\n",
              "  .colab-df-spinner {\n",
              "    border: 2px solid var(--fill-color);\n",
              "    border-color: transparent;\n",
              "    border-bottom-color: var(--fill-color);\n",
              "    animation:\n",
              "      spin 1s steps(1) infinite;\n",
              "  }\n",
              "\n",
              "  @keyframes spin {\n",
              "    0% {\n",
              "      border-color: transparent;\n",
              "      border-bottom-color: var(--fill-color);\n",
              "      border-left-color: var(--fill-color);\n",
              "    }\n",
              "    20% {\n",
              "      border-color: transparent;\n",
              "      border-left-color: var(--fill-color);\n",
              "      border-top-color: var(--fill-color);\n",
              "    }\n",
              "    30% {\n",
              "      border-color: transparent;\n",
              "      border-left-color: var(--fill-color);\n",
              "      border-top-color: var(--fill-color);\n",
              "      border-right-color: var(--fill-color);\n",
              "    }\n",
              "    40% {\n",
              "      border-color: transparent;\n",
              "      border-right-color: var(--fill-color);\n",
              "      border-top-color: var(--fill-color);\n",
              "    }\n",
              "    60% {\n",
              "      border-color: transparent;\n",
              "      border-right-color: var(--fill-color);\n",
              "    }\n",
              "    80% {\n",
              "      border-color: transparent;\n",
              "      border-right-color: var(--fill-color);\n",
              "      border-bottom-color: var(--fill-color);\n",
              "    }\n",
              "    90% {\n",
              "      border-color: transparent;\n",
              "      border-bottom-color: var(--fill-color);\n",
              "    }\n",
              "  }\n",
              "</style>\n",
              "\n",
              "  <script>\n",
              "    async function quickchart(key) {\n",
              "      const quickchartButtonEl =\n",
              "        document.querySelector('#' + key + ' button');\n",
              "      quickchartButtonEl.disabled = true;  // To prevent multiple clicks.\n",
              "      quickchartButtonEl.classList.add('colab-df-spinner');\n",
              "      try {\n",
              "        const charts = await google.colab.kernel.invokeFunction(\n",
              "            'suggestCharts', [key], {});\n",
              "      } catch (error) {\n",
              "        console.error('Error during call to suggestCharts:', error);\n",
              "      }\n",
              "      quickchartButtonEl.classList.remove('colab-df-spinner');\n",
              "      quickchartButtonEl.classList.add('colab-df-quickchart-complete');\n",
              "    }\n",
              "    (() => {\n",
              "      let quickchartButtonEl =\n",
              "        document.querySelector('#df-9be9c0b7-056d-40b6-95ad-2ea4914cfe32 button');\n",
              "      quickchartButtonEl.style.display =\n",
              "        google.colab.kernel.accessAllowed ? 'block' : 'none';\n",
              "    })();\n",
              "  </script>\n",
              "</div>\n",
              "    </div>\n",
              "  </div>\n"
            ],
            "application/vnd.google.colaboratory.intrinsic+json": {
              "type": "dataframe",
              "variable_name": "df",
              "summary": "{\n  \"name\": \"df\",\n  \"rows\": 3000,\n  \"fields\": [\n    {\n      \"column\": \"Description\",\n      \"properties\": {\n        \"dtype\": \"string\",\n        \"num_unique_values\": 3000,\n        \"samples\": [\n          \"friday november pm assistants please secure floor tower hi please securing floor tower secure area evening cob tuesday morning area needs secure also needs informing employees about changes restriction well meeting rooms bookings restriction thank help kind regards officer information\",\n          \"pm hi joined fast followings visual studio provide other information please let thank best regards\",\n          \"card leaver la va ca defect\"\n        ],\n        \"semantic_type\": \"\",\n        \"description\": \"\"\n      }\n    },\n    {\n      \"column\": \"Category\",\n      \"properties\": {\n        \"dtype\": \"category\",\n        \"num_unique_values\": 5,\n        \"samples\": [\n          \"Database\",\n          \"Security\",\n          \"Network\"\n        ],\n        \"semantic_type\": \"\",\n        \"description\": \"\"\n      }\n    },\n    {\n      \"column\": \"Tokenized\",\n      \"properties\": {\n        \"dtype\": \"object\",\n        \"semantic_type\": \"\",\n        \"description\": \"\"\n      }\n    },\n    {\n      \"column\": \"pos_tagged\",\n      \"properties\": {\n        \"dtype\": \"object\",\n        \"semantic_type\": \"\",\n        \"description\": \"\"\n      }\n    },\n    {\n      \"column\": \"NN_tagged\",\n      \"properties\": {\n        \"dtype\": \"object\",\n        \"semantic_type\": \"\",\n        \"description\": \"\"\n      }\n    },\n    {\n      \"column\": \"NN_Description\",\n      \"properties\": {\n        \"dtype\": \"string\",\n        \"num_unique_values\": 2720,\n        \"samples\": [\n          \"announce crap eon program si va ne interval care placer la cl rom confidentiality notice content communication information environment printing\",\n          \"analyst submit make side let\",\n          \"phone issue move phone press cable discovery discovery issue phone centimeter analyst\"\n        ],\n        \"semantic_type\": \"\",\n        \"description\": \"\"\n      }\n    },\n    {\n      \"column\": \"Label\",\n      \"properties\": {\n        \"dtype\": \"number\",\n        \"std\": 1,\n        \"min\": 0,\n        \"max\": 4,\n        \"num_unique_values\": 5,\n        \"samples\": [\n          1,\n          3,\n          2\n        ],\n        \"semantic_type\": \"\",\n        \"description\": \"\"\n      }\n    },\n    {\n      \"column\": \"WSP_Label\",\n      \"properties\": {\n        \"dtype\": \"number\",\n        \"std\": 0,\n        \"min\": 0,\n        \"max\": 4,\n        \"num_unique_values\": 4,\n        \"samples\": [\n          1,\n          4,\n          0\n        ],\n        \"semantic_type\": \"\",\n        \"description\": \"\"\n      }\n    },\n    {\n      \"column\": \"WSP_Value\",\n      \"properties\": {\n        \"dtype\": \"number\",\n        \"std\": 0.7608748760101596,\n        \"min\": 0.0,\n        \"max\": 14.916666666666666,\n        \"num_unique_values\": 1822,\n        \"samples\": [\n          10.559999999999999,\n          10.646153846153846,\n          7.666666666666667\n        ],\n        \"semantic_type\": \"\",\n        \"description\": \"\"\n      }\n    },\n    {\n      \"column\": \"NN_WSP_Label\",\n      \"properties\": {\n        \"dtype\": \"number\",\n        \"std\": 0,\n        \"min\": 0,\n        \"max\": 4,\n        \"num_unique_values\": 5,\n        \"samples\": [\n          1,\n          2,\n          3\n        ],\n        \"semantic_type\": \"\",\n        \"description\": \"\"\n      }\n    },\n    {\n      \"column\": \"NN_WSP_Value\",\n      \"properties\": {\n        \"dtype\": \"number\",\n        \"std\": 2.2441165130808853,\n        \"min\": 0.0,\n        \"max\": 20.666666666666668,\n        \"num_unique_values\": 1138,\n        \"samples\": [\n          11.844444444444445,\n          10.947826086956521,\n          8.444444444444443\n        ],\n        \"semantic_type\": \"\",\n        \"description\": \"\"\n      }\n    }\n  ]\n}"
            }
          },
          "metadata": {},
          "execution_count": 28
        }
      ]
    },
    {
      "cell_type": "code",
      "source": [
        "accuracy_score(df['Label'], df['WSP_Label'])"
      ],
      "metadata": {
        "colab": {
          "base_uri": "https://localhost:8080/"
        },
        "id": "99e5b0NrHwFI",
        "outputId": "2100c89a-7806-4882-9a7e-93f5c7156132"
      },
      "execution_count": null,
      "outputs": [
        {
          "output_type": "execute_result",
          "data": {
            "text/plain": [
              "0.202"
            ]
          },
          "metadata": {},
          "execution_count": 29
        }
      ]
    },
    {
      "cell_type": "code",
      "source": [
        "accuracy_score(df['Label'], df['NN_WSP_Label'])"
      ],
      "metadata": {
        "id": "9V_5rDwzNbaQ",
        "colab": {
          "base_uri": "https://localhost:8080/"
        },
        "outputId": "17e2eff2-4d36-4ba4-87ea-bcbd45e9d716"
      },
      "execution_count": null,
      "outputs": [
        {
          "output_type": "execute_result",
          "data": {
            "text/plain": [
              "0.22566666666666665"
            ]
          },
          "metadata": {},
          "execution_count": 30
        }
      ]
    },
    {
      "cell_type": "code",
      "source": [
        "df_0 = df.loc[(df['Label'] == 0)]\n",
        "df_1 = df.loc[(df['Label'] == 1)]\n",
        "df_2 = df.loc[(df['Label'] == 2)]\n",
        "df_3 = df.loc[(df['Label'] == 3)]\n",
        "df_4 = df.loc[(df['Label'] == 4)]"
      ],
      "metadata": {
        "id": "XA0xO0qMRpt7"
      },
      "execution_count": null,
      "outputs": []
    },
    {
      "cell_type": "code",
      "source": [
        "accuracy_score(df_0['Label'], df_0['WSP_Label'])"
      ],
      "metadata": {
        "colab": {
          "base_uri": "https://localhost:8080/"
        },
        "id": "-VZpJzecHx8b",
        "outputId": "1603856e-c8ee-4e4a-de2a-18871765ec9d"
      },
      "execution_count": null,
      "outputs": [
        {
          "output_type": "execute_result",
          "data": {
            "text/plain": [
              "0.06166666666666667"
            ]
          },
          "metadata": {},
          "execution_count": 32
        }
      ]
    },
    {
      "cell_type": "code",
      "source": [
        "accuracy_score(df_0['Label'], df_0['NN_WSP_Label'])"
      ],
      "metadata": {
        "id": "YD2qDzLLVSY2",
        "colab": {
          "base_uri": "https://localhost:8080/"
        },
        "outputId": "7d391080-1233-458b-c05c-c16020c78c00"
      },
      "execution_count": null,
      "outputs": [
        {
          "output_type": "execute_result",
          "data": {
            "text/plain": [
              "0.20333333333333334"
            ]
          },
          "metadata": {},
          "execution_count": 33
        }
      ]
    },
    {
      "cell_type": "code",
      "source": [
        "accuracy_score(df_1['Label'], df_1['WSP_Label'])"
      ],
      "metadata": {
        "colab": {
          "base_uri": "https://localhost:8080/"
        },
        "id": "41ChmAo5H0Q-",
        "outputId": "b99e0239-6c1f-492a-c142-67ef2b5e4ff8"
      },
      "execution_count": null,
      "outputs": [
        {
          "output_type": "execute_result",
          "data": {
            "text/plain": [
              "0.8983333333333333"
            ]
          },
          "metadata": {},
          "execution_count": 34
        }
      ]
    },
    {
      "cell_type": "code",
      "source": [
        "accuracy_score(df_1['Label'], df_1['NN_WSP_Label'])"
      ],
      "metadata": {
        "id": "Way1SnfPVV_Z",
        "colab": {
          "base_uri": "https://localhost:8080/"
        },
        "outputId": "4fd91dfb-d7d2-4749-f1c9-f91eaa5117b2"
      },
      "execution_count": null,
      "outputs": [
        {
          "output_type": "execute_result",
          "data": {
            "text/plain": [
              "0.8133333333333334"
            ]
          },
          "metadata": {},
          "execution_count": 35
        }
      ]
    },
    {
      "cell_type": "code",
      "source": [
        "accuracy_score(df_2['Label'], df_2['WSP_Label'])"
      ],
      "metadata": {
        "colab": {
          "base_uri": "https://localhost:8080/"
        },
        "id": "KKbJIVKwH2tl",
        "outputId": "fdc9230b-1df1-44eb-b80d-ca9725cfd8fa"
      },
      "execution_count": null,
      "outputs": [
        {
          "output_type": "execute_result",
          "data": {
            "text/plain": [
              "0.0"
            ]
          },
          "metadata": {},
          "execution_count": 36
        }
      ]
    },
    {
      "cell_type": "code",
      "source": [
        "accuracy_score(df_2['Label'], df_2['NN_WSP_Label'])"
      ],
      "metadata": {
        "id": "eU19PCTkVZiT",
        "colab": {
          "base_uri": "https://localhost:8080/"
        },
        "outputId": "0065c8c7-7c27-4aaa-d5e1-e4f2446f044c"
      },
      "execution_count": null,
      "outputs": [
        {
          "output_type": "execute_result",
          "data": {
            "text/plain": [
              "0.013333333333333334"
            ]
          },
          "metadata": {},
          "execution_count": 37
        }
      ]
    },
    {
      "cell_type": "code",
      "source": [
        "accuracy_score(df_3['Label'], df_3['WSP_Label'])"
      ],
      "metadata": {
        "colab": {
          "base_uri": "https://localhost:8080/"
        },
        "id": "bcDDdal3H4Ml",
        "outputId": "96df3fcf-7ac0-43fb-b001-dabc6e87ab1f"
      },
      "execution_count": null,
      "outputs": [
        {
          "output_type": "execute_result",
          "data": {
            "text/plain": [
              "0.04"
            ]
          },
          "metadata": {},
          "execution_count": 38
        }
      ]
    },
    {
      "cell_type": "code",
      "source": [
        "accuracy_score(df_3['Label'], df_3['NN_WSP_Label'])"
      ],
      "metadata": {
        "id": "F1h0mXBvVaf8",
        "colab": {
          "base_uri": "https://localhost:8080/"
        },
        "outputId": "9123431b-af38-48b7-842f-790e5fb07697"
      },
      "execution_count": null,
      "outputs": [
        {
          "output_type": "execute_result",
          "data": {
            "text/plain": [
              "0.08"
            ]
          },
          "metadata": {},
          "execution_count": 39
        }
      ]
    },
    {
      "cell_type": "code",
      "source": [
        "accuracy_score(df_4['Label'], df_4['WSP_Label'])"
      ],
      "metadata": {
        "colab": {
          "base_uri": "https://localhost:8080/"
        },
        "id": "03WbEioOH5-e",
        "outputId": "559b9953-e062-498e-93c1-91e4317e38eb"
      },
      "execution_count": null,
      "outputs": [
        {
          "output_type": "execute_result",
          "data": {
            "text/plain": [
              "0.01"
            ]
          },
          "metadata": {},
          "execution_count": 40
        }
      ]
    },
    {
      "cell_type": "code",
      "source": [
        "accuracy_score(df_4['Label'], df_4['NN_WSP_Label'])"
      ],
      "metadata": {
        "id": "y7FS_gFEVel7",
        "colab": {
          "base_uri": "https://localhost:8080/"
        },
        "outputId": "78bf14ce-6a7a-4be4-bead-7e0c4d62b9e7"
      },
      "execution_count": null,
      "outputs": [
        {
          "output_type": "execute_result",
          "data": {
            "text/plain": [
              "0.018333333333333333"
            ]
          },
          "metadata": {},
          "execution_count": 41
        }
      ]
    },
    {
      "cell_type": "code",
      "source": [
        "def WordnetWUP_labelscore(a):\n",
        "  highest_netavg=0\n",
        "  highest_label=0\n",
        "  label=-1\n",
        "  #print(a)\n",
        "  words = nltk.word_tokenize(a)\n",
        "  for z in topics:\n",
        "    total=0\n",
        "    counter=0\n",
        "    #print(z)\n",
        "    for x in z:\n",
        "      count=0\n",
        "      avg=0\n",
        "      sum=0\n",
        "      for y in words:\n",
        "        if(wordnet.synsets(x) and wordnet.synsets(y)):\n",
        "          syn1 = wordnet.synsets(x)[0]\n",
        "          syn2 = wordnet.synsets(y)[0]\n",
        "          if(syn1.pos() == 'n' and syn2.pos() == 'n'):\n",
        "            #print(\"Shortest path between \",x,\" and \",y,\" is: \", syn1.wup_similarity(syn2))\n",
        "            sum=sum+syn1.wup_similarity(syn2)\n",
        "            count=count+1\n",
        "      if(count==0):\n",
        "        avg=0\n",
        "      else:\n",
        "        avg=sum/count\n",
        "      total=total+avg\n",
        "      counter=counter+1\n",
        "      #print(sum)\n",
        "      #print(count)\n",
        "      #print(avg)\n",
        "    if(counter==0):\n",
        "      netavg=0\n",
        "    else:\n",
        "      netavg=total/counter\n",
        "    #print(counter)\n",
        "    #print(\"Total score for \",z,\" is: \",total)\n",
        "    #print(\"Net average for \",z,\" is: \",netavg)\n",
        "    label=label+1\n",
        "    if(netavg>highest_netavg):\n",
        "      highest_netavg=netavg\n",
        "      highest_label=label\n",
        "      #print(\"label: \",label,\" has shortest path value: \",lowest_netavg)\n",
        "  return highest_label,highest_netavg"
      ],
      "metadata": {
        "id": "LihS7434Nqgl"
      },
      "execution_count": null,
      "outputs": []
    },
    {
      "cell_type": "code",
      "source": [
        "df[ [\"WUP_Label\",\"WUP_Value\"] ] = df[\"Description\"].apply(WordnetWUP_labelscore).apply(pd.Series)"
      ],
      "metadata": {
        "id": "0PvuT1OfOSSd"
      },
      "execution_count": null,
      "outputs": []
    },
    {
      "cell_type": "code",
      "source": [
        "df[ [\"NN_WUP_Label\",\"NN_WUP_Value\"] ] = df[\"NN_Description\"].apply(WordnetWUP_labelscore).apply(pd.Series)"
      ],
      "metadata": {
        "id": "P9YYqw-fIHb_"
      },
      "execution_count": null,
      "outputs": []
    },
    {
      "cell_type": "code",
      "source": [
        "df[\"WUP_Label\"] = df[\"WUP_Label\"].astype(int)"
      ],
      "metadata": {
        "id": "EuBx1IgdRBCV"
      },
      "execution_count": null,
      "outputs": []
    },
    {
      "cell_type": "code",
      "source": [
        "df[\"NN_WUP_Label\"] = df[\"NN_WUP_Label\"].astype(int)"
      ],
      "metadata": {
        "id": "ji31jGroIKGB"
      },
      "execution_count": null,
      "outputs": []
    },
    {
      "cell_type": "code",
      "source": [
        "df"
      ],
      "metadata": {
        "id": "VEU-WoElRLS8",
        "colab": {
          "base_uri": "https://localhost:8080/",
          "height": 1000
        },
        "outputId": "339b511a-df55-4714-81fa-4bc00f218511"
      },
      "execution_count": null,
      "outputs": [
        {
          "output_type": "execute_result",
          "data": {
            "text/plain": [
              "                                            Description     Category  \\\n",
              "0     hi since recruiter lead permission approve req...  Application   \n",
              "1     re expire days hi ask help update passwords co...  Application   \n",
              "2     verification warning hi has got attached pleas...  Application   \n",
              "3     please dear looks blacklisted receiving mails ...  Application   \n",
              "4     dear modules report report cost thank much reg...  Application   \n",
              "...                                                 ...          ...   \n",
              "2995  sent tuesday feedback follow up conf call hell...     Database   \n",
              "2996  sent monday issues hi keep getting errors whil...     Database   \n",
              "2997  sent monday en working properly hi guys we hav...     Database   \n",
              "2998  sent wednesday july hi please log incident for...     Database   \n",
              "2999  sent tuesday july connection issues hello have...     Database   \n",
              "\n",
              "                                              Tokenized  \\\n",
              "0     [hi, since, recruiter, lead, permission, appro...   \n",
              "1     [re, expire, days, hi, ask, help, update, pass...   \n",
              "2     [verification, warning, hi, has, got, attached...   \n",
              "3     [please, dear, looks, blacklisted, receiving, ...   \n",
              "4     [dear, modules, report, report, cost, thank, m...   \n",
              "...                                                 ...   \n",
              "2995  [sent, tuesday, feedback, follow, up, conf, ca...   \n",
              "2996  [sent, monday, issues, hi, keep, getting, erro...   \n",
              "2997  [sent, monday, en, working, properly, hi, guys...   \n",
              "2998  [sent, wednesday, july, hi, please, log, incid...   \n",
              "2999  [sent, tuesday, july, connection, issues, hell...   \n",
              "\n",
              "                                             pos_tagged  \\\n",
              "0     [(hi, NN), (since, IN), (recruiter, NN), (lead...   \n",
              "1     [(re, NN), (expire, NN), (days, NNS), (hi, VBP...   \n",
              "2     [(verification, NN), (warning, VBG), (hi, NN),...   \n",
              "3     [(please, VB), (dear, JJ), (looks, NNS), (blac...   \n",
              "4     [(dear, JJ), (modules, NNS), (report, VB), (re...   \n",
              "...                                                 ...   \n",
              "2995  [(sent, NN), (tuesday, NN), (feedback, NN), (f...   \n",
              "2996  [(sent, NN), (monday, NN), (issues, NNS), (hi,...   \n",
              "2997  [(sent, NN), (monday, NN), (en, IN), (working,...   \n",
              "2998  [(sent, NN), (wednesday, NN), (july, NN), (hi,...   \n",
              "2999  [(sent, NN), (tuesday, NN), (july, JJ), (conne...   \n",
              "\n",
              "                                              NN_tagged  \\\n",
              "0                     [hi, recruiter, lead, permission]   \n",
              "1     [re, expire, help, expire, hi, expiration, ple...   \n",
              "2     [verification, hi, please, analyst, verification]   \n",
              "3                                      [kind, engineer]   \n",
              "4                                        [report, cost]   \n",
              "...                                                 ...   \n",
              "2995  [sent, tuesday, feedback, conf, call, hello, s...   \n",
              "2996                       [sent, monday, please, help]   \n",
              "2997  [sent, monday, number, meeting, room, dialer, ...   \n",
              "2998  [sent, wednesday, july, please, log, incident,...   \n",
              "2999  [sent, tuesday, connection, connection, client...   \n",
              "\n",
              "                                         NN_Description  Label  WSP_Label  \\\n",
              "0                             recruiter lead permission      0          0   \n",
              "1     expire expire expiration prolongation expire o...      0          1   \n",
              "2                     verification analyst verification      0          1   \n",
              "3                                              engineer      0          1   \n",
              "4                                           report cost      0          1   \n",
              "...                                                 ...    ...        ...   \n",
              "2995  feedback conf call setup meeting side meeting ...      1          1   \n",
              "2996                                                         1          1   \n",
              "2997  number meeting room dialer pad multiple access...      1          1   \n",
              "2998  log incident assistance mo el ticket con colom...      1          1   \n",
              "2999  connection connection client side link connect...      1          1   \n",
              "\n",
              "      WSP_Value  NN_WSP_Label  NN_WSP_Value  WUP_Label  WUP_Value  \\\n",
              "0      9.481481             0      7.555556          0   0.363809   \n",
              "1      9.804938             1      9.730435          1   0.280167   \n",
              "2     10.836364             1     10.266667          4   0.310190   \n",
              "3      9.777778             0      8.000000          0   0.291903   \n",
              "4      9.171429             1      8.400000          1   0.299222   \n",
              "...         ...           ...           ...        ...        ...   \n",
              "2995  10.489655             1     10.414815          1   0.267443   \n",
              "2996   9.907692             0      0.000000          4   0.323321   \n",
              "2997  10.257627             1      9.523810          1   0.264999   \n",
              "2998  10.130159             1      9.655172          1   0.284620   \n",
              "2999   9.729730             1      8.906667          1   0.284137   \n",
              "\n",
              "      NN_WUP_Label  NN_WUP_Value  \n",
              "0                0      0.463085  \n",
              "1                1      0.280997  \n",
              "2                4      0.337963  \n",
              "3                0      0.326688  \n",
              "4                1      0.363233  \n",
              "...            ...           ...  \n",
              "2995             1      0.262816  \n",
              "2996             0      0.000000  \n",
              "2997             3      0.306905  \n",
              "2998             1      0.293325  \n",
              "2999             1      0.325234  \n",
              "\n",
              "[3000 rows x 15 columns]"
            ],
            "text/html": [
              "\n",
              "  <div id=\"df-95a0a8bc-50e2-4a08-93c4-98d0917c0ddb\" class=\"colab-df-container\">\n",
              "    <div>\n",
              "<style scoped>\n",
              "    .dataframe tbody tr th:only-of-type {\n",
              "        vertical-align: middle;\n",
              "    }\n",
              "\n",
              "    .dataframe tbody tr th {\n",
              "        vertical-align: top;\n",
              "    }\n",
              "\n",
              "    .dataframe thead th {\n",
              "        text-align: right;\n",
              "    }\n",
              "</style>\n",
              "<table border=\"1\" class=\"dataframe\">\n",
              "  <thead>\n",
              "    <tr style=\"text-align: right;\">\n",
              "      <th></th>\n",
              "      <th>Description</th>\n",
              "      <th>Category</th>\n",
              "      <th>Tokenized</th>\n",
              "      <th>pos_tagged</th>\n",
              "      <th>NN_tagged</th>\n",
              "      <th>NN_Description</th>\n",
              "      <th>Label</th>\n",
              "      <th>WSP_Label</th>\n",
              "      <th>WSP_Value</th>\n",
              "      <th>NN_WSP_Label</th>\n",
              "      <th>NN_WSP_Value</th>\n",
              "      <th>WUP_Label</th>\n",
              "      <th>WUP_Value</th>\n",
              "      <th>NN_WUP_Label</th>\n",
              "      <th>NN_WUP_Value</th>\n",
              "    </tr>\n",
              "  </thead>\n",
              "  <tbody>\n",
              "    <tr>\n",
              "      <th>0</th>\n",
              "      <td>hi since recruiter lead permission approve req...</td>\n",
              "      <td>Application</td>\n",
              "      <td>[hi, since, recruiter, lead, permission, appro...</td>\n",
              "      <td>[(hi, NN), (since, IN), (recruiter, NN), (lead...</td>\n",
              "      <td>[hi, recruiter, lead, permission]</td>\n",
              "      <td>recruiter lead permission</td>\n",
              "      <td>0</td>\n",
              "      <td>0</td>\n",
              "      <td>9.481481</td>\n",
              "      <td>0</td>\n",
              "      <td>7.555556</td>\n",
              "      <td>0</td>\n",
              "      <td>0.363809</td>\n",
              "      <td>0</td>\n",
              "      <td>0.463085</td>\n",
              "    </tr>\n",
              "    <tr>\n",
              "      <th>1</th>\n",
              "      <td>re expire days hi ask help update passwords co...</td>\n",
              "      <td>Application</td>\n",
              "      <td>[re, expire, days, hi, ask, help, update, pass...</td>\n",
              "      <td>[(re, NN), (expire, NN), (days, NNS), (hi, VBP...</td>\n",
              "      <td>[re, expire, help, expire, hi, expiration, ple...</td>\n",
              "      <td>expire expire expiration prolongation expire o...</td>\n",
              "      <td>0</td>\n",
              "      <td>1</td>\n",
              "      <td>9.804938</td>\n",
              "      <td>1</td>\n",
              "      <td>9.730435</td>\n",
              "      <td>1</td>\n",
              "      <td>0.280167</td>\n",
              "      <td>1</td>\n",
              "      <td>0.280997</td>\n",
              "    </tr>\n",
              "    <tr>\n",
              "      <th>2</th>\n",
              "      <td>verification warning hi has got attached pleas...</td>\n",
              "      <td>Application</td>\n",
              "      <td>[verification, warning, hi, has, got, attached...</td>\n",
              "      <td>[(verification, NN), (warning, VBG), (hi, NN),...</td>\n",
              "      <td>[verification, hi, please, analyst, verification]</td>\n",
              "      <td>verification analyst verification</td>\n",
              "      <td>0</td>\n",
              "      <td>1</td>\n",
              "      <td>10.836364</td>\n",
              "      <td>1</td>\n",
              "      <td>10.266667</td>\n",
              "      <td>4</td>\n",
              "      <td>0.310190</td>\n",
              "      <td>4</td>\n",
              "      <td>0.337963</td>\n",
              "    </tr>\n",
              "    <tr>\n",
              "      <th>3</th>\n",
              "      <td>please dear looks blacklisted receiving mails ...</td>\n",
              "      <td>Application</td>\n",
              "      <td>[please, dear, looks, blacklisted, receiving, ...</td>\n",
              "      <td>[(please, VB), (dear, JJ), (looks, NNS), (blac...</td>\n",
              "      <td>[kind, engineer]</td>\n",
              "      <td>engineer</td>\n",
              "      <td>0</td>\n",
              "      <td>1</td>\n",
              "      <td>9.777778</td>\n",
              "      <td>0</td>\n",
              "      <td>8.000000</td>\n",
              "      <td>0</td>\n",
              "      <td>0.291903</td>\n",
              "      <td>0</td>\n",
              "      <td>0.326688</td>\n",
              "    </tr>\n",
              "    <tr>\n",
              "      <th>4</th>\n",
              "      <td>dear modules report report cost thank much reg...</td>\n",
              "      <td>Application</td>\n",
              "      <td>[dear, modules, report, report, cost, thank, m...</td>\n",
              "      <td>[(dear, JJ), (modules, NNS), (report, VB), (re...</td>\n",
              "      <td>[report, cost]</td>\n",
              "      <td>report cost</td>\n",
              "      <td>0</td>\n",
              "      <td>1</td>\n",
              "      <td>9.171429</td>\n",
              "      <td>1</td>\n",
              "      <td>8.400000</td>\n",
              "      <td>1</td>\n",
              "      <td>0.299222</td>\n",
              "      <td>1</td>\n",
              "      <td>0.363233</td>\n",
              "    </tr>\n",
              "    <tr>\n",
              "      <th>...</th>\n",
              "      <td>...</td>\n",
              "      <td>...</td>\n",
              "      <td>...</td>\n",
              "      <td>...</td>\n",
              "      <td>...</td>\n",
              "      <td>...</td>\n",
              "      <td>...</td>\n",
              "      <td>...</td>\n",
              "      <td>...</td>\n",
              "      <td>...</td>\n",
              "      <td>...</td>\n",
              "      <td>...</td>\n",
              "      <td>...</td>\n",
              "      <td>...</td>\n",
              "      <td>...</td>\n",
              "    </tr>\n",
              "    <tr>\n",
              "      <th>2995</th>\n",
              "      <td>sent tuesday feedback follow up conf call hell...</td>\n",
              "      <td>Database</td>\n",
              "      <td>[sent, tuesday, feedback, follow, up, conf, ca...</td>\n",
              "      <td>[(sent, NN), (tuesday, NN), (feedback, NN), (f...</td>\n",
              "      <td>[sent, tuesday, feedback, conf, call, hello, s...</td>\n",
              "      <td>feedback conf call setup meeting side meeting ...</td>\n",
              "      <td>1</td>\n",
              "      <td>1</td>\n",
              "      <td>10.489655</td>\n",
              "      <td>1</td>\n",
              "      <td>10.414815</td>\n",
              "      <td>1</td>\n",
              "      <td>0.267443</td>\n",
              "      <td>1</td>\n",
              "      <td>0.262816</td>\n",
              "    </tr>\n",
              "    <tr>\n",
              "      <th>2996</th>\n",
              "      <td>sent monday issues hi keep getting errors whil...</td>\n",
              "      <td>Database</td>\n",
              "      <td>[sent, monday, issues, hi, keep, getting, erro...</td>\n",
              "      <td>[(sent, NN), (monday, NN), (issues, NNS), (hi,...</td>\n",
              "      <td>[sent, monday, please, help]</td>\n",
              "      <td></td>\n",
              "      <td>1</td>\n",
              "      <td>1</td>\n",
              "      <td>9.907692</td>\n",
              "      <td>0</td>\n",
              "      <td>0.000000</td>\n",
              "      <td>4</td>\n",
              "      <td>0.323321</td>\n",
              "      <td>0</td>\n",
              "      <td>0.000000</td>\n",
              "    </tr>\n",
              "    <tr>\n",
              "      <th>2997</th>\n",
              "      <td>sent monday en working properly hi guys we hav...</td>\n",
              "      <td>Database</td>\n",
              "      <td>[sent, monday, en, working, properly, hi, guys...</td>\n",
              "      <td>[(sent, NN), (monday, NN), (en, IN), (working,...</td>\n",
              "      <td>[sent, monday, number, meeting, room, dialer, ...</td>\n",
              "      <td>number meeting room dialer pad multiple access...</td>\n",
              "      <td>1</td>\n",
              "      <td>1</td>\n",
              "      <td>10.257627</td>\n",
              "      <td>1</td>\n",
              "      <td>9.523810</td>\n",
              "      <td>1</td>\n",
              "      <td>0.264999</td>\n",
              "      <td>3</td>\n",
              "      <td>0.306905</td>\n",
              "    </tr>\n",
              "    <tr>\n",
              "      <th>2998</th>\n",
              "      <td>sent wednesday july hi please log incident for...</td>\n",
              "      <td>Database</td>\n",
              "      <td>[sent, wednesday, july, hi, please, log, incid...</td>\n",
              "      <td>[(sent, NN), (wednesday, NN), (july, NN), (hi,...</td>\n",
              "      <td>[sent, wednesday, july, please, log, incident,...</td>\n",
              "      <td>log incident assistance mo el ticket con colom...</td>\n",
              "      <td>1</td>\n",
              "      <td>1</td>\n",
              "      <td>10.130159</td>\n",
              "      <td>1</td>\n",
              "      <td>9.655172</td>\n",
              "      <td>1</td>\n",
              "      <td>0.284620</td>\n",
              "      <td>1</td>\n",
              "      <td>0.293325</td>\n",
              "    </tr>\n",
              "    <tr>\n",
              "      <th>2999</th>\n",
              "      <td>sent tuesday july connection issues hello have...</td>\n",
              "      <td>Database</td>\n",
              "      <td>[sent, tuesday, july, connection, issues, hell...</td>\n",
              "      <td>[(sent, NN), (tuesday, NN), (july, JJ), (conne...</td>\n",
              "      <td>[sent, tuesday, connection, connection, client...</td>\n",
              "      <td>connection connection client side link connect...</td>\n",
              "      <td>1</td>\n",
              "      <td>1</td>\n",
              "      <td>9.729730</td>\n",
              "      <td>1</td>\n",
              "      <td>8.906667</td>\n",
              "      <td>1</td>\n",
              "      <td>0.284137</td>\n",
              "      <td>1</td>\n",
              "      <td>0.325234</td>\n",
              "    </tr>\n",
              "  </tbody>\n",
              "</table>\n",
              "<p>3000 rows × 15 columns</p>\n",
              "</div>\n",
              "    <div class=\"colab-df-buttons\">\n",
              "\n",
              "  <div class=\"colab-df-container\">\n",
              "    <button class=\"colab-df-convert\" onclick=\"convertToInteractive('df-95a0a8bc-50e2-4a08-93c4-98d0917c0ddb')\"\n",
              "            title=\"Convert this dataframe to an interactive table.\"\n",
              "            style=\"display:none;\">\n",
              "\n",
              "  <svg xmlns=\"http://www.w3.org/2000/svg\" height=\"24px\" viewBox=\"0 -960 960 960\">\n",
              "    <path d=\"M120-120v-720h720v720H120Zm60-500h600v-160H180v160Zm220 220h160v-160H400v160Zm0 220h160v-160H400v160ZM180-400h160v-160H180v160Zm440 0h160v-160H620v160ZM180-180h160v-160H180v160Zm440 0h160v-160H620v160Z\"/>\n",
              "  </svg>\n",
              "    </button>\n",
              "\n",
              "  <style>\n",
              "    .colab-df-container {\n",
              "      display:flex;\n",
              "      gap: 12px;\n",
              "    }\n",
              "\n",
              "    .colab-df-convert {\n",
              "      background-color: #E8F0FE;\n",
              "      border: none;\n",
              "      border-radius: 50%;\n",
              "      cursor: pointer;\n",
              "      display: none;\n",
              "      fill: #1967D2;\n",
              "      height: 32px;\n",
              "      padding: 0 0 0 0;\n",
              "      width: 32px;\n",
              "    }\n",
              "\n",
              "    .colab-df-convert:hover {\n",
              "      background-color: #E2EBFA;\n",
              "      box-shadow: 0px 1px 2px rgba(60, 64, 67, 0.3), 0px 1px 3px 1px rgba(60, 64, 67, 0.15);\n",
              "      fill: #174EA6;\n",
              "    }\n",
              "\n",
              "    .colab-df-buttons div {\n",
              "      margin-bottom: 4px;\n",
              "    }\n",
              "\n",
              "    [theme=dark] .colab-df-convert {\n",
              "      background-color: #3B4455;\n",
              "      fill: #D2E3FC;\n",
              "    }\n",
              "\n",
              "    [theme=dark] .colab-df-convert:hover {\n",
              "      background-color: #434B5C;\n",
              "      box-shadow: 0px 1px 3px 1px rgba(0, 0, 0, 0.15);\n",
              "      filter: drop-shadow(0px 1px 2px rgba(0, 0, 0, 0.3));\n",
              "      fill: #FFFFFF;\n",
              "    }\n",
              "  </style>\n",
              "\n",
              "    <script>\n",
              "      const buttonEl =\n",
              "        document.querySelector('#df-95a0a8bc-50e2-4a08-93c4-98d0917c0ddb button.colab-df-convert');\n",
              "      buttonEl.style.display =\n",
              "        google.colab.kernel.accessAllowed ? 'block' : 'none';\n",
              "\n",
              "      async function convertToInteractive(key) {\n",
              "        const element = document.querySelector('#df-95a0a8bc-50e2-4a08-93c4-98d0917c0ddb');\n",
              "        const dataTable =\n",
              "          await google.colab.kernel.invokeFunction('convertToInteractive',\n",
              "                                                    [key], {});\n",
              "        if (!dataTable) return;\n",
              "\n",
              "        const docLinkHtml = 'Like what you see? Visit the ' +\n",
              "          '<a target=\"_blank\" href=https://colab.research.google.com/notebooks/data_table.ipynb>data table notebook</a>'\n",
              "          + ' to learn more about interactive tables.';\n",
              "        element.innerHTML = '';\n",
              "        dataTable['output_type'] = 'display_data';\n",
              "        await google.colab.output.renderOutput(dataTable, element);\n",
              "        const docLink = document.createElement('div');\n",
              "        docLink.innerHTML = docLinkHtml;\n",
              "        element.appendChild(docLink);\n",
              "      }\n",
              "    </script>\n",
              "  </div>\n",
              "\n",
              "\n",
              "<div id=\"df-ff56cbfd-c964-4dfa-bcef-1878ded0836f\">\n",
              "  <button class=\"colab-df-quickchart\" onclick=\"quickchart('df-ff56cbfd-c964-4dfa-bcef-1878ded0836f')\"\n",
              "            title=\"Suggest charts\"\n",
              "            style=\"display:none;\">\n",
              "\n",
              "<svg xmlns=\"http://www.w3.org/2000/svg\" height=\"24px\"viewBox=\"0 0 24 24\"\n",
              "     width=\"24px\">\n",
              "    <g>\n",
              "        <path d=\"M19 3H5c-1.1 0-2 .9-2 2v14c0 1.1.9 2 2 2h14c1.1 0 2-.9 2-2V5c0-1.1-.9-2-2-2zM9 17H7v-7h2v7zm4 0h-2V7h2v10zm4 0h-2v-4h2v4z\"/>\n",
              "    </g>\n",
              "</svg>\n",
              "  </button>\n",
              "\n",
              "<style>\n",
              "  .colab-df-quickchart {\n",
              "      --bg-color: #E8F0FE;\n",
              "      --fill-color: #1967D2;\n",
              "      --hover-bg-color: #E2EBFA;\n",
              "      --hover-fill-color: #174EA6;\n",
              "      --disabled-fill-color: #AAA;\n",
              "      --disabled-bg-color: #DDD;\n",
              "  }\n",
              "\n",
              "  [theme=dark] .colab-df-quickchart {\n",
              "      --bg-color: #3B4455;\n",
              "      --fill-color: #D2E3FC;\n",
              "      --hover-bg-color: #434B5C;\n",
              "      --hover-fill-color: #FFFFFF;\n",
              "      --disabled-bg-color: #3B4455;\n",
              "      --disabled-fill-color: #666;\n",
              "  }\n",
              "\n",
              "  .colab-df-quickchart {\n",
              "    background-color: var(--bg-color);\n",
              "    border: none;\n",
              "    border-radius: 50%;\n",
              "    cursor: pointer;\n",
              "    display: none;\n",
              "    fill: var(--fill-color);\n",
              "    height: 32px;\n",
              "    padding: 0;\n",
              "    width: 32px;\n",
              "  }\n",
              "\n",
              "  .colab-df-quickchart:hover {\n",
              "    background-color: var(--hover-bg-color);\n",
              "    box-shadow: 0 1px 2px rgba(60, 64, 67, 0.3), 0 1px 3px 1px rgba(60, 64, 67, 0.15);\n",
              "    fill: var(--button-hover-fill-color);\n",
              "  }\n",
              "\n",
              "  .colab-df-quickchart-complete:disabled,\n",
              "  .colab-df-quickchart-complete:disabled:hover {\n",
              "    background-color: var(--disabled-bg-color);\n",
              "    fill: var(--disabled-fill-color);\n",
              "    box-shadow: none;\n",
              "  }\n",
              "\n",
              "  .colab-df-spinner {\n",
              "    border: 2px solid var(--fill-color);\n",
              "    border-color: transparent;\n",
              "    border-bottom-color: var(--fill-color);\n",
              "    animation:\n",
              "      spin 1s steps(1) infinite;\n",
              "  }\n",
              "\n",
              "  @keyframes spin {\n",
              "    0% {\n",
              "      border-color: transparent;\n",
              "      border-bottom-color: var(--fill-color);\n",
              "      border-left-color: var(--fill-color);\n",
              "    }\n",
              "    20% {\n",
              "      border-color: transparent;\n",
              "      border-left-color: var(--fill-color);\n",
              "      border-top-color: var(--fill-color);\n",
              "    }\n",
              "    30% {\n",
              "      border-color: transparent;\n",
              "      border-left-color: var(--fill-color);\n",
              "      border-top-color: var(--fill-color);\n",
              "      border-right-color: var(--fill-color);\n",
              "    }\n",
              "    40% {\n",
              "      border-color: transparent;\n",
              "      border-right-color: var(--fill-color);\n",
              "      border-top-color: var(--fill-color);\n",
              "    }\n",
              "    60% {\n",
              "      border-color: transparent;\n",
              "      border-right-color: var(--fill-color);\n",
              "    }\n",
              "    80% {\n",
              "      border-color: transparent;\n",
              "      border-right-color: var(--fill-color);\n",
              "      border-bottom-color: var(--fill-color);\n",
              "    }\n",
              "    90% {\n",
              "      border-color: transparent;\n",
              "      border-bottom-color: var(--fill-color);\n",
              "    }\n",
              "  }\n",
              "</style>\n",
              "\n",
              "  <script>\n",
              "    async function quickchart(key) {\n",
              "      const quickchartButtonEl =\n",
              "        document.querySelector('#' + key + ' button');\n",
              "      quickchartButtonEl.disabled = true;  // To prevent multiple clicks.\n",
              "      quickchartButtonEl.classList.add('colab-df-spinner');\n",
              "      try {\n",
              "        const charts = await google.colab.kernel.invokeFunction(\n",
              "            'suggestCharts', [key], {});\n",
              "      } catch (error) {\n",
              "        console.error('Error during call to suggestCharts:', error);\n",
              "      }\n",
              "      quickchartButtonEl.classList.remove('colab-df-spinner');\n",
              "      quickchartButtonEl.classList.add('colab-df-quickchart-complete');\n",
              "    }\n",
              "    (() => {\n",
              "      let quickchartButtonEl =\n",
              "        document.querySelector('#df-ff56cbfd-c964-4dfa-bcef-1878ded0836f button');\n",
              "      quickchartButtonEl.style.display =\n",
              "        google.colab.kernel.accessAllowed ? 'block' : 'none';\n",
              "    })();\n",
              "  </script>\n",
              "</div>\n",
              "    </div>\n",
              "  </div>\n"
            ],
            "application/vnd.google.colaboratory.intrinsic+json": {
              "type": "dataframe",
              "variable_name": "df",
              "summary": "{\n  \"name\": \"df\",\n  \"rows\": 3000,\n  \"fields\": [\n    {\n      \"column\": \"Description\",\n      \"properties\": {\n        \"dtype\": \"string\",\n        \"num_unique_values\": 3000,\n        \"samples\": [\n          \"friday november pm assistants please secure floor tower hi please securing floor tower secure area evening cob tuesday morning area needs secure also needs informing employees about changes restriction well meeting rooms bookings restriction thank help kind regards officer information\",\n          \"pm hi joined fast followings visual studio provide other information please let thank best regards\",\n          \"card leaver la va ca defect\"\n        ],\n        \"semantic_type\": \"\",\n        \"description\": \"\"\n      }\n    },\n    {\n      \"column\": \"Category\",\n      \"properties\": {\n        \"dtype\": \"category\",\n        \"num_unique_values\": 5,\n        \"samples\": [\n          \"Database\",\n          \"Security\",\n          \"Network\"\n        ],\n        \"semantic_type\": \"\",\n        \"description\": \"\"\n      }\n    },\n    {\n      \"column\": \"Tokenized\",\n      \"properties\": {\n        \"dtype\": \"object\",\n        \"semantic_type\": \"\",\n        \"description\": \"\"\n      }\n    },\n    {\n      \"column\": \"pos_tagged\",\n      \"properties\": {\n        \"dtype\": \"object\",\n        \"semantic_type\": \"\",\n        \"description\": \"\"\n      }\n    },\n    {\n      \"column\": \"NN_tagged\",\n      \"properties\": {\n        \"dtype\": \"object\",\n        \"semantic_type\": \"\",\n        \"description\": \"\"\n      }\n    },\n    {\n      \"column\": \"NN_Description\",\n      \"properties\": {\n        \"dtype\": \"string\",\n        \"num_unique_values\": 2720,\n        \"samples\": [\n          \"announce crap eon program si va ne interval care placer la cl rom confidentiality notice content communication information environment printing\",\n          \"analyst submit make side let\",\n          \"phone issue move phone press cable discovery discovery issue phone centimeter analyst\"\n        ],\n        \"semantic_type\": \"\",\n        \"description\": \"\"\n      }\n    },\n    {\n      \"column\": \"Label\",\n      \"properties\": {\n        \"dtype\": \"number\",\n        \"std\": 1,\n        \"min\": 0,\n        \"max\": 4,\n        \"num_unique_values\": 5,\n        \"samples\": [\n          1,\n          3,\n          2\n        ],\n        \"semantic_type\": \"\",\n        \"description\": \"\"\n      }\n    },\n    {\n      \"column\": \"WSP_Label\",\n      \"properties\": {\n        \"dtype\": \"number\",\n        \"std\": 0,\n        \"min\": 0,\n        \"max\": 4,\n        \"num_unique_values\": 4,\n        \"samples\": [\n          1,\n          4,\n          0\n        ],\n        \"semantic_type\": \"\",\n        \"description\": \"\"\n      }\n    },\n    {\n      \"column\": \"WSP_Value\",\n      \"properties\": {\n        \"dtype\": \"number\",\n        \"std\": 0.7608748760101596,\n        \"min\": 0.0,\n        \"max\": 14.916666666666666,\n        \"num_unique_values\": 1822,\n        \"samples\": [\n          10.559999999999999,\n          10.646153846153846,\n          7.666666666666667\n        ],\n        \"semantic_type\": \"\",\n        \"description\": \"\"\n      }\n    },\n    {\n      \"column\": \"NN_WSP_Label\",\n      \"properties\": {\n        \"dtype\": \"number\",\n        \"std\": 0,\n        \"min\": 0,\n        \"max\": 4,\n        \"num_unique_values\": 5,\n        \"samples\": [\n          1,\n          2,\n          3\n        ],\n        \"semantic_type\": \"\",\n        \"description\": \"\"\n      }\n    },\n    {\n      \"column\": \"NN_WSP_Value\",\n      \"properties\": {\n        \"dtype\": \"number\",\n        \"std\": 2.2441165130808853,\n        \"min\": 0.0,\n        \"max\": 20.666666666666668,\n        \"num_unique_values\": 1138,\n        \"samples\": [\n          11.844444444444445,\n          10.947826086956521,\n          8.444444444444443\n        ],\n        \"semantic_type\": \"\",\n        \"description\": \"\"\n      }\n    },\n    {\n      \"column\": \"WUP_Label\",\n      \"properties\": {\n        \"dtype\": \"number\",\n        \"std\": 1,\n        \"min\": 0,\n        \"max\": 4,\n        \"num_unique_values\": 5,\n        \"samples\": [\n          1,\n          2,\n          4\n        ],\n        \"semantic_type\": \"\",\n        \"description\": \"\"\n      }\n    },\n    {\n      \"column\": \"WUP_Value\",\n      \"properties\": {\n        \"dtype\": \"number\",\n        \"std\": 0.03618350361976539,\n        \"min\": 0.0,\n        \"max\": 0.6333333333333333,\n        \"num_unique_values\": 2939,\n        \"samples\": [\n          0.2656532193296899,\n          0.2605345038103659,\n          0.2650815447854297\n        ],\n        \"semantic_type\": \"\",\n        \"description\": \"\"\n      }\n    },\n    {\n      \"column\": \"NN_WUP_Label\",\n      \"properties\": {\n        \"dtype\": \"number\",\n        \"std\": 1,\n        \"min\": 0,\n        \"max\": 4,\n        \"num_unique_values\": 5,\n        \"samples\": [\n          1,\n          2,\n          4\n        ],\n        \"semantic_type\": \"\",\n        \"description\": \"\"\n      }\n    },\n    {\n      \"column\": \"NN_WUP_Value\",\n      \"properties\": {\n        \"dtype\": \"number\",\n        \"std\": 0.1004665025400507,\n        \"min\": 0.0,\n        \"max\": 1.0,\n        \"num_unique_values\": 2472,\n        \"samples\": [\n          0.32949183367372226,\n          0.5476190476190476,\n          0.3047099176098144\n        ],\n        \"semantic_type\": \"\",\n        \"description\": \"\"\n      }\n    }\n  ]\n}"
            }
          },
          "metadata": {},
          "execution_count": 47
        }
      ]
    },
    {
      "cell_type": "code",
      "source": [
        "df_0 = df.loc[(df['Label'] == 0)]\n",
        "df_1 = df.loc[(df['Label'] == 1)]\n",
        "df_2 = df.loc[(df['Label'] == 2)]\n",
        "df_3 = df.loc[(df['Label'] == 3)]\n",
        "df_4 = df.loc[(df['Label'] == 4)]"
      ],
      "metadata": {
        "id": "7ZwGT5MZYxlH"
      },
      "execution_count": null,
      "outputs": []
    },
    {
      "cell_type": "code",
      "source": [
        "accuracy_score(df['Label'], df['WUP_Label'])"
      ],
      "metadata": {
        "id": "SU35Rm4CREcn",
        "colab": {
          "base_uri": "https://localhost:8080/"
        },
        "outputId": "cb5ca2f3-9164-41ae-9b68-0e0a2dafd0bd"
      },
      "execution_count": null,
      "outputs": [
        {
          "output_type": "execute_result",
          "data": {
            "text/plain": [
              "0.21266666666666667"
            ]
          },
          "metadata": {},
          "execution_count": 49
        }
      ]
    },
    {
      "cell_type": "code",
      "source": [
        "accuracy_score(df['Label'], df['NN_WUP_Label'])"
      ],
      "metadata": {
        "colab": {
          "base_uri": "https://localhost:8080/"
        },
        "id": "Xqoh-a6sIUJM",
        "outputId": "62945e30-52fa-4a7d-bc7a-980443322515"
      },
      "execution_count": null,
      "outputs": [
        {
          "output_type": "execute_result",
          "data": {
            "text/plain": [
              "0.204"
            ]
          },
          "metadata": {},
          "execution_count": 50
        }
      ]
    },
    {
      "cell_type": "code",
      "source": [
        "accuracy_score(df_0['Label'], df_0['WUP_Label'])"
      ],
      "metadata": {
        "id": "eh4D9XMERyvM",
        "colab": {
          "base_uri": "https://localhost:8080/"
        },
        "outputId": "b8d46b55-7f6b-4a30-e943-5c7ec0682ddd"
      },
      "execution_count": null,
      "outputs": [
        {
          "output_type": "execute_result",
          "data": {
            "text/plain": [
              "0.3416666666666667"
            ]
          },
          "metadata": {},
          "execution_count": 51
        }
      ]
    },
    {
      "cell_type": "code",
      "source": [
        "accuracy_score(df_0['Label'], df_0['NN_WUP_Label'])"
      ],
      "metadata": {
        "colab": {
          "base_uri": "https://localhost:8080/"
        },
        "id": "_b_HkqStIWcp",
        "outputId": "d45cd35c-b1e4-47e4-e00f-3bee3dbcca56"
      },
      "execution_count": null,
      "outputs": [
        {
          "output_type": "execute_result",
          "data": {
            "text/plain": [
              "0.3566666666666667"
            ]
          },
          "metadata": {},
          "execution_count": 52
        }
      ]
    },
    {
      "cell_type": "code",
      "source": [
        "accuracy_score(df_1['Label'], df_1['WUP_Label'])"
      ],
      "metadata": {
        "id": "r8zNUZzoR9R_",
        "colab": {
          "base_uri": "https://localhost:8080/"
        },
        "outputId": "88c7c780-f659-4c49-d5d1-0d669d47efaa"
      },
      "execution_count": null,
      "outputs": [
        {
          "output_type": "execute_result",
          "data": {
            "text/plain": [
              "0.43"
            ]
          },
          "metadata": {},
          "execution_count": 53
        }
      ]
    },
    {
      "cell_type": "code",
      "source": [
        "accuracy_score(df_1['Label'], df_1['NN_WUP_Label'])"
      ],
      "metadata": {
        "colab": {
          "base_uri": "https://localhost:8080/"
        },
        "id": "GBwVWNk5IZKN",
        "outputId": "04d9acf8-3962-4e4e-8323-a2450727c097"
      },
      "execution_count": null,
      "outputs": [
        {
          "output_type": "execute_result",
          "data": {
            "text/plain": [
              "0.3383333333333333"
            ]
          },
          "metadata": {},
          "execution_count": 54
        }
      ]
    },
    {
      "cell_type": "code",
      "source": [
        "accuracy_score(df_2['Label'], df_2['WUP_Label'])"
      ],
      "metadata": {
        "id": "h9o6q8qDSK1T",
        "colab": {
          "base_uri": "https://localhost:8080/"
        },
        "outputId": "c6984280-ced7-4fb9-eeac-1f7c56bc3a9b"
      },
      "execution_count": null,
      "outputs": [
        {
          "output_type": "execute_result",
          "data": {
            "text/plain": [
              "0.065"
            ]
          },
          "metadata": {},
          "execution_count": 55
        }
      ]
    },
    {
      "cell_type": "code",
      "source": [
        "accuracy_score(df_2['Label'], df_2['NN_WUP_Label'])"
      ],
      "metadata": {
        "colab": {
          "base_uri": "https://localhost:8080/"
        },
        "id": "9bV9Uw4MIbFR",
        "outputId": "39139680-22b2-4911-b2fa-5be982f9f1ee"
      },
      "execution_count": null,
      "outputs": [
        {
          "output_type": "execute_result",
          "data": {
            "text/plain": [
              "0.12666666666666668"
            ]
          },
          "metadata": {},
          "execution_count": 56
        }
      ]
    },
    {
      "cell_type": "code",
      "source": [
        "accuracy_score(df_3['Label'], df_3['WUP_Label'])"
      ],
      "metadata": {
        "id": "rhbSsUTbSRPq",
        "colab": {
          "base_uri": "https://localhost:8080/"
        },
        "outputId": "097d8af8-16b0-4155-dbe6-faacaab32538"
      },
      "execution_count": null,
      "outputs": [
        {
          "output_type": "execute_result",
          "data": {
            "text/plain": [
              "0.10833333333333334"
            ]
          },
          "metadata": {},
          "execution_count": 57
        }
      ]
    },
    {
      "cell_type": "code",
      "source": [
        "accuracy_score(df_3['Label'], df_3['NN_WUP_Label'])"
      ],
      "metadata": {
        "colab": {
          "base_uri": "https://localhost:8080/"
        },
        "id": "9x8DISyRIdYn",
        "outputId": "7f592aea-4bde-428d-bfc2-932ee693c724"
      },
      "execution_count": null,
      "outputs": [
        {
          "output_type": "execute_result",
          "data": {
            "text/plain": [
              "0.13166666666666665"
            ]
          },
          "metadata": {},
          "execution_count": 58
        }
      ]
    },
    {
      "cell_type": "code",
      "source": [
        "accuracy_score(df_4['Label'], df_4['WUP_Label'])"
      ],
      "metadata": {
        "id": "MXEo7HjiSVQU",
        "colab": {
          "base_uri": "https://localhost:8080/"
        },
        "outputId": "de0b9f4e-207b-42e6-d4ab-7cd944b0f765"
      },
      "execution_count": null,
      "outputs": [
        {
          "output_type": "execute_result",
          "data": {
            "text/plain": [
              "0.11833333333333333"
            ]
          },
          "metadata": {},
          "execution_count": 59
        }
      ]
    },
    {
      "cell_type": "code",
      "source": [
        "accuracy_score(df_4['Label'], df_4['NN_WUP_Label'])"
      ],
      "metadata": {
        "colab": {
          "base_uri": "https://localhost:8080/"
        },
        "id": "p9PV7D7TIfcL",
        "outputId": "caf922be-5c40-4a8a-cb96-8f8c2ff7fe63"
      },
      "execution_count": null,
      "outputs": [
        {
          "output_type": "execute_result",
          "data": {
            "text/plain": [
              "0.06666666666666667"
            ]
          },
          "metadata": {},
          "execution_count": 60
        }
      ]
    }
  ]
}